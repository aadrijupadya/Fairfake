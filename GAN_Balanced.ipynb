{
  "cells": [
    {
      "cell_type": "code",
      "execution_count": null,
      "metadata": {
        "id": "GvmTNMJc7w_y"
      },
      "outputs": [],
      "source": [
        "import pandas as pd\n",
        "import numpy as np\n",
        "import seaborn as sns\n",
        "import os\n",
        "import cv2\n",
        "from PIL import Image, ImageOps\n",
        "from sklearn.model_selection import train_test_split\n",
        "\n",
        "from tqdm import tqdm\n",
        "from keras.models import Sequential, Model\n",
        "from keras.layers import Conv2D, MaxPooling2D, Activation, Dropout, Flatten, Dense, Input\n",
        "from keras import optimizers\n",
        "from keras.preprocessing.image import ImageDataGenerator\n",
        "import tensorflow as tf\n",
        "import matplotlib.pyplot as plt\n",
        "from keras.models import load_model"
      ]
    },
    {
      "cell_type": "code",
      "source": [
        "import pickle"
      ],
      "metadata": {
        "id": "Vm69S3ET8J0w"
      },
      "execution_count": null,
      "outputs": []
    },
    {
      "cell_type": "code",
      "execution_count": null,
      "metadata": {
        "colab": {
          "base_uri": "https://localhost:8080/"
        },
        "id": "q-fLKyjy8u1X",
        "outputId": "5c79e854-f6e9-45a5-a997-46f8d84179b4"
      },
      "outputs": [
        {
          "output_type": "stream",
          "name": "stdout",
          "text": [
            "Mounted at /content/drive\n"
          ]
        }
      ],
      "source": [
        "from google.colab import drive\n",
        "drive.mount('/content/drive', force_remount=True)"
      ]
    },
    {
      "cell_type": "code",
      "source": [
        "data = 'drive/My Drive/ASDRP/GAN_generated_faces'"
      ],
      "metadata": {
        "id": "dJ2C9TyWFWqB"
      },
      "execution_count": null,
      "outputs": []
    },
    {
      "cell_type": "code",
      "source": [
        "image_paths = []\n",
        "genders = []\n",
        "races = []"
      ],
      "metadata": {
        "id": "wRtRAJIPFr23"
      },
      "execution_count": null,
      "outputs": []
    },
    {
      "cell_type": "code",
      "source": [
        "# For loop to create individual lists of attributes\n",
        "count = 0\n",
        "for image in tqdm(os.listdir(data)):\n",
        "    image_path = os.path.join(data, image)\n",
        "    vals = image.split('_')\n",
        "\n",
        "    gender = int(vals[0])\n",
        "    race = int(vals[1])\n",
        "\n",
        "    image_paths.append(image_path)\n",
        "    genders.append(gender)\n",
        "    races.append(race) "
      ],
      "metadata": {
        "colab": {
          "base_uri": "https://localhost:8080/"
        },
        "id": "8Mw3KbnCFu6u",
        "outputId": "38247ca8-3291-49dc-c117-ebc77ca79d7c"
      },
      "execution_count": null,
      "outputs": [
        {
          "output_type": "stream",
          "name": "stderr",
          "text": [
            "100%|██████████| 8410/8410 [00:00<00:00, 350926.68it/s]\n"
          ]
        }
      ]
    },
    {
      "cell_type": "code",
      "source": [
        "# Making dataframe\n",
        "df = pd.DataFrame()\n",
        "df['image'], df['gender'], df['race'] = image_paths, genders, races"
      ],
      "metadata": {
        "id": "zM7qFT9MGVlc"
      },
      "execution_count": null,
      "outputs": []
    },
    {
      "cell_type": "code",
      "source": [
        "df.to_csv(r'drive/My Drive/ASDRP/Experiments/gender-with-gan-fakes/df_generated_only.csv', index = False, header=True)"
      ],
      "metadata": {
        "id": "59La3GgSGs6J"
      },
      "execution_count": null,
      "outputs": []
    },
    {
      "cell_type": "code",
      "execution_count": null,
      "metadata": {
        "id": "WUkQBTBJ99xu"
      },
      "outputs": [],
      "source": [
        "df_generated = pd.read_csv('drive/My Drive/ASDRP/Experiments/gender-with-gan-fakes/df_generated_only.csv')"
      ]
    },
    {
      "cell_type": "code",
      "source": [
        "df_generated['gender'].value_counts()"
      ],
      "metadata": {
        "colab": {
          "base_uri": "https://localhost:8080/"
        },
        "id": "v7J-jsdsHKQZ",
        "outputId": "6e3b3f28-bc89-48a1-9f03-3121b1174c77"
      },
      "execution_count": null,
      "outputs": [
        {
          "output_type": "execute_result",
          "data": {
            "text/plain": [
              "1    4205\n",
              "0    4205\n",
              "Name: gender, dtype: int64"
            ]
          },
          "metadata": {},
          "execution_count": 5
        }
      ]
    },
    {
      "cell_type": "code",
      "source": [
        "df_imbalanced = pd.read_csv('/content/drive/MyDrive/ASDRP/Experiments/simple-cnn-v3/df.csv')"
      ],
      "metadata": {
        "id": "SEQOPrh7pR_m"
      },
      "execution_count": null,
      "outputs": []
    },
    {
      "cell_type": "code",
      "source": [
        "df_imbalanced['race'].value_counts()"
      ],
      "metadata": {
        "colab": {
          "base_uri": "https://localhost:8080/"
        },
        "id": "C3ZEUe23pYWt",
        "outputId": "dc999cb6-405f-4a2b-ef9d-f8aed5d67baa"
      },
      "execution_count": null,
      "outputs": [
        {
          "output_type": "execute_result",
          "data": {
            "text/plain": [
              "0    2682\n",
              "2     834\n",
              "3     720\n",
              "4     542\n",
              "1     222\n",
              "Name: race, dtype: int64"
            ]
          },
          "metadata": {},
          "execution_count": 7
        }
      ]
    },
    {
      "cell_type": "code",
      "execution_count": null,
      "metadata": {
        "id": "1rS_3JBFBkNr"
      },
      "outputs": [],
      "source": [
        "def load(file_path):\n",
        "    img = tf.io.read_file(file_path)\n",
        "    img = tf.image.decode_png(img, channels=3)\n",
        "    img = tf.image.convert_image_dtype(img, tf.float32)\n",
        "    #img = tf.image.resize(img, size=(64, 64))\n",
        "    return img\n"
      ]
    },
    {
      "cell_type": "code",
      "execution_count": null,
      "metadata": {
        "colab": {
          "base_uri": "https://localhost:8080/"
        },
        "id": "tMDF5TCKNhXb",
        "outputId": "778cbdc7-623f-453b-c26c-21d43f6b34be"
      },
      "outputs": [
        {
          "output_type": "stream",
          "name": "stderr",
          "text": [
            "100%|██████████| 8410/8410 [37:01<00:00,  3.79it/s]\n"
          ]
        }
      ],
      "source": [
        "fake_images = [load(i) for i in tqdm(df_generated.image)]"
      ]
    },
    {
      "cell_type": "code",
      "execution_count": null,
      "metadata": {
        "id": "LCNtlH7yMRlQ"
      },
      "outputs": [],
      "source": [
        "with open('/content/drive/MyDrive/ASDRP/Experiments/gender-with-gan-fakes/fake_images.pickle', 'wb') as handle:\n",
        "  pickle.dump(fake_images, handle)"
      ]
    },
    {
      "cell_type": "code",
      "source": [
        "real_images = pickle.load(open(\"/content/drive/MyDrive/ASDRP/Experiments/simple-cnn-v3/list_of_tensors_generated.pickle\", \"rb\"))"
      ],
      "metadata": {
        "id": "Lp0XsiPyrGSw"
      },
      "execution_count": null,
      "outputs": []
    },
    {
      "cell_type": "code",
      "source": [
        "fake_images = pickle.load(open(\"/content/drive/MyDrive/ASDRP/Experiments/gender-with-gan-fakes/fake_images.pickle\", \"rb\"))"
      ],
      "metadata": {
        "id": "myveMjQ19mWe"
      },
      "execution_count": null,
      "outputs": []
    },
    {
      "cell_type": "code",
      "execution_count": null,
      "metadata": {
        "id": "cTjtKUR7Dm2-"
      },
      "outputs": [],
      "source": [
        "images = real_images + fake_images"
      ]
    },
    {
      "cell_type": "code",
      "source": [
        "len(images)"
      ],
      "metadata": {
        "colab": {
          "base_uri": "https://localhost:8080/"
        },
        "id": "V0ocTSfl5I2x",
        "outputId": "0a8d6f8c-ca5c-44a9-c154-b78aa3cbd870"
      },
      "execution_count": null,
      "outputs": [
        {
          "output_type": "execute_result",
          "data": {
            "text/plain": [
              "13410"
            ]
          },
          "metadata": {},
          "execution_count": 7
        }
      ]
    },
    {
      "cell_type": "code",
      "source": [
        "df_all = df_imbalanced.append(df_generated, ignore_index=True)"
      ],
      "metadata": {
        "id": "7Tz2f9XW50yz"
      },
      "execution_count": null,
      "outputs": []
    },
    {
      "cell_type": "code",
      "source": [
        "df_all.to_csv(r'drive/My Drive/ASDRP/Experiments/gender-with-gan-fakes/df_all.csv', index = False, header=True)"
      ],
      "metadata": {
        "id": "TJrKqTv056Qi"
      },
      "execution_count": null,
      "outputs": []
    },
    {
      "cell_type": "code",
      "source": [
        "df_all = pd.read_csv('drive/My Drive/ASDRP/Experiments/gender-with-gan-fakes/df_all.csv')"
      ],
      "metadata": {
        "id": "F-sgQkqP7IeT"
      },
      "execution_count": null,
      "outputs": []
    },
    {
      "cell_type": "code",
      "source": [
        "df_all.shape"
      ],
      "metadata": {
        "colab": {
          "base_uri": "https://localhost:8080/"
        },
        "id": "YJawKhF770Uj",
        "outputId": "3d6111f7-4721-494f-9c9a-49d756e56642"
      },
      "execution_count": null,
      "outputs": [
        {
          "output_type": "execute_result",
          "data": {
            "text/plain": [
              "(13410, 4)"
            ]
          },
          "metadata": {},
          "execution_count": 9
        }
      ]
    },
    {
      "cell_type": "code",
      "source": [
        "df_all['gender'].value_counts()"
      ],
      "metadata": {
        "colab": {
          "base_uri": "https://localhost:8080/"
        },
        "id": "JNn7Il0wtgGz",
        "outputId": "ac07dc7d-d69b-4118-8d00-c7859af6d2ed"
      },
      "execution_count": null,
      "outputs": [
        {
          "output_type": "execute_result",
          "data": {
            "text/plain": [
              "1    6984\n",
              "0    6426\n",
              "Name: gender, dtype: int64"
            ]
          },
          "metadata": {},
          "execution_count": 18
        }
      ]
    },
    {
      "cell_type": "code",
      "source": [
        "df_all['race'].value_counts()"
      ],
      "metadata": {
        "colab": {
          "base_uri": "https://localhost:8080/"
        },
        "id": "nhH_5yLb6Pl5",
        "outputId": "e4604dab-1905-4ba3-ef59-c624d546921a"
      },
      "execution_count": null,
      "outputs": [
        {
          "output_type": "execute_result",
          "data": {
            "text/plain": [
              "0    2682\n",
              "3    2682\n",
              "1    2682\n",
              "2    2682\n",
              "4    2682\n",
              "Name: race, dtype: int64"
            ]
          },
          "metadata": {},
          "execution_count": 10
        }
      ]
    },
    {
      "cell_type": "code",
      "source": [
        "df_all.iloc[10000]"
      ],
      "metadata": {
        "colab": {
          "base_uri": "https://localhost:8080/"
        },
        "id": "rA-bhSGt6Lwk",
        "outputId": "211e9698-6d09-4366-938b-a7cda40541a5"
      },
      "execution_count": null,
      "outputs": [
        {
          "output_type": "execute_result",
          "data": {
            "text/plain": [
              "image     drive/My Drive/ASDRP/GAN_generated_faces/0_1_9...\n",
              "age                                                     NaN\n",
              "gender                                                    0\n",
              "race                                                      1\n",
              "Name: 10000, dtype: object"
            ]
          },
          "metadata": {},
          "execution_count": 11
        }
      ]
    },
    {
      "cell_type": "code",
      "source": [
        "len(df_all[df_all['image'].str.endswith('png')])"
      ],
      "metadata": {
        "colab": {
          "base_uri": "https://localhost:8080/"
        },
        "id": "w3ja6qguf4jK",
        "outputId": "fd9a1f01-eebd-4f4b-c5f1-4c76ed4c08df"
      },
      "execution_count": null,
      "outputs": [
        {
          "output_type": "execute_result",
          "data": {
            "text/plain": [
              "8410"
            ]
          },
          "metadata": {},
          "execution_count": 12
        }
      ]
    },
    {
      "cell_type": "code",
      "source": [
        "df_all[df_all['image'].str.endswith('png')].shape"
      ],
      "metadata": {
        "colab": {
          "base_uri": "https://localhost:8080/"
        },
        "id": "Sko6dx05NOiK",
        "outputId": "3ca4813b-aec2-4e95-8404-03f3e19e867c"
      },
      "execution_count": null,
      "outputs": [
        {
          "output_type": "execute_result",
          "data": {
            "text/plain": [
              "(8410, 5)"
            ]
          },
          "metadata": {},
          "execution_count": 521
        }
      ]
    },
    {
      "cell_type": "code",
      "source": [
        "indices = []\n",
        "female_total = 1313\n",
        "\n",
        "\n",
        "for i in tqdm(range(len(df_all))):\n",
        "  '''\n",
        "  if df_all.iloc[i]['race'] == 1 and df_all.iloc[i]['image'].endswith('jpg') and black_total > 200:\n",
        "    indices.append(i)\n",
        "    black_total -= 1\n",
        "\n",
        "  if df_all.iloc[i]['race'] == 2 and df_all.iloc[i]['image'].endswith('jpg') and asian_total > 200:\n",
        "    indices.append(i)\n",
        "    asian_total -= 1\n",
        "\n",
        "  if df_all.iloc[i]['race'] == 3 and df_all.iloc[i]['image'].endswith('jpg') and indian_total > 200:\n",
        "    indices.append(i)\n",
        "    indian_total -= 1\n",
        "\n",
        "  if df_all.iloc[i]['race'] == 4 and df_all.iloc[i]['image'].endswith('jpg') and others_total > 200:\n",
        "    indices.append(i)\n",
        "    others_total -= 1\n",
        "  '''\n",
        "  if df_all.iloc[i]['gender'] == 1 and df_all.iloc[i]['race'] != 0 and df_all.iloc[i]['image'].endswith('jpg') and female_total > 500:\n",
        "    indices.append(i)\n",
        "    female_total -= 1\n",
        "  \n"
      ],
      "metadata": {
        "colab": {
          "base_uri": "https://localhost:8080/"
        },
        "id": "05wo0GDMbE-I",
        "outputId": "aac525c9-dac5-455d-ffcc-dc42b4ad1c21"
      },
      "execution_count": null,
      "outputs": [
        {
          "output_type": "stream",
          "name": "stderr",
          "text": [
            "100%|██████████| 13410/13410 [00:02<00:00, 4767.22it/s]\n"
          ]
        }
      ]
    },
    {
      "cell_type": "code",
      "source": [
        "df_all = df_all.drop(indices)\n",
        "df_all = df_all.reset_index()"
      ],
      "metadata": {
        "id": "bkvusZ3Opb79"
      },
      "execution_count": null,
      "outputs": []
    },
    {
      "cell_type": "code",
      "source": [
        "df_all['gender'].value_counts()"
      ],
      "metadata": {
        "colab": {
          "base_uri": "https://localhost:8080/"
        },
        "id": "Su8G9FU-pWzn",
        "outputId": "18988162-8561-48c6-c40a-e542dfdb48b3"
      },
      "execution_count": null,
      "outputs": [
        {
          "output_type": "execute_result",
          "data": {
            "text/plain": [
              "0    6453\n",
              "1    6144\n",
              "Name: gender, dtype: int64"
            ]
          },
          "metadata": {},
          "execution_count": 10
        }
      ]
    },
    {
      "cell_type": "code",
      "source": [
        "'''fake_indices = []\n",
        "black_total = 2460\n",
        "asian_total = 1848\n",
        "indian_total = 1962\n",
        "others_total = 2140\n",
        "\n",
        "for i in tqdm(range(len(df_all))):\n",
        "  if df_all.iloc[i]['race'] == 1 and df_all.iloc[i]['image'].endswith('png') and black_total > 800:\n",
        "    fake_indices.append(i)\n",
        "    black_total -= 1\n",
        "\n",
        "  if df_all.iloc[i]['race'] == 2 and df_all.iloc[i]['image'].endswith('png') and asian_total > 800:\n",
        "    fake_indices.append(i)\n",
        "    asian_total -= 1\n",
        "\n",
        "  if df_all.iloc[i]['race'] == 3 and df_all.iloc[i]['image'].endswith('png') and indian_total > 800:\n",
        "    fake_indices.append(i)\n",
        "    indian_total -= 1\n",
        "\n",
        "  if df_all.iloc[i]['race'] == 4 and df_all.iloc[i]['image'].endswith('png') and others_total > 800:\n",
        "    fake_indices.append(i)\n",
        "    others_total -= 1\n",
        "'''"
      ],
      "metadata": {
        "colab": {
          "base_uri": "https://localhost:8080/"
        },
        "id": "Z5-qpyichsA0",
        "outputId": "2f1d3a77-c67c-41e8-a9ee-ac75ec62c836"
      },
      "execution_count": null,
      "outputs": [
        {
          "output_type": "stream",
          "name": "stderr",
          "text": [
            "100%|██████████| 13410/13410 [00:14<00:00, 920.62it/s]\n"
          ]
        }
      ]
    },
    {
      "cell_type": "code",
      "source": [
        "images_reduced = []\n",
        "\n",
        "for i in range(len(images)):\n",
        "  if i not in indices:\n",
        "    images_reduced.append(images[i])"
      ],
      "metadata": {
        "id": "A01lZO8gb6gs"
      },
      "execution_count": null,
      "outputs": []
    },
    {
      "cell_type": "code",
      "source": [
        "len(images_reduced)"
      ],
      "metadata": {
        "colab": {
          "base_uri": "https://localhost:8080/"
        },
        "id": "jSElM8Eni1Fo",
        "outputId": "3d33182c-7a28-4ec5-c0a2-3c4473d52ba5"
      },
      "execution_count": null,
      "outputs": [
        {
          "output_type": "execute_result",
          "data": {
            "text/plain": [
              "12597"
            ]
          },
          "metadata": {},
          "execution_count": 17
        }
      ]
    },
    {
      "cell_type": "code",
      "source": [
        "df_all['race'].value_counts()"
      ],
      "metadata": {
        "colab": {
          "base_uri": "https://localhost:8080/"
        },
        "id": "sZYlT-L_butE",
        "outputId": "b06a4f95-82fc-4fc1-b5e3-3a0efcfb259a"
      },
      "execution_count": null,
      "outputs": [
        {
          "output_type": "execute_result",
          "data": {
            "text/plain": [
              "0    2682\n",
              "1    2640\n",
              "4    2550\n",
              "2    2461\n",
              "3    2264\n",
              "Name: race, dtype: int64"
            ]
          },
          "metadata": {},
          "execution_count": 18
        }
      ]
    },
    {
      "cell_type": "code",
      "source": [
        "# dropping some fake images to avoid overfitting\n",
        "# indices = df_all[df_all['image'].str.endswith('png')].sample(7410).index\n",
        "\n",
        "#black_count = len(df_all[df_all['race'] == 1])\n",
        "#asian_count = len(df_all[df_all['race'] == 2])\n",
        "#indian_count = len(df_all[df_all['race'] == 3])\n",
        "#others_count = len(df_all[df_all['race'] == 4])\n",
        "\n",
        "#for i in tqdm(range(len(df_all))):\n",
        "#\n",
        "#  if df_all.iloc[i]['image'].endswith('png') and len(indices) < 7410:\n",
        "#    indices.append(i)"
      ],
      "metadata": {
        "id": "FJpDySoKt6Pe"
      },
      "execution_count": null,
      "outputs": []
    },
    {
      "cell_type": "code",
      "source": [
        "#df_all = df_all.drop(indices)\n",
        "#df_all = df_all.reset_index()"
      ],
      "metadata": {
        "id": "4Rc6v2jzyT4U"
      },
      "execution_count": null,
      "outputs": []
    },
    {
      "cell_type": "code",
      "source": [
        "df_all['race'].value_counts()"
      ],
      "metadata": {
        "colab": {
          "base_uri": "https://localhost:8080/"
        },
        "id": "UvPLXY1kyaus",
        "outputId": "6696c3b2-b4aa-4c83-99ee-7d3ba6de7239"
      },
      "execution_count": null,
      "outputs": [
        {
          "output_type": "execute_result",
          "data": {
            "text/plain": [
              "0    2682\n",
              "1    2660\n",
              "4    2340\n",
              "3    2162\n",
              "2    2048\n",
              "Name: race, dtype: int64"
            ]
          },
          "metadata": {},
          "execution_count": 159
        }
      ]
    },
    {
      "cell_type": "code",
      "source": [
        "#images = [i for j, i in enumerate(images) if j not in indices]"
      ],
      "metadata": {
        "id": "6zQoFunFzXsf"
      },
      "execution_count": null,
      "outputs": []
    },
    {
      "cell_type": "code",
      "source": [
        "len(images)"
      ],
      "metadata": {
        "colab": {
          "base_uri": "https://localhost:8080/"
        },
        "id": "ZHofuoz7g_Sw",
        "outputId": "b8bafe91-6ca7-4c4c-d244-fcf3d621bc7a"
      },
      "execution_count": null,
      "outputs": [
        {
          "output_type": "execute_result",
          "data": {
            "text/plain": [
              "13410"
            ]
          },
          "metadata": {},
          "execution_count": 72
        }
      ]
    },
    {
      "cell_type": "code",
      "execution_count": null,
      "metadata": {
        "colab": {
          "base_uri": "https://localhost:8080/",
          "height": 268
        },
        "id": "24wNGJ7wUdLC",
        "outputId": "eb7581f5-d52b-461e-a2f7-a7ea6fd39934"
      },
      "outputs": [
        {
          "output_type": "display_data",
          "data": {
            "text/plain": [
              "<Figure size 432x288 with 1 Axes>"
            ],
            "image/png": "[encoded data removed]"
          },
          "metadata": {
            "needs_background": "light"
          }
        }
      ],
      "source": [
        "from matplotlib import pyplot as plt\n",
        "\n",
        "plt.imshow((images_reduced[8500]), interpolation='nearest')\n",
        "plt.show()"
      ]
    },
    {
      "cell_type": "code",
      "source": [
        "# df_notwhite = df_all[(df_all['race'] != 0) & (df_all['image'].str.endswith('jpg'))]"
      ],
      "metadata": {
        "id": "xeLXy9AFR4s3"
      },
      "execution_count": null,
      "outputs": []
    },
    {
      "cell_type": "code",
      "source": [
        "# df_notwhite.shape"
      ],
      "metadata": {
        "colab": {
          "base_uri": "https://localhost:8080/"
        },
        "id": "_RaniDlpS03F",
        "outputId": "6a5baf19-3a12-4970-81c4-d4d56d6180fe"
      },
      "execution_count": null,
      "outputs": [
        {
          "output_type": "execute_result",
          "data": {
            "text/plain": [
              "(2318, 4)"
            ]
          },
          "metadata": {},
          "execution_count": 8
        }
      ]
    },
    {
      "cell_type": "code",
      "source": [
        "# flipped_images = []"
      ],
      "metadata": {
        "id": "gnOP3aMgSYwm"
      },
      "execution_count": null,
      "outputs": []
    },
    {
      "cell_type": "code",
      "source": [
        "#for i in tqdm(df_notwhite.index):\n",
        "#  flipped_images.append(np.fliplr(images[i]))"
      ],
      "metadata": {
        "colab": {
          "base_uri": "https://localhost:8080/"
        },
        "id": "nN8r3u2CSAI6",
        "outputId": "ad622ae9-c527-4cfe-c6c0-2b0c36f685ba"
      },
      "execution_count": null,
      "outputs": [
        {
          "output_type": "stream",
          "name": "stderr",
          "text": [
            "100%|██████████| 2318/2318 [00:00<00:00, 7238.33it/s]\n"
          ]
        }
      ]
    },
    {
      "cell_type": "code",
      "source": [
        "#df_all = df_all.append(df_notwhite, ignore_index=True)"
      ],
      "metadata": {
        "id": "fjINFW39R1v0"
      },
      "execution_count": null,
      "outputs": []
    },
    {
      "cell_type": "code",
      "source": [
        "#df_all.tail()"
      ],
      "metadata": {
        "colab": {
          "base_uri": "https://localhost:8080/",
          "height": 206
        },
        "id": "kGTCG3g9TROy",
        "outputId": "97f35317-3aeb-4ca4-b751-4397a378414a"
      },
      "execution_count": null,
      "outputs": [
        {
          "output_type": "execute_result",
          "data": {
            "text/plain": [
              "                                                   image  age  gender  race\n",
              "15723  drive/My Drive/ASDRP/Data/utk_cropped/part1/52...    6       1     1\n",
              "15724  drive/My Drive/ASDRP/Data/utk_cropped/part1/53...    6       1     1\n",
              "15725  drive/My Drive/ASDRP/Data/utk_cropped/part1/65...    7       1     1\n",
              "15726  drive/My Drive/ASDRP/Data/utk_cropped/part1/53...    6       1     1\n",
              "15727  drive/My Drive/ASDRP/Data/utk_cropped/part1/69...    7       1     4"
            ],
            "text/html": [
              "\n",
              "  <div id=\"df-046a9ff2-be90-4795-bd63-5004c3fc8c9e\">\n",
              "    <div class=\"colab-df-container\">\n",
              "      <div>\n",
              "<style scoped>\n",
              "    .dataframe tbody tr th:only-of-type {\n",
              "        vertical-align: middle;\n",
              "    }\n",
              "\n",
              "    .dataframe tbody tr th {\n",
              "        vertical-align: top;\n",
              "    }\n",
              "\n",
              "    .dataframe thead th {\n",
              "        text-align: right;\n",
              "    }\n",
              "</style>\n",
              "<table border=\"1\" class=\"dataframe\">\n",
              "  <thead>\n",
              "    <tr style=\"text-align: right;\">\n",
              "      <th></th>\n",
              "      <th>image</th>\n",
              "      <th>age</th>\n",
              "      <th>gender</th>\n",
              "      <th>race</th>\n",
              "    </tr>\n",
              "  </thead>\n",
              "  <tbody>\n",
              "    <tr>\n",
              "      <th>15723</th>\n",
              "      <td>drive/My Drive/ASDRP/Data/utk_cropped/part1/52...</td>\n",
              "      <td>6</td>\n",
              "      <td>1</td>\n",
              "      <td>1</td>\n",
              "    </tr>\n",
              "    <tr>\n",
              "      <th>15724</th>\n",
              "      <td>drive/My Drive/ASDRP/Data/utk_cropped/part1/53...</td>\n",
              "      <td>6</td>\n",
              "      <td>1</td>\n",
              "      <td>1</td>\n",
              "    </tr>\n",
              "    <tr>\n",
              "      <th>15725</th>\n",
              "      <td>drive/My Drive/ASDRP/Data/utk_cropped/part1/65...</td>\n",
              "      <td>7</td>\n",
              "      <td>1</td>\n",
              "      <td>1</td>\n",
              "    </tr>\n",
              "    <tr>\n",
              "      <th>15726</th>\n",
              "      <td>drive/My Drive/ASDRP/Data/utk_cropped/part1/53...</td>\n",
              "      <td>6</td>\n",
              "      <td>1</td>\n",
              "      <td>1</td>\n",
              "    </tr>\n",
              "    <tr>\n",
              "      <th>15727</th>\n",
              "      <td>drive/My Drive/ASDRP/Data/utk_cropped/part1/69...</td>\n",
              "      <td>7</td>\n",
              "      <td>1</td>\n",
              "      <td>4</td>\n",
              "    </tr>\n",
              "  </tbody>\n",
              "</table>\n",
              "</div>\n",
              "      <button class=\"colab-df-convert\" onclick=\"convertToInteractive('df-046a9ff2-be90-4795-bd63-5004c3fc8c9e')\"\n",
              "              title=\"Convert this dataframe to an interactive table.\"\n",
              "              style=\"display:none;\">\n",
              "        \n",
              "  <svg xmlns=\"http://www.w3.org/2000/svg\" height=\"24px\"viewBox=\"0 0 24 24\"\n",
              "       width=\"24px\">\n",
              "    <path d=\"M0 0h24v24H0V0z\" fill=\"none\"/>\n",
              "    <path d=\"M18.56 5.44l.94 2.06.94-2.06 2.06-.94-2.06-.94-.94-2.06-.94 2.06-2.06.94zm-11 1L8.5 8.5l.94-2.06 2.06-.94-2.06-.94L8.5 2.5l-.94 2.06-2.06.94zm10 10l.94 2.06.94-2.06 2.06-.94-2.06-.94-.94-2.06-.94 2.06-2.06.94z\"/><path d=\"M17.41 7.96l-1.37-1.37c-.4-.4-.92-.59-1.43-.59-.52 0-1.04.2-1.43.59L10.3 9.45l-7.72 7.72c-.78.78-.78 2.05 0 2.83L4 21.41c.39.39.9.59 1.41.59.51 0 1.02-.2 1.41-.59l7.78-7.78 2.81-2.81c.8-.78.8-2.07 0-2.86zM5.41 20L4 18.59l7.72-7.72 1.47 1.35L5.41 20z\"/>\n",
              "  </svg>\n",
              "      </button>\n",
              "      \n",
              "  <style>\n",
              "    .colab-df-container {\n",
              "      display:flex;\n",
              "      flex-wrap:wrap;\n",
              "      gap: 12px;\n",
              "    }\n",
              "\n",
              "    .colab-df-convert {\n",
              "      background-color: #E8F0FE;\n",
              "      border: none;\n",
              "      border-radius: 50%;\n",
              "      cursor: pointer;\n",
              "      display: none;\n",
              "      fill: #1967D2;\n",
              "      height: 32px;\n",
              "      padding: 0 0 0 0;\n",
              "      width: 32px;\n",
              "    }\n",
              "\n",
              "    .colab-df-convert:hover {\n",
              "      background-color: #E2EBFA;\n",
              "      box-shadow: 0px 1px 2px rgba(60, 64, 67, 0.3), 0px 1px 3px 1px rgba(60, 64, 67, 0.15);\n",
              "      fill: #174EA6;\n",
              "    }\n",
              "\n",
              "    [theme=dark] .colab-df-convert {\n",
              "      background-color: #3B4455;\n",
              "      fill: #D2E3FC;\n",
              "    }\n",
              "\n",
              "    [theme=dark] .colab-df-convert:hover {\n",
              "      background-color: #434B5C;\n",
              "      box-shadow: 0px 1px 3px 1px rgba(0, 0, 0, 0.15);\n",
              "      filter: drop-shadow(0px 1px 2px rgba(0, 0, 0, 0.3));\n",
              "      fill: #FFFFFF;\n",
              "    }\n",
              "  </style>\n",
              "\n",
              "      <script>\n",
              "        const buttonEl =\n",
              "          document.querySelector('#df-046a9ff2-be90-4795-bd63-5004c3fc8c9e button.colab-df-convert');\n",
              "        buttonEl.style.display =\n",
              "          google.colab.kernel.accessAllowed ? 'block' : 'none';\n",
              "\n",
              "        async function convertToInteractive(key) {\n",
              "          const element = document.querySelector('#df-046a9ff2-be90-4795-bd63-5004c3fc8c9e');\n",
              "          const dataTable =\n",
              "            await google.colab.kernel.invokeFunction('convertToInteractive',\n",
              "                                                     [key], {});\n",
              "          if (!dataTable) return;\n",
              "\n",
              "          const docLinkHtml = 'Like what you see? Visit the ' +\n",
              "            '<a target=\"_blank\" href=https://colab.research.google.com/notebooks/data_table.ipynb>data table notebook</a>'\n",
              "            + ' to learn more about interactive tables.';\n",
              "          element.innerHTML = '';\n",
              "          dataTable['output_type'] = 'display_data';\n",
              "          await google.colab.output.renderOutput(dataTable, element);\n",
              "          const docLink = document.createElement('div');\n",
              "          docLink.innerHTML = docLinkHtml;\n",
              "          element.appendChild(docLink);\n",
              "        }\n",
              "      </script>\n",
              "    </div>\n",
              "  </div>\n",
              "  "
            ]
          },
          "metadata": {},
          "execution_count": 12
        }
      ]
    },
    {
      "cell_type": "code",
      "source": [
        "#images = images + flipped_images"
      ],
      "metadata": {
        "id": "lbE0l3NhTVbW"
      },
      "execution_count": null,
      "outputs": []
    },
    {
      "cell_type": "code",
      "execution_count": null,
      "metadata": {
        "colab": {
          "base_uri": "https://localhost:8080/"
        },
        "id": "xUZBZL2c-UAF",
        "outputId": "d21a1d72-d66e-4592-8954-a37dcf53f9e1"
      },
      "outputs": [
        {
          "output_type": "execute_result",
          "data": {
            "text/plain": [
              "0    2682\n",
              "2    1759\n",
              "3    1700\n",
              "4    1620\n",
              "1    1471\n",
              "Name: race, dtype: int64"
            ]
          },
          "metadata": {},
          "execution_count": 92
        }
      ],
      "source": [
        "df_all['race'].value_counts()"
      ]
    },
    {
      "cell_type": "code",
      "execution_count": null,
      "metadata": {
        "colab": {
          "base_uri": "https://localhost:8080/"
        },
        "id": "st-He1aJ-WRm",
        "outputId": "ab14e8e9-88f4-40b2-b28f-bd2cdfdeae4b"
      },
      "outputs": [
        {
          "output_type": "execute_result",
          "data": {
            "text/plain": [
              "0    6426\n",
              "1    2752\n",
              "Name: gender, dtype: int64"
            ]
          },
          "metadata": {},
          "execution_count": 13
        }
      ],
      "source": [
        "df_all['gender'].value_counts()"
      ]
    },
    {
      "cell_type": "code",
      "source": [
        "df_all['age'].value_counts()"
      ],
      "metadata": {
        "colab": {
          "base_uri": "https://localhost:8080/"
        },
        "id": "pg8XJXML6YDs",
        "outputId": "ba2b2dde-1766-4109-b6b9-81d0b31cebe9"
      },
      "execution_count": null,
      "outputs": [
        {
          "output_type": "execute_result",
          "data": {
            "text/plain": [
              "0    2274\n",
              "3    2181\n",
              "1    2069\n",
              "4    1994\n",
              "2    1992\n",
              "5    1706\n",
              "6     483\n",
              "8     381\n",
              "7     330\n",
              "Name: age, dtype: int64"
            ]
          },
          "metadata": {},
          "execution_count": 52
        }
      ]
    },
    {
      "cell_type": "code",
      "execution_count": null,
      "metadata": {
        "id": "XhAIPTov_QMo",
        "colab": {
          "base_uri": "https://localhost:8080/"
        },
        "outputId": "65bb6248-2054-4f89-ca3b-8257034a3a5f"
      },
      "outputs": [
        {
          "output_type": "stream",
          "name": "stderr",
          "text": [
            "100%|██████████| 12597/12597 [00:07<00:00, 1612.62it/s]\n"
          ]
        }
      ],
      "source": [
        "race_dict = {'WM':0, 'BM': 0, 'AM': 0, 'IM': 0, 'OM': 0, 'WF':0, 'BF': 0, 'AF': 0, 'IF': 0, 'OF': 0}\n",
        "for i in tqdm(range(len(df_all))):\n",
        "  if df_all.iloc[i]['gender'] == 0:\n",
        "    if df_all.iloc[i]['race'] == 0:\n",
        "      race_dict['WM'] += 1\n",
        "    if df_all.iloc[i]['race'] == 1:\n",
        "      race_dict['BM'] += 1\n",
        "    if df_all.iloc[i]['race'] == 2:\n",
        "      race_dict['AM'] += 1\n",
        "    if df_all.iloc[i]['race'] == 3:\n",
        "      race_dict['IM'] += 1\n",
        "    if df_all.iloc[i]['race'] == 4:\n",
        "      race_dict['OM'] += 1\n",
        "  else:\n",
        "    if df_all.iloc[i]['race'] == 0:\n",
        "      race_dict['WF'] += 1\n",
        "    if df_all.iloc[i]['race'] == 1:\n",
        "      race_dict['BF'] += 1\n",
        "    if df_all.iloc[i]['race'] == 2:\n",
        "      race_dict['AF'] += 1\n",
        "    if df_all.iloc[i]['race'] == 3:\n",
        "      race_dict['IF'] += 1\n",
        "    if df_all.iloc[i]['race'] == 4:\n",
        "      race_dict['OF'] += 1\n",
        "  \n",
        "\n",
        " "
      ]
    },
    {
      "cell_type": "code",
      "execution_count": null,
      "metadata": {
        "colab": {
          "base_uri": "https://localhost:8080/",
          "height": 282
        },
        "id": "xurx5YTyU3xW",
        "outputId": "5a463080-2a84-4197-8c2e-831f979841eb"
      },
      "outputs": [
        {
          "output_type": "execute_result",
          "data": {
            "text/plain": [
              "Text(0, 0.5, 'Number of examples in dataset')"
            ]
          },
          "metadata": {},
          "execution_count": 61
        },
        {
          "output_type": "display_data",
          "data": {
            "text/plain": [
              "<Figure size 432x288 with 1 Axes>"
            ],
            "image/png": "[encoded data removed]"
          },
          "metadata": {
            "needs_background": "light"
          }
        }
      ],
      "source": [
        "names = list(race_dict.keys())\n",
        "values = list(race_dict.values())\n",
        "\n",
        "for i in range(len(values)):\n",
        "  values[i] /= 13410\n",
        "  values[i] *= 100\n",
        "\n",
        "plt.bar(range(len(race_dict)), values, tick_label=names)\n",
        "\n",
        "plt.ylabel(\"Number of examples in dataset\")"
      ]
    },
    {
      "cell_type": "code",
      "source": [
        "values"
      ],
      "metadata": {
        "colab": {
          "base_uri": "https://localhost:8080/"
        },
        "id": "qzO1n23ip4hb",
        "outputId": "2bda64ac-b57e-40f7-c1cf-c7e68f87efb2"
      },
      "execution_count": null,
      "outputs": [
        {
          "output_type": "execute_result",
          "data": {
            "text/plain": [
              "[9.269202087994035,\n",
              " 10.007457121551083,\n",
              " 9.850857568978375,\n",
              " 9.336316181953766,\n",
              " 9.65697240865026,\n",
              " 10.730797912005965,\n",
              " 9.679343773303504,\n",
              " 8.501118568232663,\n",
              " 7.546607009694258,\n",
              " 9.35868754660701]"
            ]
          },
          "metadata": {},
          "execution_count": 62
        }
      ]
    },
    {
      "cell_type": "code",
      "source": [
        "df_all.shape"
      ],
      "metadata": {
        "colab": {
          "base_uri": "https://localhost:8080/"
        },
        "id": "jXvTbqjd5Bxw",
        "outputId": "df7ac28e-8e74-4aa7-e1a8-b678905edc62"
      },
      "execution_count": null,
      "outputs": [
        {
          "output_type": "execute_result",
          "data": {
            "text/plain": [
              "(12597, 5)"
            ]
          },
          "metadata": {},
          "execution_count": 137
        }
      ]
    },
    {
      "cell_type": "code",
      "source": [
        "df_all.shape"
      ],
      "metadata": {
        "colab": {
          "base_uri": "https://localhost:8080/"
        },
        "id": "9rpA5ROL_y_t",
        "outputId": "659860ad-e422-447e-acca-6243558aa673"
      },
      "execution_count": null,
      "outputs": [
        {
          "output_type": "execute_result",
          "data": {
            "text/plain": [
              "(12597, 5)"
            ]
          },
          "metadata": {},
          "execution_count": 246
        }
      ]
    },
    {
      "cell_type": "code",
      "source": [
        "#weights = {0:1, 1:1.5}\n",
        "#validation['weights'] = validation['gender'].apply(lambda x: weights[x])"
      ],
      "metadata": {
        "colab": {
          "base_uri": "https://localhost:8080/"
        },
        "id": "NTwgBvt-p0Ta",
        "outputId": "8a671655-9434-4cb8-cd68-6689846bd9c3"
      },
      "execution_count": null,
      "outputs": [
        {
          "output_type": "stream",
          "name": "stderr",
          "text": [
            "/usr/local/lib/python3.7/dist-packages/ipykernel_launcher.py:2: SettingWithCopyWarning: \n",
            "A value is trying to be set on a copy of a slice from a DataFrame.\n",
            "Try using .loc[row_indexer,col_indexer] = value instead\n",
            "\n",
            "See the caveats in the documentation: https://pandas.pydata.org/pandas-docs/stable/user_guide/indexing.html#returning-a-view-versus-a-copy\n",
            "  \n"
          ]
        }
      ]
    },
    {
      "cell_type": "code",
      "source": [
        "#validation['weights'] = np.where(validation['gender'] == 1, 10, validation['weights'])"
      ],
      "metadata": {
        "colab": {
          "base_uri": "https://localhost:8080/"
        },
        "id": "qkuGjCu1u4XB",
        "outputId": "1f5fbc61-0baa-44c5-d02f-910a6971745d"
      },
      "execution_count": null,
      "outputs": [
        {
          "output_type": "stream",
          "name": "stderr",
          "text": [
            "/usr/local/lib/python3.7/dist-packages/ipykernel_launcher.py:1: SettingWithCopyWarning: \n",
            "A value is trying to be set on a copy of a slice from a DataFrame.\n",
            "Try using .loc[row_indexer,col_indexer] = value instead\n",
            "\n",
            "See the caveats in the documentation: https://pandas.pydata.org/pandas-docs/stable/user_guide/indexing.html#returning-a-view-versus-a-copy\n",
            "  \"\"\"Entry point for launching an IPython kernel.\n"
          ]
        }
      ]
    },
    {
      "cell_type": "code",
      "source": [
        "#validation['weights'].value_counts()"
      ],
      "metadata": {
        "colab": {
          "base_uri": "https://localhost:8080/"
        },
        "id": "SHSFTNEHvd8R",
        "outputId": "925df6b0-36eb-4db1-e0bb-e4af4ca1f089"
      },
      "execution_count": null,
      "outputs": [
        {
          "output_type": "execute_result",
          "data": {
            "text/plain": [
              "1.5    1852\n",
              "1.0    1630\n",
              "Name: weights, dtype: int64"
            ]
          },
          "metadata": {},
          "execution_count": 394
        }
      ]
    },
    {
      "cell_type": "code",
      "source": [
        "#val_indices = validation.sample(n=2378, weights='weights', random_state=42).index"
      ],
      "metadata": {
        "id": "Kug3jqBPv37t"
      },
      "execution_count": null,
      "outputs": []
    },
    {
      "cell_type": "code",
      "source": [
        "input_shape = (64, 64, 3)"
      ],
      "metadata": {
        "id": "Y4i6J9vQkO9K"
      },
      "execution_count": null,
      "outputs": []
    },
    {
      "cell_type": "code",
      "source": [
        "y_gender = [i for i in df_all['gender']]\n",
        "y_race = [i for i in df_all['race']]"
      ],
      "metadata": {
        "id": "E3hSDYgZlhAN"
      },
      "execution_count": null,
      "outputs": []
    },
    {
      "cell_type": "code",
      "source": [
        "y_stack = np.vstack((y_gender,y_race))\n",
        "Y = y_stack[0]  "
      ],
      "metadata": {
        "id": "-XRM8dZRlcCB"
      },
      "execution_count": null,
      "outputs": []
    },
    {
      "cell_type": "code",
      "source": [
        "val_images = pickle.load(open(\"/content/drive/MyDrive/ASDRP/Experiments/simple-cnn-v3/test_tensors_generated.pickle\", \"rb\"))"
      ],
      "metadata": {
        "id": "GRGlakBSd0eP"
      },
      "execution_count": null,
      "outputs": []
    },
    {
      "cell_type": "code",
      "source": [
        "df_val = pd.read_csv('/content/drive/MyDrive/ASDRP/Experiments/df_test.csv')  "
      ],
      "metadata": {
        "id": "nzNMZb_reJOf"
      },
      "execution_count": null,
      "outputs": []
    },
    {
      "cell_type": "code",
      "source": [
        "from matplotlib import pyplot as plt\n",
        "\n",
        "plt.imshow((images_reduced[0]), interpolation='nearest')\n",
        "plt.show()"
      ],
      "metadata": {
        "colab": {
          "base_uri": "https://localhost:8080/",
          "height": 268
        },
        "id": "YtEa-ZNJp6nY",
        "outputId": "4133eff5-3e90-4f6f-adf5-5fc3321714e5"
      },
      "execution_count": null,
      "outputs": [
        {
          "output_type": "display_data",
          "data": {
            "text/plain": [
              "<Figure size 432x288 with 1 Axes>"
            ],
            "image/png": "[encoded data removed]"
          },
          "metadata": {
            "needs_background": "light"
          }
        }
      ]
    },
    {
      "cell_type": "code",
      "source": [
        "df_all.head()"
      ],
      "metadata": {
        "colab": {
          "base_uri": "https://localhost:8080/",
          "height": 206
        },
        "id": "3seCrHCTpt52",
        "outputId": "664771ac-a547-459a-b49c-d45a374f0236"
      },
      "execution_count": null,
      "outputs": [
        {
          "output_type": "execute_result",
          "data": {
            "text/plain": [
              "   index                                              image   age  gender  \\\n",
              "0      0  drive/My Drive/ASDRP/Data/utk_cropped/part1/20...  20.0       0   \n",
              "1      1  drive/My Drive/ASDRP/Data/utk_cropped/part1/21...  21.0       0   \n",
              "2      2  drive/My Drive/ASDRP/Data/utk_cropped/part1/18...  18.0       0   \n",
              "3      3  drive/My Drive/ASDRP/Data/utk_cropped/part1/31...  31.0       0   \n",
              "4      4  drive/My Drive/ASDRP/Data/utk_cropped/part1/12...  12.0       0   \n",
              "\n",
              "   race  \n",
              "0     0  \n",
              "1     0  \n",
              "2     3  \n",
              "3     3  \n",
              "4     3  "
            ],
            "text/html": [
              "\n",
              "  <div id=\"df-6bb18848-27c1-4f68-8265-df0c4a504229\">\n",
              "    <div class=\"colab-df-container\">\n",
              "      <div>\n",
              "<style scoped>\n",
              "    .dataframe tbody tr th:only-of-type {\n",
              "        vertical-align: middle;\n",
              "    }\n",
              "\n",
              "    .dataframe tbody tr th {\n",
              "        vertical-align: top;\n",
              "    }\n",
              "\n",
              "    .dataframe thead th {\n",
              "        text-align: right;\n",
              "    }\n",
              "</style>\n",
              "<table border=\"1\" class=\"dataframe\">\n",
              "  <thead>\n",
              "    <tr style=\"text-align: right;\">\n",
              "      <th></th>\n",
              "      <th>index</th>\n",
              "      <th>image</th>\n",
              "      <th>age</th>\n",
              "      <th>gender</th>\n",
              "      <th>race</th>\n",
              "    </tr>\n",
              "  </thead>\n",
              "  <tbody>\n",
              "    <tr>\n",
              "      <th>0</th>\n",
              "      <td>0</td>\n",
              "      <td>drive/My Drive/ASDRP/Data/utk_cropped/part1/20...</td>\n",
              "      <td>20.0</td>\n",
              "      <td>0</td>\n",
              "      <td>0</td>\n",
              "    </tr>\n",
              "    <tr>\n",
              "      <th>1</th>\n",
              "      <td>1</td>\n",
              "      <td>drive/My Drive/ASDRP/Data/utk_cropped/part1/21...</td>\n",
              "      <td>21.0</td>\n",
              "      <td>0</td>\n",
              "      <td>0</td>\n",
              "    </tr>\n",
              "    <tr>\n",
              "      <th>2</th>\n",
              "      <td>2</td>\n",
              "      <td>drive/My Drive/ASDRP/Data/utk_cropped/part1/18...</td>\n",
              "      <td>18.0</td>\n",
              "      <td>0</td>\n",
              "      <td>3</td>\n",
              "    </tr>\n",
              "    <tr>\n",
              "      <th>3</th>\n",
              "      <td>3</td>\n",
              "      <td>drive/My Drive/ASDRP/Data/utk_cropped/part1/31...</td>\n",
              "      <td>31.0</td>\n",
              "      <td>0</td>\n",
              "      <td>3</td>\n",
              "    </tr>\n",
              "    <tr>\n",
              "      <th>4</th>\n",
              "      <td>4</td>\n",
              "      <td>drive/My Drive/ASDRP/Data/utk_cropped/part1/12...</td>\n",
              "      <td>12.0</td>\n",
              "      <td>0</td>\n",
              "      <td>3</td>\n",
              "    </tr>\n",
              "  </tbody>\n",
              "</table>\n",
              "</div>\n",
              "      <button class=\"colab-df-convert\" onclick=\"convertToInteractive('df-6bb18848-27c1-4f68-8265-df0c4a504229')\"\n",
              "              title=\"Convert this dataframe to an interactive table.\"\n",
              "              style=\"display:none;\">\n",
              "        \n",
              "  <svg xmlns=\"http://www.w3.org/2000/svg\" height=\"24px\"viewBox=\"0 0 24 24\"\n",
              "       width=\"24px\">\n",
              "    <path d=\"M0 0h24v24H0V0z\" fill=\"none\"/>\n",
              "    <path d=\"M18.56 5.44l.94 2.06.94-2.06 2.06-.94-2.06-.94-.94-2.06-.94 2.06-2.06.94zm-11 1L8.5 8.5l.94-2.06 2.06-.94-2.06-.94L8.5 2.5l-.94 2.06-2.06.94zm10 10l.94 2.06.94-2.06 2.06-.94-2.06-.94-.94-2.06-.94 2.06-2.06.94z\"/><path d=\"M17.41 7.96l-1.37-1.37c-.4-.4-.92-.59-1.43-.59-.52 0-1.04.2-1.43.59L10.3 9.45l-7.72 7.72c-.78.78-.78 2.05 0 2.83L4 21.41c.39.39.9.59 1.41.59.51 0 1.02-.2 1.41-.59l7.78-7.78 2.81-2.81c.8-.78.8-2.07 0-2.86zM5.41 20L4 18.59l7.72-7.72 1.47 1.35L5.41 20z\"/>\n",
              "  </svg>\n",
              "      </button>\n",
              "      \n",
              "  <style>\n",
              "    .colab-df-container {\n",
              "      display:flex;\n",
              "      flex-wrap:wrap;\n",
              "      gap: 12px;\n",
              "    }\n",
              "\n",
              "    .colab-df-convert {\n",
              "      background-color: #E8F0FE;\n",
              "      border: none;\n",
              "      border-radius: 50%;\n",
              "      cursor: pointer;\n",
              "      display: none;\n",
              "      fill: #1967D2;\n",
              "      height: 32px;\n",
              "      padding: 0 0 0 0;\n",
              "      width: 32px;\n",
              "    }\n",
              "\n",
              "    .colab-df-convert:hover {\n",
              "      background-color: #E2EBFA;\n",
              "      box-shadow: 0px 1px 2px rgba(60, 64, 67, 0.3), 0px 1px 3px 1px rgba(60, 64, 67, 0.15);\n",
              "      fill: #174EA6;\n",
              "    }\n",
              "\n",
              "    [theme=dark] .colab-df-convert {\n",
              "      background-color: #3B4455;\n",
              "      fill: #D2E3FC;\n",
              "    }\n",
              "\n",
              "    [theme=dark] .colab-df-convert:hover {\n",
              "      background-color: #434B5C;\n",
              "      box-shadow: 0px 1px 3px 1px rgba(0, 0, 0, 0.15);\n",
              "      filter: drop-shadow(0px 1px 2px rgba(0, 0, 0, 0.3));\n",
              "      fill: #FFFFFF;\n",
              "    }\n",
              "  </style>\n",
              "\n",
              "      <script>\n",
              "        const buttonEl =\n",
              "          document.querySelector('#df-6bb18848-27c1-4f68-8265-df0c4a504229 button.colab-df-convert');\n",
              "        buttonEl.style.display =\n",
              "          google.colab.kernel.accessAllowed ? 'block' : 'none';\n",
              "\n",
              "        async function convertToInteractive(key) {\n",
              "          const element = document.querySelector('#df-6bb18848-27c1-4f68-8265-df0c4a504229');\n",
              "          const dataTable =\n",
              "            await google.colab.kernel.invokeFunction('convertToInteractive',\n",
              "                                                     [key], {});\n",
              "          if (!dataTable) return;\n",
              "\n",
              "          const docLinkHtml = 'Like what you see? Visit the ' +\n",
              "            '<a target=\"_blank\" href=https://colab.research.google.com/notebooks/data_table.ipynb>data table notebook</a>'\n",
              "            + ' to learn more about interactive tables.';\n",
              "          element.innerHTML = '';\n",
              "          dataTable['output_type'] = 'display_data';\n",
              "          await google.colab.output.renderOutput(dataTable, element);\n",
              "          const docLink = document.createElement('div');\n",
              "          docLink.innerHTML = docLinkHtml;\n",
              "          element.appendChild(docLink);\n",
              "        }\n",
              "      </script>\n",
              "    </div>\n",
              "  </div>\n",
              "  "
            ]
          },
          "metadata": {},
          "execution_count": 33
        }
      ]
    },
    {
      "cell_type": "code",
      "source": [
        "Y_val = np.array(df_val['gender'])"
      ],
      "metadata": {
        "id": "DjPeCm2LeL8Y"
      },
      "execution_count": null,
      "outputs": []
    },
    {
      "cell_type": "code",
      "source": [
        "test = df_all[df_all['image'].str.endswith('jpg')]"
      ],
      "metadata": {
        "id": "6LXBn3tGeb4g"
      },
      "execution_count": null,
      "outputs": []
    },
    {
      "cell_type": "code",
      "source": [
        "test"
      ],
      "metadata": {
        "colab": {
          "base_uri": "https://localhost:8080/",
          "height": 424
        },
        "id": "6oM3FAWS65Xr",
        "outputId": "720eaeda-9db2-4db6-a3a0-3fd954f743c5"
      },
      "execution_count": null,
      "outputs": [
        {
          "output_type": "execute_result",
          "data": {
            "text/plain": [
              "      index                                              image   age  gender  \\\n",
              "0         0  drive/My Drive/ASDRP/Data/utk_cropped/part1/20...  20.0       0   \n",
              "1         1  drive/My Drive/ASDRP/Data/utk_cropped/part1/21...  21.0       0   \n",
              "2         2  drive/My Drive/ASDRP/Data/utk_cropped/part1/18...  18.0       0   \n",
              "3         3  drive/My Drive/ASDRP/Data/utk_cropped/part1/31...  31.0       0   \n",
              "4         4  drive/My Drive/ASDRP/Data/utk_cropped/part1/12...  12.0       0   \n",
              "...     ...                                                ...   ...     ...   \n",
              "4182   4995  drive/My Drive/ASDRP/Data/utk_cropped/part1/69...  69.0       1   \n",
              "4183   4996  drive/My Drive/ASDRP/Data/utk_cropped/part1/57...  57.0       1   \n",
              "4184   4997  drive/My Drive/ASDRP/Data/utk_cropped/part1/53...  53.0       1   \n",
              "4185   4998  drive/My Drive/ASDRP/Data/utk_cropped/part1/59...  59.0       1   \n",
              "4186   4999  drive/My Drive/ASDRP/Data/utk_cropped/part1/37...  37.0       0   \n",
              "\n",
              "      race  \n",
              "0        0  \n",
              "1        0  \n",
              "2        3  \n",
              "3        3  \n",
              "4        3  \n",
              "...    ...  \n",
              "4182     0  \n",
              "4183     0  \n",
              "4184     0  \n",
              "4185     0  \n",
              "4186     0  \n",
              "\n",
              "[4187 rows x 5 columns]"
            ],
            "text/html": [
              "\n",
              "  <div id=\"df-741170ec-83a2-4651-9dbe-4e684abbad78\">\n",
              "    <div class=\"colab-df-container\">\n",
              "      <div>\n",
              "<style scoped>\n",
              "    .dataframe tbody tr th:only-of-type {\n",
              "        vertical-align: middle;\n",
              "    }\n",
              "\n",
              "    .dataframe tbody tr th {\n",
              "        vertical-align: top;\n",
              "    }\n",
              "\n",
              "    .dataframe thead th {\n",
              "        text-align: right;\n",
              "    }\n",
              "</style>\n",
              "<table border=\"1\" class=\"dataframe\">\n",
              "  <thead>\n",
              "    <tr style=\"text-align: right;\">\n",
              "      <th></th>\n",
              "      <th>index</th>\n",
              "      <th>image</th>\n",
              "      <th>age</th>\n",
              "      <th>gender</th>\n",
              "      <th>race</th>\n",
              "    </tr>\n",
              "  </thead>\n",
              "  <tbody>\n",
              "    <tr>\n",
              "      <th>0</th>\n",
              "      <td>0</td>\n",
              "      <td>drive/My Drive/ASDRP/Data/utk_cropped/part1/20...</td>\n",
              "      <td>20.0</td>\n",
              "      <td>0</td>\n",
              "      <td>0</td>\n",
              "    </tr>\n",
              "    <tr>\n",
              "      <th>1</th>\n",
              "      <td>1</td>\n",
              "      <td>drive/My Drive/ASDRP/Data/utk_cropped/part1/21...</td>\n",
              "      <td>21.0</td>\n",
              "      <td>0</td>\n",
              "      <td>0</td>\n",
              "    </tr>\n",
              "    <tr>\n",
              "      <th>2</th>\n",
              "      <td>2</td>\n",
              "      <td>drive/My Drive/ASDRP/Data/utk_cropped/part1/18...</td>\n",
              "      <td>18.0</td>\n",
              "      <td>0</td>\n",
              "      <td>3</td>\n",
              "    </tr>\n",
              "    <tr>\n",
              "      <th>3</th>\n",
              "      <td>3</td>\n",
              "      <td>drive/My Drive/ASDRP/Data/utk_cropped/part1/31...</td>\n",
              "      <td>31.0</td>\n",
              "      <td>0</td>\n",
              "      <td>3</td>\n",
              "    </tr>\n",
              "    <tr>\n",
              "      <th>4</th>\n",
              "      <td>4</td>\n",
              "      <td>drive/My Drive/ASDRP/Data/utk_cropped/part1/12...</td>\n",
              "      <td>12.0</td>\n",
              "      <td>0</td>\n",
              "      <td>3</td>\n",
              "    </tr>\n",
              "    <tr>\n",
              "      <th>...</th>\n",
              "      <td>...</td>\n",
              "      <td>...</td>\n",
              "      <td>...</td>\n",
              "      <td>...</td>\n",
              "      <td>...</td>\n",
              "    </tr>\n",
              "    <tr>\n",
              "      <th>4182</th>\n",
              "      <td>4995</td>\n",
              "      <td>drive/My Drive/ASDRP/Data/utk_cropped/part1/69...</td>\n",
              "      <td>69.0</td>\n",
              "      <td>1</td>\n",
              "      <td>0</td>\n",
              "    </tr>\n",
              "    <tr>\n",
              "      <th>4183</th>\n",
              "      <td>4996</td>\n",
              "      <td>drive/My Drive/ASDRP/Data/utk_cropped/part1/57...</td>\n",
              "      <td>57.0</td>\n",
              "      <td>1</td>\n",
              "      <td>0</td>\n",
              "    </tr>\n",
              "    <tr>\n",
              "      <th>4184</th>\n",
              "      <td>4997</td>\n",
              "      <td>drive/My Drive/ASDRP/Data/utk_cropped/part1/53...</td>\n",
              "      <td>53.0</td>\n",
              "      <td>1</td>\n",
              "      <td>0</td>\n",
              "    </tr>\n",
              "    <tr>\n",
              "      <th>4185</th>\n",
              "      <td>4998</td>\n",
              "      <td>drive/My Drive/ASDRP/Data/utk_cropped/part1/59...</td>\n",
              "      <td>59.0</td>\n",
              "      <td>1</td>\n",
              "      <td>0</td>\n",
              "    </tr>\n",
              "    <tr>\n",
              "      <th>4186</th>\n",
              "      <td>4999</td>\n",
              "      <td>drive/My Drive/ASDRP/Data/utk_cropped/part1/37...</td>\n",
              "      <td>37.0</td>\n",
              "      <td>0</td>\n",
              "      <td>0</td>\n",
              "    </tr>\n",
              "  </tbody>\n",
              "</table>\n",
              "<p>4187 rows × 5 columns</p>\n",
              "</div>\n",
              "      <button class=\"colab-df-convert\" onclick=\"convertToInteractive('df-741170ec-83a2-4651-9dbe-4e684abbad78')\"\n",
              "              title=\"Convert this dataframe to an interactive table.\"\n",
              "              style=\"display:none;\">\n",
              "        \n",
              "  <svg xmlns=\"http://www.w3.org/2000/svg\" height=\"24px\"viewBox=\"0 0 24 24\"\n",
              "       width=\"24px\">\n",
              "    <path d=\"M0 0h24v24H0V0z\" fill=\"none\"/>\n",
              "    <path d=\"M18.56 5.44l.94 2.06.94-2.06 2.06-.94-2.06-.94-.94-2.06-.94 2.06-2.06.94zm-11 1L8.5 8.5l.94-2.06 2.06-.94-2.06-.94L8.5 2.5l-.94 2.06-2.06.94zm10 10l.94 2.06.94-2.06 2.06-.94-2.06-.94-.94-2.06-.94 2.06-2.06.94z\"/><path d=\"M17.41 7.96l-1.37-1.37c-.4-.4-.92-.59-1.43-.59-.52 0-1.04.2-1.43.59L10.3 9.45l-7.72 7.72c-.78.78-.78 2.05 0 2.83L4 21.41c.39.39.9.59 1.41.59.51 0 1.02-.2 1.41-.59l7.78-7.78 2.81-2.81c.8-.78.8-2.07 0-2.86zM5.41 20L4 18.59l7.72-7.72 1.47 1.35L5.41 20z\"/>\n",
              "  </svg>\n",
              "      </button>\n",
              "      \n",
              "  <style>\n",
              "    .colab-df-container {\n",
              "      display:flex;\n",
              "      flex-wrap:wrap;\n",
              "      gap: 12px;\n",
              "    }\n",
              "\n",
              "    .colab-df-convert {\n",
              "      background-color: #E8F0FE;\n",
              "      border: none;\n",
              "      border-radius: 50%;\n",
              "      cursor: pointer;\n",
              "      display: none;\n",
              "      fill: #1967D2;\n",
              "      height: 32px;\n",
              "      padding: 0 0 0 0;\n",
              "      width: 32px;\n",
              "    }\n",
              "\n",
              "    .colab-df-convert:hover {\n",
              "      background-color: #E2EBFA;\n",
              "      box-shadow: 0px 1px 2px rgba(60, 64, 67, 0.3), 0px 1px 3px 1px rgba(60, 64, 67, 0.15);\n",
              "      fill: #174EA6;\n",
              "    }\n",
              "\n",
              "    [theme=dark] .colab-df-convert {\n",
              "      background-color: #3B4455;\n",
              "      fill: #D2E3FC;\n",
              "    }\n",
              "\n",
              "    [theme=dark] .colab-df-convert:hover {\n",
              "      background-color: #434B5C;\n",
              "      box-shadow: 0px 1px 3px 1px rgba(0, 0, 0, 0.15);\n",
              "      filter: drop-shadow(0px 1px 2px rgba(0, 0, 0, 0.3));\n",
              "      fill: #FFFFFF;\n",
              "    }\n",
              "  </style>\n",
              "\n",
              "      <script>\n",
              "        const buttonEl =\n",
              "          document.querySelector('#df-741170ec-83a2-4651-9dbe-4e684abbad78 button.colab-df-convert');\n",
              "        buttonEl.style.display =\n",
              "          google.colab.kernel.accessAllowed ? 'block' : 'none';\n",
              "\n",
              "        async function convertToInteractive(key) {\n",
              "          const element = document.querySelector('#df-741170ec-83a2-4651-9dbe-4e684abbad78');\n",
              "          const dataTable =\n",
              "            await google.colab.kernel.invokeFunction('convertToInteractive',\n",
              "                                                     [key], {});\n",
              "          if (!dataTable) return;\n",
              "\n",
              "          const docLinkHtml = 'Like what you see? Visit the ' +\n",
              "            '<a target=\"_blank\" href=https://colab.research.google.com/notebooks/data_table.ipynb>data table notebook</a>'\n",
              "            + ' to learn more about interactive tables.';\n",
              "          element.innerHTML = '';\n",
              "          dataTable['output_type'] = 'display_data';\n",
              "          await google.colab.output.renderOutput(dataTable, element);\n",
              "          const docLink = document.createElement('div');\n",
              "          docLink.innerHTML = docLinkHtml;\n",
              "          element.appendChild(docLink);\n",
              "        }\n",
              "      </script>\n",
              "    </div>\n",
              "  </div>\n",
              "  "
            ]
          },
          "metadata": {},
          "execution_count": 36
        }
      ]
    },
    {
      "cell_type": "code",
      "source": [
        "test_indices = test.sample(n=837, random_state=40).index"
      ],
      "metadata": {
        "id": "sy2TfQh9eOHX"
      },
      "execution_count": null,
      "outputs": []
    },
    {
      "cell_type": "code",
      "source": [
        "test_indices"
      ],
      "metadata": {
        "colab": {
          "base_uri": "https://localhost:8080/"
        },
        "id": "RPIte-IOAJmE",
        "outputId": "40ea0692-08d9-4ea4-a3c5-a9931c507a7d"
      },
      "execution_count": null,
      "outputs": [
        {
          "output_type": "execute_result",
          "data": {
            "text/plain": [
              "Int64Index([1074, 1898,  619, 4095, 3357, 3300, 3352, 1226, 2737,  695,\n",
              "            ...\n",
              "             671, 1702, 2907, 1202, 1282, 1107, 2328, 3893, 1895, 1234],\n",
              "           dtype='int64', length=837)"
            ]
          },
          "metadata": {},
          "execution_count": 38
        }
      ]
    },
    {
      "cell_type": "code",
      "source": [
        "test_images = []\n",
        "for i in test_indices.tolist():\n",
        "  test_images.append(images_reduced[i])"
      ],
      "metadata": {
        "id": "joddZinaen_J"
      },
      "execution_count": null,
      "outputs": []
    },
    {
      "cell_type": "code",
      "source": [
        "y_gender_test = np.array(df_all.iloc[test_indices]['gender'])"
      ],
      "metadata": {
        "id": "JqJ3JCQ3etJM"
      },
      "execution_count": null,
      "outputs": []
    },
    {
      "cell_type": "code",
      "source": [
        "'''\n",
        "men_indices = []\n",
        "for i in range(len(df_all.drop(test_indices).reset_index())):\n",
        "  if df_all.iloc[i]['gender'] == 0 and df_all.iloc[i]['image'].endswith('png'):\n",
        "    men_indices.append(i)\n",
        "'''"
      ],
      "metadata": {
        "id": "qhNM4uMsBk8e"
      },
      "execution_count": null,
      "outputs": []
    },
    {
      "cell_type": "code",
      "source": [
        "images_reduced = [i for j, i in enumerate(images_reduced) if j not in test_indices.tolist()]"
      ],
      "metadata": {
        "id": "y55hiSLdtqj7"
      },
      "execution_count": null,
      "outputs": []
    },
    {
      "cell_type": "code",
      "source": [
        "Y = np.delete(Y, test_indices.tolist())"
      ],
      "metadata": {
        "id": "fJWii37Ve-HH"
      },
      "execution_count": null,
      "outputs": []
    },
    {
      "cell_type": "code",
      "source": [
        "#images_reduced = [i for j, i in enumerate(images_reduced) if j not in men_indices]\n",
        "#Y = np.delete(Y, men_indices)"
      ],
      "metadata": {
        "id": "jFy1YD8GCMDE"
      },
      "execution_count": null,
      "outputs": []
    },
    {
      "cell_type": "code",
      "source": [
        "len(images_reduced)"
      ],
      "metadata": {
        "colab": {
          "base_uri": "https://localhost:8080/"
        },
        "id": "tgB-nihkCUPk",
        "outputId": "edb9f9c9-88ce-49c8-d86b-15e13a0f07a5"
      },
      "execution_count": null,
      "outputs": [
        {
          "output_type": "execute_result",
          "data": {
            "text/plain": [
              "11760"
            ]
          },
          "metadata": {},
          "execution_count": 23
        }
      ]
    },
    {
      "cell_type": "code",
      "source": [
        "len(Y)"
      ],
      "metadata": {
        "colab": {
          "base_uri": "https://localhost:8080/"
        },
        "id": "PcCCX2rS-KMD",
        "outputId": "a4e7fb19-ac1d-4d76-8af1-2be36b042f39"
      },
      "execution_count": null,
      "outputs": [
        {
          "output_type": "execute_result",
          "data": {
            "text/plain": [
              "11760"
            ]
          },
          "metadata": {},
          "execution_count": 24
        }
      ]
    },
    {
      "cell_type": "code",
      "source": [
        "images_reduced = np.array(images_reduced)\n",
        "val_images = np.array(val_images)"
      ],
      "metadata": {
        "id": "imrriwa7fAfw"
      },
      "execution_count": null,
      "outputs": []
    },
    {
      "cell_type": "code",
      "source": [
        "plt.imshow((images_reduced[7000]), interpolation='nearest')\n",
        "plt.show()"
      ],
      "metadata": {
        "colab": {
          "base_uri": "https://localhost:8080/",
          "height": 268
        },
        "id": "VP6Q_SjqCZWh",
        "outputId": "9047af05-49e7-467f-a18f-5b8990786293"
      },
      "execution_count": null,
      "outputs": [
        {
          "output_type": "display_data",
          "data": {
            "text/plain": [
              "<Figure size 432x288 with 1 Axes>"
            ],
            "image/png": "[encoded data removed]"
          },
          "metadata": {
            "needs_background": "light"
          }
        }
      ]
    },
    {
      "cell_type": "code",
      "source": [
        "inputs = Input((input_shape))\n",
        "# convolutional layers\n",
        "conv_1 = Conv2D(32, kernel_size=(3, 3), activation='relu') (inputs)\n",
        "maxp_1 = MaxPooling2D(pool_size=(2, 2)) (conv_1)\n",
        "conv_2 = Conv2D(64, kernel_size=(3, 3), activation='relu') (maxp_1)\n",
        "maxp_2 = MaxPooling2D(pool_size=(2, 2)) (conv_2)\n",
        "conv_3 = Conv2D(128, kernel_size=(3, 3), activation='relu') (maxp_2)\n",
        "maxp_3 = MaxPooling2D(pool_size=(2, 2)) (conv_3)\n",
        "conv_4 = Conv2D(256, kernel_size=(3, 3), activation='relu') (maxp_3)\n",
        "maxp_4 = MaxPooling2D(pool_size=(2, 2)) (conv_4)\n",
        "\n",
        "flatten = Flatten() (maxp_4)\n",
        "\n",
        "# fully connected layers\n",
        "dense_1 = Dense(256, activation='relu') (flatten)\n",
        "#dense_2 = Dense(256, activation='relu') (flatten)\n",
        "#dense_3 = Dense(256, activation='relu') (flatten)\n",
        "\n",
        "dropout_1 = Dropout(0.3) (dense_1)\n",
        "#dropout_2 = Dropout(0.3) (dense_2)\n",
        "#dropout_3 = Dropout(0.3) (dense_3)\n",
        "\n",
        "output_1 = Dense(1, activation='sigmoid', name='gender_out') (dropout_1)\n",
        "#output_2 = Dense(1, activation='softmax', name='race_out') (dropout_2)\n",
        "#output_3 = Dense(1, activation='relu', name='age_out') (dropout_3)\n",
        "\n",
        "model = Model(inputs=[inputs], outputs=[output_1])\n",
        "\n",
        "model.compile(loss=['binary_crossentropy'], optimizer='adam', metrics=['accuracy'])"
      ],
      "metadata": {
        "id": "hwhvl2X8kCDE"
      },
      "execution_count": null,
      "outputs": []
    },
    {
      "cell_type": "code",
      "source": [
        "#from tensorflow.keras.preprocessing.image import ImageDataGenerator"
      ],
      "metadata": {
        "id": "Qu3az7KnxrHm"
      },
      "execution_count": null,
      "outputs": []
    },
    {
      "cell_type": "code",
      "source": [
        "#datagen = ImageDataGenerator(brightness_range=[0.3,0.9])"
      ],
      "metadata": {
        "id": "-8dNBACtya5P"
      },
      "execution_count": null,
      "outputs": []
    },
    {
      "cell_type": "code",
      "source": [
        "#it = datagen.flow(images, Y)"
      ],
      "metadata": {
        "id": "abnm3WE8z6qs"
      },
      "execution_count": null,
      "outputs": []
    },
    {
      "cell_type": "code",
      "source": [
        "#datagen.fit(images)"
      ],
      "metadata": {
        "id": "TeUBsOy_y1Db"
      },
      "execution_count": null,
      "outputs": []
    },
    {
      "cell_type": "code",
      "source": [
        "len(images)"
      ],
      "metadata": {
        "colab": {
          "base_uri": "https://localhost:8080/"
        },
        "id": "LvP3pEEf0Es6",
        "outputId": "bbfbca54-fae4-4846-e1dd-c1f07466e7d8"
      },
      "execution_count": null,
      "outputs": [
        {
          "output_type": "execute_result",
          "data": {
            "text/plain": [
              "10078"
            ]
          },
          "metadata": {},
          "execution_count": 133
        }
      ]
    },
    {
      "cell_type": "code",
      "source": [
        "model2 = load_model('drive/My Drive/ASDRP/Model Checkpoints/unbalanced_final.h5')"
      ],
      "metadata": {
        "id": "luRBKFxo6SYf"
      },
      "execution_count": null,
      "outputs": []
    },
    {
      "cell_type": "code",
      "source": [
        "model.set_weights(model2.get_weights())"
      ],
      "metadata": {
        "id": "6COdqg6p6eCs"
      },
      "execution_count": null,
      "outputs": []
    },
    {
      "cell_type": "code",
      "source": [
        "#history = model.fit_generator(it, steps_per_epoch = 314, epochs = 10, validation_data=(val_images, Y_val))"
      ],
      "metadata": {
        "id": "c2G8T-0Yyn1P"
      },
      "execution_count": null,
      "outputs": []
    },
    {
      "cell_type": "code",
      "source": [
        "history = model.fit(x=images_reduced, y=Y, batch_size=32, epochs=20, validation_data=(val_images, Y_val))"
      ],
      "metadata": {
        "colab": {
          "base_uri": "https://localhost:8080/"
        },
        "id": "ou4zGuQGlA4O",
        "outputId": "c8d07b05-0b29-4fd0-ce60-e3c0a4c515a9"
      },
      "execution_count": null,
      "outputs": [
        {
          "output_type": "stream",
          "name": "stdout",
          "text": [
            "Epoch 1/20\n",
            "368/368 [==============================] - 16s 9ms/step - loss: 0.0943 - accuracy: 0.9653 - val_loss: 1.7059 - val_accuracy: 0.6950\n",
            "Epoch 2/20\n",
            "368/368 [==============================] - 3s 8ms/step - loss: 0.0339 - accuracy: 0.9878 - val_loss: 1.9210 - val_accuracy: 0.6710\n",
            "Epoch 3/20\n",
            "368/368 [==============================] - 3s 8ms/step - loss: 0.0262 - accuracy: 0.9907 - val_loss: 1.8673 - val_accuracy: 0.6750\n",
            "Epoch 4/20\n",
            "368/368 [==============================] - 3s 8ms/step - loss: 0.0253 - accuracy: 0.9907 - val_loss: 1.7466 - val_accuracy: 0.6780\n",
            "Epoch 5/20\n",
            "368/368 [==============================] - 3s 8ms/step - loss: 0.0261 - accuracy: 0.9904 - val_loss: 1.8710 - val_accuracy: 0.6760\n",
            "Epoch 6/20\n",
            "368/368 [==============================] - 3s 8ms/step - loss: 0.0163 - accuracy: 0.9948 - val_loss: 1.7714 - val_accuracy: 0.6930\n",
            "Epoch 7/20\n",
            "368/368 [==============================] - 3s 7ms/step - loss: 0.0241 - accuracy: 0.9916 - val_loss: 1.6614 - val_accuracy: 0.6760\n",
            "Epoch 8/20\n",
            "368/368 [==============================] - 3s 7ms/step - loss: 0.0216 - accuracy: 0.9919 - val_loss: 1.3320 - val_accuracy: 0.6920\n",
            "Epoch 9/20\n",
            "368/368 [==============================] - 3s 8ms/step - loss: 0.0130 - accuracy: 0.9952 - val_loss: 1.8183 - val_accuracy: 0.6870\n",
            "Epoch 10/20\n",
            "368/368 [==============================] - 3s 7ms/step - loss: 0.0238 - accuracy: 0.9907 - val_loss: 2.4484 - val_accuracy: 0.6690\n",
            "Epoch 11/20\n",
            "368/368 [==============================] - 3s 7ms/step - loss: 0.0188 - accuracy: 0.9932 - val_loss: 2.1168 - val_accuracy: 0.6690\n",
            "Epoch 12/20\n",
            "368/368 [==============================] - 3s 7ms/step - loss: 0.0212 - accuracy: 0.9935 - val_loss: 2.0905 - val_accuracy: 0.6800\n",
            "Epoch 13/20\n",
            "368/368 [==============================] - 3s 8ms/step - loss: 0.0243 - accuracy: 0.9916 - val_loss: 1.7257 - val_accuracy: 0.6880\n",
            "Epoch 14/20\n",
            "368/368 [==============================] - 3s 8ms/step - loss: 0.0113 - accuracy: 0.9957 - val_loss: 2.1482 - val_accuracy: 0.6700\n",
            "Epoch 15/20\n",
            "368/368 [==============================] - 3s 8ms/step - loss: 0.0142 - accuracy: 0.9946 - val_loss: 1.8967 - val_accuracy: 0.6800\n",
            "Epoch 16/20\n",
            "368/368 [==============================] - 4s 10ms/step - loss: 0.0149 - accuracy: 0.9943 - val_loss: 2.2194 - val_accuracy: 0.7030\n",
            "Epoch 17/20\n",
            "368/368 [==============================] - 3s 9ms/step - loss: 0.0212 - accuracy: 0.9930 - val_loss: 1.8500 - val_accuracy: 0.7030\n",
            "Epoch 18/20\n",
            "368/368 [==============================] - 3s 7ms/step - loss: 0.0211 - accuracy: 0.9928 - val_loss: 1.8382 - val_accuracy: 0.6960\n",
            "Epoch 19/20\n",
            "368/368 [==============================] - 3s 8ms/step - loss: 0.0092 - accuracy: 0.9969 - val_loss: 1.9318 - val_accuracy: 0.6810\n",
            "Epoch 20/20\n",
            "368/368 [==============================] - 3s 8ms/step - loss: 0.0045 - accuracy: 0.9988 - val_loss: 2.7298 - val_accuracy: 0.7050\n"
          ]
        }
      ]
    },
    {
      "cell_type": "code",
      "source": [
        "model.save(\"drive/My Drive/ASDRP/Model Checkpoints/synthetic_gan_balanced_nomen.h5\")"
      ],
      "metadata": {
        "id": "O_xswzToyeGs"
      },
      "execution_count": null,
      "outputs": []
    },
    {
      "cell_type": "code",
      "source": [
        "# plot results for gender\n",
        "acc = history.history['accuracy']\n",
        "val_acc = history.history['val_accuracy']\n",
        "epochs = range(len(acc))\n",
        "\n",
        "plt.plot(epochs, acc, 'b', label='Training Accuracy')\n",
        "plt.plot(epochs, val_acc, 'r', label='Validation Accuracy')\n",
        "plt.title('Accuracy Graph')\n",
        "plt.legend()\n",
        "plt.figure()\n",
        "\n",
        "loss = history.history['loss']\n",
        "val_loss = history.history['val_loss']\n",
        "\n",
        "plt.plot(epochs, loss, 'b', label='Training Loss')\n",
        "plt.plot(epochs, val_loss, 'r', label='Validation Loss')\n",
        "plt.title('Loss Graph')\n",
        "plt.legend()\n",
        "plt.show()"
      ],
      "metadata": {
        "colab": {
          "base_uri": "https://localhost:8080/",
          "height": 545
        },
        "id": "l3H3mpl59saF",
        "outputId": "d11a5296-2f58-429f-a304-701dffdd8c67"
      },
      "execution_count": null,
      "outputs": [
        {
          "output_type": "display_data",
          "data": {
            "text/plain": [
              "<Figure size 432x288 with 1 Axes>"
            ],
            "image/png": "[encoded data removed]"
          },
          "metadata": {
            "needs_background": "light"
          }
        },
        {
          "output_type": "display_data",
          "data": {
            "text/plain": [
              "<Figure size 432x288 with 1 Axes>"
            ],
            "image/png": "[encoded data removed]"
          },
          "metadata": {
            "needs_background": "light"
          }
        }
      ]
    },
    {
      "cell_type": "code",
      "source": [
        "model = load_model('drive/My Drive/ASDRP/Model Checkpoints/unbalanced_reduced.h5')"
      ],
      "metadata": {
        "id": "XZwok1Vfd7Px"
      },
      "execution_count": null,
      "outputs": []
    },
    {
      "cell_type": "code",
      "source": [
        "image_index = 400\n",
        "print(\"Original Gender:\", Y_val[image_index])\n",
        "# predict from model\n",
        "pred = model.predict(val_images[image_index].reshape(1, 64, 64, 3))\n",
        "pred_gender = round(pred[0][0])\n",
        "#pred_age = round(pred[1][0][0])\n",
        "print(\"Predicted Gender:\", pred_gender)\n",
        "plt.axis('off')\n",
        "plt.imshow(val_images[image_index].reshape(64, 64, 3));"
      ],
      "metadata": {
        "colab": {
          "base_uri": "https://localhost:8080/",
          "height": 283
        },
        "id": "t7evC09OonU6",
        "outputId": "53e587da-25ee-4739-941c-c7dcfc65b7a0"
      },
      "execution_count": null,
      "outputs": [
        {
          "output_type": "stream",
          "name": "stdout",
          "text": [
            "Original Gender: 0\n",
            "Predicted Gender: 0\n"
          ]
        },
        {
          "output_type": "display_data",
          "data": {
            "text/plain": [
              "<Figure size 432x288 with 1 Axes>"
            ],
            "image/png": "[encoded data removed]"
          },
          "metadata": {
            "needs_background": "light"
          }
        }
      ]
    },
    {
      "cell_type": "code",
      "source": [
        "test_images = np.array(test_images)"
      ],
      "metadata": {
        "id": "blWE8KA2f-c6"
      },
      "execution_count": null,
      "outputs": []
    },
    {
      "cell_type": "code",
      "source": [
        "#df_everything = pd.read_csv('drive/My Drive/ASDRP/Data/df_everything.csv')"
      ],
      "metadata": {
        "id": "KdUEWNnUCNNf"
      },
      "execution_count": null,
      "outputs": []
    },
    {
      "cell_type": "code",
      "source": [
        "#common = df_all.merge(df_everything,on=['image'])"
      ],
      "metadata": {
        "id": "6aeVEAu4CUKZ"
      },
      "execution_count": null,
      "outputs": []
    },
    {
      "cell_type": "code",
      "source": [
        "#df_everything[(~df_everything.image.isin(common.image))]"
      ],
      "metadata": {
        "colab": {
          "base_uri": "https://localhost:8080/",
          "height": 424
        },
        "id": "6or9IGvpCwR1",
        "outputId": "292ac044-0275-45a0-8973-c326174d3a0d"
      },
      "execution_count": null,
      "outputs": [
        {
          "output_type": "execute_result",
          "data": {
            "text/plain": [
              "                                                   image  age  gender  race\n",
              "0      drive/My Drive/ASDRP/Data/UTKFace/56_0_0_20170...    6       0     0\n",
              "1      drive/My Drive/ASDRP/Data/UTKFace/56_0_3_20170...    6       0     3\n",
              "2      drive/My Drive/ASDRP/Data/UTKFace/56_0_3_20170...    6       0     3\n",
              "3      drive/My Drive/ASDRP/Data/UTKFace/56_0_3_20170...    6       0     3\n",
              "4      drive/My Drive/ASDRP/Data/UTKFace/56_0_3_20170...    6       0     3\n",
              "...                                                  ...  ...     ...   ...\n",
              "23700  drive/My Drive/ASDRP/Data/UTKFace/1_0_2_201612...    0       0     2\n",
              "23701  drive/My Drive/ASDRP/Data/UTKFace/1_0_0_201612...    0       0     0\n",
              "23702  drive/My Drive/ASDRP/Data/UTKFace/1_0_2_201612...    0       0     2\n",
              "23703  drive/My Drive/ASDRP/Data/UTKFace/5_0_2_201612...    1       0     2\n",
              "23704  drive/My Drive/ASDRP/Data/UTKFace/2_1_2_201612...    0       1     2\n",
              "\n",
              "[23705 rows x 4 columns]"
            ],
            "text/html": [
              "\n",
              "  <div id=\"df-b3bf861f-d3ae-4cca-9d65-90dda6f7bc05\">\n",
              "    <div class=\"colab-df-container\">\n",
              "      <div>\n",
              "<style scoped>\n",
              "    .dataframe tbody tr th:only-of-type {\n",
              "        vertical-align: middle;\n",
              "    }\n",
              "\n",
              "    .dataframe tbody tr th {\n",
              "        vertical-align: top;\n",
              "    }\n",
              "\n",
              "    .dataframe thead th {\n",
              "        text-align: right;\n",
              "    }\n",
              "</style>\n",
              "<table border=\"1\" class=\"dataframe\">\n",
              "  <thead>\n",
              "    <tr style=\"text-align: right;\">\n",
              "      <th></th>\n",
              "      <th>image</th>\n",
              "      <th>age</th>\n",
              "      <th>gender</th>\n",
              "      <th>race</th>\n",
              "    </tr>\n",
              "  </thead>\n",
              "  <tbody>\n",
              "    <tr>\n",
              "      <th>0</th>\n",
              "      <td>drive/My Drive/ASDRP/Data/UTKFace/56_0_0_20170...</td>\n",
              "      <td>6</td>\n",
              "      <td>0</td>\n",
              "      <td>0</td>\n",
              "    </tr>\n",
              "    <tr>\n",
              "      <th>1</th>\n",
              "      <td>drive/My Drive/ASDRP/Data/UTKFace/56_0_3_20170...</td>\n",
              "      <td>6</td>\n",
              "      <td>0</td>\n",
              "      <td>3</td>\n",
              "    </tr>\n",
              "    <tr>\n",
              "      <th>2</th>\n",
              "      <td>drive/My Drive/ASDRP/Data/UTKFace/56_0_3_20170...</td>\n",
              "      <td>6</td>\n",
              "      <td>0</td>\n",
              "      <td>3</td>\n",
              "    </tr>\n",
              "    <tr>\n",
              "      <th>3</th>\n",
              "      <td>drive/My Drive/ASDRP/Data/UTKFace/56_0_3_20170...</td>\n",
              "      <td>6</td>\n",
              "      <td>0</td>\n",
              "      <td>3</td>\n",
              "    </tr>\n",
              "    <tr>\n",
              "      <th>4</th>\n",
              "      <td>drive/My Drive/ASDRP/Data/UTKFace/56_0_3_20170...</td>\n",
              "      <td>6</td>\n",
              "      <td>0</td>\n",
              "      <td>3</td>\n",
              "    </tr>\n",
              "    <tr>\n",
              "      <th>...</th>\n",
              "      <td>...</td>\n",
              "      <td>...</td>\n",
              "      <td>...</td>\n",
              "      <td>...</td>\n",
              "    </tr>\n",
              "    <tr>\n",
              "      <th>23700</th>\n",
              "      <td>drive/My Drive/ASDRP/Data/UTKFace/1_0_2_201612...</td>\n",
              "      <td>0</td>\n",
              "      <td>0</td>\n",
              "      <td>2</td>\n",
              "    </tr>\n",
              "    <tr>\n",
              "      <th>23701</th>\n",
              "      <td>drive/My Drive/ASDRP/Data/UTKFace/1_0_0_201612...</td>\n",
              "      <td>0</td>\n",
              "      <td>0</td>\n",
              "      <td>0</td>\n",
              "    </tr>\n",
              "    <tr>\n",
              "      <th>23702</th>\n",
              "      <td>drive/My Drive/ASDRP/Data/UTKFace/1_0_2_201612...</td>\n",
              "      <td>0</td>\n",
              "      <td>0</td>\n",
              "      <td>2</td>\n",
              "    </tr>\n",
              "    <tr>\n",
              "      <th>23703</th>\n",
              "      <td>drive/My Drive/ASDRP/Data/UTKFace/5_0_2_201612...</td>\n",
              "      <td>1</td>\n",
              "      <td>0</td>\n",
              "      <td>2</td>\n",
              "    </tr>\n",
              "    <tr>\n",
              "      <th>23704</th>\n",
              "      <td>drive/My Drive/ASDRP/Data/UTKFace/2_1_2_201612...</td>\n",
              "      <td>0</td>\n",
              "      <td>1</td>\n",
              "      <td>2</td>\n",
              "    </tr>\n",
              "  </tbody>\n",
              "</table>\n",
              "<p>23705 rows × 4 columns</p>\n",
              "</div>\n",
              "      <button class=\"colab-df-convert\" onclick=\"convertToInteractive('df-b3bf861f-d3ae-4cca-9d65-90dda6f7bc05')\"\n",
              "              title=\"Convert this dataframe to an interactive table.\"\n",
              "              style=\"display:none;\">\n",
              "        \n",
              "  <svg xmlns=\"http://www.w3.org/2000/svg\" height=\"24px\"viewBox=\"0 0 24 24\"\n",
              "       width=\"24px\">\n",
              "    <path d=\"M0 0h24v24H0V0z\" fill=\"none\"/>\n",
              "    <path d=\"M18.56 5.44l.94 2.06.94-2.06 2.06-.94-2.06-.94-.94-2.06-.94 2.06-2.06.94zm-11 1L8.5 8.5l.94-2.06 2.06-.94-2.06-.94L8.5 2.5l-.94 2.06-2.06.94zm10 10l.94 2.06.94-2.06 2.06-.94-2.06-.94-.94-2.06-.94 2.06-2.06.94z\"/><path d=\"M17.41 7.96l-1.37-1.37c-.4-.4-.92-.59-1.43-.59-.52 0-1.04.2-1.43.59L10.3 9.45l-7.72 7.72c-.78.78-.78 2.05 0 2.83L4 21.41c.39.39.9.59 1.41.59.51 0 1.02-.2 1.41-.59l7.78-7.78 2.81-2.81c.8-.78.8-2.07 0-2.86zM5.41 20L4 18.59l7.72-7.72 1.47 1.35L5.41 20z\"/>\n",
              "  </svg>\n",
              "      </button>\n",
              "      \n",
              "  <style>\n",
              "    .colab-df-container {\n",
              "      display:flex;\n",
              "      flex-wrap:wrap;\n",
              "      gap: 12px;\n",
              "    }\n",
              "\n",
              "    .colab-df-convert {\n",
              "      background-color: #E8F0FE;\n",
              "      border: none;\n",
              "      border-radius: 50%;\n",
              "      cursor: pointer;\n",
              "      display: none;\n",
              "      fill: #1967D2;\n",
              "      height: 32px;\n",
              "      padding: 0 0 0 0;\n",
              "      width: 32px;\n",
              "    }\n",
              "\n",
              "    .colab-df-convert:hover {\n",
              "      background-color: #E2EBFA;\n",
              "      box-shadow: 0px 1px 2px rgba(60, 64, 67, 0.3), 0px 1px 3px 1px rgba(60, 64, 67, 0.15);\n",
              "      fill: #174EA6;\n",
              "    }\n",
              "\n",
              "    [theme=dark] .colab-df-convert {\n",
              "      background-color: #3B4455;\n",
              "      fill: #D2E3FC;\n",
              "    }\n",
              "\n",
              "    [theme=dark] .colab-df-convert:hover {\n",
              "      background-color: #434B5C;\n",
              "      box-shadow: 0px 1px 3px 1px rgba(0, 0, 0, 0.15);\n",
              "      filter: drop-shadow(0px 1px 2px rgba(0, 0, 0, 0.3));\n",
              "      fill: #FFFFFF;\n",
              "    }\n",
              "  </style>\n",
              "\n",
              "      <script>\n",
              "        const buttonEl =\n",
              "          document.querySelector('#df-b3bf861f-d3ae-4cca-9d65-90dda6f7bc05 button.colab-df-convert');\n",
              "        buttonEl.style.display =\n",
              "          google.colab.kernel.accessAllowed ? 'block' : 'none';\n",
              "\n",
              "        async function convertToInteractive(key) {\n",
              "          const element = document.querySelector('#df-b3bf861f-d3ae-4cca-9d65-90dda6f7bc05');\n",
              "          const dataTable =\n",
              "            await google.colab.kernel.invokeFunction('convertToInteractive',\n",
              "                                                     [key], {});\n",
              "          if (!dataTable) return;\n",
              "\n",
              "          const docLinkHtml = 'Like what you see? Visit the ' +\n",
              "            '<a target=\"_blank\" href=https://colab.research.google.com/notebooks/data_table.ipynb>data table notebook</a>'\n",
              "            + ' to learn more about interactive tables.';\n",
              "          element.innerHTML = '';\n",
              "          dataTable['output_type'] = 'display_data';\n",
              "          await google.colab.output.renderOutput(dataTable, element);\n",
              "          const docLink = document.createElement('div');\n",
              "          docLink.innerHTML = docLinkHtml;\n",
              "          element.appendChild(docLink);\n",
              "        }\n",
              "      </script>\n",
              "    </div>\n",
              "  </div>\n",
              "  "
            ]
          },
          "metadata": {},
          "execution_count": 295
        }
      ]
    },
    {
      "cell_type": "code",
      "source": [
        "#test_images = pickle.load(open(\"/content/drive/MyDrive/ASDRP/Experiments/simple-cnn-v3/test_tensors_generated.pickle\", \"rb\"))\n",
        "#test_images = np.array(test_images)"
      ],
      "metadata": {
        "id": "ZTJpQXcGpwoU"
      },
      "execution_count": null,
      "outputs": []
    },
    {
      "cell_type": "code",
      "source": [
        "from matplotlib import pyplot as plt\n",
        "\n",
        "plt.imshow((test_images[15]), interpolation='nearest')\n",
        "plt.show()"
      ],
      "metadata": {
        "colab": {
          "base_uri": "https://localhost:8080/",
          "height": 268
        },
        "id": "N2A3O0meEJZH",
        "outputId": "1e5a032f-4403-42be-f071-2d0bf620ec80"
      },
      "execution_count": null,
      "outputs": [
        {
          "output_type": "display_data",
          "data": {
            "text/plain": [
              "<Figure size 432x288 with 1 Axes>"
            ],
            "image/png": "[encoded data removed]"
          },
          "metadata": {
            "needs_background": "light"
          }
        }
      ]
    },
    {
      "cell_type": "code",
      "source": [
        "predictions_gender = []\n",
        "for i in tqdm(test_images):\n",
        "  pred = model.predict(i.reshape(1, 64, 64, 3))\n",
        "  pred_gender = round(pred[0][0])\n",
        "  predictions_gender.append(pred_gender)"
      ],
      "metadata": {
        "colab": {
          "base_uri": "https://localhost:8080/"
        },
        "id": "Bcy-X_VZqNWB",
        "outputId": "7e129620-1865-487d-cf42-4d2ff546aa08"
      },
      "execution_count": null,
      "outputs": [
        {
          "output_type": "stream",
          "name": "stderr",
          "text": [
            "100%|██████████| 837/837 [00:37<00:00, 22.16it/s]\n"
          ]
        }
      ]
    },
    {
      "cell_type": "code",
      "source": [
        "df_test = df_all.iloc[test_indices].reset_index()"
      ],
      "metadata": {
        "id": "zV-C1ekngHFR"
      },
      "execution_count": null,
      "outputs": []
    },
    {
      "cell_type": "code",
      "source": [
        "df_test['gender'].value_counts()"
      ],
      "metadata": {
        "colab": {
          "base_uri": "https://localhost:8080/"
        },
        "id": "CSMTup-Y9WcP",
        "outputId": "99da5bf4-4e01-4a12-8963-7ca852ab4065"
      },
      "execution_count": null,
      "outputs": [
        {
          "output_type": "execute_result",
          "data": {
            "text/plain": [
              "0    448\n",
              "1    389\n",
              "Name: gender, dtype: int64"
            ]
          },
          "metadata": {},
          "execution_count": 177
        }
      ]
    },
    {
      "cell_type": "code",
      "source": [
        "def get_accuracy_both(race, gender):\n",
        "  correct = 0\n",
        "  total = 0\n",
        "  for i in range(837):\n",
        "    if predictions_gender[i] == y_gender_test[i] and df_test.iloc[i]['race'] == race and df_test.iloc[i]['gender'] == gender: \n",
        "      correct += 1\n",
        "    if df_test.iloc[i]['race'] == race and df_test.iloc[i]['gender'] == gender:\n",
        "      total += 1\n",
        "    #if df_test.iloc[i]['race'] == race and df_test.iloc[i]['gender'] == gender and df_test.iloc[i]['age'] >= age_start and df_test.iloc[i]['age'] <= age_end:\n",
        "    #  total += 1\n",
        "\n",
        "    #  and df_test.iloc[i]['race'] == race and df_test.iloc[i]['gender'] == gender and df_test.iloc[i]['age'] >= age_start and df_test.iloc[i]['age'] <= age_end\n",
        "  \n",
        "  return correct / total"
      ],
      "metadata": {
        "id": "rdzdvT26qn6e"
      },
      "execution_count": null,
      "outputs": []
    },
    {
      "cell_type": "code",
      "source": [
        "def get_accuracy_race(race):\n",
        "  correct = 0\n",
        "  total = 0\n",
        "  for i in range(837):\n",
        "    if predictions_gender[i] == y_gender_test[i] and df_test.iloc[i]['race'] == race: \n",
        "      correct += 1\n",
        "    if df_test.iloc[i]['race'] == race:\n",
        "      total += 1\n",
        "  \n",
        "  return correct / total"
      ],
      "metadata": {
        "id": "1dw4938H17At"
      },
      "execution_count": null,
      "outputs": []
    },
    {
      "cell_type": "code",
      "source": [
        "def get_accuracy_gender(gender):\n",
        "  correct = 0\n",
        "  total = 0\n",
        "  for i in range(837):\n",
        "    if predictions_gender[i] == y_gender_test[i] and df_test.iloc[i]['gender'] == gender: \n",
        "      correct += 1\n",
        "    if df_test.iloc[i]['gender'] == gender:\n",
        "      total += 1\n",
        "  \n",
        "  return correct / total"
      ],
      "metadata": {
        "id": "-fwCxFF51_2i"
      },
      "execution_count": null,
      "outputs": []
    },
    {
      "cell_type": "code",
      "source": [
        "def get_accuracy_overall():\n",
        "  correct = 0\n",
        "  total = 837\n",
        "  for i in range(837):\n",
        "    if predictions_gender[i] == y_gender_test[i]: \n",
        "      correct += 1\n",
        "  \n",
        "  return correct / total"
      ],
      "metadata": {
        "id": "-hXtUT_LzTJg"
      },
      "execution_count": null,
      "outputs": []
    },
    {
      "cell_type": "code",
      "source": [
        "def get_false_positive(race):\n",
        "  false_positives = 0\n",
        "  total = 0\n",
        "  for i in range(837):\n",
        "    if predictions_gender[i] == 1 and y_gender_test[i] == 0 and df_test.iloc[i]['race'] == race: \n",
        "      false_positives += 1\n",
        "    if df_test.iloc[i]['race'] == race:\n",
        "      total += 1\n",
        "  \n",
        "  return false_positives / total"
      ],
      "metadata": {
        "id": "4h0ZKe4Y3AHa"
      },
      "execution_count": null,
      "outputs": []
    },
    {
      "cell_type": "code",
      "source": [
        "def get_false_negative(race):\n",
        "  false_negatives = 0\n",
        "  total = 0\n",
        "  for i in range(837):\n",
        "    if predictions_gender[i] == 0 and y_gender_test[i] == 1 and df_test.iloc[i]['race'] == race: \n",
        "      false_negatives += 1\n",
        "    if df_test.iloc[i]['race'] == race:\n",
        "      total += 1\n",
        "  \n",
        "  return false_negatives / total"
      ],
      "metadata": {
        "id": "pY39LruNrCKE"
      },
      "execution_count": null,
      "outputs": []
    },
    {
      "cell_type": "code",
      "source": [
        "predictions_gender[10:20]"
      ],
      "metadata": {
        "colab": {
          "base_uri": "https://localhost:8080/"
        },
        "id": "RQxr6Rd-8MaN",
        "outputId": "712ec78c-1e73-43ce-f44b-6e11b9ee75da"
      },
      "execution_count": null,
      "outputs": [
        {
          "output_type": "execute_result",
          "data": {
            "text/plain": [
              "[1, 1, 0, 0, 1, 0, 1, 0, 0, 0]"
            ]
          },
          "metadata": {},
          "execution_count": 41
        }
      ]
    },
    {
      "cell_type": "code",
      "source": [
        "y_gender_test[10:20]"
      ],
      "metadata": {
        "colab": {
          "base_uri": "https://localhost:8080/"
        },
        "id": "JFTO3tTa8O5x",
        "outputId": "5fbf74c6-9cdc-418f-a573-4420780a8788"
      },
      "execution_count": null,
      "outputs": [
        {
          "output_type": "execute_result",
          "data": {
            "text/plain": [
              "array([1, 1, 0, 0, 1, 0, 0, 1, 0, 0])"
            ]
          },
          "metadata": {},
          "execution_count": 67
        }
      ]
    },
    {
      "cell_type": "code",
      "source": [
        "get_accuracy_overall()"
      ],
      "metadata": {
        "colab": {
          "base_uri": "https://localhost:8080/"
        },
        "id": "-C4YY3jos-KZ",
        "outputId": "68e6b2e1-1257-470f-827c-a47bb6eaf088"
      },
      "execution_count": null,
      "outputs": [
        {
          "output_type": "execute_result",
          "data": {
            "text/plain": [
              "0.7204301075268817"
            ]
          },
          "metadata": {},
          "execution_count": 65
        }
      ]
    },
    {
      "cell_type": "code",
      "source": [
        "get_accuracy_both(4, 1)"
      ],
      "metadata": {
        "colab": {
          "base_uri": "https://localhost:8080/"
        },
        "id": "bFe_iKQ70Pv2",
        "outputId": "9b953a9f-5e70-4039-abce-d6dae1436eb7"
      },
      "execution_count": null,
      "outputs": [
        {
          "output_type": "execute_result",
          "data": {
            "text/plain": [
              "0.64"
            ]
          },
          "metadata": {},
          "execution_count": 64
        }
      ]
    },
    {
      "cell_type": "code",
      "source": [
        "get_accuracy_gender(1)"
      ],
      "metadata": {
        "colab": {
          "base_uri": "https://localhost:8080/"
        },
        "id": "8WoxKtig2Lb6",
        "outputId": "8601efbc-5907-4951-d51f-72771edf9f7a"
      },
      "execution_count": null,
      "outputs": [
        {
          "output_type": "execute_result",
          "data": {
            "text/plain": [
              "0.6683804627249358"
            ]
          },
          "metadata": {},
          "execution_count": 75
        }
      ]
    },
    {
      "cell_type": "code",
      "source": [
        "get_accuracy_race(2)"
      ],
      "metadata": {
        "colab": {
          "base_uri": "https://localhost:8080/"
        },
        "id": "XQLEhFqt2b1x",
        "outputId": "33e7aba5-bca6-482b-b695-a430c30a6dc7"
      },
      "execution_count": null,
      "outputs": [
        {
          "output_type": "execute_result",
          "data": {
            "text/plain": [
              "0.6581196581196581"
            ]
          },
          "metadata": {},
          "execution_count": 73
        }
      ]
    },
    {
      "cell_type": "code",
      "source": [
        "get_false_positive(4)"
      ],
      "metadata": {
        "colab": {
          "base_uri": "https://localhost:8080/"
        },
        "id": "LV5DUMrZ3Znw",
        "outputId": "d5fd2572-f976-4d79-f9d1-6bc00b242ca9"
      },
      "execution_count": null,
      "outputs": [
        {
          "output_type": "execute_result",
          "data": {
            "text/plain": [
              "0.13432835820895522"
            ]
          },
          "metadata": {},
          "execution_count": 80
        }
      ]
    },
    {
      "cell_type": "code",
      "source": [
        "get_false_negative(4)"
      ],
      "metadata": {
        "colab": {
          "base_uri": "https://localhost:8080/"
        },
        "id": "O7mSvE5kupJU",
        "outputId": "7ef258af-f6c4-4021-a718-93f29d934fd7"
      },
      "execution_count": null,
      "outputs": [
        {
          "output_type": "execute_result",
          "data": {
            "text/plain": [
              "0.2"
            ]
          },
          "metadata": {},
          "execution_count": 84
        }
      ]
    },
    {
      "cell_type": "code",
      "source": [
        "race_dict = {'White\\n(M)':59.26, \n",
        "             'Black\\n(M)':71.79, \n",
        "             'Asian\\n(M)':52, \n",
        "             'Indian\\n(M)': 53.42, \n",
        "             'Others\\n(M)': 56.58, \n",
        "             'White\\n(F)':65.55, \n",
        "             'Black\\n(F)':48.48, \n",
        "             'Asian\\n(F)': 63, \n",
        "             'Indian\\n(F)':63.78, \n",
        "             'Others\\n(F)':60.67, \n",
        "             'Overall': 59.97}"
      ],
      "metadata": {
        "id": "m7xN9_d5High"
      },
      "execution_count": null,
      "outputs": []
    },
    {
      "cell_type": "markdown",
      "source": [
        "White Male\tBlack Male\tAsian Male\tIndian Male\tOther Male\n",
        "59.26%\t71.79%\t52%\t53.42%\t56.58%\n",
        "White Female\tBlack Female\tAsian Female\tIndian Female\tOther Female\n",
        "65.55%\t48.48%\t63%\t63.78%\t60.67%\n",
        "\n",
        "Overall: \n",
        "59.97%"
      ],
      "metadata": {
        "id": "JxOKxES0QopC"
      }
    },
    {
      "cell_type": "code",
      "source": [
        "names = list(race_dict.keys())\n",
        "values = list(race_dict.values())\n",
        "\n",
        "#for i in range(len(values)):\n",
        "#  values[i] /= 5000\n",
        "#  values[i] *= 100\n",
        "\n",
        "plt.bar(range(len(race_dict)), values, tick_label=names)\n",
        "plt.tick_params(axis='x', which='major', labelsize=6)\n",
        "plt.yticks(np.arange(0, 101, 10))\n",
        "plt.ylabel(\"Percent Correctly Classified\")\n",
        "plt.title(\"Accuracy Per Class Using DB-VAE - No Resampling\")\n",
        "plt.savefig('dist.png', dpi=800)\n",
        "plt.show()"
      ],
      "metadata": {
        "colab": {
          "base_uri": "https://localhost:8080/",
          "height": 282
        },
        "id": "PfpROvlaHUeU",
        "outputId": "16ec15fb-a34e-4c01-f893-8f8737237bc7"
      },
      "execution_count": null,
      "outputs": [
        {
          "output_type": "display_data",
          "data": {
            "text/plain": [
              "<Figure size 432x288 with 1 Axes>"
            ],
            "image/png": "[encoded data removed]"
          },
          "metadata": {
            "needs_background": "light"
          }
        }
      ]
    },
    {
      "cell_type": "markdown",
      "source": [
        "# original way"
      ],
      "metadata": {
        "id": "2WP2L7JGkChe"
      }
    },
    {
      "cell_type": "code",
      "execution_count": null,
      "metadata": {
        "id": "7xVOnbEuVQjp"
      },
      "outputs": [],
      "source": [
        "y_gender = [i for i in df_all['gender']]\n",
        "y_race = [i for i in df_all['race']]"
      ]
    },
    {
      "cell_type": "code",
      "source": [
        "len(y_gender)"
      ],
      "metadata": {
        "colab": {
          "base_uri": "https://localhost:8080/"
        },
        "id": "0wyG7I9Aai5g",
        "outputId": "c60a9bfd-b430-4bdb-c655-c3a39e894a9c"
      },
      "execution_count": null,
      "outputs": [
        {
          "output_type": "execute_result",
          "data": {
            "text/plain": [
              "9232"
            ]
          },
          "metadata": {},
          "execution_count": 98
        }
      ]
    },
    {
      "cell_type": "code",
      "execution_count": null,
      "metadata": {
        "id": "-yI6kJ3fVdfv"
      },
      "outputs": [],
      "source": [
        "y_stack = np.vstack((y_gender,y_race))"
      ]
    },
    {
      "cell_type": "code",
      "execution_count": null,
      "metadata": {
        "id": "6EMCJf6dVWJK"
      },
      "outputs": [],
      "source": [
        "#from sklearn.model_selection import train_test_split\n",
        "#X, X_test, Y, y_test = train_test_split(images, y_stack[0], test_size=0.2, random_state = 42)\n",
        "X = images\n",
        "Y = y_stack[0]"
      ]
    },
    {
      "cell_type": "code",
      "source": [
        "Y_alias = y_stack[1]"
      ],
      "metadata": {
        "id": "y2olrIpZ8DfP"
      },
      "execution_count": null,
      "outputs": []
    },
    {
      "cell_type": "code",
      "execution_count": null,
      "metadata": {
        "id": "dWGIPZqlVffh"
      },
      "outputs": [],
      "source": [
        "#X_alias, X_alias2, Y_alias, y_alias2 = train_test_split(gen_images, y_stack[1], test_size=0.2, random_state = 42)"
      ]
    },
    {
      "cell_type": "code",
      "execution_count": null,
      "metadata": {
        "id": "aNAU9NVmVhbG"
      },
      "outputs": [],
      "source": [
        "def create_new_model():\n",
        "  model = tf.keras.applications.efficientnet.EfficientNetB0(\n",
        "      include_top=True,\n",
        "      weights=None,\n",
        "      input_tensor=None,\n",
        "      input_shape=(64,64,3),\n",
        "      pooling=None,\n",
        "      classes=1,\n",
        "      classifier_activation='sigmoid',\n",
        "  )\n",
        "  return model\n",
        "  "
      ]
    },
    {
      "cell_type": "code",
      "execution_count": null,
      "metadata": {
        "id": "GWY5G9l5Vi3t"
      },
      "outputs": [],
      "source": [
        "def get_model_name(k):\n",
        "    return 'model_less'+str(k)+'.h5'"
      ]
    },
    {
      "cell_type": "code",
      "execution_count": null,
      "metadata": {
        "colab": {
          "base_uri": "https://localhost:8080/",
          "height": 1000
        },
        "id": "0eNFAE1CVk48",
        "outputId": "bb910360-0610-449b-b854-e51762c22007"
      },
      "outputs": [
        {
          "output_type": "stream",
          "name": "stdout",
          "text": [
            "Epoch 1/40\n",
            "157/157 [==============================] - ETA: 0s - loss: 2.6548 - accuracy: 0.5127\n",
            "Epoch 1: val_accuracy improved from -inf to 0.54428, saving model to /content/drive/MyDrive/ASDRP/Experiments/gender-with-fakes/model_less1.h5\n",
            "157/157 [==============================] - 21s 77ms/step - loss: 2.6548 - accuracy: 0.5127 - val_loss: 0.8046 - val_accuracy: 0.5443\n",
            "Epoch 2/40\n",
            "157/157 [==============================] - ETA: 0s - loss: 1.4029 - accuracy: 0.5099\n",
            "Epoch 2: val_accuracy did not improve from 0.54428\n",
            "157/157 [==============================] - 9s 60ms/step - loss: 1.4029 - accuracy: 0.5099 - val_loss: 0.6910 - val_accuracy: 0.5443\n",
            "Epoch 3/40\n",
            "156/157 [============================>.] - ETA: 0s - loss: 1.3632 - accuracy: 0.5286\n",
            "Epoch 3: val_accuracy did not improve from 0.54428\n",
            "157/157 [==============================] - 8s 49ms/step - loss: 1.3645 - accuracy: 0.5285 - val_loss: 0.6972 - val_accuracy: 0.4557\n",
            "Epoch 4/40\n",
            "156/157 [============================>.] - ETA: 0s - loss: 1.3505 - accuracy: 0.5180\n",
            "Epoch 4: val_accuracy did not improve from 0.54428\n",
            "157/157 [==============================] - 8s 53ms/step - loss: 1.3513 - accuracy: 0.5181 - val_loss: 0.7352 - val_accuracy: 0.5443\n",
            "Epoch 5/40\n",
            "156/157 [============================>.] - ETA: 0s - loss: 1.1698 - accuracy: 0.5218\n",
            "Epoch 5: val_accuracy did not improve from 0.54428\n",
            "157/157 [==============================] - 7s 47ms/step - loss: 1.1749 - accuracy: 0.5217 - val_loss: 0.8426 - val_accuracy: 0.5443\n",
            "Epoch 6/40\n",
            "157/157 [==============================] - ETA: 0s - loss: 1.1378 - accuracy: 0.5271\n",
            "Epoch 6: val_accuracy did not improve from 0.54428\n",
            "157/157 [==============================] - 8s 48ms/step - loss: 1.1378 - accuracy: 0.5271 - val_loss: 0.7569 - val_accuracy: 0.4896\n",
            "Epoch 7/40\n",
            "157/157 [==============================] - ETA: 0s - loss: 1.1674 - accuracy: 0.5570\n",
            "Epoch 7: val_accuracy improved from 0.54428 to 0.58308, saving model to /content/drive/MyDrive/ASDRP/Experiments/gender-with-fakes/model_less1.h5\n",
            "157/157 [==============================] - 10s 66ms/step - loss: 1.1674 - accuracy: 0.5570 - val_loss: 1.2072 - val_accuracy: 0.5831\n",
            "Epoch 8/40\n",
            "157/157 [==============================] - ETA: 0s - loss: 1.0864 - accuracy: 0.5818\n",
            "Epoch 8: val_accuracy did not improve from 0.58308\n",
            "157/157 [==============================] - 7s 46ms/step - loss: 1.0864 - accuracy: 0.5818 - val_loss: 0.9009 - val_accuracy: 0.5552\n",
            "Epoch 9/40\n",
            "157/157 [==============================] - ETA: 0s - loss: 1.0667 - accuracy: 0.6274\n",
            "Epoch 9: val_accuracy did not improve from 0.58308\n",
            "157/157 [==============================] - 7s 48ms/step - loss: 1.0667 - accuracy: 0.6274 - val_loss: 0.7318 - val_accuracy: 0.5652\n",
            "Epoch 10/40\n",
            "157/157 [==============================] - ETA: 0s - loss: 0.9569 - accuracy: 0.6412\n",
            "Epoch 10: val_accuracy did not improve from 0.58308\n",
            "157/157 [==============================] - 7s 46ms/step - loss: 0.9569 - accuracy: 0.6412 - val_loss: 0.7780 - val_accuracy: 0.5572\n",
            "Epoch 11/40\n",
            "157/157 [==============================] - ETA: 0s - loss: 0.9601 - accuracy: 0.6541\n",
            "Epoch 11: val_accuracy did not improve from 0.58308\n",
            "157/157 [==============================] - 7s 47ms/step - loss: 0.9601 - accuracy: 0.6541 - val_loss: 0.7041 - val_accuracy: 0.5652\n",
            "Epoch 12/40\n",
            "156/157 [============================>.] - ETA: 0s - loss: 0.9309 - accuracy: 0.6494\n",
            "Epoch 12: val_accuracy improved from 0.58308 to 0.59204, saving model to /content/drive/MyDrive/ASDRP/Experiments/gender-with-fakes/model_less1.h5\n",
            "157/157 [==============================] - 9s 59ms/step - loss: 0.9314 - accuracy: 0.6492 - val_loss: 1.1666 - val_accuracy: 0.5920\n",
            "Epoch 13/40\n",
            "157/157 [==============================] - ETA: 0s - loss: 0.7985 - accuracy: 0.6817\n",
            "Epoch 13: val_accuracy improved from 0.59204 to 0.60995, saving model to /content/drive/MyDrive/ASDRP/Experiments/gender-with-fakes/model_less1.h5\n",
            "157/157 [==============================] - 9s 55ms/step - loss: 0.7985 - accuracy: 0.6817 - val_loss: 1.1954 - val_accuracy: 0.6100\n",
            "Epoch 14/40\n",
            "156/157 [============================>.] - ETA: 0s - loss: 0.9367 - accuracy: 0.6681\n",
            "Epoch 14: val_accuracy did not improve from 0.60995\n",
            "157/157 [==============================] - 8s 49ms/step - loss: 0.9366 - accuracy: 0.6681 - val_loss: 2.8374 - val_accuracy: 0.5502\n",
            "Epoch 15/40\n",
            "157/157 [==============================] - ETA: 0s - loss: 0.8811 - accuracy: 0.6751\n",
            "Epoch 15: val_accuracy did not improve from 0.60995\n",
            "157/157 [==============================] - 9s 59ms/step - loss: 0.8811 - accuracy: 0.6751 - val_loss: 0.6641 - val_accuracy: 0.5970\n",
            "Epoch 16/40\n",
            "156/157 [============================>.] - ETA: 0s - loss: 0.8821 - accuracy: 0.6695\n",
            "Epoch 16: val_accuracy did not improve from 0.60995\n",
            "157/157 [==============================] - 8s 49ms/step - loss: 0.8845 - accuracy: 0.6693 - val_loss: 0.8780 - val_accuracy: 0.5721\n",
            "Epoch 17/40\n",
            "157/157 [==============================] - ETA: 0s - loss: 0.8660 - accuracy: 0.6667\n",
            "Epoch 17: val_accuracy did not improve from 0.60995\n",
            "157/157 [==============================] - 7s 47ms/step - loss: 0.8660 - accuracy: 0.6667 - val_loss: 1.2237 - val_accuracy: 0.5672\n",
            "Epoch 18/40\n",
            "157/157 [==============================] - ETA: 0s - loss: 0.8196 - accuracy: 0.6991\n",
            "Epoch 18: val_accuracy improved from 0.60995 to 0.61791, saving model to /content/drive/MyDrive/ASDRP/Experiments/gender-with-fakes/model_less1.h5\n",
            "157/157 [==============================] - 9s 56ms/step - loss: 0.8196 - accuracy: 0.6991 - val_loss: 1.6214 - val_accuracy: 0.6179\n",
            "Epoch 19/40\n",
            "156/157 [============================>.] - ETA: 0s - loss: 0.7431 - accuracy: 0.7147\n",
            "Epoch 19: val_accuracy improved from 0.61791 to 0.62587, saving model to /content/drive/MyDrive/ASDRP/Experiments/gender-with-fakes/model_less1.h5\n",
            "157/157 [==============================] - 9s 55ms/step - loss: 0.7426 - accuracy: 0.7149 - val_loss: 0.6715 - val_accuracy: 0.6259\n",
            "Epoch 20/40\n",
            "157/157 [==============================] - ETA: 0s - loss: 0.6936 - accuracy: 0.7213\n",
            "Epoch 20: val_accuracy improved from 0.62587 to 0.62786, saving model to /content/drive/MyDrive/ASDRP/Experiments/gender-with-fakes/model_less1.h5\n",
            "157/157 [==============================] - 8s 54ms/step - loss: 0.6936 - accuracy: 0.7213 - val_loss: 0.8308 - val_accuracy: 0.6279\n",
            "Epoch 21/40\n",
            "156/157 [============================>.] - ETA: 0s - loss: 0.6673 - accuracy: 0.6855\n",
            "Epoch 21: val_accuracy did not improve from 0.62786\n",
            "157/157 [==============================] - 8s 48ms/step - loss: 0.6673 - accuracy: 0.6855 - val_loss: 0.6864 - val_accuracy: 0.6219\n",
            "Epoch 22/40\n",
            "156/157 [============================>.] - ETA: 0s - loss: 0.6645 - accuracy: 0.6749\n",
            "Epoch 22: val_accuracy did not improve from 0.62786\n",
            "157/157 [==============================] - 8s 49ms/step - loss: 0.6674 - accuracy: 0.6747 - val_loss: 0.6923 - val_accuracy: 0.5612\n",
            "Epoch 23/40\n",
            "157/157 [==============================] - ETA: 0s - loss: 0.6212 - accuracy: 0.6657\n",
            "Epoch 23: val_accuracy did not improve from 0.62786\n",
            "157/157 [==============================] - 7s 47ms/step - loss: 0.6212 - accuracy: 0.6657 - val_loss: 0.6812 - val_accuracy: 0.6129\n",
            "Epoch 24/40\n",
            "156/157 [============================>.] - ETA: 0s - loss: 0.6106 - accuracy: 0.7065\n",
            "Epoch 24: val_accuracy did not improve from 0.62786\n",
            "157/157 [==============================] - 8s 48ms/step - loss: 0.6105 - accuracy: 0.7065 - val_loss: 0.6510 - val_accuracy: 0.6100\n",
            "Epoch 25/40\n",
            "156/157 [============================>.] - ETA: 0s - loss: 0.5321 - accuracy: 0.7270\n",
            "Epoch 25: val_accuracy did not improve from 0.62786\n",
            "157/157 [==============================] - 8s 52ms/step - loss: 0.5326 - accuracy: 0.7269 - val_loss: 0.6398 - val_accuracy: 0.6080\n",
            "Epoch 26/40\n",
            "156/157 [============================>.] - ETA: 0s - loss: 0.5136 - accuracy: 0.7362\n",
            "Epoch 26: val_accuracy did not improve from 0.62786\n",
            "157/157 [==============================] - 7s 47ms/step - loss: 0.5144 - accuracy: 0.7361 - val_loss: 0.7080 - val_accuracy: 0.5950\n",
            "Epoch 27/40\n",
            "156/157 [============================>.] - ETA: 0s - loss: 0.4688 - accuracy: 0.7654\n",
            "Epoch 27: val_accuracy did not improve from 0.62786\n",
            "157/157 [==============================] - 9s 56ms/step - loss: 0.4687 - accuracy: 0.7656 - val_loss: 0.6530 - val_accuracy: 0.6100\n",
            "Epoch 28/40\n",
            "157/157 [==============================] - ETA: 0s - loss: 0.5506 - accuracy: 0.7441\n",
            "Epoch 28: val_accuracy did not improve from 0.62786\n",
            "157/157 [==============================] - 7s 47ms/step - loss: 0.5506 - accuracy: 0.7441 - val_loss: 0.6481 - val_accuracy: 0.6219\n",
            "Epoch 29/40\n",
            "156/157 [============================>.] - ETA: 0s - loss: 0.4907 - accuracy: 0.7680\n",
            "Epoch 29: val_accuracy did not improve from 0.62786\n",
            "157/157 [==============================] - 7s 47ms/step - loss: 0.4914 - accuracy: 0.7678 - val_loss: 0.6672 - val_accuracy: 0.6129\n",
            "Epoch 30/40\n",
            "156/157 [============================>.] - ETA: 0s - loss: 0.5258 - accuracy: 0.7175\n",
            "Epoch 30: val_accuracy did not improve from 0.62786\n",
            "157/157 [==============================] - 8s 49ms/step - loss: 0.5258 - accuracy: 0.7175 - val_loss: 0.6262 - val_accuracy: 0.6269\n",
            "Epoch 31/40\n",
            "156/157 [============================>.] - ETA: 0s - loss: 0.5451 - accuracy: 0.7410\n",
            "Epoch 31: val_accuracy did not improve from 0.62786\n",
            "157/157 [==============================] - 7s 48ms/step - loss: 0.5451 - accuracy: 0.7409 - val_loss: 0.7522 - val_accuracy: 0.5692\n",
            "Epoch 32/40\n",
            "156/157 [============================>.] - ETA: 0s - loss: 0.6890 - accuracy: 0.7013\n",
            "Epoch 32: val_accuracy did not improve from 0.62786\n",
            "157/157 [==============================] - 8s 49ms/step - loss: 0.6897 - accuracy: 0.7013 - val_loss: 0.8021 - val_accuracy: 0.5751\n",
            "Epoch 33/40\n",
            "157/157 [==============================] - ETA: 0s - loss: 0.5635 - accuracy: 0.7167\n",
            "Epoch 33: val_accuracy improved from 0.62786 to 0.64080, saving model to /content/drive/MyDrive/ASDRP/Experiments/gender-with-fakes/model_less1.h5\n",
            "157/157 [==============================] - 10s 61ms/step - loss: 0.5635 - accuracy: 0.7167 - val_loss: 0.6332 - val_accuracy: 0.6408\n",
            "Epoch 34/40\n",
            "157/157 [==============================] - ETA: 0s - loss: 0.4758 - accuracy: 0.7586\n",
            "Epoch 34: val_accuracy improved from 0.64080 to 0.64179, saving model to /content/drive/MyDrive/ASDRP/Experiments/gender-with-fakes/model_less1.h5\n",
            "157/157 [==============================] - 9s 57ms/step - loss: 0.4758 - accuracy: 0.7586 - val_loss: 0.6286 - val_accuracy: 0.6418\n",
            "Epoch 35/40\n",
            "157/157 [==============================] - ETA: 0s - loss: 0.4230 - accuracy: 0.7950\n",
            "Epoch 35: val_accuracy improved from 0.64179 to 0.66567, saving model to /content/drive/MyDrive/ASDRP/Experiments/gender-with-fakes/model_less1.h5\n",
            "157/157 [==============================] - 9s 59ms/step - loss: 0.4230 - accuracy: 0.7950 - val_loss: 0.6235 - val_accuracy: 0.6657\n",
            "Epoch 36/40\n",
            "156/157 [============================>.] - ETA: 0s - loss: 0.3650 - accuracy: 0.8247\n",
            "Epoch 36: val_accuracy did not improve from 0.66567\n",
            "157/157 [==============================] - 7s 48ms/step - loss: 0.3665 - accuracy: 0.8244 - val_loss: 0.6280 - val_accuracy: 0.6557\n",
            "Epoch 37/40\n",
            "157/157 [==============================] - ETA: 0s - loss: 0.3280 - accuracy: 0.8589\n",
            "Epoch 37: val_accuracy did not improve from 0.66567\n",
            "157/157 [==============================] - 8s 48ms/step - loss: 0.3280 - accuracy: 0.8589 - val_loss: 0.7339 - val_accuracy: 0.6328\n",
            "Epoch 38/40\n",
            "156/157 [============================>.] - ETA: 0s - loss: 0.2576 - accuracy: 0.8922\n",
            "Epoch 38: val_accuracy did not improve from 0.66567\n",
            "157/157 [==============================] - 7s 47ms/step - loss: 0.2577 - accuracy: 0.8921 - val_loss: 0.9029 - val_accuracy: 0.6507\n",
            "Epoch 39/40\n",
            "157/157 [==============================] - ETA: 0s - loss: 0.2314 - accuracy: 0.9041\n",
            "Epoch 39: val_accuracy did not improve from 0.66567\n",
            "157/157 [==============================] - 9s 55ms/step - loss: 0.2314 - accuracy: 0.9041 - val_loss: 0.7912 - val_accuracy: 0.6527\n",
            "Epoch 40/40\n",
            "156/157 [============================>.] - ETA: 0s - loss: 0.1876 - accuracy: 0.9257\n",
            "Epoch 40: val_accuracy did not improve from 0.66567\n",
            "157/157 [==============================] - 7s 47ms/step - loss: 0.1884 - accuracy: 0.9251 - val_loss: 0.9612 - val_accuracy: 0.6378\n"
          ]
        },
        {
          "output_type": "display_data",
          "data": {
            "text/plain": [
              "<Figure size 432x288 with 1 Axes>"
            ],
            "image/png": "[encoded data removed]"
          },
          "metadata": {
            "needs_background": "light"
          }
        },
        {
          "output_type": "display_data",
          "data": {
            "text/plain": [
              "<Figure size 432x288 with 1 Axes>"
            ],
            "image/png": "[encoded data removed]"
          },
          "metadata": {
            "needs_background": "light"
          }
        },
        {
          "output_type": "stream",
          "name": "stdout",
          "text": [
            "32/32 [==============================] - 0s 14ms/step - loss: 0.6235 - accuracy: 0.6657\n"
          ]
        },
        {
          "output_type": "stream",
          "name": "stderr",
          "text": [
            "Exception ignored in: <function ScopedTFGraph.__del__ at 0x7f424b881680>\n",
            "Traceback (most recent call last):\n",
            "  File \"/usr/local/lib/python3.7/dist-packages/tensorflow/python/framework/c_api_util.py\", line 53, in __del__\n",
            "    def __del__(self):\n",
            "KeyboardInterrupt\n"
          ]
        },
        {
          "output_type": "stream",
          "name": "stdout",
          "text": [
            "Epoch 1/40\n"
          ]
        },
        {
          "output_type": "stream",
          "name": "stderr",
          "text": [
            "Exception ignored in: <function WeakKeyDictionary.__init__.<locals>.remove at 0x7f4245c17560>\n",
            "Traceback (most recent call last):\n",
            "  File \"/usr/lib/python3.7/weakref.py\", line 358, in remove\n",
            "    def remove(k, selfref=ref(self)):\n",
            "KeyboardInterrupt\n"
          ]
        },
        {
          "output_type": "stream",
          "name": "stdout",
          "text": [
            "110/157 [====================>.........] - ETA: 2s - loss: 3.1000 - accuracy: 0.5145"
          ]
        },
        {
          "output_type": "error",
          "ename": "KeyboardInterrupt",
          "evalue": "ignored",
          "traceback": [
            "\u001b[0;31m---------------------------------------------------------------------------\u001b[0m",
            "\u001b[0;31mKeyboardInterrupt\u001b[0m                         Traceback (most recent call last)",
            "\u001b[0;32m<ipython-input-54-896e2fd8e139>\u001b[0m in \u001b[0;36m<module>\u001b[0;34m()\u001b[0m\n\u001b[1;32m     51\u001b[0m   \u001b[0mcallbacks_list\u001b[0m \u001b[0;34m=\u001b[0m \u001b[0;34m[\u001b[0m\u001b[0mcheckpoint\u001b[0m\u001b[0;34m]\u001b[0m\u001b[0;34m\u001b[0m\u001b[0;34m\u001b[0m\u001b[0m\n\u001b[1;32m     52\u001b[0m \u001b[0;34m\u001b[0m\u001b[0m\n\u001b[0;32m---> 53\u001b[0;31m   \u001b[0mhistory\u001b[0m \u001b[0;34m=\u001b[0m \u001b[0mmodel\u001b[0m\u001b[0;34m.\u001b[0m\u001b[0mfit\u001b[0m\u001b[0;34m(\u001b[0m\u001b[0mx\u001b[0m\u001b[0;34m=\u001b[0m\u001b[0mx_train\u001b[0m\u001b[0;34m,\u001b[0m \u001b[0my\u001b[0m\u001b[0;34m=\u001b[0m\u001b[0my_train\u001b[0m\u001b[0;34m,\u001b[0m \u001b[0mbatch_size\u001b[0m\u001b[0;34m=\u001b[0m\u001b[0;36m32\u001b[0m\u001b[0;34m,\u001b[0m \u001b[0mepochs\u001b[0m\u001b[0;34m=\u001b[0m\u001b[0;36m40\u001b[0m\u001b[0;34m,\u001b[0m \u001b[0mshuffle\u001b[0m\u001b[0;34m=\u001b[0m\u001b[0;32mTrue\u001b[0m\u001b[0;34m,\u001b[0m \u001b[0mcallbacks\u001b[0m\u001b[0;34m=\u001b[0m\u001b[0mcallbacks_list\u001b[0m\u001b[0;34m,\u001b[0m \u001b[0mvalidation_data\u001b[0m \u001b[0;34m=\u001b[0m \u001b[0;34m(\u001b[0m\u001b[0mx_val\u001b[0m\u001b[0;34m,\u001b[0m\u001b[0my_val\u001b[0m\u001b[0;34m)\u001b[0m\u001b[0;34m)\u001b[0m\u001b[0;34m\u001b[0m\u001b[0;34m\u001b[0m\u001b[0m\n\u001b[0m\u001b[1;32m     54\u001b[0m \u001b[0;34m\u001b[0m\u001b[0m\n\u001b[1;32m     55\u001b[0m   \u001b[0mplt\u001b[0m\u001b[0;34m.\u001b[0m\u001b[0mplot\u001b[0m\u001b[0;34m(\u001b[0m\u001b[0mhistory\u001b[0m\u001b[0;34m.\u001b[0m\u001b[0mhistory\u001b[0m\u001b[0;34m[\u001b[0m\u001b[0;34m'accuracy'\u001b[0m\u001b[0;34m]\u001b[0m\u001b[0;34m)\u001b[0m\u001b[0;34m\u001b[0m\u001b[0;34m\u001b[0m\u001b[0m\n",
            "\u001b[0;32m/usr/local/lib/python3.7/dist-packages/keras/utils/traceback_utils.py\u001b[0m in \u001b[0;36merror_handler\u001b[0;34m(*args, **kwargs)\u001b[0m\n\u001b[1;32m     62\u001b[0m     \u001b[0mfiltered_tb\u001b[0m \u001b[0;34m=\u001b[0m \u001b[0;32mNone\u001b[0m\u001b[0;34m\u001b[0m\u001b[0;34m\u001b[0m\u001b[0m\n\u001b[1;32m     63\u001b[0m     \u001b[0;32mtry\u001b[0m\u001b[0;34m:\u001b[0m\u001b[0;34m\u001b[0m\u001b[0;34m\u001b[0m\u001b[0m\n\u001b[0;32m---> 64\u001b[0;31m       \u001b[0;32mreturn\u001b[0m \u001b[0mfn\u001b[0m\u001b[0;34m(\u001b[0m\u001b[0;34m*\u001b[0m\u001b[0margs\u001b[0m\u001b[0;34m,\u001b[0m \u001b[0;34m**\u001b[0m\u001b[0mkwargs\u001b[0m\u001b[0;34m)\u001b[0m\u001b[0;34m\u001b[0m\u001b[0;34m\u001b[0m\u001b[0m\n\u001b[0m\u001b[1;32m     65\u001b[0m     \u001b[0;32mexcept\u001b[0m \u001b[0mException\u001b[0m \u001b[0;32mas\u001b[0m \u001b[0me\u001b[0m\u001b[0;34m:\u001b[0m  \u001b[0;31m# pylint: disable=broad-except\u001b[0m\u001b[0;34m\u001b[0m\u001b[0;34m\u001b[0m\u001b[0m\n\u001b[1;32m     66\u001b[0m       \u001b[0mfiltered_tb\u001b[0m \u001b[0;34m=\u001b[0m \u001b[0m_process_traceback_frames\u001b[0m\u001b[0;34m(\u001b[0m\u001b[0me\u001b[0m\u001b[0;34m.\u001b[0m\u001b[0m__traceback__\u001b[0m\u001b[0;34m)\u001b[0m\u001b[0;34m\u001b[0m\u001b[0;34m\u001b[0m\u001b[0m\n",
            "\u001b[0;32m/usr/local/lib/python3.7/dist-packages/keras/engine/training.py\u001b[0m in \u001b[0;36mfit\u001b[0;34m(self, x, y, batch_size, epochs, verbose, callbacks, validation_split, validation_data, shuffle, class_weight, sample_weight, initial_epoch, steps_per_epoch, validation_steps, validation_batch_size, validation_freq, max_queue_size, workers, use_multiprocessing)\u001b[0m\n\u001b[1;32m   1382\u001b[0m                 _r=1):\n\u001b[1;32m   1383\u001b[0m               \u001b[0mcallbacks\u001b[0m\u001b[0;34m.\u001b[0m\u001b[0mon_train_batch_begin\u001b[0m\u001b[0;34m(\u001b[0m\u001b[0mstep\u001b[0m\u001b[0;34m)\u001b[0m\u001b[0;34m\u001b[0m\u001b[0;34m\u001b[0m\u001b[0m\n\u001b[0;32m-> 1384\u001b[0;31m               \u001b[0mtmp_logs\u001b[0m \u001b[0;34m=\u001b[0m \u001b[0mself\u001b[0m\u001b[0;34m.\u001b[0m\u001b[0mtrain_function\u001b[0m\u001b[0;34m(\u001b[0m\u001b[0miterator\u001b[0m\u001b[0;34m)\u001b[0m\u001b[0;34m\u001b[0m\u001b[0;34m\u001b[0m\u001b[0m\n\u001b[0m\u001b[1;32m   1385\u001b[0m               \u001b[0;32mif\u001b[0m \u001b[0mdata_handler\u001b[0m\u001b[0;34m.\u001b[0m\u001b[0mshould_sync\u001b[0m\u001b[0;34m:\u001b[0m\u001b[0;34m\u001b[0m\u001b[0;34m\u001b[0m\u001b[0m\n\u001b[1;32m   1386\u001b[0m                 \u001b[0mcontext\u001b[0m\u001b[0;34m.\u001b[0m\u001b[0masync_wait\u001b[0m\u001b[0;34m(\u001b[0m\u001b[0;34m)\u001b[0m\u001b[0;34m\u001b[0m\u001b[0;34m\u001b[0m\u001b[0m\n",
            "\u001b[0;32m/usr/local/lib/python3.7/dist-packages/tensorflow/python/util/traceback_utils.py\u001b[0m in \u001b[0;36merror_handler\u001b[0;34m(*args, **kwargs)\u001b[0m\n\u001b[1;32m    148\u001b[0m     \u001b[0mfiltered_tb\u001b[0m \u001b[0;34m=\u001b[0m \u001b[0;32mNone\u001b[0m\u001b[0;34m\u001b[0m\u001b[0;34m\u001b[0m\u001b[0m\n\u001b[1;32m    149\u001b[0m     \u001b[0;32mtry\u001b[0m\u001b[0;34m:\u001b[0m\u001b[0;34m\u001b[0m\u001b[0;34m\u001b[0m\u001b[0m\n\u001b[0;32m--> 150\u001b[0;31m       \u001b[0;32mreturn\u001b[0m \u001b[0mfn\u001b[0m\u001b[0;34m(\u001b[0m\u001b[0;34m*\u001b[0m\u001b[0margs\u001b[0m\u001b[0;34m,\u001b[0m \u001b[0;34m**\u001b[0m\u001b[0mkwargs\u001b[0m\u001b[0;34m)\u001b[0m\u001b[0;34m\u001b[0m\u001b[0;34m\u001b[0m\u001b[0m\n\u001b[0m\u001b[1;32m    151\u001b[0m     \u001b[0;32mexcept\u001b[0m \u001b[0mException\u001b[0m \u001b[0;32mas\u001b[0m \u001b[0me\u001b[0m\u001b[0;34m:\u001b[0m\u001b[0;34m\u001b[0m\u001b[0;34m\u001b[0m\u001b[0m\n\u001b[1;32m    152\u001b[0m       \u001b[0mfiltered_tb\u001b[0m \u001b[0;34m=\u001b[0m \u001b[0m_process_traceback_frames\u001b[0m\u001b[0;34m(\u001b[0m\u001b[0me\u001b[0m\u001b[0;34m.\u001b[0m\u001b[0m__traceback__\u001b[0m\u001b[0;34m)\u001b[0m\u001b[0;34m\u001b[0m\u001b[0;34m\u001b[0m\u001b[0m\n",
            "\u001b[0;32m/usr/local/lib/python3.7/dist-packages/tensorflow/python/eager/def_function.py\u001b[0m in \u001b[0;36m__call__\u001b[0;34m(self, *args, **kwds)\u001b[0m\n\u001b[1;32m    913\u001b[0m \u001b[0;34m\u001b[0m\u001b[0m\n\u001b[1;32m    914\u001b[0m       \u001b[0;32mwith\u001b[0m \u001b[0mOptionalXlaContext\u001b[0m\u001b[0;34m(\u001b[0m\u001b[0mself\u001b[0m\u001b[0;34m.\u001b[0m\u001b[0m_jit_compile\u001b[0m\u001b[0;34m)\u001b[0m\u001b[0;34m:\u001b[0m\u001b[0;34m\u001b[0m\u001b[0;34m\u001b[0m\u001b[0m\n\u001b[0;32m--> 915\u001b[0;31m         \u001b[0mresult\u001b[0m \u001b[0;34m=\u001b[0m \u001b[0mself\u001b[0m\u001b[0;34m.\u001b[0m\u001b[0m_call\u001b[0m\u001b[0;34m(\u001b[0m\u001b[0;34m*\u001b[0m\u001b[0margs\u001b[0m\u001b[0;34m,\u001b[0m \u001b[0;34m**\u001b[0m\u001b[0mkwds\u001b[0m\u001b[0;34m)\u001b[0m\u001b[0;34m\u001b[0m\u001b[0;34m\u001b[0m\u001b[0m\n\u001b[0m\u001b[1;32m    916\u001b[0m \u001b[0;34m\u001b[0m\u001b[0m\n\u001b[1;32m    917\u001b[0m       \u001b[0mnew_tracing_count\u001b[0m \u001b[0;34m=\u001b[0m \u001b[0mself\u001b[0m\u001b[0;34m.\u001b[0m\u001b[0mexperimental_get_tracing_count\u001b[0m\u001b[0;34m(\u001b[0m\u001b[0;34m)\u001b[0m\u001b[0;34m\u001b[0m\u001b[0;34m\u001b[0m\u001b[0m\n",
            "\u001b[0;32m/usr/local/lib/python3.7/dist-packages/tensorflow/python/eager/def_function.py\u001b[0m in \u001b[0;36m_call\u001b[0;34m(self, *args, **kwds)\u001b[0m\n\u001b[1;32m    945\u001b[0m       \u001b[0;31m# In this case we have created variables on the first call, so we run the\u001b[0m\u001b[0;34m\u001b[0m\u001b[0;34m\u001b[0m\u001b[0;34m\u001b[0m\u001b[0m\n\u001b[1;32m    946\u001b[0m       \u001b[0;31m# defunned version which is guaranteed to never create variables.\u001b[0m\u001b[0;34m\u001b[0m\u001b[0;34m\u001b[0m\u001b[0;34m\u001b[0m\u001b[0m\n\u001b[0;32m--> 947\u001b[0;31m       \u001b[0;32mreturn\u001b[0m \u001b[0mself\u001b[0m\u001b[0;34m.\u001b[0m\u001b[0m_stateless_fn\u001b[0m\u001b[0;34m(\u001b[0m\u001b[0;34m*\u001b[0m\u001b[0margs\u001b[0m\u001b[0;34m,\u001b[0m \u001b[0;34m**\u001b[0m\u001b[0mkwds\u001b[0m\u001b[0;34m)\u001b[0m  \u001b[0;31m# pylint: disable=not-callable\u001b[0m\u001b[0;34m\u001b[0m\u001b[0;34m\u001b[0m\u001b[0m\n\u001b[0m\u001b[1;32m    948\u001b[0m     \u001b[0;32melif\u001b[0m \u001b[0mself\u001b[0m\u001b[0;34m.\u001b[0m\u001b[0m_stateful_fn\u001b[0m \u001b[0;32mis\u001b[0m \u001b[0;32mnot\u001b[0m \u001b[0;32mNone\u001b[0m\u001b[0;34m:\u001b[0m\u001b[0;34m\u001b[0m\u001b[0;34m\u001b[0m\u001b[0m\n\u001b[1;32m    949\u001b[0m       \u001b[0;31m# Release the lock early so that multiple threads can perform the call\u001b[0m\u001b[0;34m\u001b[0m\u001b[0;34m\u001b[0m\u001b[0;34m\u001b[0m\u001b[0m\n",
            "\u001b[0;32m/usr/local/lib/python3.7/dist-packages/tensorflow/python/eager/function.py\u001b[0m in \u001b[0;36m__call__\u001b[0;34m(self, *args, **kwargs)\u001b[0m\n\u001b[1;32m   2955\u001b[0m        filtered_flat_args) = self._maybe_define_function(args, kwargs)\n\u001b[1;32m   2956\u001b[0m     return graph_function._call_flat(\n\u001b[0;32m-> 2957\u001b[0;31m         filtered_flat_args, captured_inputs=graph_function.captured_inputs)  # pylint: disable=protected-access\n\u001b[0m\u001b[1;32m   2958\u001b[0m \u001b[0;34m\u001b[0m\u001b[0m\n\u001b[1;32m   2959\u001b[0m   \u001b[0;34m@\u001b[0m\u001b[0mproperty\u001b[0m\u001b[0;34m\u001b[0m\u001b[0;34m\u001b[0m\u001b[0m\n",
            "\u001b[0;32m/usr/local/lib/python3.7/dist-packages/tensorflow/python/eager/function.py\u001b[0m in \u001b[0;36m_call_flat\u001b[0;34m(self, args, captured_inputs, cancellation_manager)\u001b[0m\n\u001b[1;32m   1852\u001b[0m       \u001b[0;31m# No tape is watching; skip to running the function.\u001b[0m\u001b[0;34m\u001b[0m\u001b[0;34m\u001b[0m\u001b[0;34m\u001b[0m\u001b[0m\n\u001b[1;32m   1853\u001b[0m       return self._build_call_outputs(self._inference_function.call(\n\u001b[0;32m-> 1854\u001b[0;31m           ctx, args, cancellation_manager=cancellation_manager))\n\u001b[0m\u001b[1;32m   1855\u001b[0m     forward_backward = self._select_forward_and_backward_functions(\n\u001b[1;32m   1856\u001b[0m         \u001b[0margs\u001b[0m\u001b[0;34m,\u001b[0m\u001b[0;34m\u001b[0m\u001b[0;34m\u001b[0m\u001b[0m\n",
            "\u001b[0;32m/usr/local/lib/python3.7/dist-packages/tensorflow/python/eager/function.py\u001b[0m in \u001b[0;36mcall\u001b[0;34m(self, ctx, args, cancellation_manager)\u001b[0m\n\u001b[1;32m    502\u001b[0m               \u001b[0minputs\u001b[0m\u001b[0;34m=\u001b[0m\u001b[0margs\u001b[0m\u001b[0;34m,\u001b[0m\u001b[0;34m\u001b[0m\u001b[0;34m\u001b[0m\u001b[0m\n\u001b[1;32m    503\u001b[0m               \u001b[0mattrs\u001b[0m\u001b[0;34m=\u001b[0m\u001b[0mattrs\u001b[0m\u001b[0;34m,\u001b[0m\u001b[0;34m\u001b[0m\u001b[0;34m\u001b[0m\u001b[0m\n\u001b[0;32m--> 504\u001b[0;31m               ctx=ctx)\n\u001b[0m\u001b[1;32m    505\u001b[0m         \u001b[0;32melse\u001b[0m\u001b[0;34m:\u001b[0m\u001b[0;34m\u001b[0m\u001b[0;34m\u001b[0m\u001b[0m\n\u001b[1;32m    506\u001b[0m           outputs = execute.execute_with_cancellation(\n",
            "\u001b[0;32m/usr/local/lib/python3.7/dist-packages/tensorflow/python/eager/execute.py\u001b[0m in \u001b[0;36mquick_execute\u001b[0;34m(op_name, num_outputs, inputs, attrs, ctx, name)\u001b[0m\n\u001b[1;32m     53\u001b[0m     \u001b[0mctx\u001b[0m\u001b[0;34m.\u001b[0m\u001b[0mensure_initialized\u001b[0m\u001b[0;34m(\u001b[0m\u001b[0;34m)\u001b[0m\u001b[0;34m\u001b[0m\u001b[0;34m\u001b[0m\u001b[0m\n\u001b[1;32m     54\u001b[0m     tensors = pywrap_tfe.TFE_Py_Execute(ctx._handle, device_name, op_name,\n\u001b[0;32m---> 55\u001b[0;31m                                         inputs, attrs, num_outputs)\n\u001b[0m\u001b[1;32m     56\u001b[0m   \u001b[0;32mexcept\u001b[0m \u001b[0mcore\u001b[0m\u001b[0;34m.\u001b[0m\u001b[0m_NotOkStatusException\u001b[0m \u001b[0;32mas\u001b[0m \u001b[0me\u001b[0m\u001b[0;34m:\u001b[0m\u001b[0;34m\u001b[0m\u001b[0;34m\u001b[0m\u001b[0m\n\u001b[1;32m     57\u001b[0m     \u001b[0;32mif\u001b[0m \u001b[0mname\u001b[0m \u001b[0;32mis\u001b[0m \u001b[0;32mnot\u001b[0m \u001b[0;32mNone\u001b[0m\u001b[0;34m:\u001b[0m\u001b[0;34m\u001b[0m\u001b[0;34m\u001b[0m\u001b[0m\n",
            "\u001b[0;31mKeyboardInterrupt\u001b[0m: "
          ]
        }
      ],
      "source": [
        "VALIDATION_ACCURACY = []\n",
        "VALIDATION_LOSS = []\n",
        "\n",
        "\n",
        "save_dir = '/content/drive/MyDrive/ASDRP/Experiments/gender-with-fakes/'\n",
        "fold_var = 1\n",
        "\n",
        "from sklearn.model_selection import KFold, StratifiedKFold\n",
        "\n",
        "skf = StratifiedKFold(5, random_state = 7, shuffle = True) \n",
        "\n",
        "for train_index,val_index in skf.split(X,Y):\n",
        "  #train = df_all.iloc[train_index]\n",
        "  #print(train['gender'].value_counts())\n",
        "\n",
        "  validation = df_all.iloc[val_index]\n",
        "  validation.index = val_index\n",
        "\n",
        "  add_to_train = validation[validation['image'].str.endswith('png')]\n",
        "  add_index = add_to_train.index\n",
        "  \n",
        "  train_index = np.append(train_index, add_index)\n",
        "\n",
        "  validation = validation[~validation['image'].str.endswith('png')]\n",
        "  val_index = validation.index\n",
        "\n",
        "  #duplicate_indices = []\n",
        "\n",
        "  #for i in train_index:\n",
        "  #  if df_all.iloc[i]['race'] != 0 and df_all.iloc[i]['image'].endswith('jpg'):\n",
        "  #    duplicate_indices.append(i)\n",
        "  \n",
        "  #train_index = np.append(train_index, duplicate_indices)\n",
        "\n",
        "\n",
        "  \n",
        "\n",
        "  x_train,x_val= X[train_index],X[val_index]\n",
        "  y_train,y_val=Y[train_index],Y[val_index]\n",
        "\n",
        "  model = create_new_model()\n",
        "\n",
        "  model.compile(loss='binary_crossentropy',\n",
        "              optimizer=tf.keras.optimizers.Adam(learning_rate=0.001),\n",
        "              metrics=['accuracy'])\n",
        "\n",
        "  checkpoint = tf.keras.callbacks.ModelCheckpoint(save_dir+get_model_name(fold_var), \n",
        "\t\t\t\t\t\t\tmonitor='val_accuracy', verbose=1, \n",
        "\t\t\t\t\t\t\tsave_best_only=True, mode='max')\n",
        "  \n",
        "  callbacks_list = [checkpoint]\n",
        "  \n",
        "  history = model.fit(x=x_train, y=y_train, batch_size=32, epochs=40, shuffle=True, callbacks=callbacks_list, validation_data = (x_val,y_val))\n",
        "  \n",
        "  plt.plot(history.history['accuracy'])\n",
        "  plt.plot(history.history['val_accuracy'])\n",
        "  plt.title('model accuracy')\n",
        "  plt.ylabel('accuracy')\n",
        "  plt.xlabel('epoch')\n",
        "  plt.legend(['train', 'test'], loc='upper left')\n",
        "  plt.show()\n",
        "  # summarize history for loss\n",
        "  plt.plot(history.history['loss'])\n",
        "  plt.plot(history.history['val_loss'])\n",
        "  plt.title('model loss')\n",
        "  plt.ylabel('loss')\n",
        "  plt.xlabel('epoch')\n",
        "  plt.legend(['train', 'test'], loc='upper left')\n",
        "  plt.show()\n",
        "\n",
        "  model.load_weights(\"/content/drive/MyDrive/ASDRP/Experiments/gender-with-fakes/model_less\"+str(fold_var)+\".h5\")\n",
        "  \n",
        "  results = model.evaluate(x=x_val, y=y_val)\n",
        "  results = dict(zip(model.metrics_names,results))\n",
        "\t\n",
        "  VALIDATION_ACCURACY.append(results['accuracy'])\n",
        "  VALIDATION_LOSS.append(results['loss'])\n",
        "  tf.keras.backend.clear_session()\n",
        "\n",
        "  \n",
        "  fold_var+=1"
      ]
    },
    {
      "cell_type": "code",
      "execution_count": null,
      "metadata": {
        "colab": {
          "base_uri": "https://localhost:8080/"
        },
        "id": "qi1z8Oo1lN0C",
        "outputId": "d98a703d-3040-448c-f7be-834cf45cd37c"
      },
      "outputs": [
        {
          "output_type": "stream",
          "name": "stdout",
          "text": [
            "[0.6656716465950012]\n"
          ]
        }
      ],
      "source": [
        "print(VALIDATION_ACCURACY)"
      ]
    },
    {
      "cell_type": "code",
      "execution_count": null,
      "metadata": {
        "id": "OAbxyN4QlUa9"
      },
      "outputs": [],
      "source": [
        "model = create_new_model()\n",
        "model.load_weights(\"/content/drive/MyDrive/ASDRP/Experiments/gender-with-fakes/model_less1.h5\")\n",
        "model.compile(loss='binary_crossentropy',\n",
        "              optimizer=tf.keras.optimizers.Adam(learning_rate=0.001),\n",
        "              metrics=['accuracy'])\n"
      ]
    },
    {
      "cell_type": "code",
      "execution_count": null,
      "metadata": {
        "id": "o2vbRdEBLREG"
      },
      "outputs": [],
      "source": [
        "df_test = pd.read_csv('/content/drive/MyDrive/ASDRP/Experiments/df_test.csv')  "
      ]
    },
    {
      "cell_type": "code",
      "execution_count": null,
      "metadata": {
        "colab": {
          "base_uri": "https://localhost:8080/"
        },
        "id": "O3K5VF9ttgPN",
        "outputId": "2fac969f-366b-42ea-f135-eb701dcf1b64"
      },
      "outputs": [
        {
          "name": "stderr",
          "output_type": "stream",
          "text": [
            "\n",
            "\n",
            "  0%|          | 0/1300 [00:00<?, ?it/s]\u001b[A\u001b[A\n",
            "\n",
            "  0%|          | 1/1300 [00:00<15:44,  1.38it/s]\u001b[A\u001b[A\n",
            "\n",
            "  0%|          | 2/1300 [00:01<10:35,  2.04it/s]\u001b[A\u001b[A\n",
            "\n",
            "  0%|          | 3/1300 [00:01<08:46,  2.46it/s]\u001b[A\u001b[A\n",
            "\n",
            "  0%|          | 4/1300 [00:01<07:34,  2.85it/s]\u001b[A\u001b[A\n",
            "\n",
            "  0%|          | 5/1300 [00:02<07:54,  2.73it/s]\u001b[A\u001b[A\n",
            "\n",
            "  0%|          | 6/1300 [00:02<08:27,  2.55it/s]\u001b[A\u001b[A\n",
            "\n",
            "  1%|          | 7/1300 [00:02<08:12,  2.63it/s]\u001b[A\u001b[A\n",
            "\n",
            "  1%|          | 8/1300 [00:03<08:05,  2.66it/s]\u001b[A\u001b[A\n",
            "\n",
            "  1%|          | 9/1300 [00:03<07:38,  2.82it/s]\u001b[A\u001b[A\n",
            "\n",
            "  1%|          | 10/1300 [00:03<07:36,  2.83it/s]\u001b[A\u001b[A\n",
            "\n",
            "  1%|          | 11/1300 [00:04<08:01,  2.68it/s]\u001b[A\u001b[A\n",
            "\n",
            "  1%|          | 12/1300 [00:04<08:19,  2.58it/s]\u001b[A\u001b[A\n",
            "\n",
            "  1%|          | 13/1300 [00:05<07:53,  2.72it/s]\u001b[A\u001b[A\n",
            "\n",
            "  1%|          | 14/1300 [00:05<07:29,  2.86it/s]\u001b[A\u001b[A\n",
            "\n",
            "  1%|          | 15/1300 [00:05<06:52,  3.11it/s]\u001b[A\u001b[A\n",
            "\n",
            "  1%|          | 16/1300 [00:05<06:34,  3.25it/s]\u001b[A\u001b[A\n",
            "\n",
            "  1%|▏         | 17/1300 [00:06<06:25,  3.32it/s]\u001b[A\u001b[A\n",
            "\n",
            "  1%|▏         | 18/1300 [00:06<06:10,  3.46it/s]\u001b[A\u001b[A\n",
            "\n",
            "  1%|▏         | 19/1300 [00:06<07:00,  3.05it/s]\u001b[A\u001b[A\n",
            "\n",
            "  2%|▏         | 20/1300 [00:07<07:33,  2.82it/s]\u001b[A\u001b[A\n",
            "\n",
            "  2%|▏         | 21/1300 [00:07<07:23,  2.88it/s]\u001b[A\u001b[A\n",
            "\n",
            "  2%|▏         | 22/1300 [00:07<06:56,  3.07it/s]\u001b[A\u001b[A\n",
            "\n",
            "  2%|▏         | 23/1300 [00:08<06:32,  3.25it/s]\u001b[A\u001b[A\n",
            "\n",
            "  2%|▏         | 24/1300 [00:08<06:36,  3.22it/s]\u001b[A\u001b[A\n",
            "\n",
            "  2%|▏         | 25/1300 [00:08<07:28,  2.84it/s]\u001b[A\u001b[A\n",
            "\n",
            "  2%|▏         | 26/1300 [00:09<07:22,  2.88it/s]\u001b[A\u001b[A\n",
            "\n",
            "  2%|▏         | 27/1300 [00:09<07:43,  2.74it/s]\u001b[A\u001b[A\n",
            "\n",
            "  2%|▏         | 28/1300 [00:10<08:04,  2.62it/s]\u001b[A\u001b[A\n",
            "\n",
            "  2%|▏         | 29/1300 [00:10<07:42,  2.75it/s]\u001b[A\u001b[A\n",
            "\n",
            "  2%|▏         | 30/1300 [00:10<07:07,  2.97it/s]\u001b[A\u001b[A\n",
            "\n",
            "  2%|▏         | 31/1300 [00:11<07:40,  2.75it/s]\u001b[A\u001b[A\n",
            "\n",
            "  2%|▏         | 32/1300 [00:11<07:51,  2.69it/s]\u001b[A\u001b[A\n",
            "\n",
            "  3%|▎         | 33/1300 [00:11<07:35,  2.78it/s]\u001b[A\u001b[A\n",
            "\n",
            "  3%|▎         | 34/1300 [00:12<08:07,  2.60it/s]\u001b[A\u001b[A\n",
            "\n",
            "  3%|▎         | 35/1300 [00:12<08:07,  2.59it/s]\u001b[A\u001b[A\n",
            "\n",
            "  3%|▎         | 36/1300 [00:12<07:16,  2.89it/s]\u001b[A\u001b[A\n",
            "\n",
            "  3%|▎         | 37/1300 [00:13<07:28,  2.81it/s]\u001b[A\u001b[A\n",
            "\n",
            "  3%|▎         | 38/1300 [00:13<07:11,  2.92it/s]\u001b[A\u001b[A\n",
            "\n",
            "  3%|▎         | 39/1300 [00:13<07:34,  2.77it/s]\u001b[A\u001b[A\n",
            "\n",
            "  3%|▎         | 40/1300 [00:14<07:24,  2.83it/s]\u001b[A\u001b[A\n",
            "\n",
            "  3%|▎         | 41/1300 [00:14<07:28,  2.81it/s]\u001b[A\u001b[A\n",
            "\n",
            "  3%|▎         | 42/1300 [00:14<07:06,  2.95it/s]\u001b[A\u001b[A\n",
            "\n",
            "  3%|▎         | 43/1300 [00:15<06:55,  3.02it/s]\u001b[A\u001b[A\n",
            "\n",
            "  3%|▎         | 44/1300 [00:15<07:21,  2.85it/s]\u001b[A\u001b[A\n",
            "\n",
            "  3%|▎         | 45/1300 [00:15<06:49,  3.07it/s]\u001b[A\u001b[A\n",
            "\n",
            "  4%|▎         | 46/1300 [00:16<06:41,  3.13it/s]\u001b[A\u001b[A\n",
            "\n",
            "  4%|▎         | 47/1300 [00:16<06:27,  3.23it/s]\u001b[A\u001b[A\n",
            "\n",
            "  4%|▎         | 48/1300 [00:16<06:21,  3.28it/s]\u001b[A\u001b[A\n",
            "\n",
            "  4%|▍         | 49/1300 [00:17<07:08,  2.92it/s]\u001b[A\u001b[A\n",
            "\n",
            "  4%|▍         | 50/1300 [00:17<06:57,  3.00it/s]\u001b[A\u001b[A\n",
            "\n",
            "  4%|▍         | 51/1300 [00:17<06:52,  3.03it/s]\u001b[A\u001b[A\n",
            "\n",
            "  4%|▍         | 52/1300 [00:18<07:39,  2.71it/s]\u001b[A\u001b[A\n",
            "\n",
            "  4%|▍         | 53/1300 [00:18<07:30,  2.77it/s]\u001b[A\u001b[A\n",
            "\n",
            "  4%|▍         | 54/1300 [00:18<06:46,  3.07it/s]\u001b[A\u001b[A\n",
            "\n",
            "  4%|▍         | 55/1300 [00:19<07:08,  2.90it/s]\u001b[A\u001b[A\n",
            "\n",
            "  4%|▍         | 56/1300 [00:19<07:43,  2.68it/s]\u001b[A\u001b[A\n",
            "\n",
            "  4%|▍         | 57/1300 [00:20<07:24,  2.80it/s]\u001b[A\u001b[A\n",
            "\n",
            "  4%|▍         | 58/1300 [00:20<07:27,  2.78it/s]\u001b[A\u001b[A\n",
            "\n",
            "  5%|▍         | 59/1300 [00:20<07:32,  2.74it/s]\u001b[A\u001b[A\n",
            "\n",
            "  5%|▍         | 60/1300 [00:21<07:23,  2.79it/s]\u001b[A\u001b[A\n",
            "\n",
            "  5%|▍         | 61/1300 [00:21<08:04,  2.56it/s]\u001b[A\u001b[A\n",
            "\n",
            "  5%|▍         | 62/1300 [00:21<07:47,  2.65it/s]\u001b[A\u001b[A\n",
            "\n",
            "  5%|▍         | 63/1300 [00:22<07:55,  2.60it/s]\u001b[A\u001b[A\n",
            "\n",
            "  5%|▍         | 64/1300 [00:22<07:23,  2.79it/s]\u001b[A\u001b[A\n",
            "\n",
            "  5%|▌         | 65/1300 [00:22<07:14,  2.84it/s]\u001b[A\u001b[A\n",
            "\n",
            "  5%|▌         | 66/1300 [00:23<07:23,  2.78it/s]\u001b[A\u001b[A\n",
            "\n",
            "  5%|▌         | 67/1300 [00:23<07:05,  2.90it/s]\u001b[A\u001b[A\n",
            "\n",
            "  5%|▌         | 68/1300 [00:23<06:36,  3.11it/s]\u001b[A\u001b[A\n",
            "\n",
            "  5%|▌         | 69/1300 [00:24<06:17,  3.26it/s]\u001b[A\u001b[A\n",
            "\n",
            "  5%|▌         | 70/1300 [00:24<06:53,  2.98it/s]\u001b[A\u001b[A\n",
            "\n",
            "  5%|▌         | 71/1300 [00:24<06:27,  3.17it/s]\u001b[A\u001b[A\n",
            "\n",
            "  6%|▌         | 72/1300 [00:25<07:06,  2.88it/s]\u001b[A\u001b[A\n",
            "\n",
            "  6%|▌         | 73/1300 [00:25<07:28,  2.74it/s]\u001b[A\u001b[A\n",
            "\n",
            "  6%|▌         | 74/1300 [00:26<06:55,  2.95it/s]\u001b[A\u001b[A\n",
            "\n",
            "  6%|▌         | 75/1300 [00:26<07:03,  2.89it/s]\u001b[A\u001b[A\n",
            "\n",
            "  6%|▌         | 76/1300 [00:26<07:34,  2.69it/s]\u001b[A\u001b[A\n",
            "\n",
            "  6%|▌         | 77/1300 [00:27<07:06,  2.87it/s]\u001b[A\u001b[A\n",
            "\n",
            "  6%|▌         | 78/1300 [00:27<07:12,  2.83it/s]\u001b[A\u001b[A\n",
            "\n",
            "  6%|▌         | 79/1300 [00:27<06:50,  2.98it/s]\u001b[A\u001b[A\n",
            "\n",
            "  6%|▌         | 80/1300 [00:27<06:16,  3.24it/s]\u001b[A\u001b[A\n",
            "\n",
            "  6%|▌         | 81/1300 [00:28<06:40,  3.04it/s]\u001b[A\u001b[A\n",
            "\n",
            "  6%|▋         | 82/1300 [00:28<06:36,  3.07it/s]\u001b[A\u001b[A\n",
            "\n",
            "  6%|▋         | 83/1300 [00:29<07:25,  2.73it/s]\u001b[A\u001b[A\n",
            "\n",
            "  6%|▋         | 84/1300 [00:29<07:50,  2.59it/s]\u001b[A\u001b[A\n",
            "\n",
            "  7%|▋         | 85/1300 [00:29<07:19,  2.77it/s]\u001b[A\u001b[A\n",
            "\n",
            "  7%|▋         | 86/1300 [00:30<07:10,  2.82it/s]\u001b[A\u001b[A\n",
            "\n",
            "  7%|▋         | 87/1300 [00:30<07:19,  2.76it/s]\u001b[A\u001b[A\n",
            "\n",
            "  7%|▋         | 88/1300 [00:30<07:04,  2.85it/s]\u001b[A\u001b[A\n",
            "\n",
            "  7%|▋         | 89/1300 [00:31<06:33,  3.08it/s]\u001b[A\u001b[A\n",
            "\n",
            "  7%|▋         | 90/1300 [00:31<06:35,  3.06it/s]\u001b[A\u001b[A\n",
            "\n",
            "  7%|▋         | 91/1300 [00:31<06:13,  3.23it/s]\u001b[A\u001b[A\n",
            "\n",
            "  7%|▋         | 92/1300 [00:32<06:40,  3.01it/s]\u001b[A\u001b[A\n",
            "\n",
            "  7%|▋         | 93/1300 [00:32<07:02,  2.86it/s]\u001b[A\u001b[A\n",
            "\n",
            "  7%|▋         | 94/1300 [00:32<06:58,  2.88it/s]\u001b[A\u001b[A\n",
            "\n",
            "  7%|▋         | 95/1300 [00:33<07:12,  2.79it/s]\u001b[A\u001b[A\n",
            "\n",
            "  7%|▋         | 96/1300 [00:33<07:50,  2.56it/s]\u001b[A\u001b[A\n",
            "\n",
            "  7%|▋         | 97/1300 [00:34<08:00,  2.51it/s]\u001b[A\u001b[A\n",
            "\n",
            "  8%|▊         | 98/1300 [00:34<08:01,  2.49it/s]\u001b[A\u001b[A\n",
            "\n",
            "  8%|▊         | 99/1300 [00:35<08:10,  2.45it/s]\u001b[A\u001b[A\n",
            "\n",
            "  8%|▊         | 100/1300 [00:35<07:55,  2.53it/s]\u001b[A\u001b[A\n",
            "\n",
            "  8%|▊         | 101/1300 [00:35<07:53,  2.53it/s]\u001b[A\u001b[A\n",
            "\n",
            "  8%|▊         | 102/1300 [00:36<07:09,  2.79it/s]\u001b[A\u001b[A\n",
            "\n",
            "  8%|▊         | 103/1300 [00:36<07:37,  2.61it/s]\u001b[A\u001b[A\n",
            "\n",
            "  8%|▊         | 104/1300 [00:36<07:27,  2.67it/s]\u001b[A\u001b[A\n",
            "\n",
            "  8%|▊         | 105/1300 [00:37<07:58,  2.50it/s]\u001b[A\u001b[A\n",
            "\n",
            "  8%|▊         | 106/1300 [00:37<07:26,  2.67it/s]\u001b[A\u001b[A\n",
            "\n",
            "  8%|▊         | 107/1300 [00:37<06:53,  2.89it/s]\u001b[A\u001b[A\n",
            "\n",
            "  8%|▊         | 108/1300 [00:38<06:16,  3.16it/s]\u001b[A\u001b[A\n",
            "\n",
            "  8%|▊         | 109/1300 [00:38<06:05,  3.26it/s]\u001b[A\u001b[A\n",
            "\n",
            "  8%|▊         | 110/1300 [00:38<05:42,  3.47it/s]\u001b[A\u001b[A\n",
            "\n",
            "  9%|▊         | 111/1300 [00:39<06:18,  3.14it/s]\u001b[A\u001b[A\n",
            "\n",
            "  9%|▊         | 112/1300 [00:39<06:53,  2.87it/s]\u001b[A\u001b[A\n",
            "\n",
            "  9%|▊         | 113/1300 [00:39<06:31,  3.03it/s]\u001b[A\u001b[A\n",
            "\n",
            "  9%|▉         | 114/1300 [00:40<05:59,  3.30it/s]\u001b[A\u001b[A\n",
            "\n",
            "  9%|▉         | 115/1300 [00:40<06:02,  3.27it/s]\u001b[A\u001b[A\n",
            "\n",
            "  9%|▉         | 116/1300 [00:40<06:01,  3.28it/s]\u001b[A\u001b[A\n",
            "\n",
            "  9%|▉         | 117/1300 [00:40<06:09,  3.20it/s]\u001b[A\u001b[A\n",
            "\n",
            "  9%|▉         | 118/1300 [00:41<05:50,  3.37it/s]\u001b[A\u001b[A\n",
            "\n",
            "  9%|▉         | 119/1300 [00:41<06:14,  3.15it/s]\u001b[A\u001b[A\n",
            "\n",
            "  9%|▉         | 120/1300 [00:41<06:45,  2.91it/s]\u001b[A\u001b[A\n",
            "\n",
            "  9%|▉         | 121/1300 [00:42<06:29,  3.02it/s]\u001b[A\u001b[A\n",
            "\n",
            "  9%|▉         | 122/1300 [00:42<07:23,  2.66it/s]\u001b[A\u001b[A\n",
            "\n",
            "  9%|▉         | 123/1300 [00:43<07:19,  2.68it/s]\u001b[A\u001b[A\n",
            "\n",
            " 10%|▉         | 124/1300 [00:43<07:22,  2.66it/s]\u001b[A\u001b[A\n",
            "\n",
            " 10%|▉         | 125/1300 [00:43<06:55,  2.83it/s]\u001b[A\u001b[A\n",
            "\n",
            " 10%|▉         | 126/1300 [00:44<07:26,  2.63it/s]\u001b[A\u001b[A\n",
            "\n",
            " 10%|▉         | 127/1300 [00:44<07:08,  2.74it/s]\u001b[A\u001b[A\n",
            "\n",
            " 10%|▉         | 128/1300 [00:45<07:31,  2.59it/s]\u001b[A\u001b[A\n",
            "\n",
            " 10%|▉         | 129/1300 [00:45<07:28,  2.61it/s]\u001b[A\u001b[A\n",
            "\n",
            " 10%|█         | 130/1300 [00:45<07:39,  2.55it/s]\u001b[A\u001b[A\n",
            "\n",
            " 10%|█         | 131/1300 [00:46<07:26,  2.62it/s]\u001b[A\u001b[A\n",
            "\n",
            " 10%|█         | 132/1300 [00:46<07:38,  2.55it/s]\u001b[A\u001b[A\n",
            "\n",
            " 10%|█         | 133/1300 [00:47<08:14,  2.36it/s]\u001b[A\u001b[A\n",
            "\n",
            " 10%|█         | 134/1300 [00:47<07:40,  2.53it/s]\u001b[A\u001b[A\n",
            "\n",
            " 10%|█         | 135/1300 [00:47<07:55,  2.45it/s]\u001b[A\u001b[A\n",
            "\n",
            " 10%|█         | 136/1300 [00:48<08:07,  2.39it/s]\u001b[A\u001b[A\n",
            "\n",
            " 11%|█         | 137/1300 [00:48<08:30,  2.28it/s]\u001b[A\u001b[A\n",
            "\n",
            " 11%|█         | 138/1300 [00:49<08:15,  2.35it/s]\u001b[A\u001b[A\n",
            "\n",
            " 11%|█         | 139/1300 [00:49<08:11,  2.36it/s]\u001b[A\u001b[A\n",
            "\n",
            " 11%|█         | 140/1300 [00:50<08:15,  2.34it/s]\u001b[A\u001b[A\n",
            "\n",
            " 11%|█         | 141/1300 [00:50<07:46,  2.49it/s]\u001b[A\u001b[A\n",
            "\n",
            " 11%|█         | 142/1300 [00:50<07:48,  2.47it/s]\u001b[A\u001b[A\n",
            "\n",
            " 11%|█         | 143/1300 [00:51<07:37,  2.53it/s]\u001b[A\u001b[A\n",
            "\n",
            " 11%|█         | 144/1300 [00:51<07:16,  2.65it/s]\u001b[A\u001b[A\n",
            "\n",
            " 11%|█         | 145/1300 [00:51<06:48,  2.83it/s]\u001b[A\u001b[A\n",
            "\n",
            " 11%|█         | 146/1300 [00:52<06:45,  2.85it/s]\u001b[A\u001b[A\n",
            "\n",
            " 11%|█▏        | 147/1300 [00:52<06:34,  2.92it/s]\u001b[A\u001b[A\n",
            "\n",
            " 11%|█▏        | 148/1300 [00:52<06:43,  2.85it/s]\u001b[A\u001b[A\n",
            "\n",
            " 11%|█▏        | 149/1300 [00:53<07:11,  2.67it/s]\u001b[A\u001b[A\n",
            "\n",
            " 12%|█▏        | 150/1300 [00:53<06:31,  2.93it/s]\u001b[A\u001b[A\n",
            "\n",
            " 12%|█▏        | 151/1300 [00:53<07:00,  2.73it/s]\u001b[A\u001b[A\n",
            "\n",
            " 12%|█▏        | 152/1300 [00:54<07:05,  2.70it/s]\u001b[A\u001b[A\n",
            "\n",
            " 12%|█▏        | 153/1300 [00:54<06:57,  2.75it/s]\u001b[A\u001b[A\n",
            "\n",
            " 12%|█▏        | 154/1300 [00:55<07:24,  2.58it/s]\u001b[A\u001b[A\n",
            "\n",
            " 12%|█▏        | 155/1300 [00:55<07:20,  2.60it/s]\u001b[A\u001b[A\n",
            "\n",
            " 12%|█▏        | 156/1300 [00:55<07:24,  2.57it/s]\u001b[A\u001b[A\n",
            "\n",
            " 12%|█▏        | 157/1300 [00:56<06:52,  2.77it/s]\u001b[A\u001b[A\n",
            "\n",
            " 12%|█▏        | 158/1300 [00:56<06:31,  2.91it/s]\u001b[A\u001b[A\n",
            "\n",
            " 12%|█▏        | 159/1300 [00:56<07:14,  2.63it/s]\u001b[A\u001b[A\n",
            "\n",
            " 12%|█▏        | 160/1300 [00:57<07:48,  2.43it/s]\u001b[A\u001b[A\n",
            "\n",
            " 12%|█▏        | 161/1300 [00:57<07:53,  2.40it/s]\u001b[A\u001b[A\n",
            "\n",
            " 12%|█▏        | 162/1300 [00:58<07:47,  2.44it/s]\u001b[A\u001b[A\n",
            "\n",
            " 13%|█▎        | 163/1300 [00:58<07:35,  2.50it/s]\u001b[A\u001b[A\n",
            "\n",
            " 13%|█▎        | 164/1300 [00:59<07:27,  2.54it/s]\u001b[A\u001b[A\n",
            "\n",
            " 13%|█▎        | 165/1300 [00:59<07:49,  2.41it/s]\u001b[A\u001b[A\n",
            "\n",
            " 13%|█▎        | 166/1300 [00:59<07:07,  2.65it/s]\u001b[A\u001b[A\n",
            "\n",
            " 13%|█▎        | 167/1300 [01:00<06:32,  2.89it/s]\u001b[A\u001b[A\n",
            "\n",
            " 13%|█▎        | 168/1300 [01:00<07:08,  2.64it/s]\u001b[A\u001b[A\n",
            "\n",
            " 13%|█▎        | 169/1300 [01:00<07:07,  2.65it/s]\u001b[A\u001b[A\n",
            "\n",
            " 13%|█▎        | 170/1300 [01:01<06:27,  2.91it/s]\u001b[A\u001b[A\n",
            "\n",
            " 13%|█▎        | 171/1300 [01:01<05:59,  3.14it/s]\u001b[A\u001b[A\n",
            "\n",
            " 13%|█▎        | 172/1300 [01:01<05:47,  3.25it/s]\u001b[A\u001b[A\n",
            "\n",
            " 13%|█▎        | 173/1300 [01:02<06:20,  2.96it/s]\u001b[A\u001b[A\n",
            "\n",
            " 13%|█▎        | 174/1300 [01:02<07:02,  2.67it/s]\u001b[A\u001b[A\n",
            "\n",
            " 13%|█▎        | 175/1300 [01:02<06:24,  2.93it/s]\u001b[A\u001b[A\n",
            "\n",
            " 14%|█▎        | 176/1300 [01:03<06:27,  2.90it/s]\u001b[A\u001b[A\n",
            "\n",
            " 14%|█▎        | 177/1300 [01:03<07:03,  2.65it/s]\u001b[A\u001b[A\n",
            "\n",
            " 14%|█▎        | 178/1300 [01:03<06:41,  2.79it/s]\u001b[A\u001b[A\n",
            "\n",
            " 14%|█▍        | 179/1300 [01:04<06:47,  2.75it/s]\u001b[A\u001b[A\n",
            "\n",
            " 14%|█▍        | 180/1300 [01:04<06:46,  2.76it/s]\u001b[A\u001b[A\n",
            "\n",
            " 14%|█▍        | 181/1300 [01:05<07:00,  2.66it/s]\u001b[A\u001b[A\n",
            "\n",
            " 14%|█▍        | 182/1300 [01:05<06:50,  2.72it/s]\u001b[A\u001b[A\n",
            "\n",
            " 14%|█▍        | 183/1300 [01:05<07:03,  2.64it/s]\u001b[A\u001b[A\n",
            "\n",
            " 14%|█▍        | 184/1300 [01:06<07:10,  2.59it/s]\u001b[A\u001b[A\n",
            "\n",
            " 14%|█▍        | 185/1300 [01:06<06:23,  2.90it/s]\u001b[A\u001b[A\n",
            "\n",
            " 14%|█▍        | 186/1300 [01:06<06:06,  3.04it/s]\u001b[A\u001b[A\n",
            "\n",
            " 14%|█▍        | 187/1300 [01:07<07:02,  2.63it/s]\u001b[A\u001b[A\n",
            "\n",
            " 14%|█▍        | 188/1300 [01:07<06:54,  2.68it/s]\u001b[A\u001b[A\n",
            "\n",
            " 15%|█▍        | 189/1300 [01:07<06:36,  2.80it/s]\u001b[A\u001b[A\n",
            "\n",
            " 15%|█▍        | 190/1300 [01:08<06:43,  2.75it/s]\u001b[A\u001b[A\n",
            "\n",
            " 15%|█▍        | 191/1300 [01:08<06:05,  3.03it/s]\u001b[A\u001b[A\n",
            "\n",
            " 15%|█▍        | 192/1300 [01:09<06:56,  2.66it/s]\u001b[A\u001b[A\n",
            "\n",
            " 15%|█▍        | 193/1300 [01:09<06:34,  2.81it/s]\u001b[A\u001b[A\n",
            "\n",
            " 15%|█▍        | 194/1300 [01:09<06:34,  2.81it/s]\u001b[A\u001b[A\n",
            "\n",
            " 15%|█▌        | 195/1300 [01:10<07:09,  2.58it/s]\u001b[A\u001b[A\n",
            "\n",
            " 15%|█▌        | 196/1300 [01:10<07:00,  2.63it/s]\u001b[A\u001b[A\n",
            "\n",
            " 15%|█▌        | 197/1300 [01:11<07:21,  2.50it/s]\u001b[A\u001b[A\n",
            "\n",
            " 15%|█▌        | 198/1300 [01:11<06:31,  2.81it/s]\u001b[A\u001b[A\n",
            "\n",
            " 15%|█▌        | 199/1300 [01:11<06:45,  2.71it/s]\u001b[A\u001b[A\n",
            "\n",
            " 15%|█▌        | 200/1300 [01:12<07:12,  2.54it/s]\u001b[A\u001b[A\n",
            "\n",
            " 15%|█▌        | 201/1300 [01:12<07:00,  2.61it/s]\u001b[A\u001b[A\n",
            "\n",
            " 16%|█▌        | 202/1300 [01:12<06:30,  2.81it/s]\u001b[A\u001b[A\n",
            "\n",
            " 16%|█▌        | 203/1300 [01:13<06:19,  2.89it/s]\u001b[A\u001b[A\n",
            "\n",
            " 16%|█▌        | 204/1300 [01:13<06:05,  3.00it/s]\u001b[A\u001b[A\n",
            "\n",
            " 16%|█▌        | 205/1300 [01:13<06:34,  2.77it/s]\u001b[A\u001b[A\n",
            "\n",
            " 16%|█▌        | 206/1300 [01:14<07:01,  2.59it/s]\u001b[A\u001b[A\n",
            "\n",
            " 16%|█▌        | 207/1300 [01:14<07:08,  2.55it/s]\u001b[A\u001b[A\n",
            "\n",
            " 16%|█▌        | 208/1300 [01:14<06:40,  2.73it/s]\u001b[A\u001b[A\n",
            "\n",
            " 16%|█▌        | 209/1300 [01:15<06:51,  2.65it/s]\u001b[A\u001b[A\n",
            "\n",
            " 16%|█▌        | 210/1300 [01:15<06:32,  2.78it/s]\u001b[A\u001b[A\n",
            "\n",
            " 16%|█▌        | 211/1300 [01:16<06:37,  2.74it/s]\u001b[A\u001b[A\n",
            "\n",
            " 16%|█▋        | 212/1300 [01:16<06:00,  3.02it/s]\u001b[A\u001b[A\n",
            "\n",
            " 16%|█▋        | 213/1300 [01:16<06:45,  2.68it/s]\u001b[A\u001b[A\n",
            "\n",
            " 16%|█▋        | 214/1300 [01:17<06:58,  2.59it/s]\u001b[A\u001b[A\n",
            "\n",
            " 17%|█▋        | 215/1300 [01:17<07:15,  2.49it/s]\u001b[A\u001b[A\n",
            "\n",
            " 17%|█▋        | 216/1300 [01:17<06:37,  2.73it/s]\u001b[A\u001b[A\n",
            "\n",
            " 17%|█▋        | 217/1300 [01:18<06:23,  2.82it/s]\u001b[A\u001b[A\n",
            "\n",
            " 17%|█▋        | 218/1300 [01:18<05:57,  3.02it/s]\u001b[A\u001b[A\n",
            "\n",
            " 17%|█▋        | 219/1300 [01:18<05:43,  3.15it/s]\u001b[A\u001b[A\n",
            "\n",
            " 17%|█▋        | 220/1300 [01:19<05:45,  3.12it/s]\u001b[A\u001b[A\n",
            "\n",
            " 17%|█▋        | 221/1300 [01:19<06:28,  2.78it/s]\u001b[A\u001b[A\n",
            "\n",
            " 17%|█▋        | 222/1300 [01:20<06:50,  2.63it/s]\u001b[A\u001b[A\n",
            "\n",
            " 17%|█▋        | 223/1300 [01:20<06:48,  2.63it/s]\u001b[A\u001b[A\n",
            "\n",
            " 17%|█▋        | 224/1300 [01:20<06:31,  2.75it/s]\u001b[A\u001b[A\n",
            "\n",
            " 17%|█▋        | 225/1300 [01:20<05:53,  3.04it/s]\u001b[A\u001b[A\n",
            "\n",
            " 17%|█▋        | 226/1300 [01:21<06:18,  2.84it/s]\u001b[A\u001b[A\n",
            "\n",
            " 17%|█▋        | 227/1300 [01:21<05:51,  3.06it/s]\u001b[A\u001b[A\n",
            "\n",
            " 18%|█▊        | 228/1300 [01:22<06:05,  2.93it/s]\u001b[A\u001b[A\n",
            "\n",
            " 18%|█▊        | 229/1300 [01:22<05:43,  3.12it/s]\u001b[A\u001b[A\n",
            "\n",
            " 18%|█▊        | 230/1300 [01:22<06:20,  2.81it/s]\u001b[A\u001b[A\n",
            "\n",
            " 18%|█▊        | 231/1300 [01:23<06:31,  2.73it/s]\u001b[A\u001b[A\n",
            "\n",
            " 18%|█▊        | 232/1300 [01:23<05:50,  3.04it/s]\u001b[A\u001b[A\n",
            "\n",
            " 18%|█▊        | 233/1300 [01:23<05:44,  3.09it/s]\u001b[A\u001b[A\n",
            "\n",
            " 18%|█▊        | 234/1300 [01:24<06:16,  2.83it/s]\u001b[A\u001b[A\n",
            "\n",
            " 18%|█▊        | 235/1300 [01:24<06:42,  2.64it/s]\u001b[A\u001b[A\n",
            "\n",
            " 18%|█▊        | 236/1300 [01:24<06:08,  2.89it/s]\u001b[A\u001b[A\n",
            "\n",
            " 18%|█▊        | 237/1300 [01:25<06:45,  2.62it/s]\u001b[A\u001b[A\n",
            "\n",
            " 18%|█▊        | 238/1300 [01:25<06:28,  2.73it/s]\u001b[A\u001b[A\n",
            "\n",
            " 18%|█▊        | 239/1300 [01:25<06:36,  2.67it/s]\u001b[A\u001b[A\n",
            "\n",
            " 18%|█▊        | 240/1300 [01:26<06:13,  2.84it/s]\u001b[A\u001b[A\n",
            "\n",
            " 19%|█▊        | 241/1300 [01:26<05:49,  3.03it/s]\u001b[A\u001b[A\n",
            "\n",
            " 19%|█▊        | 242/1300 [01:27<06:30,  2.71it/s]\u001b[A\u001b[A\n",
            "\n",
            " 19%|█▊        | 243/1300 [01:27<06:39,  2.64it/s]\u001b[A\u001b[A\n",
            "\n",
            " 19%|█▉        | 244/1300 [01:27<06:56,  2.54it/s]\u001b[A\u001b[A\n",
            "\n",
            " 19%|█▉        | 245/1300 [01:28<06:31,  2.69it/s]\u001b[A\u001b[A\n",
            "\n",
            " 19%|█▉        | 246/1300 [01:28<06:35,  2.67it/s]\u001b[A\u001b[A\n",
            "\n",
            " 19%|█▉        | 247/1300 [01:28<06:38,  2.64it/s]\u001b[A\u001b[A\n",
            "\n",
            " 19%|█▉        | 248/1300 [01:29<06:01,  2.91it/s]\u001b[A\u001b[A\n",
            "\n",
            " 19%|█▉        | 249/1300 [01:29<05:45,  3.04it/s]\u001b[A\u001b[A\n",
            "\n",
            " 19%|█▉        | 250/1300 [01:29<06:22,  2.74it/s]\u001b[A\u001b[A\n",
            "\n",
            " 19%|█▉        | 251/1300 [01:30<06:00,  2.91it/s]\u001b[A\u001b[A\n",
            "\n",
            " 19%|█▉        | 252/1300 [01:30<06:23,  2.73it/s]\u001b[A\u001b[A\n",
            "\n",
            " 19%|█▉        | 253/1300 [01:30<05:56,  2.94it/s]\u001b[A\u001b[A\n",
            "\n",
            " 20%|█▉        | 254/1300 [01:31<06:13,  2.80it/s]\u001b[A\u001b[A\n",
            "\n",
            " 20%|█▉        | 255/1300 [01:31<06:42,  2.60it/s]\u001b[A\u001b[A\n",
            "\n",
            " 20%|█▉        | 256/1300 [01:32<06:27,  2.70it/s]\u001b[A\u001b[A\n",
            "\n",
            " 20%|█▉        | 257/1300 [01:32<05:59,  2.90it/s]\u001b[A\u001b[A\n",
            "\n",
            " 20%|█▉        | 258/1300 [01:32<06:36,  2.63it/s]\u001b[A\u001b[A\n",
            "\n",
            " 20%|█▉        | 259/1300 [01:33<06:05,  2.85it/s]\u001b[A\u001b[A\n",
            "\n",
            " 20%|██        | 260/1300 [01:33<06:23,  2.71it/s]\u001b[A\u001b[A\n",
            "\n",
            " 20%|██        | 261/1300 [01:33<06:31,  2.65it/s]\u001b[A\u001b[A\n",
            "\n",
            " 20%|██        | 262/1300 [01:34<06:26,  2.68it/s]\u001b[A\u001b[A\n",
            "\n",
            " 20%|██        | 263/1300 [01:34<06:33,  2.63it/s]\u001b[A\u001b[A\n",
            "\n",
            " 20%|██        | 264/1300 [01:34<05:53,  2.93it/s]\u001b[A\u001b[A\n",
            "\n",
            " 20%|██        | 265/1300 [01:35<06:09,  2.80it/s]\u001b[A\u001b[A\n",
            "\n",
            " 20%|██        | 266/1300 [01:35<05:38,  3.05it/s]\u001b[A\u001b[A\n",
            "\n",
            " 21%|██        | 267/1300 [01:35<05:48,  2.96it/s]\u001b[A\u001b[A\n",
            "\n",
            " 21%|██        | 268/1300 [01:36<05:36,  3.07it/s]\u001b[A\u001b[A\n",
            "\n",
            " 21%|██        | 269/1300 [01:36<05:58,  2.88it/s]\u001b[A\u001b[A\n",
            "\n",
            " 21%|██        | 270/1300 [01:37<06:14,  2.75it/s]\u001b[A\u001b[A\n",
            "\n",
            " 21%|██        | 271/1300 [01:37<05:37,  3.05it/s]\u001b[A\u001b[A\n",
            "\n",
            " 21%|██        | 272/1300 [01:37<05:51,  2.92it/s]\u001b[A\u001b[A\n",
            "\n",
            " 21%|██        | 273/1300 [01:38<05:40,  3.02it/s]\u001b[A\u001b[A\n",
            "\n",
            " 21%|██        | 274/1300 [01:38<06:02,  2.83it/s]\u001b[A\u001b[A\n",
            "\n",
            " 21%|██        | 275/1300 [01:38<06:26,  2.65it/s]\u001b[A\u001b[A\n",
            "\n",
            " 21%|██        | 276/1300 [01:39<06:42,  2.54it/s]\u001b[A\u001b[A\n",
            "\n",
            " 21%|██▏       | 277/1300 [01:39<06:20,  2.69it/s]\u001b[A\u001b[A\n",
            "\n",
            " 21%|██▏       | 278/1300 [01:39<05:57,  2.86it/s]\u001b[A\u001b[A\n",
            "\n",
            " 21%|██▏       | 279/1300 [01:40<06:31,  2.60it/s]\u001b[A\u001b[A\n",
            "\n",
            " 22%|██▏       | 280/1300 [01:40<06:57,  2.44it/s]\u001b[A\u001b[A\n",
            "\n",
            " 22%|██▏       | 281/1300 [01:41<06:53,  2.47it/s]\u001b[A\u001b[A\n",
            "\n",
            " 22%|██▏       | 282/1300 [01:41<06:18,  2.69it/s]\u001b[A\u001b[A\n",
            "\n",
            " 22%|██▏       | 283/1300 [01:41<05:49,  2.91it/s]\u001b[A\u001b[A\n",
            "\n",
            " 22%|██▏       | 284/1300 [01:42<06:07,  2.77it/s]\u001b[A\u001b[A\n",
            "\n",
            " 22%|██▏       | 285/1300 [01:42<05:51,  2.89it/s]\u001b[A\u001b[A\n",
            "\n",
            " 22%|██▏       | 286/1300 [01:42<05:33,  3.04it/s]\u001b[A\u001b[A\n",
            "\n",
            " 22%|██▏       | 287/1300 [01:43<05:21,  3.15it/s]\u001b[A\u001b[A\n",
            "\n",
            " 22%|██▏       | 288/1300 [01:43<05:17,  3.19it/s]\u001b[A\u001b[A\n",
            "\n",
            " 22%|██▏       | 289/1300 [01:43<05:18,  3.17it/s]\u001b[A\u001b[A\n",
            "\n",
            " 22%|██▏       | 290/1300 [01:44<05:44,  2.93it/s]\u001b[A\u001b[A\n",
            "\n",
            " 22%|██▏       | 291/1300 [01:44<05:53,  2.86it/s]\u001b[A\u001b[A\n",
            "\n",
            " 22%|██▏       | 292/1300 [01:44<06:22,  2.63it/s]\u001b[A\u001b[A\n",
            "\n",
            " 23%|██▎       | 293/1300 [01:45<06:04,  2.76it/s]\u001b[A\u001b[A\n",
            "\n",
            " 23%|██▎       | 294/1300 [01:45<06:14,  2.69it/s]\u001b[A\u001b[A\n",
            "\n",
            " 23%|██▎       | 295/1300 [01:45<05:40,  2.95it/s]\u001b[A\u001b[A\n",
            "\n",
            " 23%|██▎       | 296/1300 [01:46<06:20,  2.64it/s]\u001b[A\u001b[A\n",
            "\n",
            " 23%|██▎       | 297/1300 [01:46<05:58,  2.80it/s]\u001b[A\u001b[A\n",
            "\n",
            " 23%|██▎       | 298/1300 [01:46<05:40,  2.94it/s]\u001b[A\u001b[A\n",
            "\n",
            " 23%|██▎       | 299/1300 [01:47<05:43,  2.92it/s]\u001b[A\u001b[A\n",
            "\n",
            " 23%|██▎       | 300/1300 [01:47<05:48,  2.87it/s]\u001b[A\u001b[A\n",
            "\n",
            " 23%|██▎       | 301/1300 [01:47<05:20,  3.12it/s]\u001b[A\u001b[A\n",
            "\n",
            " 23%|██▎       | 302/1300 [01:48<05:34,  2.98it/s]\u001b[A\u001b[A\n",
            "\n",
            " 23%|██▎       | 303/1300 [01:48<05:50,  2.84it/s]\u001b[A\u001b[A\n",
            "\n",
            " 23%|██▎       | 304/1300 [01:49<05:41,  2.92it/s]\u001b[A\u001b[A\n",
            "\n",
            " 23%|██▎       | 305/1300 [01:49<05:52,  2.82it/s]\u001b[A\u001b[A\n",
            "\n",
            " 24%|██▎       | 306/1300 [01:49<05:49,  2.84it/s]\u001b[A\u001b[A\n",
            "\n",
            " 24%|██▎       | 307/1300 [01:50<05:46,  2.87it/s]\u001b[A\u001b[A\n",
            "\n",
            " 24%|██▎       | 308/1300 [01:50<06:13,  2.66it/s]\u001b[A\u001b[A\n",
            "\n",
            " 24%|██▍       | 309/1300 [01:50<05:43,  2.88it/s]\u001b[A\u001b[A\n",
            "\n",
            " 24%|██▍       | 310/1300 [01:51<06:10,  2.67it/s]\u001b[A\u001b[A\n",
            "\n",
            " 24%|██▍       | 311/1300 [01:51<05:53,  2.80it/s]\u001b[A\u001b[A\n",
            "\n",
            " 24%|██▍       | 312/1300 [01:52<06:29,  2.54it/s]\u001b[A\u001b[A\n",
            "\n",
            " 24%|██▍       | 313/1300 [01:52<06:42,  2.45it/s]\u001b[A\u001b[A\n",
            "\n",
            " 24%|██▍       | 314/1300 [01:52<06:08,  2.68it/s]\u001b[A\u001b[A\n",
            "\n",
            " 24%|██▍       | 315/1300 [01:53<06:26,  2.55it/s]\u001b[A\u001b[A\n",
            "\n",
            " 24%|██▍       | 316/1300 [01:53<05:53,  2.78it/s]\u001b[A\u001b[A\n",
            "\n",
            " 24%|██▍       | 317/1300 [01:53<05:31,  2.96it/s]\u001b[A\u001b[A\n",
            "\n",
            " 24%|██▍       | 318/1300 [01:54<05:06,  3.20it/s]\u001b[A\u001b[A\n",
            "\n",
            " 25%|██▍       | 319/1300 [01:54<05:24,  3.02it/s]\u001b[A\u001b[A\n",
            "\n",
            " 25%|██▍       | 320/1300 [01:54<05:43,  2.86it/s]\u001b[A\u001b[A\n",
            "\n",
            " 25%|██▍       | 321/1300 [01:55<05:49,  2.80it/s]\u001b[A\u001b[A\n",
            "\n",
            " 25%|██▍       | 322/1300 [01:55<05:59,  2.72it/s]\u001b[A\u001b[A\n",
            "\n",
            " 25%|██▍       | 323/1300 [01:55<05:49,  2.80it/s]\u001b[A\u001b[A\n",
            "\n",
            " 25%|██▍       | 324/1300 [01:56<05:28,  2.97it/s]\u001b[A\u001b[A\n",
            "\n",
            " 25%|██▌       | 325/1300 [01:56<05:15,  3.09it/s]\u001b[A\u001b[A\n",
            "\n",
            " 25%|██▌       | 326/1300 [01:56<05:40,  2.86it/s]\u001b[A\u001b[A\n",
            "\n",
            " 25%|██▌       | 327/1300 [01:57<05:54,  2.75it/s]\u001b[A\u001b[A\n",
            "\n",
            " 25%|██▌       | 328/1300 [01:57<05:31,  2.93it/s]\u001b[A\u001b[A\n",
            "\n",
            " 25%|██▌       | 329/1300 [01:57<05:32,  2.92it/s]\u001b[A\u001b[A\n",
            "\n",
            " 25%|██▌       | 330/1300 [01:58<06:03,  2.67it/s]\u001b[A\u001b[A\n",
            "\n",
            " 25%|██▌       | 331/1300 [01:58<05:30,  2.93it/s]\u001b[A\u001b[A\n",
            "\n",
            " 26%|██▌       | 332/1300 [01:58<04:59,  3.23it/s]\u001b[A\u001b[A\n",
            "\n",
            " 26%|██▌       | 333/1300 [01:59<05:19,  3.03it/s]\u001b[A\u001b[A\n",
            "\n",
            " 26%|██▌       | 334/1300 [01:59<06:02,  2.67it/s]\u001b[A\u001b[A\n",
            "\n",
            " 26%|██▌       | 335/1300 [02:00<06:11,  2.60it/s]\u001b[A\u001b[A\n",
            "\n",
            " 26%|██▌       | 336/1300 [02:00<06:11,  2.60it/s]\u001b[A\u001b[A\n",
            "\n",
            " 26%|██▌       | 337/1300 [02:00<06:12,  2.59it/s]\u001b[A\u001b[A\n",
            "\n",
            " 26%|██▌       | 338/1300 [02:01<05:54,  2.71it/s]\u001b[A\u001b[A\n",
            "\n",
            " 26%|██▌       | 339/1300 [02:01<05:21,  2.99it/s]\u001b[A\u001b[A\n",
            "\n",
            " 26%|██▌       | 340/1300 [02:01<05:49,  2.74it/s]\u001b[A\u001b[A\n",
            "\n",
            " 26%|██▌       | 341/1300 [02:02<05:15,  3.04it/s]\u001b[A\u001b[A\n",
            "\n",
            " 26%|██▋       | 342/1300 [02:02<05:28,  2.92it/s]\u001b[A\u001b[A\n",
            "\n",
            " 26%|██▋       | 343/1300 [02:02<05:29,  2.91it/s]\u001b[A\u001b[A\n",
            "\n",
            " 26%|██▋       | 344/1300 [02:03<05:39,  2.82it/s]\u001b[A\u001b[A\n",
            "\n",
            " 27%|██▋       | 345/1300 [02:03<05:28,  2.91it/s]\u001b[A\u001b[A\n",
            "\n",
            " 27%|██▋       | 346/1300 [02:03<05:06,  3.11it/s]\u001b[A\u001b[A\n",
            "\n",
            " 27%|██▋       | 347/1300 [02:04<05:40,  2.80it/s]\u001b[A\u001b[A\n",
            "\n",
            " 27%|██▋       | 348/1300 [02:04<05:35,  2.83it/s]\u001b[A\u001b[A\n",
            "\n",
            " 27%|██▋       | 349/1300 [02:04<05:16,  3.00it/s]\u001b[A\u001b[A\n",
            "\n",
            " 27%|██▋       | 350/1300 [02:05<05:20,  2.97it/s]\u001b[A\u001b[A\n",
            "\n",
            " 27%|██▋       | 351/1300 [02:05<05:37,  2.81it/s]\u001b[A\u001b[A\n",
            "\n",
            " 27%|██▋       | 352/1300 [02:06<05:39,  2.79it/s]\u001b[A\u001b[A\n",
            "\n",
            " 27%|██▋       | 353/1300 [02:06<05:49,  2.71it/s]\u001b[A\u001b[A\n",
            "\n",
            " 27%|██▋       | 354/1300 [02:06<06:03,  2.61it/s]\u001b[A\u001b[A\n",
            "\n",
            " 27%|██▋       | 355/1300 [02:07<05:43,  2.75it/s]\u001b[A\u001b[A\n",
            "\n",
            " 27%|██▋       | 356/1300 [02:07<05:40,  2.78it/s]\u001b[A\u001b[A\n",
            "\n",
            " 27%|██▋       | 357/1300 [02:07<05:23,  2.91it/s]\u001b[A\u001b[A\n",
            "\n",
            " 28%|██▊       | 358/1300 [02:08<05:45,  2.73it/s]\u001b[A\u001b[A\n",
            "\n",
            " 28%|██▊       | 359/1300 [02:08<05:17,  2.96it/s]\u001b[A\u001b[A\n",
            "\n",
            " 28%|██▊       | 360/1300 [02:08<05:20,  2.94it/s]\u001b[A\u001b[A\n",
            "\n",
            " 28%|██▊       | 361/1300 [02:09<05:02,  3.10it/s]\u001b[A\u001b[A\n",
            "\n",
            " 28%|██▊       | 362/1300 [02:09<05:34,  2.80it/s]\u001b[A\u001b[A\n",
            "\n",
            " 28%|██▊       | 363/1300 [02:09<05:11,  3.01it/s]\u001b[A\u001b[A\n",
            "\n",
            " 28%|██▊       | 364/1300 [02:10<04:56,  3.16it/s]\u001b[A\u001b[A\n",
            "\n",
            " 28%|██▊       | 365/1300 [02:10<04:38,  3.35it/s]\u001b[A\u001b[A\n",
            "\n",
            " 28%|██▊       | 366/1300 [02:10<04:46,  3.26it/s]\u001b[A\u001b[A\n",
            "\n",
            " 28%|██▊       | 367/1300 [02:11<04:57,  3.14it/s]\u001b[A\u001b[A\n",
            "\n",
            " 28%|██▊       | 368/1300 [02:11<05:37,  2.76it/s]\u001b[A\u001b[A\n",
            "\n",
            " 28%|██▊       | 369/1300 [02:11<05:01,  3.09it/s]\u001b[A\u001b[A\n",
            "\n",
            " 28%|██▊       | 370/1300 [02:12<05:31,  2.81it/s]\u001b[A\u001b[A\n",
            "\n",
            " 29%|██▊       | 371/1300 [02:12<05:17,  2.93it/s]\u001b[A\u001b[A\n",
            "\n",
            " 29%|██▊       | 372/1300 [02:12<05:14,  2.95it/s]\u001b[A\u001b[A\n",
            "\n",
            " 29%|██▊       | 373/1300 [02:13<05:33,  2.78it/s]\u001b[A\u001b[A\n",
            "\n",
            " 29%|██▉       | 374/1300 [02:13<05:49,  2.65it/s]\u001b[A\u001b[A\n",
            "\n",
            " 29%|██▉       | 375/1300 [02:14<05:53,  2.62it/s]\u001b[A\u001b[A\n",
            "\n",
            " 29%|██▉       | 376/1300 [02:14<05:56,  2.59it/s]\u001b[A\u001b[A\n",
            "\n",
            " 29%|██▉       | 377/1300 [02:14<06:02,  2.54it/s]\u001b[A\u001b[A\n",
            "\n",
            " 29%|██▉       | 378/1300 [02:15<06:00,  2.56it/s]\u001b[A\u001b[A\n",
            "\n",
            " 29%|██▉       | 379/1300 [02:15<05:57,  2.58it/s]\u001b[A\u001b[A\n",
            "\n",
            " 29%|██▉       | 380/1300 [02:16<06:09,  2.49it/s]\u001b[A\u001b[A\n",
            "\n",
            " 29%|██▉       | 381/1300 [02:16<05:43,  2.68it/s]\u001b[A\u001b[A\n",
            "\n",
            " 29%|██▉       | 382/1300 [02:16<05:55,  2.58it/s]\u001b[A\u001b[A\n",
            "\n",
            " 29%|██▉       | 383/1300 [02:17<06:01,  2.54it/s]\u001b[A\u001b[A\n",
            "\n",
            " 30%|██▉       | 384/1300 [02:17<05:24,  2.83it/s]\u001b[A\u001b[A\n",
            "\n",
            " 30%|██▉       | 385/1300 [02:17<05:20,  2.86it/s]\u001b[A\u001b[A\n",
            "\n",
            " 30%|██▉       | 386/1300 [02:18<05:45,  2.64it/s]\u001b[A\u001b[A\n",
            "\n",
            " 30%|██▉       | 387/1300 [02:18<05:51,  2.60it/s]\u001b[A\u001b[A\n",
            "\n",
            " 30%|██▉       | 388/1300 [02:18<05:31,  2.75it/s]\u001b[A\u001b[A\n",
            "\n",
            " 30%|██▉       | 389/1300 [02:19<05:11,  2.92it/s]\u001b[A\u001b[A\n",
            "\n",
            " 30%|███       | 390/1300 [02:19<04:50,  3.13it/s]\u001b[A\u001b[A\n",
            "\n",
            " 30%|███       | 391/1300 [02:19<05:03,  2.99it/s]\u001b[A\u001b[A\n",
            "\n",
            " 30%|███       | 392/1300 [02:20<04:51,  3.11it/s]\u001b[A\u001b[A\n",
            "\n",
            " 30%|███       | 393/1300 [02:20<05:00,  3.01it/s]\u001b[A\u001b[A\n",
            "\n",
            " 30%|███       | 394/1300 [02:20<05:16,  2.86it/s]\u001b[A\u001b[A\n",
            "\n",
            " 30%|███       | 395/1300 [02:21<05:27,  2.76it/s]\u001b[A\u001b[A\n",
            "\n",
            " 30%|███       | 396/1300 [02:21<05:28,  2.75it/s]\u001b[A\u001b[A\n",
            "\n",
            " 31%|███       | 397/1300 [02:22<05:25,  2.78it/s]\u001b[A\u001b[A\n",
            "\n",
            " 31%|███       | 398/1300 [02:22<05:35,  2.69it/s]\u001b[A\u001b[A\n",
            "\n",
            " 31%|███       | 399/1300 [02:22<05:13,  2.87it/s]\u001b[A\u001b[A\n",
            "\n",
            " 31%|███       | 400/1300 [02:23<05:24,  2.77it/s]\u001b[A\u001b[A\n",
            "\n",
            " 31%|███       | 401/1300 [02:23<05:06,  2.93it/s]\u001b[A\u001b[A\n",
            "\n",
            " 31%|███       | 402/1300 [02:23<04:42,  3.18it/s]\u001b[A\u001b[A\n",
            "\n",
            " 31%|███       | 403/1300 [02:24<05:12,  2.87it/s]\u001b[A\u001b[A\n",
            "\n",
            " 31%|███       | 404/1300 [02:24<05:19,  2.80it/s]\u001b[A\u001b[A\n",
            "\n",
            " 31%|███       | 405/1300 [02:24<04:56,  3.02it/s]\u001b[A\u001b[A\n",
            "\n",
            " 31%|███       | 406/1300 [02:25<05:23,  2.77it/s]\u001b[A\u001b[A\n",
            "\n",
            " 31%|███▏      | 407/1300 [02:25<05:33,  2.68it/s]\u001b[A\u001b[A\n",
            "\n",
            " 31%|███▏      | 408/1300 [02:26<05:52,  2.53it/s]\u001b[A\u001b[A\n",
            "\n",
            " 31%|███▏      | 409/1300 [02:26<05:12,  2.85it/s]\u001b[A\u001b[A\n",
            "\n",
            " 32%|███▏      | 410/1300 [02:26<05:23,  2.75it/s]\u001b[A\u001b[A\n",
            "\n",
            " 32%|███▏      | 411/1300 [02:27<05:32,  2.68it/s]\u001b[A\u001b[A\n",
            "\n",
            " 32%|███▏      | 412/1300 [02:27<05:21,  2.76it/s]\u001b[A\u001b[A\n",
            "\n",
            " 32%|███▏      | 413/1300 [02:27<05:40,  2.60it/s]\u001b[A\u001b[A\n",
            "\n",
            " 32%|███▏      | 414/1300 [02:28<05:44,  2.57it/s]\u001b[A\u001b[A\n",
            "\n",
            " 32%|███▏      | 415/1300 [02:28<05:52,  2.51it/s]\u001b[A\u001b[A\n",
            "\n",
            " 32%|███▏      | 416/1300 [02:28<05:30,  2.68it/s]\u001b[A\u001b[A\n",
            "\n",
            " 32%|███▏      | 417/1300 [02:29<05:37,  2.62it/s]\u001b[A\u001b[A\n",
            "\n",
            " 32%|███▏      | 418/1300 [02:29<05:18,  2.77it/s]\u001b[A\u001b[A\n",
            "\n",
            " 32%|███▏      | 419/1300 [02:30<05:09,  2.85it/s]\u001b[A\u001b[A\n",
            "\n",
            " 32%|███▏      | 420/1300 [02:30<04:41,  3.12it/s]\u001b[A\u001b[A\n",
            "\n",
            " 32%|███▏      | 421/1300 [02:30<04:56,  2.96it/s]\u001b[A\u001b[A\n",
            "\n",
            " 32%|███▏      | 422/1300 [02:30<04:53,  2.99it/s]\u001b[A\u001b[A\n",
            "\n",
            " 33%|███▎      | 423/1300 [02:31<04:39,  3.14it/s]\u001b[A\u001b[A\n",
            "\n",
            " 33%|███▎      | 424/1300 [02:31<04:52,  3.00it/s]\u001b[A\u001b[A\n",
            "\n",
            " 33%|███▎      | 425/1300 [02:32<05:16,  2.77it/s]\u001b[A\u001b[A\n",
            "\n",
            " 33%|███▎      | 426/1300 [02:32<05:18,  2.75it/s]\u001b[A\u001b[A\n",
            "\n",
            " 33%|███▎      | 427/1300 [02:32<05:04,  2.87it/s]\u001b[A\u001b[A\n",
            "\n",
            " 33%|███▎      | 428/1300 [02:33<04:57,  2.93it/s]\u001b[A\u001b[A\n",
            "\n",
            " 33%|███▎      | 429/1300 [02:33<04:50,  3.00it/s]\u001b[A\u001b[A\n",
            "\n",
            " 33%|███▎      | 430/1300 [02:33<04:54,  2.95it/s]\u001b[A\u001b[A\n",
            "\n",
            " 33%|███▎      | 431/1300 [02:34<04:38,  3.11it/s]\u001b[A\u001b[A\n",
            "\n",
            " 33%|███▎      | 432/1300 [02:34<04:34,  3.16it/s]\u001b[A\u001b[A\n",
            "\n",
            " 33%|███▎      | 433/1300 [02:34<05:14,  2.76it/s]\u001b[A\u001b[A\n",
            "\n",
            " 33%|███▎      | 434/1300 [02:35<05:22,  2.68it/s]\u001b[A\u001b[A\n",
            "\n",
            " 33%|███▎      | 435/1300 [02:35<05:52,  2.46it/s]\u001b[A\u001b[A\n",
            "\n",
            " 34%|███▎      | 436/1300 [02:35<05:26,  2.65it/s]\u001b[A\u001b[A\n",
            "\n",
            " 34%|███▎      | 437/1300 [02:36<05:02,  2.85it/s]\u001b[A\u001b[A\n",
            "\n",
            " 34%|███▎      | 438/1300 [02:36<04:38,  3.09it/s]\u001b[A\u001b[A\n",
            "\n",
            " 34%|███▍      | 439/1300 [02:36<04:47,  3.00it/s]\u001b[A\u001b[A\n",
            "\n",
            " 34%|███▍      | 440/1300 [02:37<04:44,  3.03it/s]\u001b[A\u001b[A\n",
            "\n",
            " 34%|███▍      | 441/1300 [02:37<04:43,  3.03it/s]\u001b[A\u001b[A\n",
            "\n",
            " 34%|███▍      | 442/1300 [02:37<05:12,  2.75it/s]\u001b[A\u001b[A\n",
            "\n",
            " 34%|███▍      | 443/1300 [02:38<05:38,  2.54it/s]\u001b[A\u001b[A\n",
            "\n",
            " 34%|███▍      | 444/1300 [02:38<05:16,  2.71it/s]\u001b[A\u001b[A\n",
            "\n",
            " 34%|███▍      | 445/1300 [02:39<05:16,  2.70it/s]\u001b[A\u001b[A\n",
            "\n",
            " 34%|███▍      | 446/1300 [02:39<05:20,  2.67it/s]\u001b[A\u001b[A\n",
            "\n",
            " 34%|███▍      | 447/1300 [02:39<05:05,  2.79it/s]\u001b[A\u001b[A\n",
            "\n",
            " 34%|███▍      | 448/1300 [02:40<04:57,  2.86it/s]\u001b[A\u001b[A\n",
            "\n",
            " 35%|███▍      | 449/1300 [02:40<04:52,  2.91it/s]\u001b[A\u001b[A\n",
            "\n",
            " 35%|███▍      | 450/1300 [02:40<04:48,  2.95it/s]\u001b[A\u001b[A\n",
            "\n",
            " 35%|███▍      | 451/1300 [02:41<05:20,  2.65it/s]\u001b[A\u001b[A\n",
            "\n",
            " 35%|███▍      | 452/1300 [02:41<05:21,  2.64it/s]\u001b[A\u001b[A\n",
            "\n",
            " 35%|███▍      | 453/1300 [02:41<04:47,  2.95it/s]\u001b[A\u001b[A\n",
            "\n",
            " 35%|███▍      | 454/1300 [02:42<04:49,  2.92it/s]\u001b[A\u001b[A\n",
            "\n",
            " 35%|███▌      | 455/1300 [02:42<04:49,  2.91it/s]\u001b[A\u001b[A\n",
            "\n",
            " 35%|███▌      | 456/1300 [02:42<04:35,  3.07it/s]\u001b[A\u001b[A\n",
            "\n",
            " 35%|███▌      | 457/1300 [02:43<04:16,  3.29it/s]\u001b[A\u001b[A\n",
            "\n",
            " 35%|███▌      | 458/1300 [02:43<04:59,  2.81it/s]\u001b[A\u001b[A\n",
            "\n",
            " 35%|███▌      | 459/1300 [02:43<04:35,  3.05it/s]\u001b[A\u001b[A\n",
            "\n",
            " 35%|███▌      | 460/1300 [02:44<05:13,  2.68it/s]\u001b[A\u001b[A\n",
            "\n",
            " 35%|███▌      | 461/1300 [02:44<05:17,  2.64it/s]\u001b[A\u001b[A\n",
            "\n",
            " 36%|███▌      | 462/1300 [02:45<05:04,  2.75it/s]\u001b[A\u001b[A\n",
            "\n",
            " 36%|███▌      | 463/1300 [02:45<05:14,  2.66it/s]\u001b[A\u001b[A\n",
            "\n",
            " 36%|███▌      | 464/1300 [02:45<05:36,  2.48it/s]\u001b[A\u001b[A\n",
            "\n",
            " 36%|███▌      | 465/1300 [02:46<05:03,  2.75it/s]\u001b[A\u001b[A\n",
            "\n",
            " 36%|███▌      | 466/1300 [02:46<05:29,  2.53it/s]\u001b[A\u001b[A\n",
            "\n",
            " 36%|███▌      | 467/1300 [02:46<04:54,  2.83it/s]\u001b[A\u001b[A\n",
            "\n",
            " 36%|███▌      | 468/1300 [02:47<05:13,  2.65it/s]\u001b[A\u001b[A\n",
            "\n",
            " 36%|███▌      | 469/1300 [02:47<05:07,  2.71it/s]\u001b[A\u001b[A\n",
            "\n",
            " 36%|███▌      | 470/1300 [02:48<05:27,  2.53it/s]\u001b[A\u001b[A\n",
            "\n",
            " 36%|███▌      | 471/1300 [02:48<05:43,  2.41it/s]\u001b[A\u001b[A\n",
            "\n",
            " 36%|███▋      | 472/1300 [02:49<05:55,  2.33it/s]\u001b[A\u001b[A\n",
            "\n",
            " 36%|███▋      | 473/1300 [02:49<05:22,  2.57it/s]\u001b[A\u001b[A\n",
            "\n",
            " 36%|███▋      | 474/1300 [02:49<05:34,  2.47it/s]\u001b[A\u001b[A\n",
            "\n",
            " 37%|███▋      | 475/1300 [02:50<05:09,  2.67it/s]\u001b[A\u001b[A\n",
            "\n",
            " 37%|███▋      | 476/1300 [02:50<04:36,  2.98it/s]\u001b[A\u001b[A\n",
            "\n",
            " 37%|███▋      | 477/1300 [02:50<04:35,  2.99it/s]\u001b[A\u001b[A\n",
            "\n",
            " 37%|███▋      | 478/1300 [02:51<05:06,  2.69it/s]\u001b[A\u001b[A\n",
            "\n",
            " 37%|███▋      | 479/1300 [02:51<05:04,  2.69it/s]\u001b[A\u001b[A\n",
            "\n",
            " 37%|███▋      | 480/1300 [02:51<05:10,  2.64it/s]\u001b[A\u001b[A\n",
            "\n",
            " 37%|███▋      | 481/1300 [02:52<05:23,  2.53it/s]\u001b[A\u001b[A\n",
            "\n",
            " 37%|███▋      | 482/1300 [02:52<05:24,  2.52it/s]\u001b[A\u001b[A\n",
            "\n",
            " 37%|███▋      | 483/1300 [02:53<05:21,  2.54it/s]\u001b[A\u001b[A\n",
            "\n",
            " 37%|███▋      | 484/1300 [02:53<04:47,  2.83it/s]\u001b[A\u001b[A\n",
            "\n",
            " 37%|███▋      | 485/1300 [02:53<04:47,  2.83it/s]\u001b[A\u001b[A\n",
            "\n",
            " 37%|███▋      | 486/1300 [02:54<04:32,  2.99it/s]\u001b[A\u001b[A\n",
            "\n",
            " 37%|███▋      | 487/1300 [02:54<04:23,  3.08it/s]\u001b[A\u001b[A\n",
            "\n",
            " 38%|███▊      | 488/1300 [02:54<04:15,  3.18it/s]\u001b[A\u001b[A\n",
            "\n",
            " 38%|███▊      | 489/1300 [02:55<04:26,  3.04it/s]\u001b[A\u001b[A\n",
            "\n",
            " 38%|███▊      | 490/1300 [02:55<04:16,  3.16it/s]\u001b[A\u001b[A\n",
            "\n",
            " 38%|███▊      | 491/1300 [02:55<04:34,  2.95it/s]\u001b[A\u001b[A\n",
            "\n",
            " 38%|███▊      | 492/1300 [02:56<04:28,  3.01it/s]\u001b[A\u001b[A\n",
            "\n",
            " 38%|███▊      | 493/1300 [02:56<04:42,  2.86it/s]\u001b[A\u001b[A\n",
            "\n",
            " 38%|███▊      | 494/1300 [02:56<04:22,  3.07it/s]\u001b[A\u001b[A\n",
            "\n",
            " 38%|███▊      | 495/1300 [02:57<04:34,  2.93it/s]\u001b[A\u001b[A\n",
            "\n",
            " 38%|███▊      | 496/1300 [02:57<04:12,  3.19it/s]\u001b[A\u001b[A\n",
            "\n",
            " 38%|███▊      | 497/1300 [02:57<04:11,  3.20it/s]\u001b[A\u001b[A\n",
            "\n",
            " 38%|███▊      | 498/1300 [02:58<04:34,  2.92it/s]\u001b[A\u001b[A\n",
            "\n",
            " 38%|███▊      | 499/1300 [02:58<05:01,  2.66it/s]\u001b[A\u001b[A\n",
            "\n",
            " 38%|███▊      | 500/1300 [02:58<04:40,  2.85it/s]\u001b[A\u001b[A\n",
            "\n",
            " 39%|███▊      | 501/1300 [02:59<04:51,  2.74it/s]\u001b[A\u001b[A\n",
            "\n",
            " 39%|███▊      | 502/1300 [02:59<04:56,  2.69it/s]\u001b[A\u001b[A\n",
            "\n",
            " 39%|███▊      | 503/1300 [03:00<05:20,  2.48it/s]\u001b[A\u001b[A\n",
            "\n",
            " 39%|███▉      | 504/1300 [03:00<05:05,  2.60it/s]\u001b[A\u001b[A\n",
            "\n",
            " 39%|███▉      | 505/1300 [03:00<04:49,  2.75it/s]\u001b[A\u001b[A\n",
            "\n",
            " 39%|███▉      | 506/1300 [03:01<05:06,  2.59it/s]\u001b[A\u001b[A\n",
            "\n",
            " 39%|███▉      | 507/1300 [03:01<04:51,  2.72it/s]\u001b[A\u001b[A\n",
            "\n",
            " 39%|███▉      | 508/1300 [03:01<04:33,  2.90it/s]\u001b[A\u001b[A\n",
            "\n",
            " 39%|███▉      | 509/1300 [03:02<04:21,  3.03it/s]\u001b[A\u001b[A\n",
            "\n",
            " 39%|███▉      | 510/1300 [03:02<04:03,  3.25it/s]\u001b[A\u001b[A\n",
            "\n",
            " 39%|███▉      | 511/1300 [03:02<03:52,  3.39it/s]\u001b[A\u001b[A\n",
            "\n",
            " 39%|███▉      | 512/1300 [03:02<04:20,  3.03it/s]\u001b[A\u001b[A\n",
            "\n",
            " 39%|███▉      | 513/1300 [03:03<04:23,  2.99it/s]\u001b[A\u001b[A\n",
            "\n",
            " 40%|███▉      | 514/1300 [03:03<04:54,  2.66it/s]\u001b[A\u001b[A\n",
            "\n",
            " 40%|███▉      | 515/1300 [03:04<04:35,  2.85it/s]\u001b[A\u001b[A\n",
            "\n",
            " 40%|███▉      | 516/1300 [03:04<04:35,  2.85it/s]\u001b[A\u001b[A\n",
            "\n",
            " 40%|███▉      | 517/1300 [03:04<04:19,  3.01it/s]\u001b[A\u001b[A\n",
            "\n",
            " 40%|███▉      | 518/1300 [03:05<04:28,  2.91it/s]\u001b[A\u001b[A\n",
            "\n",
            " 40%|███▉      | 519/1300 [03:05<04:40,  2.79it/s]\u001b[A\u001b[A\n",
            "\n",
            " 40%|████      | 520/1300 [03:05<05:04,  2.57it/s]\u001b[A\u001b[A\n",
            "\n",
            " 40%|████      | 521/1300 [03:06<04:59,  2.60it/s]\u001b[A\u001b[A\n",
            "\n",
            " 40%|████      | 522/1300 [03:06<04:30,  2.88it/s]\u001b[A\u001b[A\n",
            "\n",
            " 40%|████      | 523/1300 [03:06<04:15,  3.04it/s]\u001b[A\u001b[A\n",
            "\n",
            " 40%|████      | 524/1300 [03:07<04:16,  3.03it/s]\u001b[A\u001b[A\n",
            "\n",
            " 40%|████      | 525/1300 [03:07<04:17,  3.01it/s]\u001b[A\u001b[A\n",
            "\n",
            " 40%|████      | 526/1300 [03:07<04:35,  2.80it/s]\u001b[A\u001b[A\n",
            "\n",
            " 41%|████      | 527/1300 [03:08<04:20,  2.97it/s]\u001b[A\u001b[A\n",
            "\n",
            " 41%|████      | 528/1300 [03:08<04:19,  2.97it/s]\u001b[A\u001b[A\n",
            "\n",
            " 41%|████      | 529/1300 [03:09<04:38,  2.77it/s]\u001b[A\u001b[A\n",
            "\n",
            " 41%|████      | 530/1300 [03:09<04:46,  2.69it/s]\u001b[A\u001b[A\n",
            "\n",
            " 41%|████      | 531/1300 [03:09<04:35,  2.79it/s]\u001b[A\u001b[A\n",
            "\n",
            " 41%|████      | 532/1300 [03:10<04:37,  2.77it/s]\u001b[A\u001b[A\n",
            "\n",
            " 41%|████      | 533/1300 [03:10<04:59,  2.56it/s]\u001b[A\u001b[A\n",
            "\n",
            " 41%|████      | 534/1300 [03:10<04:29,  2.84it/s]\u001b[A\u001b[A\n",
            "\n",
            " 41%|████      | 535/1300 [03:11<04:22,  2.92it/s]\u001b[A\u001b[A\n",
            "\n",
            " 41%|████      | 536/1300 [03:11<04:42,  2.71it/s]\u001b[A\u001b[A\n",
            "\n",
            " 41%|████▏     | 537/1300 [03:11<04:18,  2.95it/s]\u001b[A\u001b[A\n",
            "\n",
            " 41%|████▏     | 538/1300 [03:12<04:15,  2.99it/s]\u001b[A\u001b[A\n",
            "\n",
            " 41%|████▏     | 539/1300 [03:12<04:11,  3.03it/s]\u001b[A\u001b[A\n",
            "\n",
            " 42%|████▏     | 540/1300 [03:12<04:39,  2.71it/s]\u001b[A\u001b[A\n",
            "\n",
            " 42%|████▏     | 541/1300 [03:13<04:42,  2.68it/s]\u001b[A\u001b[A\n",
            "\n",
            " 42%|████▏     | 542/1300 [03:13<04:40,  2.71it/s]\u001b[A\u001b[A\n",
            "\n",
            " 42%|████▏     | 543/1300 [03:14<04:59,  2.53it/s]\u001b[A\u001b[A\n",
            "\n",
            " 42%|████▏     | 544/1300 [03:14<04:30,  2.79it/s]\u001b[A\u001b[A\n",
            "\n",
            " 42%|████▏     | 545/1300 [03:14<04:39,  2.70it/s]\u001b[A\u001b[A\n",
            "\n",
            " 42%|████▏     | 546/1300 [03:15<04:23,  2.87it/s]\u001b[A\u001b[A\n",
            "\n",
            " 42%|████▏     | 547/1300 [03:15<04:28,  2.80it/s]\u001b[A\u001b[A\n",
            "\n",
            " 42%|████▏     | 548/1300 [03:15<04:53,  2.56it/s]\u001b[A\u001b[A\n",
            "\n",
            " 42%|████▏     | 549/1300 [03:16<04:39,  2.69it/s]\u001b[A\u001b[A\n",
            "\n",
            " 42%|████▏     | 550/1300 [03:16<04:19,  2.89it/s]\u001b[A\u001b[A\n",
            "\n",
            " 42%|████▏     | 551/1300 [03:16<04:16,  2.92it/s]\u001b[A\u001b[A\n",
            "\n",
            " 42%|████▏     | 552/1300 [03:17<04:31,  2.76it/s]\u001b[A\u001b[A\n",
            "\n",
            " 43%|████▎     | 553/1300 [03:17<04:49,  2.58it/s]\u001b[A\u001b[A\n",
            "\n",
            " 43%|████▎     | 554/1300 [03:18<04:22,  2.84it/s]\u001b[A\u001b[A\n",
            "\n",
            " 43%|████▎     | 555/1300 [03:18<04:35,  2.71it/s]\u001b[A\u001b[A\n",
            "\n",
            " 43%|████▎     | 556/1300 [03:18<04:28,  2.77it/s]\u001b[A\u001b[A\n",
            "\n",
            " 43%|████▎     | 557/1300 [03:19<04:23,  2.82it/s]\u001b[A\u001b[A\n",
            "\n",
            " 43%|████▎     | 558/1300 [03:19<04:33,  2.72it/s]\u001b[A\u001b[A\n",
            "\n",
            " 43%|████▎     | 559/1300 [03:19<04:37,  2.67it/s]\u001b[A\u001b[A\n",
            "\n",
            " 43%|████▎     | 560/1300 [03:20<04:31,  2.72it/s]\u001b[A\u001b[A\n",
            "\n",
            " 43%|████▎     | 561/1300 [03:20<04:17,  2.87it/s]\u001b[A\u001b[A\n",
            "\n",
            " 43%|████▎     | 562/1300 [03:20<04:14,  2.90it/s]\u001b[A\u001b[A\n",
            "\n",
            " 43%|████▎     | 563/1300 [03:21<04:01,  3.06it/s]\u001b[A\u001b[A\n",
            "\n",
            " 43%|████▎     | 564/1300 [03:21<04:10,  2.94it/s]\u001b[A\u001b[A\n",
            "\n",
            " 43%|████▎     | 565/1300 [03:21<03:58,  3.09it/s]\u001b[A\u001b[A\n",
            "\n",
            " 44%|████▎     | 566/1300 [03:22<03:50,  3.19it/s]\u001b[A\u001b[A\n",
            "\n",
            " 44%|████▎     | 567/1300 [03:22<03:35,  3.40it/s]\u001b[A\u001b[A\n",
            "\n",
            " 44%|████▎     | 568/1300 [03:22<03:51,  3.16it/s]\u001b[A\u001b[A\n",
            "\n",
            " 44%|████▍     | 569/1300 [03:23<04:12,  2.90it/s]\u001b[A\u001b[A\n",
            "\n",
            " 44%|████▍     | 570/1300 [03:23<04:37,  2.63it/s]\u001b[A\u001b[A\n",
            "\n",
            " 44%|████▍     | 571/1300 [03:24<04:36,  2.63it/s]\u001b[A\u001b[A\n",
            "\n",
            " 44%|████▍     | 572/1300 [03:24<04:56,  2.46it/s]\u001b[A\u001b[A\n",
            "\n",
            " 44%|████▍     | 573/1300 [03:24<04:35,  2.64it/s]\u001b[A\u001b[A\n",
            "\n",
            " 44%|████▍     | 574/1300 [03:25<04:36,  2.63it/s]\u001b[A\u001b[A\n",
            "\n",
            " 44%|████▍     | 575/1300 [03:25<05:00,  2.41it/s]\u001b[A\u001b[A\n",
            "\n",
            " 44%|████▍     | 576/1300 [03:26<04:41,  2.57it/s]\u001b[A\u001b[A\n",
            "\n",
            " 44%|████▍     | 577/1300 [03:26<04:18,  2.79it/s]\u001b[A\u001b[A\n",
            "\n",
            " 44%|████▍     | 578/1300 [03:26<04:15,  2.83it/s]\u001b[A\u001b[A\n",
            "\n",
            " 45%|████▍     | 579/1300 [03:26<04:05,  2.94it/s]\u001b[A\u001b[A\n",
            "\n",
            " 45%|████▍     | 580/1300 [03:27<04:03,  2.96it/s]\u001b[A\u001b[A\n",
            "\n",
            " 45%|████▍     | 581/1300 [03:27<04:31,  2.65it/s]\u001b[A\u001b[A\n",
            "\n",
            " 45%|████▍     | 582/1300 [03:28<04:15,  2.81it/s]\u001b[A\u001b[A\n",
            "\n",
            " 45%|████▍     | 583/1300 [03:28<04:37,  2.58it/s]\u001b[A\u001b[A\n",
            "\n",
            " 45%|████▍     | 584/1300 [03:28<04:11,  2.85it/s]\u001b[A\u001b[A\n",
            "\n",
            " 45%|████▌     | 585/1300 [03:29<04:17,  2.78it/s]\u001b[A\u001b[A\n",
            "\n",
            " 45%|████▌     | 586/1300 [03:29<04:25,  2.68it/s]\u001b[A\u001b[A\n",
            "\n",
            " 45%|████▌     | 587/1300 [03:29<04:31,  2.62it/s]\u001b[A\u001b[A\n",
            "\n",
            " 45%|████▌     | 588/1300 [03:30<04:37,  2.57it/s]\u001b[A\u001b[A\n",
            "\n",
            " 45%|████▌     | 589/1300 [03:30<04:44,  2.50it/s]\u001b[A\u001b[A\n",
            "\n",
            " 45%|████▌     | 590/1300 [03:31<04:24,  2.69it/s]\u001b[A\u001b[A\n",
            "\n",
            " 45%|████▌     | 591/1300 [03:31<04:08,  2.85it/s]\u001b[A\u001b[A\n",
            "\n",
            " 46%|████▌     | 592/1300 [03:31<03:49,  3.08it/s]\u001b[A\u001b[A\n",
            "\n",
            " 46%|████▌     | 593/1300 [03:31<03:49,  3.08it/s]\u001b[A\u001b[A\n",
            "\n",
            " 46%|████▌     | 594/1300 [03:32<03:45,  3.13it/s]\u001b[A\u001b[A\n",
            "\n",
            " 46%|████▌     | 595/1300 [03:32<03:40,  3.19it/s]\u001b[A\u001b[A\n",
            "\n",
            " 46%|████▌     | 596/1300 [03:33<04:08,  2.83it/s]\u001b[A\u001b[A\n",
            "\n",
            " 46%|████▌     | 597/1300 [03:33<04:26,  2.64it/s]\u001b[A\u001b[A\n",
            "\n",
            " 46%|████▌     | 598/1300 [03:33<04:24,  2.65it/s]\u001b[A\u001b[A\n",
            "\n",
            " 46%|████▌     | 599/1300 [03:34<04:11,  2.79it/s]\u001b[A\u001b[A\n",
            "\n",
            " 46%|████▌     | 600/1300 [03:34<04:28,  2.60it/s]\u001b[A\u001b[A\n",
            "\n",
            " 46%|████▌     | 601/1300 [03:35<04:45,  2.45it/s]\u001b[A\u001b[A\n",
            "\n",
            " 46%|████▋     | 602/1300 [03:35<04:53,  2.38it/s]\u001b[A\u001b[A\n",
            "\n",
            " 46%|████▋     | 603/1300 [03:35<04:43,  2.46it/s]\u001b[A\u001b[A\n",
            "\n",
            " 46%|████▋     | 604/1300 [03:36<04:40,  2.48it/s]\u001b[A\u001b[A\n",
            "\n",
            " 47%|████▋     | 605/1300 [03:36<04:28,  2.59it/s]\u001b[A\u001b[A\n",
            "\n",
            " 47%|████▋     | 606/1300 [03:36<04:11,  2.76it/s]\u001b[A\u001b[A\n",
            "\n",
            " 47%|████▋     | 607/1300 [03:37<04:19,  2.67it/s]\u001b[A\u001b[A\n",
            "\n",
            " 47%|████▋     | 608/1300 [03:37<04:19,  2.67it/s]\u001b[A\u001b[A\n",
            "\n",
            " 47%|████▋     | 609/1300 [03:38<04:22,  2.63it/s]\u001b[A\u001b[A\n",
            "\n",
            " 47%|████▋     | 610/1300 [03:38<04:12,  2.74it/s]\u001b[A\u001b[A\n",
            "\n",
            " 47%|████▋     | 611/1300 [03:38<04:25,  2.59it/s]\u001b[A\u001b[A\n",
            "\n",
            " 47%|████▋     | 612/1300 [03:39<04:29,  2.56it/s]\u001b[A\u001b[A\n",
            "\n",
            " 47%|████▋     | 613/1300 [03:39<04:10,  2.74it/s]\u001b[A\u001b[A\n",
            "\n",
            " 47%|████▋     | 614/1300 [03:39<03:59,  2.87it/s]\u001b[A\u001b[A\n",
            "\n",
            " 47%|████▋     | 615/1300 [03:40<03:41,  3.10it/s]\u001b[A\u001b[A\n",
            "\n",
            " 47%|████▋     | 616/1300 [03:40<03:26,  3.31it/s]\u001b[A\u001b[A\n",
            "\n",
            " 47%|████▋     | 617/1300 [03:40<03:26,  3.31it/s]\u001b[A\u001b[A\n",
            "\n",
            " 48%|████▊     | 618/1300 [03:40<03:16,  3.48it/s]\u001b[A\u001b[A\n",
            "\n",
            " 48%|████▊     | 619/1300 [03:41<03:22,  3.36it/s]\u001b[A\u001b[A\n",
            "\n",
            " 48%|████▊     | 620/1300 [03:41<03:35,  3.16it/s]\u001b[A\u001b[A\n",
            "\n",
            " 48%|████▊     | 621/1300 [03:41<03:37,  3.13it/s]\u001b[A\u001b[A\n",
            "\n",
            " 48%|████▊     | 622/1300 [03:42<03:23,  3.34it/s]\u001b[A\u001b[A\n",
            "\n",
            " 48%|████▊     | 623/1300 [03:42<03:51,  2.93it/s]\u001b[A\u001b[A\n",
            "\n",
            " 48%|████▊     | 624/1300 [03:43<04:10,  2.69it/s]\u001b[A\u001b[A\n",
            "\n",
            " 48%|████▊     | 625/1300 [03:43<04:14,  2.65it/s]\u001b[A\u001b[A\n",
            "\n",
            " 48%|████▊     | 626/1300 [03:43<04:19,  2.60it/s]\u001b[A\u001b[A\n",
            "\n",
            " 48%|████▊     | 627/1300 [03:44<04:23,  2.55it/s]\u001b[A\u001b[A\n",
            "\n",
            " 48%|████▊     | 628/1300 [03:44<04:11,  2.67it/s]\u001b[A\u001b[A\n",
            "\n",
            " 48%|████▊     | 629/1300 [03:45<04:48,  2.32it/s]\u001b[A\u001b[A\n",
            "\n",
            " 48%|████▊     | 630/1300 [03:45<04:31,  2.47it/s]\u001b[A\u001b[A\n",
            "\n",
            " 49%|████▊     | 631/1300 [03:46<04:45,  2.34it/s]\u001b[A\u001b[A\n",
            "\n",
            " 49%|████▊     | 632/1300 [03:46<04:39,  2.39it/s]\u001b[A\u001b[A\n",
            "\n",
            " 49%|████▊     | 633/1300 [03:46<04:09,  2.68it/s]\u001b[A\u001b[A\n",
            "\n",
            " 49%|████▉     | 634/1300 [03:46<03:43,  2.99it/s]\u001b[A\u001b[A\n",
            "\n",
            " 49%|████▉     | 635/1300 [03:47<03:50,  2.88it/s]\u001b[A\u001b[A\n",
            "\n",
            " 49%|████▉     | 636/1300 [03:47<03:57,  2.80it/s]\u001b[A\u001b[A\n",
            "\n",
            " 49%|████▉     | 637/1300 [03:48<03:48,  2.90it/s]\u001b[A\u001b[A\n",
            "\n",
            " 49%|████▉     | 638/1300 [03:48<03:48,  2.90it/s]\u001b[A\u001b[A\n",
            "\n",
            " 49%|████▉     | 639/1300 [03:48<03:52,  2.84it/s]\u001b[A\u001b[A\n",
            "\n",
            " 49%|████▉     | 640/1300 [03:49<06:29,  1.70it/s]\u001b[A\u001b[A\n",
            "\n",
            " 49%|████▉     | 641/1300 [03:50<05:37,  1.95it/s]\u001b[A\u001b[A\n",
            "\n",
            " 49%|████▉     | 642/1300 [03:50<05:22,  2.04it/s]\u001b[A\u001b[A\n",
            "\n",
            " 49%|████▉     | 643/1300 [03:51<05:06,  2.15it/s]\u001b[A\u001b[A\n",
            "\n",
            " 50%|████▉     | 644/1300 [03:51<04:37,  2.37it/s]\u001b[A\u001b[A\n",
            "\n",
            " 50%|████▉     | 645/1300 [03:51<04:26,  2.45it/s]\u001b[A\u001b[A\n",
            "\n",
            " 50%|████▉     | 646/1300 [03:52<04:22,  2.49it/s]\u001b[A\u001b[A\n",
            "\n",
            " 50%|████▉     | 647/1300 [03:52<04:34,  2.38it/s]\u001b[A\u001b[A\n",
            "\n",
            " 50%|████▉     | 648/1300 [03:53<04:34,  2.37it/s]\u001b[A\u001b[A\n",
            "\n",
            " 50%|████▉     | 649/1300 [03:53<04:36,  2.35it/s]\u001b[A\u001b[A\n",
            "\n",
            " 50%|█████     | 650/1300 [03:53<04:28,  2.42it/s]\u001b[A\u001b[A\n",
            "\n",
            " 50%|█████     | 651/1300 [03:54<04:05,  2.65it/s]\u001b[A\u001b[A\n",
            "\n",
            " 50%|█████     | 652/1300 [03:54<03:56,  2.74it/s]\u001b[A\u001b[A\n",
            "\n",
            " 50%|█████     | 653/1300 [03:54<04:08,  2.60it/s]\u001b[A\u001b[A\n",
            "\n",
            " 50%|█████     | 654/1300 [03:55<04:06,  2.62it/s]\u001b[A\u001b[A\n",
            "\n",
            " 50%|█████     | 655/1300 [03:55<03:49,  2.81it/s]\u001b[A\u001b[A\n",
            "\n",
            " 50%|█████     | 656/1300 [03:55<03:52,  2.77it/s]\u001b[A\u001b[A\n",
            "\n",
            " 51%|█████     | 657/1300 [03:56<04:28,  2.40it/s]\u001b[A\u001b[A\n",
            "\n",
            " 51%|█████     | 658/1300 [03:56<04:15,  2.51it/s]\u001b[A\u001b[A\n",
            "\n",
            " 51%|█████     | 659/1300 [03:57<04:09,  2.57it/s]\u001b[A\u001b[A\n",
            "\n",
            " 51%|█████     | 660/1300 [03:57<03:45,  2.84it/s]\u001b[A\u001b[A\n",
            "\n",
            " 51%|█████     | 661/1300 [03:57<03:48,  2.80it/s]\u001b[A\u001b[A\n",
            "\n",
            " 51%|█████     | 662/1300 [03:58<03:53,  2.73it/s]\u001b[A\u001b[A\n",
            "\n",
            " 51%|█████     | 663/1300 [03:58<04:04,  2.61it/s]\u001b[A\u001b[A\n",
            "\n",
            " 51%|█████     | 664/1300 [03:59<03:58,  2.66it/s]\u001b[A\u001b[A\n",
            "\n",
            " 51%|█████     | 665/1300 [03:59<03:55,  2.70it/s]\u001b[A\u001b[A\n",
            "\n",
            " 51%|█████     | 666/1300 [03:59<03:38,  2.91it/s]\u001b[A\u001b[A\n",
            "\n",
            " 51%|█████▏    | 667/1300 [04:00<03:59,  2.65it/s]\u001b[A\u001b[A\n",
            "\n",
            " 51%|█████▏    | 668/1300 [04:00<04:04,  2.58it/s]\u001b[A\u001b[A\n",
            "\n",
            " 51%|█████▏    | 669/1300 [04:00<03:40,  2.86it/s]\u001b[A\u001b[A\n",
            "\n",
            " 52%|█████▏    | 670/1300 [04:01<03:43,  2.81it/s]\u001b[A\u001b[A\n",
            "\n",
            " 52%|█████▏    | 671/1300 [04:01<03:58,  2.64it/s]\u001b[A\u001b[A\n",
            "\n",
            " 52%|█████▏    | 672/1300 [04:01<03:49,  2.74it/s]\u001b[A\u001b[A\n",
            "\n",
            " 52%|█████▏    | 673/1300 [04:02<03:40,  2.84it/s]\u001b[A\u001b[A\n",
            "\n",
            " 52%|█████▏    | 674/1300 [04:02<03:26,  3.03it/s]\u001b[A\u001b[A\n",
            "\n",
            " 52%|█████▏    | 675/1300 [04:02<03:13,  3.23it/s]\u001b[A\u001b[A\n",
            "\n",
            " 52%|█████▏    | 676/1300 [04:03<03:10,  3.27it/s]\u001b[A\u001b[A\n",
            "\n",
            " 52%|█████▏    | 677/1300 [04:03<03:26,  3.01it/s]\u001b[A\u001b[A\n",
            "\n",
            " 52%|█████▏    | 678/1300 [04:03<03:11,  3.25it/s]\u001b[A\u001b[A\n",
            "\n",
            " 52%|█████▏    | 679/1300 [04:04<03:12,  3.22it/s]\u001b[A\u001b[A\n",
            "\n",
            " 52%|█████▏    | 680/1300 [04:04<03:28,  2.98it/s]\u001b[A\u001b[A\n",
            "\n",
            " 52%|█████▏    | 681/1300 [04:04<03:25,  3.02it/s]\u001b[A\u001b[A\n",
            "\n",
            " 52%|█████▏    | 682/1300 [04:05<03:36,  2.85it/s]\u001b[A\u001b[A\n",
            "\n",
            " 53%|█████▎    | 683/1300 [04:05<03:41,  2.79it/s]\u001b[A\u001b[A\n",
            "\n",
            " 53%|█████▎    | 684/1300 [04:05<03:47,  2.71it/s]\u001b[A\u001b[A\n",
            "\n",
            " 53%|█████▎    | 685/1300 [04:06<03:41,  2.77it/s]\u001b[A\u001b[A\n",
            "\n",
            " 53%|█████▎    | 686/1300 [04:06<03:25,  2.98it/s]\u001b[A\u001b[A\n",
            "\n",
            " 53%|█████▎    | 687/1300 [04:06<03:37,  2.81it/s]\u001b[A\u001b[A\n",
            "\n",
            " 53%|█████▎    | 688/1300 [04:07<03:59,  2.55it/s]\u001b[A\u001b[A\n",
            "\n",
            " 53%|█████▎    | 689/1300 [04:07<03:45,  2.71it/s]\u001b[A\u001b[A\n",
            "\n",
            " 53%|█████▎    | 690/1300 [04:08<03:25,  2.96it/s]\u001b[A\u001b[A\n",
            "\n",
            " 53%|█████▎    | 691/1300 [04:08<03:20,  3.04it/s]\u001b[A\u001b[A\n",
            "\n",
            " 53%|█████▎    | 692/1300 [04:08<03:07,  3.25it/s]\u001b[A\u001b[A\n",
            "\n",
            " 53%|█████▎    | 693/1300 [04:09<03:40,  2.75it/s]\u001b[A\u001b[A\n",
            "\n",
            " 53%|█████▎    | 694/1300 [04:09<03:59,  2.54it/s]\u001b[A\u001b[A\n",
            "\n",
            " 53%|█████▎    | 695/1300 [04:09<03:39,  2.75it/s]\u001b[A\u001b[A\n",
            "\n",
            " 54%|█████▎    | 696/1300 [04:10<03:40,  2.74it/s]\u001b[A\u001b[A\n",
            "\n",
            " 54%|█████▎    | 697/1300 [04:10<03:58,  2.53it/s]\u001b[A\u001b[A\n",
            "\n",
            " 54%|█████▎    | 698/1300 [04:10<03:34,  2.80it/s]\u001b[A\u001b[A\n",
            "\n",
            " 54%|█████▍    | 699/1300 [04:11<03:57,  2.53it/s]\u001b[A\u001b[A\n",
            "\n",
            " 54%|█████▍    | 700/1300 [04:11<04:13,  2.36it/s]\u001b[A\u001b[A\n",
            "\n",
            " 54%|█████▍    | 701/1300 [04:12<03:58,  2.52it/s]\u001b[A\u001b[A\n",
            "\n",
            " 54%|█████▍    | 702/1300 [04:12<03:35,  2.77it/s]\u001b[A\u001b[A\n",
            "\n",
            " 54%|█████▍    | 703/1300 [04:12<03:38,  2.74it/s]\u001b[A\u001b[A\n",
            "\n",
            " 54%|█████▍    | 704/1300 [04:13<03:54,  2.54it/s]\u001b[A\u001b[A\n",
            "\n",
            " 54%|█████▍    | 705/1300 [04:13<03:47,  2.61it/s]\u001b[A\u001b[A\n",
            "\n",
            " 54%|█████▍    | 706/1300 [04:14<03:40,  2.70it/s]\u001b[A\u001b[A\n",
            "\n",
            " 54%|█████▍    | 707/1300 [04:14<03:38,  2.71it/s]\u001b[A\u001b[A\n",
            "\n",
            " 54%|█████▍    | 708/1300 [04:14<03:57,  2.49it/s]\u001b[A\u001b[A\n",
            "\n",
            " 55%|█████▍    | 709/1300 [04:15<03:49,  2.57it/s]\u001b[A\u001b[A\n",
            "\n",
            " 55%|█████▍    | 710/1300 [04:15<03:43,  2.64it/s]\u001b[A\u001b[A\n",
            "\n",
            " 55%|█████▍    | 711/1300 [04:15<03:19,  2.95it/s]\u001b[A\u001b[A\n",
            "\n",
            " 55%|█████▍    | 712/1300 [04:16<03:15,  3.02it/s]\u001b[A\u001b[A\n",
            "\n",
            " 55%|█████▍    | 713/1300 [04:16<03:04,  3.18it/s]\u001b[A\u001b[A\n",
            "\n",
            " 55%|█████▍    | 714/1300 [04:16<02:58,  3.29it/s]\u001b[A\u001b[A\n",
            "\n",
            " 55%|█████▌    | 715/1300 [04:17<03:15,  2.99it/s]\u001b[A\u001b[A\n",
            "\n",
            " 55%|█████▌    | 716/1300 [04:17<03:11,  3.06it/s]\u001b[A\u001b[A\n",
            "\n",
            " 55%|█████▌    | 717/1300 [04:17<03:12,  3.03it/s]\u001b[A\u001b[A\n",
            "\n",
            " 55%|█████▌    | 718/1300 [04:18<03:06,  3.13it/s]\u001b[A\u001b[A\n",
            "\n",
            " 55%|█████▌    | 719/1300 [04:18<02:58,  3.25it/s]\u001b[A\u001b[A\n",
            "\n",
            " 55%|█████▌    | 720/1300 [04:18<03:08,  3.07it/s]\u001b[A\u001b[A\n",
            "\n",
            " 55%|█████▌    | 721/1300 [04:19<03:28,  2.77it/s]\u001b[A\u001b[A\n",
            "\n",
            " 56%|█████▌    | 722/1300 [04:19<03:20,  2.88it/s]\u001b[A\u001b[A\n",
            "\n",
            " 56%|█████▌    | 723/1300 [04:19<03:04,  3.14it/s]\u001b[A\u001b[A\n",
            "\n",
            " 56%|█████▌    | 724/1300 [04:20<03:03,  3.13it/s]\u001b[A\u001b[A\n",
            "\n",
            " 56%|█████▌    | 725/1300 [04:20<03:16,  2.92it/s]\u001b[A\u001b[A\n",
            "\n",
            " 56%|█████▌    | 726/1300 [04:20<03:38,  2.62it/s]\u001b[A\u001b[A\n",
            "\n",
            " 56%|█████▌    | 727/1300 [04:21<03:39,  2.61it/s]\u001b[A\u001b[A\n",
            "\n",
            " 56%|█████▌    | 728/1300 [04:21<03:59,  2.39it/s]\u001b[A\u001b[A\n",
            "\n",
            " 56%|█████▌    | 729/1300 [04:22<04:07,  2.31it/s]\u001b[A\u001b[A\n",
            "\n",
            " 56%|█████▌    | 730/1300 [04:22<03:53,  2.44it/s]\u001b[A\u001b[A\n",
            "\n",
            " 56%|█████▌    | 731/1300 [04:22<03:41,  2.57it/s]\u001b[A\u001b[A\n",
            "\n",
            " 56%|█████▋    | 732/1300 [04:23<03:49,  2.48it/s]\u001b[A\u001b[A\n",
            "\n",
            " 56%|█████▋    | 733/1300 [04:23<03:50,  2.46it/s]\u001b[A\u001b[A\n",
            "\n",
            " 56%|█████▋    | 734/1300 [04:24<03:54,  2.41it/s]\u001b[A\u001b[A\n",
            "\n",
            " 57%|█████▋    | 735/1300 [04:24<03:29,  2.70it/s]\u001b[A\u001b[A\n",
            "\n",
            " 57%|█████▋    | 736/1300 [04:24<03:28,  2.70it/s]\u001b[A\u001b[A\n",
            "\n",
            " 57%|█████▋    | 737/1300 [04:25<03:27,  2.71it/s]\u001b[A\u001b[A\n",
            "\n",
            " 57%|█████▋    | 738/1300 [04:25<03:28,  2.69it/s]\u001b[A\u001b[A\n",
            "\n",
            " 57%|█████▋    | 739/1300 [04:26<03:28,  2.69it/s]\u001b[A\u001b[A\n",
            "\n",
            " 57%|█████▋    | 740/1300 [04:26<03:25,  2.73it/s]\u001b[A\u001b[A\n",
            "\n",
            " 57%|█████▋    | 741/1300 [04:26<03:29,  2.67it/s]\u001b[A\u001b[A\n",
            "\n",
            " 57%|█████▋    | 742/1300 [04:27<03:12,  2.90it/s]\u001b[A\u001b[A\n",
            "\n",
            " 57%|█████▋    | 743/1300 [04:27<03:10,  2.93it/s]\u001b[A\u001b[A\n",
            "\n",
            " 57%|█████▋    | 744/1300 [04:27<03:25,  2.70it/s]\u001b[A\u001b[A\n",
            "\n",
            " 57%|█████▋    | 745/1300 [04:28<03:33,  2.60it/s]\u001b[A\u001b[A\n",
            "\n",
            " 57%|█████▋    | 746/1300 [04:28<03:13,  2.86it/s]\u001b[A\u001b[A\n",
            "\n",
            " 57%|█████▋    | 747/1300 [04:28<03:08,  2.93it/s]\u001b[A\u001b[A\n",
            "\n",
            " 58%|█████▊    | 748/1300 [04:29<03:19,  2.76it/s]\u001b[A\u001b[A\n",
            "\n",
            " 58%|█████▊    | 749/1300 [04:29<03:20,  2.74it/s]\u001b[A\u001b[A\n",
            "\n",
            " 58%|█████▊    | 750/1300 [04:29<03:22,  2.71it/s]\u001b[A\u001b[A\n",
            "\n",
            " 58%|█████▊    | 751/1300 [04:30<03:39,  2.50it/s]\u001b[A\u001b[A\n",
            "\n",
            " 58%|█████▊    | 752/1300 [04:30<03:23,  2.69it/s]\u001b[A\u001b[A\n",
            "\n",
            " 58%|█████▊    | 753/1300 [04:31<03:33,  2.56it/s]\u001b[A\u001b[A\n",
            "\n",
            " 58%|█████▊    | 754/1300 [04:31<03:22,  2.69it/s]\u001b[A\u001b[A\n",
            "\n",
            " 58%|█████▊    | 755/1300 [04:31<03:27,  2.63it/s]\u001b[A\u001b[A\n",
            "\n",
            " 58%|█████▊    | 756/1300 [04:32<03:27,  2.63it/s]\u001b[A\u001b[A\n",
            "\n",
            " 58%|█████▊    | 757/1300 [04:32<03:15,  2.78it/s]\u001b[A\u001b[A\n",
            "\n",
            " 58%|█████▊    | 758/1300 [04:32<03:13,  2.80it/s]\u001b[A\u001b[A\n",
            "\n",
            " 58%|█████▊    | 759/1300 [04:33<03:11,  2.83it/s]\u001b[A\u001b[A\n",
            "\n",
            " 58%|█████▊    | 760/1300 [04:33<03:02,  2.95it/s]\u001b[A\u001b[A\n",
            "\n",
            " 59%|█████▊    | 761/1300 [04:33<02:56,  3.05it/s]\u001b[A\u001b[A\n",
            "\n",
            " 59%|█████▊    | 762/1300 [04:34<03:07,  2.87it/s]\u001b[A\u001b[A\n",
            "\n",
            " 59%|█████▊    | 763/1300 [04:34<02:51,  3.13it/s]\u001b[A\u001b[A\n",
            "\n",
            " 59%|█████▉    | 764/1300 [04:34<02:57,  3.03it/s]\u001b[A\u001b[A\n",
            "\n",
            " 59%|█████▉    | 765/1300 [04:35<03:10,  2.81it/s]\u001b[A\u001b[A\n",
            "\n",
            " 59%|█████▉    | 766/1300 [04:35<03:03,  2.90it/s]\u001b[A\u001b[A\n",
            "\n",
            " 59%|█████▉    | 767/1300 [04:35<02:48,  3.17it/s]\u001b[A\u001b[A\n",
            "\n",
            " 59%|█████▉    | 768/1300 [04:36<03:00,  2.95it/s]\u001b[A\u001b[A\n",
            "\n",
            " 59%|█████▉    | 769/1300 [04:36<03:17,  2.69it/s]\u001b[A\u001b[A\n",
            "\n",
            " 59%|█████▉    | 770/1300 [04:37<03:15,  2.71it/s]\u001b[A\u001b[A\n",
            "\n",
            " 59%|█████▉    | 771/1300 [04:37<03:27,  2.55it/s]\u001b[A\u001b[A\n",
            "\n",
            " 59%|█████▉    | 772/1300 [04:37<03:16,  2.69it/s]\u001b[A\u001b[A\n",
            "\n",
            " 59%|█████▉    | 773/1300 [04:38<03:18,  2.65it/s]\u001b[A\u001b[A\n",
            "\n",
            " 60%|█████▉    | 774/1300 [04:38<03:25,  2.56it/s]\u001b[A\u001b[A\n",
            "\n",
            " 60%|█████▉    | 775/1300 [04:38<03:12,  2.73it/s]\u001b[A\u001b[A\n",
            "\n",
            " 60%|█████▉    | 776/1300 [04:39<02:54,  3.00it/s]\u001b[A\u001b[A\n",
            "\n",
            " 60%|█████▉    | 777/1300 [04:39<03:01,  2.89it/s]\u001b[A\u001b[A\n",
            "\n",
            " 60%|█████▉    | 778/1300 [04:39<02:53,  3.01it/s]\u001b[A\u001b[A\n",
            "\n",
            " 60%|█████▉    | 779/1300 [04:40<03:09,  2.75it/s]\u001b[A\u001b[A\n",
            "\n",
            " 60%|██████    | 780/1300 [04:40<03:21,  2.59it/s]\u001b[A\u001b[A\n",
            "\n",
            " 60%|██████    | 781/1300 [04:41<03:25,  2.52it/s]\u001b[A\u001b[A\n",
            "\n",
            " 60%|██████    | 782/1300 [04:41<03:26,  2.51it/s]\u001b[A\u001b[A\n",
            "\n",
            " 60%|██████    | 783/1300 [04:41<03:07,  2.75it/s]\u001b[A\u001b[A\n",
            "\n",
            " 60%|██████    | 784/1300 [04:42<03:19,  2.58it/s]\u001b[A\u001b[A\n",
            "\n",
            " 60%|██████    | 785/1300 [04:42<03:18,  2.59it/s]\u001b[A\u001b[A\n",
            "\n",
            " 60%|██████    | 786/1300 [04:43<03:25,  2.50it/s]\u001b[A\u001b[A\n",
            "\n",
            " 61%|██████    | 787/1300 [04:43<03:05,  2.76it/s]\u001b[A\u001b[A\n",
            "\n",
            " 61%|██████    | 788/1300 [04:43<02:58,  2.87it/s]\u001b[A\u001b[A\n",
            "\n",
            " 61%|██████    | 789/1300 [04:44<03:01,  2.81it/s]\u001b[A\u001b[A\n",
            "\n",
            " 61%|██████    | 790/1300 [04:44<03:14,  2.62it/s]\u001b[A\u001b[A\n",
            "\n",
            " 61%|██████    | 791/1300 [04:44<02:59,  2.83it/s]\u001b[A\u001b[A\n",
            "\n",
            " 61%|██████    | 792/1300 [04:45<02:54,  2.91it/s]\u001b[A\u001b[A\n",
            "\n",
            " 61%|██████    | 793/1300 [04:45<03:05,  2.73it/s]\u001b[A\u001b[A\n",
            "\n",
            " 61%|██████    | 794/1300 [04:45<02:52,  2.93it/s]\u001b[A\u001b[A\n",
            "\n",
            " 61%|██████    | 795/1300 [04:46<02:57,  2.85it/s]\u001b[A\u001b[A\n",
            "\n",
            " 61%|██████    | 796/1300 [04:46<02:45,  3.05it/s]\u001b[A\u001b[A\n",
            "\n",
            " 61%|██████▏   | 797/1300 [04:46<02:45,  3.03it/s]\u001b[A\u001b[A\n",
            "\n",
            " 61%|██████▏   | 798/1300 [04:47<03:03,  2.74it/s]\u001b[A\u001b[A\n",
            "\n",
            " 61%|██████▏   | 799/1300 [04:47<03:13,  2.58it/s]\u001b[A\u001b[A\n",
            "\n",
            " 62%|██████▏   | 800/1300 [04:48<03:05,  2.69it/s]\u001b[A\u001b[A\n",
            "\n",
            " 62%|██████▏   | 801/1300 [04:48<02:56,  2.83it/s]\u001b[A\u001b[A\n",
            "\n",
            " 62%|██████▏   | 802/1300 [04:48<02:50,  2.93it/s]\u001b[A\u001b[A\n",
            "\n",
            " 62%|██████▏   | 803/1300 [04:49<02:50,  2.91it/s]\u001b[A\u001b[A\n",
            "\n",
            " 62%|██████▏   | 804/1300 [04:49<03:05,  2.67it/s]\u001b[A\u001b[A\n",
            "\n",
            " 62%|██████▏   | 805/1300 [04:49<03:11,  2.58it/s]\u001b[A\u001b[A\n",
            "\n",
            " 62%|██████▏   | 806/1300 [04:50<03:01,  2.72it/s]\u001b[A\u001b[A\n",
            "\n",
            " 62%|██████▏   | 807/1300 [04:50<03:07,  2.63it/s]\u001b[A\u001b[A\n",
            "\n",
            " 62%|██████▏   | 808/1300 [04:51<03:04,  2.67it/s]\u001b[A\u001b[A\n",
            "\n",
            " 62%|██████▏   | 809/1300 [04:51<02:45,  2.96it/s]\u001b[A\u001b[A\n",
            "\n",
            " 62%|██████▏   | 810/1300 [04:51<02:40,  3.04it/s]\u001b[A\u001b[A\n",
            "\n",
            " 62%|██████▏   | 811/1300 [04:51<02:39,  3.07it/s]\u001b[A\u001b[A\n",
            "\n",
            " 62%|██████▏   | 812/1300 [04:52<02:45,  2.94it/s]\u001b[A\u001b[A\n",
            "\n",
            " 63%|██████▎   | 813/1300 [04:52<02:45,  2.95it/s]\u001b[A\u001b[A\n",
            "\n",
            " 63%|██████▎   | 814/1300 [04:53<02:54,  2.78it/s]\u001b[A\u001b[A\n",
            "\n",
            " 63%|██████▎   | 815/1300 [04:53<02:42,  2.98it/s]\u001b[A\u001b[A\n",
            "\n",
            " 63%|██████▎   | 816/1300 [04:53<03:00,  2.69it/s]\u001b[A\u001b[A\n",
            "\n",
            " 63%|██████▎   | 817/1300 [04:54<02:45,  2.92it/s]\u001b[A\u001b[A\n",
            "\n",
            " 63%|██████▎   | 818/1300 [04:54<02:57,  2.71it/s]\u001b[A\u001b[A\n",
            "\n",
            " 63%|██████▎   | 819/1300 [04:54<03:07,  2.56it/s]\u001b[A\u001b[A\n",
            "\n",
            " 63%|██████▎   | 820/1300 [04:55<03:03,  2.62it/s]\u001b[A\u001b[A\n",
            "\n",
            " 63%|██████▎   | 821/1300 [04:55<02:56,  2.71it/s]\u001b[A\u001b[A\n",
            "\n",
            " 63%|██████▎   | 822/1300 [04:55<02:41,  2.97it/s]\u001b[A\u001b[A\n",
            "\n",
            " 63%|██████▎   | 823/1300 [04:56<02:40,  2.96it/s]\u001b[A\u001b[A\n",
            "\n",
            " 63%|██████▎   | 824/1300 [04:56<02:50,  2.79it/s]\u001b[A\u001b[A\n",
            "\n",
            " 63%|██████▎   | 825/1300 [04:56<02:46,  2.86it/s]\u001b[A\u001b[A\n",
            "\n",
            " 64%|██████▎   | 826/1300 [04:57<02:46,  2.84it/s]\u001b[A\u001b[A\n",
            "\n",
            " 64%|██████▎   | 827/1300 [04:57<02:50,  2.77it/s]\u001b[A\u001b[A\n",
            "\n",
            " 64%|██████▎   | 828/1300 [04:57<02:46,  2.84it/s]\u001b[A\u001b[A\n",
            "\n",
            " 64%|██████▍   | 829/1300 [04:58<02:45,  2.85it/s]\u001b[A\u001b[A\n",
            "\n",
            " 64%|██████▍   | 830/1300 [04:58<02:56,  2.67it/s]\u001b[A\u001b[A\n",
            "\n",
            " 64%|██████▍   | 831/1300 [04:59<02:58,  2.62it/s]\u001b[A\u001b[A\n",
            "\n",
            " 64%|██████▍   | 832/1300 [04:59<03:01,  2.57it/s]\u001b[A\u001b[A\n",
            "\n",
            " 64%|██████▍   | 833/1300 [04:59<02:51,  2.72it/s]\u001b[A\u001b[A\n",
            "\n",
            " 64%|██████▍   | 834/1300 [05:00<03:06,  2.50it/s]\u001b[A\u001b[A\n",
            "\n",
            " 64%|██████▍   | 835/1300 [05:00<03:11,  2.43it/s]\u001b[A\u001b[A\n",
            "\n",
            " 64%|██████▍   | 836/1300 [05:01<03:12,  2.41it/s]\u001b[A\u001b[A\n",
            "\n",
            " 64%|██████▍   | 837/1300 [05:01<03:08,  2.45it/s]\u001b[A\u001b[A\n",
            "\n",
            " 64%|██████▍   | 838/1300 [05:01<02:52,  2.67it/s]\u001b[A\u001b[A\n",
            "\n",
            " 65%|██████▍   | 839/1300 [05:02<02:52,  2.67it/s]\u001b[A\u001b[A\n",
            "\n",
            " 65%|██████▍   | 840/1300 [05:02<02:42,  2.83it/s]\u001b[A\u001b[A\n",
            "\n",
            " 65%|██████▍   | 841/1300 [05:02<02:35,  2.95it/s]\u001b[A\u001b[A\n",
            "\n",
            " 65%|██████▍   | 842/1300 [05:03<02:29,  3.06it/s]\u001b[A\u001b[A\n",
            "\n",
            " 65%|██████▍   | 843/1300 [05:03<02:21,  3.24it/s]\u001b[A\u001b[A\n",
            "\n",
            " 65%|██████▍   | 844/1300 [05:03<02:10,  3.49it/s]\u001b[A\u001b[A\n",
            "\n",
            " 65%|██████▌   | 845/1300 [05:04<02:27,  3.10it/s]\u001b[A\u001b[A\n",
            "\n",
            " 65%|██████▌   | 846/1300 [05:04<02:27,  3.08it/s]\u001b[A\u001b[A\n",
            "\n",
            " 65%|██████▌   | 847/1300 [05:04<02:47,  2.71it/s]\u001b[A\u001b[A\n",
            "\n",
            " 65%|██████▌   | 848/1300 [05:05<02:33,  2.95it/s]\u001b[A\u001b[A\n",
            "\n",
            " 65%|██████▌   | 849/1300 [05:05<02:46,  2.70it/s]\u001b[A\u001b[A\n",
            "\n",
            " 65%|██████▌   | 850/1300 [05:06<02:50,  2.64it/s]\u001b[A\u001b[A\n",
            "\n",
            " 65%|██████▌   | 851/1300 [05:06<02:49,  2.65it/s]\u001b[A\u001b[A\n",
            "\n",
            " 66%|██████▌   | 852/1300 [05:06<03:01,  2.47it/s]\u001b[A\u001b[A\n",
            "\n",
            " 66%|██████▌   | 853/1300 [05:07<02:49,  2.63it/s]\u001b[A\u001b[A\n",
            "\n",
            " 66%|██████▌   | 854/1300 [05:07<02:52,  2.58it/s]\u001b[A\u001b[A\n",
            "\n",
            " 66%|██████▌   | 855/1300 [05:07<02:40,  2.77it/s]\u001b[A\u001b[A\n",
            "\n",
            " 66%|██████▌   | 856/1300 [05:08<02:35,  2.86it/s]\u001b[A\u001b[A\n",
            "\n",
            " 66%|██████▌   | 857/1300 [05:08<02:23,  3.09it/s]\u001b[A\u001b[A\n",
            "\n",
            " 66%|██████▌   | 858/1300 [05:08<02:22,  3.11it/s]\u001b[A\u001b[A\n",
            "\n",
            " 66%|██████▌   | 859/1300 [05:09<02:32,  2.88it/s]\u001b[A\u001b[A\n",
            "\n",
            " 66%|██████▌   | 860/1300 [05:09<02:24,  3.04it/s]\u001b[A\u001b[A\n",
            "\n",
            " 66%|██████▌   | 861/1300 [05:09<02:13,  3.29it/s]\u001b[A\u001b[A\n",
            "\n",
            " 66%|██████▋   | 862/1300 [05:10<02:25,  3.01it/s]\u001b[A\u001b[A\n",
            "\n",
            " 66%|██████▋   | 863/1300 [05:10<02:40,  2.72it/s]\u001b[A\u001b[A\n",
            "\n",
            " 66%|██████▋   | 864/1300 [05:10<02:27,  2.96it/s]\u001b[A\u001b[A\n",
            "\n",
            " 67%|██████▋   | 865/1300 [05:11<02:34,  2.81it/s]\u001b[A\u001b[A\n",
            "\n",
            " 67%|██████▋   | 866/1300 [05:11<02:43,  2.66it/s]\u001b[A\u001b[A\n",
            "\n",
            " 67%|██████▋   | 867/1300 [05:12<02:38,  2.74it/s]\u001b[A\u001b[A\n",
            "\n",
            " 67%|██████▋   | 868/1300 [05:12<02:32,  2.84it/s]\u001b[A\u001b[A\n",
            "\n",
            " 67%|██████▋   | 869/1300 [05:12<02:44,  2.61it/s]\u001b[A\u001b[A\n",
            "\n",
            " 67%|██████▋   | 870/1300 [05:13<02:27,  2.91it/s]\u001b[A\u001b[A\n",
            "\n",
            " 67%|██████▋   | 871/1300 [05:13<02:32,  2.81it/s]\u001b[A\u001b[A\n",
            "\n",
            " 67%|██████▋   | 872/1300 [05:13<02:32,  2.81it/s]\u001b[A\u001b[A\n",
            "\n",
            " 67%|██████▋   | 873/1300 [05:14<02:36,  2.73it/s]\u001b[A\u001b[A\n",
            "\n",
            " 67%|██████▋   | 874/1300 [05:14<02:41,  2.63it/s]\u001b[A\u001b[A\n",
            "\n",
            " 67%|██████▋   | 875/1300 [05:14<02:26,  2.89it/s]\u001b[A\u001b[A\n",
            "\n",
            " 67%|██████▋   | 876/1300 [05:15<02:38,  2.68it/s]\u001b[A\u001b[A\n",
            "\n",
            " 67%|██████▋   | 877/1300 [05:15<02:47,  2.53it/s]\u001b[A\u001b[A\n",
            "\n",
            " 68%|██████▊   | 878/1300 [05:16<02:38,  2.66it/s]\u001b[A\u001b[A\n",
            "\n",
            " 68%|██████▊   | 879/1300 [05:16<02:26,  2.88it/s]\u001b[A\u001b[A\n",
            "\n",
            " 68%|██████▊   | 880/1300 [05:16<02:21,  2.97it/s]\u001b[A\u001b[A\n",
            "\n",
            " 68%|██████▊   | 881/1300 [05:16<02:09,  3.23it/s]\u001b[A\u001b[A\n",
            "\n",
            " 68%|██████▊   | 882/1300 [05:17<02:08,  3.26it/s]\u001b[A\u001b[A\n",
            "\n",
            " 68%|██████▊   | 883/1300 [05:17<02:15,  3.07it/s]\u001b[A\u001b[A\n",
            "\n",
            " 68%|██████▊   | 884/1300 [05:17<02:13,  3.12it/s]\u001b[A\u001b[A\n",
            "\n",
            " 68%|██████▊   | 885/1300 [05:18<02:15,  3.07it/s]\u001b[A\u001b[A\n",
            "\n",
            " 68%|██████▊   | 886/1300 [05:18<02:23,  2.88it/s]\u001b[A\u001b[A\n",
            "\n",
            " 68%|██████▊   | 887/1300 [05:18<02:22,  2.90it/s]\u001b[A\u001b[A\n",
            "\n",
            " 68%|██████▊   | 888/1300 [05:19<02:27,  2.80it/s]\u001b[A\u001b[A\n",
            "\n",
            " 68%|██████▊   | 889/1300 [05:19<02:17,  2.99it/s]\u001b[A\u001b[A\n",
            "\n",
            " 68%|██████▊   | 890/1300 [05:20<02:23,  2.85it/s]\u001b[A\u001b[A\n",
            "\n",
            " 69%|██████▊   | 891/1300 [05:20<02:38,  2.57it/s]\u001b[A\u001b[A\n",
            "\n",
            " 69%|██████▊   | 892/1300 [05:20<02:30,  2.70it/s]\u001b[A\u001b[A\n",
            "\n",
            " 69%|██████▊   | 893/1300 [05:21<02:34,  2.64it/s]\u001b[A\u001b[A\n",
            "\n",
            " 69%|██████▉   | 894/1300 [05:21<02:44,  2.47it/s]\u001b[A\u001b[A\n",
            "\n",
            " 69%|██████▉   | 895/1300 [05:22<02:42,  2.49it/s]\u001b[A\u001b[A\n",
            "\n",
            " 69%|██████▉   | 896/1300 [05:22<02:41,  2.51it/s]\u001b[A\u001b[A\n",
            "\n",
            " 69%|██████▉   | 897/1300 [05:22<02:27,  2.73it/s]\u001b[A\u001b[A\n",
            "\n",
            " 69%|██████▉   | 898/1300 [05:23<02:28,  2.71it/s]\u001b[A\u001b[A\n",
            "\n",
            " 69%|██████▉   | 899/1300 [05:23<02:33,  2.62it/s]\u001b[A\u001b[A\n",
            "\n",
            " 69%|██████▉   | 900/1300 [05:23<02:22,  2.82it/s]\u001b[A\u001b[A\n",
            "\n",
            " 69%|██████▉   | 901/1300 [05:24<02:16,  2.92it/s]\u001b[A\u001b[A\n",
            "\n",
            " 69%|██████▉   | 902/1300 [05:24<02:15,  2.94it/s]\u001b[A\u001b[A\n",
            "\n",
            " 69%|██████▉   | 903/1300 [05:24<02:14,  2.96it/s]\u001b[A\u001b[A\n",
            "\n",
            " 70%|██████▉   | 904/1300 [05:25<02:20,  2.81it/s]\u001b[A\u001b[A\n",
            "\n",
            " 70%|██████▉   | 905/1300 [05:25<02:26,  2.70it/s]\u001b[A\u001b[A\n",
            "\n",
            " 70%|██████▉   | 906/1300 [05:25<02:19,  2.82it/s]\u001b[A\u001b[A\n",
            "\n",
            " 70%|██████▉   | 907/1300 [05:26<02:32,  2.58it/s]\u001b[A\u001b[A\n",
            "\n",
            " 70%|██████▉   | 908/1300 [05:26<02:41,  2.42it/s]\u001b[A\u001b[A\n",
            "\n",
            " 70%|██████▉   | 909/1300 [05:27<02:33,  2.55it/s]\u001b[A\u001b[A\n",
            "\n",
            " 70%|███████   | 910/1300 [05:27<02:19,  2.80it/s]\u001b[A\u001b[A\n",
            "\n",
            " 70%|███████   | 911/1300 [05:27<02:15,  2.86it/s]\u001b[A\u001b[A\n",
            "\n",
            " 70%|███████   | 912/1300 [05:28<02:22,  2.73it/s]\u001b[A\u001b[A\n",
            "\n",
            " 70%|███████   | 913/1300 [05:28<02:13,  2.89it/s]\u001b[A\u001b[A\n",
            "\n",
            " 70%|███████   | 914/1300 [05:28<02:23,  2.69it/s]\u001b[A\u001b[A\n",
            "\n",
            " 70%|███████   | 915/1300 [05:29<02:18,  2.79it/s]\u001b[A\u001b[A\n",
            "\n",
            " 70%|███████   | 916/1300 [05:29<02:08,  2.98it/s]\u001b[A\u001b[A\n",
            "\n",
            " 71%|███████   | 917/1300 [05:29<01:59,  3.20it/s]\u001b[A\u001b[A\n",
            "\n",
            " 71%|███████   | 918/1300 [05:30<02:00,  3.16it/s]\u001b[A\u001b[A\n",
            "\n",
            " 71%|███████   | 919/1300 [05:30<02:14,  2.83it/s]\u001b[A\u001b[A\n",
            "\n",
            " 71%|███████   | 920/1300 [05:31<02:21,  2.69it/s]\u001b[A\u001b[A\n",
            "\n",
            " 71%|███████   | 921/1300 [05:31<02:27,  2.56it/s]\u001b[A\u001b[A\n",
            "\n",
            " 71%|███████   | 922/1300 [05:31<02:26,  2.58it/s]\u001b[A\u001b[A\n",
            "\n",
            " 71%|███████   | 923/1300 [05:32<02:26,  2.56it/s]\u001b[A\u001b[A\n",
            "\n",
            " 71%|███████   | 924/1300 [05:32<02:21,  2.66it/s]\u001b[A\u001b[A\n",
            "\n",
            " 71%|███████   | 925/1300 [05:32<02:19,  2.69it/s]\u001b[A\u001b[A\n",
            "\n",
            " 71%|███████   | 926/1300 [05:33<02:16,  2.74it/s]\u001b[A\u001b[A\n",
            "\n",
            " 71%|███████▏  | 927/1300 [05:33<02:12,  2.82it/s]\u001b[A\u001b[A\n",
            "\n",
            " 71%|███████▏  | 928/1300 [05:33<02:07,  2.92it/s]\u001b[A\u001b[A\n",
            "\n",
            " 71%|███████▏  | 929/1300 [05:34<02:17,  2.70it/s]\u001b[A\u001b[A\n",
            "\n",
            " 72%|███████▏  | 930/1300 [05:34<02:09,  2.86it/s]\u001b[A\u001b[A\n",
            "\n",
            " 72%|███████▏  | 931/1300 [05:34<01:59,  3.08it/s]\u001b[A\u001b[A\n",
            "\n",
            " 72%|███████▏  | 932/1300 [05:35<02:08,  2.87it/s]\u001b[A\u001b[A\n",
            "\n",
            " 72%|███████▏  | 933/1300 [05:35<02:11,  2.78it/s]\u001b[A\u001b[A\n",
            "\n",
            " 72%|███████▏  | 934/1300 [05:36<02:06,  2.88it/s]\u001b[A\u001b[A\n",
            "\n",
            " 72%|███████▏  | 935/1300 [05:36<01:54,  3.18it/s]\u001b[A\u001b[A\n",
            "\n",
            " 72%|███████▏  | 936/1300 [05:36<01:54,  3.18it/s]\u001b[A\u001b[A\n",
            "\n",
            " 72%|███████▏  | 937/1300 [05:37<02:08,  2.82it/s]\u001b[A\u001b[A\n",
            "\n",
            " 72%|███████▏  | 938/1300 [05:37<02:00,  3.00it/s]\u001b[A\u001b[A\n",
            "\n",
            " 72%|███████▏  | 939/1300 [05:37<01:51,  3.22it/s]\u001b[A\u001b[A\n",
            "\n",
            " 72%|███████▏  | 940/1300 [05:37<02:01,  2.95it/s]\u001b[A\u001b[A\n",
            "\n",
            " 72%|███████▏  | 941/1300 [05:38<02:08,  2.80it/s]\u001b[A\u001b[A\n",
            "\n",
            " 72%|███████▏  | 942/1300 [05:38<01:54,  3.14it/s]\u001b[A\u001b[A\n",
            "\n",
            " 73%|███████▎  | 943/1300 [05:38<01:50,  3.23it/s]\u001b[A\u001b[A\n",
            "\n",
            " 73%|███████▎  | 944/1300 [05:39<01:52,  3.17it/s]\u001b[A\u001b[A\n",
            "\n",
            " 73%|███████▎  | 945/1300 [05:39<02:00,  2.95it/s]\u001b[A\u001b[A\n",
            "\n",
            " 73%|███████▎  | 946/1300 [05:39<02:03,  2.86it/s]\u001b[A\u001b[A\n",
            "\n",
            " 73%|███████▎  | 947/1300 [05:40<02:06,  2.78it/s]\u001b[A\u001b[A\n",
            "\n",
            " 73%|███████▎  | 948/1300 [05:40<02:08,  2.74it/s]\u001b[A\u001b[A\n",
            "\n",
            " 73%|███████▎  | 949/1300 [05:41<02:16,  2.56it/s]\u001b[A\u001b[A\n",
            "\n",
            " 73%|███████▎  | 950/1300 [05:41<02:09,  2.70it/s]\u001b[A\u001b[A\n",
            "\n",
            " 73%|███████▎  | 951/1300 [05:41<02:15,  2.58it/s]\u001b[A\u001b[A\n",
            "\n",
            " 73%|███████▎  | 952/1300 [05:42<02:05,  2.78it/s]\u001b[A\u001b[A\n",
            "\n",
            " 73%|███████▎  | 953/1300 [05:42<02:00,  2.88it/s]\u001b[A\u001b[A\n",
            "\n",
            " 73%|███████▎  | 954/1300 [05:42<01:56,  2.97it/s]\u001b[A\u001b[A\n",
            "\n",
            " 73%|███████▎  | 955/1300 [05:43<02:09,  2.67it/s]\u001b[A\u001b[A\n",
            "\n",
            " 74%|███████▎  | 956/1300 [05:43<02:06,  2.72it/s]\u001b[A\u001b[A\n",
            "\n",
            " 74%|███████▎  | 957/1300 [05:44<02:02,  2.81it/s]\u001b[A\u001b[A\n",
            "\n",
            " 74%|███████▎  | 958/1300 [05:44<02:04,  2.74it/s]\u001b[A\u001b[A\n",
            "\n",
            " 74%|███████▍  | 959/1300 [05:44<02:02,  2.78it/s]\u001b[A\u001b[A\n",
            "\n",
            " 74%|███████▍  | 960/1300 [05:45<02:03,  2.75it/s]\u001b[A\u001b[A\n",
            "\n",
            " 74%|███████▍  | 961/1300 [05:45<02:08,  2.64it/s]\u001b[A\u001b[A\n",
            "\n",
            " 74%|███████▍  | 962/1300 [05:45<02:11,  2.56it/s]\u001b[A\u001b[A\n",
            "\n",
            " 74%|███████▍  | 963/1300 [05:46<02:10,  2.59it/s]\u001b[A\u001b[A\n",
            "\n",
            " 74%|███████▍  | 964/1300 [05:46<02:00,  2.78it/s]\u001b[A\u001b[A\n",
            "\n",
            " 74%|███████▍  | 965/1300 [05:46<01:58,  2.83it/s]\u001b[A\u001b[A\n",
            "\n",
            " 74%|███████▍  | 966/1300 [05:47<01:52,  2.96it/s]\u001b[A\u001b[A\n",
            "\n",
            " 74%|███████▍  | 967/1300 [05:47<02:04,  2.68it/s]\u001b[A\u001b[A\n",
            "\n",
            " 74%|███████▍  | 968/1300 [05:48<01:54,  2.89it/s]\u001b[A\u001b[A\n",
            "\n",
            " 75%|███████▍  | 969/1300 [05:48<01:46,  3.11it/s]\u001b[A\u001b[A\n",
            "\n",
            " 75%|███████▍  | 970/1300 [05:48<01:42,  3.21it/s]\u001b[A\u001b[A\n",
            "\n",
            " 75%|███████▍  | 971/1300 [05:48<01:41,  3.23it/s]\u001b[A\u001b[A\n",
            "\n",
            " 75%|███████▍  | 972/1300 [05:49<01:43,  3.17it/s]\u001b[A\u001b[A\n",
            "\n",
            " 75%|███████▍  | 973/1300 [05:49<01:52,  2.92it/s]\u001b[A\u001b[A\n",
            "\n",
            " 75%|███████▍  | 974/1300 [05:50<02:00,  2.70it/s]\u001b[A\u001b[A\n",
            "\n",
            " 75%|███████▌  | 975/1300 [05:50<02:01,  2.67it/s]\u001b[A\u001b[A\n",
            "\n",
            " 75%|███████▌  | 976/1300 [05:50<01:55,  2.80it/s]\u001b[A\u001b[A\n",
            "\n",
            " 75%|███████▌  | 977/1300 [05:51<01:54,  2.81it/s]\u001b[A\u001b[A\n",
            "\n",
            " 75%|███████▌  | 978/1300 [05:51<02:04,  2.58it/s]\u001b[A\u001b[A\n",
            "\n",
            " 75%|███████▌  | 979/1300 [05:51<02:03,  2.59it/s]\u001b[A\u001b[A\n",
            "\n",
            " 75%|███████▌  | 980/1300 [05:52<02:03,  2.59it/s]\u001b[A\u001b[A\n",
            "\n",
            " 75%|███████▌  | 981/1300 [05:52<01:56,  2.73it/s]\u001b[A\u001b[A\n",
            "\n",
            " 76%|███████▌  | 982/1300 [05:52<01:48,  2.92it/s]\u001b[A\u001b[A\n",
            "\n",
            " 76%|███████▌  | 983/1300 [05:53<01:45,  3.00it/s]\u001b[A\u001b[A\n",
            "\n",
            " 76%|███████▌  | 984/1300 [05:53<01:47,  2.95it/s]\u001b[A\u001b[A\n",
            "\n",
            " 76%|███████▌  | 985/1300 [05:54<01:57,  2.68it/s]\u001b[A\u001b[A\n",
            "\n",
            " 76%|███████▌  | 986/1300 [05:54<01:47,  2.91it/s]\u001b[A\u001b[A\n",
            "\n",
            " 76%|███████▌  | 987/1300 [05:54<01:52,  2.78it/s]\u001b[A\u001b[A\n",
            "\n",
            " 76%|███████▌  | 988/1300 [05:55<01:54,  2.74it/s]\u001b[A\u001b[A\n",
            "\n",
            " 76%|███████▌  | 989/1300 [05:55<01:47,  2.90it/s]\u001b[A\u001b[A\n",
            "\n",
            " 76%|███████▌  | 990/1300 [05:55<01:49,  2.83it/s]\u001b[A\u001b[A\n",
            "\n",
            " 76%|███████▌  | 991/1300 [05:56<01:39,  3.10it/s]\u001b[A\u001b[A\n",
            "\n",
            " 76%|███████▋  | 992/1300 [05:56<01:44,  2.95it/s]\u001b[A\u001b[A\n",
            "\n",
            " 76%|███████▋  | 993/1300 [05:56<01:40,  3.05it/s]\u001b[A\u001b[A\n",
            "\n",
            " 76%|███████▋  | 994/1300 [05:57<01:39,  3.08it/s]\u001b[A\u001b[A\n",
            "\n",
            " 77%|███████▋  | 995/1300 [05:57<01:35,  3.19it/s]\u001b[A\u001b[A\n",
            "\n",
            " 77%|███████▋  | 996/1300 [05:57<01:29,  3.39it/s]\u001b[A\u001b[A\n",
            "\n",
            " 77%|███████▋  | 997/1300 [05:57<01:33,  3.25it/s]\u001b[A\u001b[A\n",
            "\n",
            " 77%|███████▋  | 998/1300 [05:58<01:35,  3.16it/s]\u001b[A\u001b[A\n",
            "\n",
            " 77%|███████▋  | 999/1300 [05:58<01:37,  3.09it/s]\u001b[A\u001b[A\n",
            "\n",
            " 77%|███████▋  | 1000/1300 [05:58<01:38,  3.04it/s]\u001b[A\u001b[A\n",
            "\n",
            " 77%|███████▋  | 1001/1300 [05:59<01:43,  2.88it/s]\u001b[A\u001b[A\n",
            "\n",
            " 77%|███████▋  | 1002/1300 [05:59<01:50,  2.71it/s]\u001b[A\u001b[A\n",
            "\n",
            " 77%|███████▋  | 1003/1300 [06:00<01:51,  2.67it/s]\u001b[A\u001b[A\n",
            "\n",
            " 77%|███████▋  | 1004/1300 [06:00<01:58,  2.50it/s]\u001b[A\u001b[A\n",
            "\n",
            " 77%|███████▋  | 1005/1300 [06:00<01:48,  2.72it/s]\u001b[A\u001b[A\n",
            "\n",
            " 77%|███████▋  | 1006/1300 [06:01<01:50,  2.67it/s]\u001b[A\u001b[A\n",
            "\n",
            " 77%|███████▋  | 1007/1300 [06:01<01:39,  2.95it/s]\u001b[A\u001b[A\n",
            "\n",
            " 78%|███████▊  | 1008/1300 [06:01<01:45,  2.78it/s]\u001b[A\u001b[A\n",
            "\n",
            " 78%|███████▊  | 1009/1300 [06:02<01:35,  3.04it/s]\u001b[A\u001b[A\n",
            "\n",
            " 78%|███████▊  | 1010/1300 [06:02<01:34,  3.06it/s]\u001b[A\u001b[A\n",
            "\n",
            " 78%|███████▊  | 1011/1300 [06:02<01:41,  2.85it/s]\u001b[A\u001b[A\n",
            "\n",
            " 78%|███████▊  | 1012/1300 [06:03<01:44,  2.76it/s]\u001b[A\u001b[A\n",
            "\n",
            " 78%|███████▊  | 1013/1300 [06:03<01:44,  2.75it/s]\u001b[A\u001b[A\n",
            "\n",
            " 78%|███████▊  | 1014/1300 [06:04<01:45,  2.72it/s]\u001b[A\u001b[A\n",
            "\n",
            " 78%|███████▊  | 1015/1300 [06:04<01:49,  2.60it/s]\u001b[A\u001b[A\n",
            "\n",
            " 78%|███████▊  | 1016/1300 [06:04<01:37,  2.92it/s]\u001b[A\u001b[A\n",
            "\n",
            " 78%|███████▊  | 1017/1300 [06:05<01:42,  2.75it/s]\u001b[A\u001b[A\n",
            "\n",
            " 78%|███████▊  | 1018/1300 [06:05<01:35,  2.95it/s]\u001b[A\u001b[A\n",
            "\n",
            " 78%|███████▊  | 1019/1300 [06:05<01:39,  2.83it/s]\u001b[A\u001b[A\n",
            "\n",
            " 78%|███████▊  | 1020/1300 [06:06<01:55,  2.43it/s]\u001b[A\u001b[A\n",
            "\n",
            " 79%|███████▊  | 1021/1300 [06:06<01:46,  2.62it/s]\u001b[A\u001b[A\n",
            "\n",
            " 79%|███████▊  | 1022/1300 [06:07<01:47,  2.58it/s]\u001b[A\u001b[A\n",
            "\n",
            " 79%|███████▊  | 1023/1300 [06:07<01:46,  2.61it/s]\u001b[A\u001b[A\n",
            "\n",
            " 79%|███████▉  | 1024/1300 [06:07<01:49,  2.51it/s]\u001b[A\u001b[A\n",
            "\n",
            " 79%|███████▉  | 1025/1300 [06:08<01:48,  2.54it/s]\u001b[A\u001b[A\n",
            "\n",
            " 79%|███████▉  | 1026/1300 [06:08<01:47,  2.56it/s]\u001b[A\u001b[A\n",
            "\n",
            " 79%|███████▉  | 1027/1300 [06:09<01:52,  2.42it/s]\u001b[A\u001b[A\n",
            "\n",
            " 79%|███████▉  | 1028/1300 [06:09<01:44,  2.61it/s]\u001b[A\u001b[A\n",
            "\n",
            " 79%|███████▉  | 1029/1300 [06:09<01:32,  2.93it/s]\u001b[A\u001b[A\n",
            "\n",
            " 79%|███████▉  | 1030/1300 [06:09<01:29,  3.01it/s]\u001b[A\u001b[A\n",
            "\n",
            " 79%|███████▉  | 1031/1300 [06:10<01:27,  3.08it/s]\u001b[A\u001b[A\n",
            "\n",
            " 79%|███████▉  | 1032/1300 [06:10<01:22,  3.24it/s]\u001b[A\u001b[A\n",
            "\n",
            " 79%|███████▉  | 1033/1300 [06:10<01:18,  3.40it/s]\u001b[A\u001b[A\n",
            "\n",
            " 80%|███████▉  | 1034/1300 [06:11<01:30,  2.95it/s]\u001b[A\u001b[A\n",
            "\n",
            " 80%|███████▉  | 1035/1300 [06:11<01:31,  2.89it/s]\u001b[A\u001b[A\n",
            "\n",
            " 80%|███████▉  | 1036/1300 [06:11<01:27,  3.00it/s]\u001b[A\u001b[A\n",
            "\n",
            " 80%|███████▉  | 1037/1300 [06:12<01:28,  2.98it/s]\u001b[A\u001b[A\n",
            "\n",
            " 80%|███████▉  | 1038/1300 [06:12<01:35,  2.76it/s]\u001b[A\u001b[A\n",
            "\n",
            " 80%|███████▉  | 1039/1300 [06:13<01:35,  2.74it/s]\u001b[A\u001b[A\n",
            "\n",
            " 80%|████████  | 1040/1300 [06:13<01:31,  2.85it/s]\u001b[A\u001b[A\n",
            "\n",
            " 80%|████████  | 1041/1300 [06:13<01:32,  2.79it/s]\u001b[A\u001b[A\n",
            "\n",
            " 80%|████████  | 1042/1300 [06:14<01:36,  2.67it/s]\u001b[A\u001b[A\n",
            "\n",
            " 80%|████████  | 1043/1300 [06:14<01:28,  2.89it/s]\u001b[A\u001b[A\n",
            "\n",
            " 80%|████████  | 1044/1300 [06:14<01:34,  2.72it/s]\u001b[A\u001b[A\n",
            "\n",
            " 80%|████████  | 1045/1300 [06:15<01:26,  2.96it/s]\u001b[A\u001b[A\n",
            "\n",
            " 80%|████████  | 1046/1300 [06:15<01:18,  3.22it/s]\u001b[A\u001b[A\n",
            "\n",
            " 81%|████████  | 1047/1300 [06:15<01:13,  3.43it/s]\u001b[A\u001b[A\n",
            "\n",
            " 81%|████████  | 1048/1300 [06:15<01:14,  3.40it/s]\u001b[A\u001b[A\n",
            "\n",
            " 81%|████████  | 1049/1300 [06:16<01:19,  3.16it/s]\u001b[A\u001b[A\n",
            "\n",
            " 81%|████████  | 1050/1300 [06:16<01:25,  2.91it/s]\u001b[A\u001b[A\n",
            "\n",
            " 81%|████████  | 1051/1300 [06:17<01:25,  2.92it/s]\u001b[A\u001b[A\n",
            "\n",
            " 81%|████████  | 1052/1300 [06:17<01:28,  2.80it/s]\u001b[A\u001b[A\n",
            "\n",
            " 81%|████████  | 1053/1300 [06:17<01:31,  2.69it/s]\u001b[A\u001b[A\n",
            "\n",
            " 81%|████████  | 1054/1300 [06:18<01:31,  2.69it/s]\u001b[A\u001b[A\n",
            "\n",
            " 81%|████████  | 1055/1300 [06:18<01:35,  2.56it/s]\u001b[A\u001b[A\n",
            "\n",
            " 81%|████████  | 1056/1300 [06:19<01:36,  2.52it/s]\u001b[A\u001b[A\n",
            "\n",
            " 81%|████████▏ | 1057/1300 [06:19<01:37,  2.49it/s]\u001b[A\u001b[A\n",
            "\n",
            " 81%|████████▏ | 1058/1300 [06:19<01:37,  2.48it/s]\u001b[A\u001b[A\n",
            "\n",
            " 81%|████████▏ | 1059/1300 [06:20<01:27,  2.76it/s]\u001b[A\u001b[A\n",
            "\n",
            " 82%|████████▏ | 1060/1300 [06:20<01:23,  2.89it/s]\u001b[A\u001b[A\n",
            "\n",
            " 82%|████████▏ | 1061/1300 [06:20<01:18,  3.06it/s]\u001b[A\u001b[A\n",
            "\n",
            " 82%|████████▏ | 1062/1300 [06:21<01:18,  3.04it/s]\u001b[A\u001b[A\n",
            "\n",
            " 82%|████████▏ | 1063/1300 [06:21<01:21,  2.89it/s]\u001b[A\u001b[A\n",
            "\n",
            " 82%|████████▏ | 1064/1300 [06:21<01:26,  2.72it/s]\u001b[A\u001b[A\n",
            "\n",
            " 82%|████████▏ | 1065/1300 [06:22<01:16,  3.06it/s]\u001b[A\u001b[A\n",
            "\n",
            " 82%|████████▏ | 1066/1300 [06:22<01:19,  2.94it/s]\u001b[A\u001b[A\n",
            "\n",
            " 82%|████████▏ | 1067/1300 [06:22<01:15,  3.09it/s]\u001b[A\u001b[A\n",
            "\n",
            " 82%|████████▏ | 1068/1300 [06:23<01:23,  2.78it/s]\u001b[A\u001b[A\n",
            "\n",
            " 82%|████████▏ | 1069/1300 [06:23<01:15,  3.08it/s]\u001b[A\u001b[A\n",
            "\n",
            " 82%|████████▏ | 1070/1300 [06:23<01:12,  3.18it/s]\u001b[A\u001b[A\n",
            "\n",
            " 82%|████████▏ | 1071/1300 [06:24<01:11,  3.19it/s]\u001b[A\u001b[A\n",
            "\n",
            " 82%|████████▏ | 1072/1300 [06:24<01:14,  3.08it/s]\u001b[A\u001b[A\n",
            "\n",
            " 83%|████████▎ | 1073/1300 [06:24<01:15,  3.00it/s]\u001b[A\u001b[A\n",
            "\n",
            " 83%|████████▎ | 1074/1300 [06:24<01:09,  3.25it/s]\u001b[A\u001b[A\n",
            "\n",
            " 83%|████████▎ | 1075/1300 [06:25<01:11,  3.13it/s]\u001b[A\u001b[A\n",
            "\n",
            " 83%|████████▎ | 1076/1300 [06:25<01:19,  2.82it/s]\u001b[A\u001b[A\n",
            "\n",
            " 83%|████████▎ | 1077/1300 [06:26<01:15,  2.94it/s]\u001b[A\u001b[A\n",
            "\n",
            " 83%|████████▎ | 1078/1300 [06:26<01:10,  3.15it/s]\u001b[A\u001b[A\n",
            "\n",
            " 83%|████████▎ | 1079/1300 [06:26<01:07,  3.27it/s]\u001b[A\u001b[A\n",
            "\n",
            " 83%|████████▎ | 1080/1300 [06:26<01:11,  3.08it/s]\u001b[A\u001b[A\n",
            "\n",
            " 83%|████████▎ | 1081/1300 [06:27<01:19,  2.75it/s]\u001b[A\u001b[A\n",
            "\n",
            " 83%|████████▎ | 1082/1300 [06:27<01:23,  2.62it/s]\u001b[A\u001b[A\n",
            "\n",
            " 83%|████████▎ | 1083/1300 [06:28<01:28,  2.46it/s]\u001b[A\u001b[A\n",
            "\n",
            " 83%|████████▎ | 1084/1300 [06:28<01:21,  2.64it/s]\u001b[A\u001b[A\n",
            "\n",
            " 83%|████████▎ | 1085/1300 [06:28<01:16,  2.80it/s]\u001b[A\u001b[A\n",
            "\n",
            " 84%|████████▎ | 1086/1300 [06:29<01:20,  2.66it/s]\u001b[A\u001b[A\n",
            "\n",
            " 84%|████████▎ | 1087/1300 [06:29<01:16,  2.78it/s]\u001b[A\u001b[A\n",
            "\n",
            " 84%|████████▎ | 1088/1300 [06:29<01:12,  2.94it/s]\u001b[A\u001b[A\n",
            "\n",
            " 84%|████████▍ | 1089/1300 [06:30<01:08,  3.08it/s]\u001b[A\u001b[A\n",
            "\n",
            " 84%|████████▍ | 1090/1300 [06:30<01:10,  2.96it/s]\u001b[A\u001b[A\n",
            "\n",
            " 84%|████████▍ | 1091/1300 [06:30<01:10,  2.96it/s]\u001b[A\u001b[A\n",
            "\n",
            " 84%|████████▍ | 1092/1300 [06:31<01:07,  3.08it/s]\u001b[A\u001b[A\n",
            "\n",
            " 84%|████████▍ | 1093/1300 [06:31<01:04,  3.19it/s]\u001b[A\u001b[A\n",
            "\n",
            " 84%|████████▍ | 1094/1300 [06:31<01:02,  3.32it/s]\u001b[A\u001b[A\n",
            "\n",
            " 84%|████████▍ | 1095/1300 [06:32<00:58,  3.50it/s]\u001b[A\u001b[A\n",
            "\n",
            " 84%|████████▍ | 1096/1300 [06:32<01:02,  3.27it/s]\u001b[A\u001b[A\n",
            "\n",
            " 84%|████████▍ | 1097/1300 [06:32<01:04,  3.17it/s]\u001b[A\u001b[A\n",
            "\n",
            " 84%|████████▍ | 1098/1300 [06:33<01:00,  3.35it/s]\u001b[A\u001b[A\n",
            "\n",
            " 85%|████████▍ | 1099/1300 [06:33<01:03,  3.14it/s]\u001b[A\u001b[A\n",
            "\n",
            " 85%|████████▍ | 1100/1300 [06:33<01:07,  2.96it/s]\u001b[A\u001b[A\n",
            "\n",
            " 85%|████████▍ | 1101/1300 [06:34<01:04,  3.09it/s]\u001b[A\u001b[A\n",
            "\n",
            " 85%|████████▍ | 1102/1300 [06:34<01:07,  2.94it/s]\u001b[A\u001b[A\n",
            "\n",
            " 85%|████████▍ | 1103/1300 [06:34<01:12,  2.73it/s]\u001b[A\u001b[A\n",
            "\n",
            " 85%|████████▍ | 1104/1300 [06:35<01:12,  2.69it/s]\u001b[A\u001b[A\n",
            "\n",
            " 85%|████████▌ | 1105/1300 [06:35<01:16,  2.56it/s]\u001b[A\u001b[A\n",
            "\n",
            " 85%|████████▌ | 1106/1300 [06:36<01:14,  2.60it/s]\u001b[A\u001b[A\n",
            "\n",
            " 85%|████████▌ | 1107/1300 [06:36<01:08,  2.81it/s]\u001b[A\u001b[A\n",
            "\n",
            " 85%|████████▌ | 1108/1300 [06:36<01:09,  2.76it/s]\u001b[A\u001b[A\n",
            "\n",
            " 85%|████████▌ | 1109/1300 [06:37<01:05,  2.93it/s]\u001b[A\u001b[A\n",
            "\n",
            " 85%|████████▌ | 1110/1300 [06:37<01:03,  3.01it/s]\u001b[A\u001b[A\n",
            "\n",
            " 85%|████████▌ | 1111/1300 [06:37<01:04,  2.94it/s]\u001b[A\u001b[A\n",
            "\n",
            " 86%|████████▌ | 1112/1300 [06:38<01:04,  2.93it/s]\u001b[A\u001b[A\n",
            "\n",
            " 86%|████████▌ | 1113/1300 [06:38<01:02,  2.99it/s]\u001b[A\u001b[A\n",
            "\n",
            " 86%|████████▌ | 1114/1300 [06:38<00:59,  3.13it/s]\u001b[A\u001b[A\n",
            "\n",
            " 86%|████████▌ | 1115/1300 [06:38<00:57,  3.24it/s]\u001b[A\u001b[A\n",
            "\n",
            " 86%|████████▌ | 1116/1300 [06:39<01:02,  2.95it/s]\u001b[A\u001b[A\n",
            "\n",
            " 86%|████████▌ | 1117/1300 [06:39<01:05,  2.78it/s]\u001b[A\u001b[A\n",
            "\n",
            " 86%|████████▌ | 1118/1300 [06:40<01:01,  2.97it/s]\u001b[A\u001b[A\n",
            "\n",
            " 86%|████████▌ | 1119/1300 [06:40<01:00,  3.00it/s]\u001b[A\u001b[A\n",
            "\n",
            " 86%|████████▌ | 1120/1300 [06:40<00:57,  3.14it/s]\u001b[A\u001b[A\n",
            "\n",
            " 86%|████████▌ | 1121/1300 [06:41<01:04,  2.76it/s]\u001b[A\u001b[A\n",
            "\n",
            " 86%|████████▋ | 1122/1300 [06:41<01:02,  2.86it/s]\u001b[A\u001b[A\n",
            "\n",
            " 86%|████████▋ | 1123/1300 [06:41<00:58,  3.02it/s]\u001b[A\u001b[A\n",
            "\n",
            " 86%|████████▋ | 1124/1300 [06:42<00:57,  3.06it/s]\u001b[A\u001b[A\n",
            "\n",
            " 87%|████████▋ | 1125/1300 [06:42<00:56,  3.09it/s]\u001b[A\u001b[A\n",
            "\n",
            " 87%|████████▋ | 1126/1300 [06:42<01:00,  2.87it/s]\u001b[A\u001b[A\n",
            "\n",
            " 87%|████████▋ | 1127/1300 [06:43<01:00,  2.87it/s]\u001b[A\u001b[A\n",
            "\n",
            " 87%|████████▋ | 1128/1300 [06:43<00:57,  2.97it/s]\u001b[A\u001b[A\n",
            "\n",
            " 87%|████████▋ | 1129/1300 [06:43<01:01,  2.79it/s]\u001b[A\u001b[A\n",
            "\n",
            " 87%|████████▋ | 1130/1300 [06:44<01:00,  2.81it/s]\u001b[A\u001b[A\n",
            "\n",
            " 87%|████████▋ | 1131/1300 [06:44<01:04,  2.61it/s]\u001b[A\u001b[A\n",
            "\n",
            " 87%|████████▋ | 1132/1300 [06:45<01:05,  2.55it/s]\u001b[A\u001b[A\n",
            "\n",
            " 87%|████████▋ | 1133/1300 [06:45<01:08,  2.44it/s]\u001b[A\u001b[A\n",
            "\n",
            " 87%|████████▋ | 1134/1300 [06:45<01:08,  2.43it/s]\u001b[A\u001b[A\n",
            "\n",
            " 87%|████████▋ | 1135/1300 [06:46<01:05,  2.50it/s]\u001b[A\u001b[A\n",
            "\n",
            " 87%|████████▋ | 1136/1300 [06:46<01:01,  2.68it/s]\u001b[A\u001b[A\n",
            "\n",
            " 87%|████████▋ | 1137/1300 [06:46<00:58,  2.81it/s]\u001b[A\u001b[A\n",
            "\n",
            " 88%|████████▊ | 1138/1300 [06:47<00:55,  2.91it/s]\u001b[A\u001b[A\n",
            "\n",
            " 88%|████████▊ | 1139/1300 [06:47<00:53,  3.00it/s]\u001b[A\u001b[A\n",
            "\n",
            " 88%|████████▊ | 1140/1300 [06:47<00:51,  3.08it/s]\u001b[A\u001b[A\n",
            "\n",
            " 88%|████████▊ | 1141/1300 [06:48<00:48,  3.26it/s]\u001b[A\u001b[A\n",
            "\n",
            " 88%|████████▊ | 1142/1300 [06:48<00:55,  2.84it/s]\u001b[A\u001b[A\n",
            "\n",
            " 88%|████████▊ | 1143/1300 [06:48<00:56,  2.77it/s]\u001b[A\u001b[A\n",
            "\n",
            " 88%|████████▊ | 1144/1300 [06:49<01:00,  2.57it/s]\u001b[A\u001b[A\n",
            "\n",
            " 88%|████████▊ | 1145/1300 [06:49<00:57,  2.71it/s]\u001b[A\u001b[A\n",
            "\n",
            " 88%|████████▊ | 1146/1300 [06:50<00:59,  2.57it/s]\u001b[A\u001b[A\n",
            "\n",
            " 88%|████████▊ | 1147/1300 [06:50<01:01,  2.50it/s]\u001b[A\u001b[A\n",
            "\n",
            " 88%|████████▊ | 1148/1300 [06:50<01:00,  2.52it/s]\u001b[A\u001b[A\n",
            "\n",
            " 88%|████████▊ | 1149/1300 [06:51<00:57,  2.64it/s]\u001b[A\u001b[A\n",
            "\n",
            " 88%|████████▊ | 1150/1300 [06:51<00:59,  2.54it/s]\u001b[A\u001b[A\n",
            "\n",
            " 89%|████████▊ | 1151/1300 [06:52<00:59,  2.52it/s]\u001b[A\u001b[A\n",
            "\n",
            " 89%|████████▊ | 1152/1300 [06:52<00:58,  2.52it/s]\u001b[A\u001b[A\n",
            "\n",
            " 89%|████████▊ | 1153/1300 [06:52<01:01,  2.39it/s]\u001b[A\u001b[A\n",
            "\n",
            " 89%|████████▉ | 1154/1300 [06:53<01:01,  2.36it/s]\u001b[A\u001b[A\n",
            "\n",
            " 89%|████████▉ | 1155/1300 [06:53<00:53,  2.69it/s]\u001b[A\u001b[A\n",
            "\n",
            " 89%|████████▉ | 1156/1300 [06:53<00:51,  2.78it/s]\u001b[A\u001b[A\n",
            "\n",
            " 89%|████████▉ | 1157/1300 [06:54<00:55,  2.57it/s]\u001b[A\u001b[A\n",
            "\n",
            " 89%|████████▉ | 1158/1300 [06:54<00:58,  2.42it/s]\u001b[A\u001b[A\n",
            "\n",
            " 89%|████████▉ | 1159/1300 [06:55<00:54,  2.60it/s]\u001b[A\u001b[A\n",
            "\n",
            " 89%|████████▉ | 1160/1300 [06:55<00:53,  2.61it/s]\u001b[A\u001b[A\n",
            "\n",
            " 89%|████████▉ | 1161/1300 [06:55<00:48,  2.85it/s]\u001b[A\u001b[A\n",
            "\n",
            " 89%|████████▉ | 1162/1300 [06:56<00:51,  2.67it/s]\u001b[A\u001b[A\n",
            "\n",
            " 89%|████████▉ | 1163/1300 [06:56<00:47,  2.89it/s]\u001b[A\u001b[A\n",
            "\n",
            " 90%|████████▉ | 1164/1300 [06:57<00:50,  2.67it/s]\u001b[A\u001b[A\n",
            "\n",
            " 90%|████████▉ | 1165/1300 [06:57<00:46,  2.88it/s]\u001b[A\u001b[A\n",
            "\n",
            " 90%|████████▉ | 1166/1300 [06:57<00:45,  2.97it/s]\u001b[A\u001b[A\n",
            "\n",
            " 90%|████████▉ | 1167/1300 [06:57<00:42,  3.15it/s]\u001b[A\u001b[A\n",
            "\n",
            " 90%|████████▉ | 1168/1300 [06:58<00:44,  2.96it/s]\u001b[A\u001b[A\n",
            "\n",
            " 90%|████████▉ | 1169/1300 [06:58<00:47,  2.76it/s]\u001b[A\u001b[A\n",
            "\n",
            " 90%|█████████ | 1170/1300 [06:59<00:44,  2.91it/s]\u001b[A\u001b[A\n",
            "\n",
            " 90%|█████████ | 1171/1300 [06:59<00:46,  2.78it/s]\u001b[A\u001b[A\n",
            "\n",
            " 90%|█████████ | 1172/1300 [06:59<00:47,  2.70it/s]\u001b[A\u001b[A\n",
            "\n",
            " 90%|█████████ | 1173/1300 [07:00<00:42,  2.96it/s]\u001b[A\u001b[A\n",
            "\n",
            " 90%|█████████ | 1174/1300 [07:00<00:41,  3.03it/s]\u001b[A\u001b[A\n",
            "\n",
            " 90%|█████████ | 1175/1300 [07:00<00:41,  3.03it/s]\u001b[A\u001b[A\n",
            "\n",
            " 90%|█████████ | 1176/1300 [07:01<00:40,  3.09it/s]\u001b[A\u001b[A\n",
            "\n",
            " 91%|█████████ | 1177/1300 [07:01<00:43,  2.80it/s]\u001b[A\u001b[A\n",
            "\n",
            " 91%|█████████ | 1178/1300 [07:01<00:44,  2.74it/s]\u001b[A\u001b[A\n",
            "\n",
            " 91%|█████████ | 1179/1300 [07:02<00:44,  2.72it/s]\u001b[A\u001b[A\n",
            "\n",
            " 91%|█████████ | 1180/1300 [07:02<00:42,  2.85it/s]\u001b[A\u001b[A\n",
            "\n",
            " 91%|█████████ | 1181/1300 [07:02<00:43,  2.73it/s]\u001b[A\u001b[A\n",
            "\n",
            " 91%|█████████ | 1182/1300 [07:03<00:43,  2.69it/s]\u001b[A\u001b[A\n",
            "\n",
            " 91%|█████████ | 1183/1300 [07:03<00:43,  2.71it/s]\u001b[A\u001b[A\n",
            "\n",
            " 91%|█████████ | 1184/1300 [07:04<00:45,  2.58it/s]\u001b[A\u001b[A\n",
            "\n",
            " 91%|█████████ | 1185/1300 [07:04<00:41,  2.78it/s]\u001b[A\u001b[A\n",
            "\n",
            " 91%|█████████ | 1186/1300 [07:04<00:42,  2.68it/s]\u001b[A\u001b[A\n",
            "\n",
            " 91%|█████████▏| 1187/1300 [07:05<00:41,  2.73it/s]\u001b[A\u001b[A\n",
            "\n",
            " 91%|█████████▏| 1188/1300 [07:05<00:36,  3.03it/s]\u001b[A\u001b[A\n",
            "\n",
            " 91%|█████████▏| 1189/1300 [07:05<00:35,  3.09it/s]\u001b[A\u001b[A\n",
            "\n",
            " 92%|█████████▏| 1190/1300 [07:06<00:37,  2.94it/s]\u001b[A\u001b[A\n",
            "\n",
            " 92%|█████████▏| 1191/1300 [07:06<00:39,  2.79it/s]\u001b[A\u001b[A\n",
            "\n",
            " 92%|█████████▏| 1192/1300 [07:06<00:38,  2.79it/s]\u001b[A\u001b[A\n",
            "\n",
            " 92%|█████████▏| 1193/1300 [07:07<00:40,  2.65it/s]\u001b[A\u001b[A\n",
            "\n",
            " 92%|█████████▏| 1194/1300 [07:07<00:37,  2.83it/s]\u001b[A\u001b[A\n",
            "\n",
            " 92%|█████████▏| 1195/1300 [07:07<00:35,  2.92it/s]\u001b[A\u001b[A\n",
            "\n",
            " 92%|█████████▏| 1196/1300 [07:08<00:38,  2.70it/s]\u001b[A\u001b[A\n",
            "\n",
            " 92%|█████████▏| 1197/1300 [07:08<00:39,  2.62it/s]\u001b[A\u001b[A\n",
            "\n",
            " 92%|█████████▏| 1198/1300 [07:09<00:40,  2.51it/s]\u001b[A\u001b[A\n",
            "\n",
            " 92%|█████████▏| 1199/1300 [07:09<00:39,  2.57it/s]\u001b[A\u001b[A\n",
            "\n",
            " 92%|█████████▏| 1200/1300 [07:09<00:41,  2.44it/s]\u001b[A\u001b[A\n",
            "\n",
            " 92%|█████████▏| 1201/1300 [07:10<00:38,  2.58it/s]\u001b[A\u001b[A\n",
            "\n",
            " 92%|█████████▏| 1202/1300 [07:10<00:39,  2.45it/s]\u001b[A\u001b[A\n",
            "\n",
            " 93%|█████████▎| 1203/1300 [07:11<00:39,  2.47it/s]\u001b[A\u001b[A\n",
            "\n",
            " 93%|█████████▎| 1204/1300 [07:11<00:41,  2.33it/s]\u001b[A\u001b[A\n",
            "\n",
            " 93%|█████████▎| 1205/1300 [07:11<00:37,  2.56it/s]\u001b[A\u001b[A\n",
            "\n",
            " 93%|█████████▎| 1206/1300 [07:12<00:36,  2.61it/s]\u001b[A\u001b[A\n",
            "\n",
            " 93%|█████████▎| 1207/1300 [07:12<00:37,  2.49it/s]\u001b[A\u001b[A\n",
            "\n",
            " 93%|█████████▎| 1208/1300 [07:13<00:37,  2.48it/s]\u001b[A\u001b[A\n",
            "\n",
            " 93%|█████████▎| 1209/1300 [07:13<00:34,  2.66it/s]\u001b[A\u001b[A\n",
            "\n",
            " 93%|█████████▎| 1210/1300 [07:13<00:33,  2.69it/s]\u001b[A\u001b[A\n",
            "\n",
            " 93%|█████████▎| 1211/1300 [07:14<00:29,  3.02it/s]\u001b[A\u001b[A\n",
            "\n",
            " 93%|█████████▎| 1212/1300 [07:14<00:30,  2.89it/s]\u001b[A\u001b[A\n",
            "\n",
            " 93%|█████████▎| 1213/1300 [07:14<00:32,  2.70it/s]\u001b[A\u001b[A\n",
            "\n",
            " 93%|█████████▎| 1214/1300 [07:15<00:32,  2.66it/s]\u001b[A\u001b[A\n",
            "\n",
            " 93%|█████████▎| 1215/1300 [07:15<00:33,  2.54it/s]\u001b[A\u001b[A\n",
            "\n",
            " 94%|█████████▎| 1216/1300 [07:16<00:32,  2.57it/s]\u001b[A\u001b[A\n",
            "\n",
            " 94%|█████████▎| 1217/1300 [07:16<00:29,  2.82it/s]\u001b[A\u001b[A\n",
            "\n",
            " 94%|█████████▎| 1218/1300 [07:16<00:28,  2.87it/s]\u001b[A\u001b[A\n",
            "\n",
            " 94%|█████████▍| 1219/1300 [07:17<00:29,  2.76it/s]\u001b[A\u001b[A\n",
            "\n",
            " 94%|█████████▍| 1220/1300 [07:17<00:28,  2.77it/s]\u001b[A\u001b[A\n",
            "\n",
            " 94%|█████████▍| 1221/1300 [07:17<00:26,  2.96it/s]\u001b[A\u001b[A\n",
            "\n",
            " 94%|█████████▍| 1222/1300 [07:18<00:27,  2.85it/s]\u001b[A\u001b[A\n",
            "\n",
            " 94%|█████████▍| 1223/1300 [07:18<00:29,  2.61it/s]\u001b[A\u001b[A\n",
            "\n",
            " 94%|█████████▍| 1224/1300 [07:19<00:31,  2.44it/s]\u001b[A\u001b[A\n",
            "\n",
            " 94%|█████████▍| 1225/1300 [07:19<00:29,  2.52it/s]\u001b[A\u001b[A\n",
            "\n",
            " 94%|█████████▍| 1226/1300 [07:19<00:27,  2.66it/s]\u001b[A\u001b[A\n",
            "\n",
            " 94%|█████████▍| 1227/1300 [07:20<00:25,  2.81it/s]\u001b[A\u001b[A\n",
            "\n",
            " 94%|█████████▍| 1228/1300 [07:20<00:23,  3.09it/s]\u001b[A\u001b[A\n",
            "\n",
            " 95%|█████████▍| 1229/1300 [07:20<00:22,  3.16it/s]\u001b[A\u001b[A\n",
            "\n",
            " 95%|█████████▍| 1230/1300 [07:21<00:24,  2.87it/s]\u001b[A\u001b[A\n",
            "\n",
            " 95%|█████████▍| 1231/1300 [07:21<00:23,  2.96it/s]\u001b[A\u001b[A\n",
            "\n",
            " 95%|█████████▍| 1232/1300 [07:21<00:20,  3.24it/s]\u001b[A\u001b[A\n",
            "\n",
            " 95%|█████████▍| 1233/1300 [07:21<00:21,  3.16it/s]\u001b[A\u001b[A\n",
            "\n",
            " 95%|█████████▍| 1234/1300 [07:22<00:20,  3.23it/s]\u001b[A\u001b[A\n",
            "\n",
            " 95%|█████████▌| 1235/1300 [07:22<00:22,  2.86it/s]\u001b[A\u001b[A\n",
            "\n",
            " 95%|█████████▌| 1236/1300 [07:23<00:24,  2.60it/s]\u001b[A\u001b[A\n",
            "\n",
            " 95%|█████████▌| 1237/1300 [07:23<00:22,  2.82it/s]\u001b[A\u001b[A\n",
            "\n",
            " 95%|█████████▌| 1238/1300 [07:23<00:21,  2.84it/s]\u001b[A\u001b[A\n",
            "\n",
            " 95%|█████████▌| 1239/1300 [07:24<00:20,  2.99it/s]\u001b[A\u001b[A\n",
            "\n",
            " 95%|█████████▌| 1240/1300 [07:24<00:19,  3.13it/s]\u001b[A\u001b[A\n",
            "\n",
            " 95%|█████████▌| 1241/1300 [07:24<00:21,  2.79it/s]\u001b[A\u001b[A\n",
            "\n",
            " 96%|█████████▌| 1242/1300 [07:25<00:21,  2.73it/s]\u001b[A\u001b[A\n",
            "\n",
            " 96%|█████████▌| 1243/1300 [07:25<00:22,  2.55it/s]\u001b[A\u001b[A\n",
            "\n",
            " 96%|█████████▌| 1244/1300 [07:25<00:20,  2.73it/s]\u001b[A\u001b[A\n",
            "\n",
            " 96%|█████████▌| 1245/1300 [07:26<00:22,  2.48it/s]\u001b[A\u001b[A\n",
            "\n",
            " 96%|█████████▌| 1246/1300 [07:26<00:20,  2.68it/s]\u001b[A\u001b[A\n",
            "\n",
            " 96%|█████████▌| 1247/1300 [07:27<00:18,  2.79it/s]\u001b[A\u001b[A\n",
            "\n",
            " 96%|█████████▌| 1248/1300 [07:27<00:19,  2.63it/s]\u001b[A\u001b[A\n",
            "\n",
            " 96%|█████████▌| 1249/1300 [07:27<00:20,  2.48it/s]\u001b[A\u001b[A\n",
            "\n",
            " 96%|█████████▌| 1250/1300 [07:28<00:20,  2.41it/s]\u001b[A\u001b[A\n",
            "\n",
            " 96%|█████████▌| 1251/1300 [07:28<00:18,  2.58it/s]\u001b[A\u001b[A\n",
            "\n",
            " 96%|█████████▋| 1252/1300 [07:29<00:18,  2.59it/s]\u001b[A\u001b[A\n",
            "\n",
            " 96%|█████████▋| 1253/1300 [07:29<00:16,  2.83it/s]\u001b[A\u001b[A\n",
            "\n",
            " 96%|█████████▋| 1254/1300 [07:29<00:16,  2.84it/s]\u001b[A\u001b[A\n",
            "\n",
            " 97%|█████████▋| 1255/1300 [07:30<00:16,  2.72it/s]\u001b[A\u001b[A\n",
            "\n",
            " 97%|█████████▋| 1256/1300 [07:30<00:16,  2.59it/s]\u001b[A\u001b[A\n",
            "\n",
            " 97%|█████████▋| 1257/1300 [07:30<00:17,  2.46it/s]\u001b[A\u001b[A\n",
            "\n",
            " 97%|█████████▋| 1258/1300 [07:31<00:16,  2.61it/s]\u001b[A\u001b[A\n",
            "\n",
            " 97%|█████████▋| 1259/1300 [07:31<00:15,  2.72it/s]\u001b[A\u001b[A\n",
            "\n",
            " 97%|█████████▋| 1260/1300 [07:32<00:15,  2.63it/s]\u001b[A\u001b[A\n",
            "\n",
            " 97%|█████████▋| 1261/1300 [07:32<00:14,  2.67it/s]\u001b[A\u001b[A\n",
            "\n",
            " 97%|█████████▋| 1262/1300 [07:32<00:14,  2.64it/s]\u001b[A\u001b[A\n",
            "\n",
            " 97%|█████████▋| 1263/1300 [07:33<00:15,  2.46it/s]\u001b[A\u001b[A\n",
            "\n",
            " 97%|█████████▋| 1264/1300 [07:33<00:15,  2.38it/s]\u001b[A\u001b[A\n",
            "\n",
            " 97%|█████████▋| 1265/1300 [07:34<00:14,  2.43it/s]\u001b[A\u001b[A\n",
            "\n",
            " 97%|█████████▋| 1266/1300 [07:34<00:14,  2.31it/s]\u001b[A\u001b[A\n",
            "\n",
            " 97%|█████████▋| 1267/1300 [07:34<00:13,  2.48it/s]\u001b[A\u001b[A\n",
            "\n",
            " 98%|█████████▊| 1268/1300 [07:35<00:12,  2.58it/s]\u001b[A\u001b[A\n",
            "\n",
            " 98%|█████████▊| 1269/1300 [07:35<00:12,  2.56it/s]\u001b[A\u001b[A\n",
            "\n",
            " 98%|█████████▊| 1270/1300 [07:36<00:11,  2.59it/s]\u001b[A\u001b[A\n",
            "\n",
            " 98%|█████████▊| 1271/1300 [07:36<00:10,  2.81it/s]\u001b[A\u001b[A\n",
            "\n",
            " 98%|█████████▊| 1272/1300 [07:36<00:10,  2.60it/s]\u001b[A\u001b[A\n",
            "\n",
            " 98%|█████████▊| 1273/1300 [07:37<00:10,  2.64it/s]\u001b[A\u001b[A\n",
            "\n",
            " 98%|█████████▊| 1274/1300 [07:37<00:09,  2.85it/s]\u001b[A\u001b[A\n",
            "\n",
            " 98%|█████████▊| 1275/1300 [07:37<00:09,  2.51it/s]\u001b[A\u001b[A\n",
            "\n",
            " 98%|█████████▊| 1276/1300 [07:38<00:09,  2.61it/s]\u001b[A\u001b[A\n",
            "\n",
            " 98%|█████████▊| 1277/1300 [07:38<00:09,  2.52it/s]\u001b[A\u001b[A\n",
            "\n",
            " 98%|█████████▊| 1278/1300 [07:39<00:08,  2.62it/s]\u001b[A\u001b[A\n",
            "\n",
            " 98%|█████████▊| 1279/1300 [07:39<00:08,  2.35it/s]\u001b[A\u001b[A\n",
            "\n",
            " 98%|█████████▊| 1280/1300 [07:39<00:07,  2.51it/s]\u001b[A\u001b[A\n",
            "\n",
            " 99%|█████████▊| 1281/1300 [07:40<00:06,  2.73it/s]\u001b[A\u001b[A\n",
            "\n",
            " 99%|█████████▊| 1282/1300 [07:40<00:06,  2.86it/s]\u001b[A\u001b[A\n",
            "\n",
            " 99%|█████████▊| 1283/1300 [07:40<00:05,  2.97it/s]\u001b[A\u001b[A\n",
            "\n",
            " 99%|█████████▉| 1284/1300 [07:41<00:05,  3.02it/s]\u001b[A\u001b[A\n",
            "\n",
            " 99%|█████████▉| 1285/1300 [07:41<00:05,  2.88it/s]\u001b[A\u001b[A\n",
            "\n",
            " 99%|█████████▉| 1286/1300 [07:41<00:05,  2.68it/s]\u001b[A\u001b[A\n",
            "\n",
            " 99%|█████████▉| 1287/1300 [07:42<00:04,  2.90it/s]\u001b[A\u001b[A\n",
            "\n",
            " 99%|█████████▉| 1288/1300 [07:42<00:04,  2.74it/s]\u001b[A\u001b[A\n",
            "\n",
            " 99%|█████████▉| 1289/1300 [07:43<00:03,  2.81it/s]\u001b[A\u001b[A\n",
            "\n",
            " 99%|█████████▉| 1290/1300 [07:43<00:03,  2.73it/s]\u001b[A\u001b[A\n",
            "\n",
            " 99%|█████████▉| 1291/1300 [07:43<00:03,  2.66it/s]\u001b[A\u001b[A\n",
            "\n",
            " 99%|█████████▉| 1292/1300 [07:44<00:03,  2.65it/s]\u001b[A\u001b[A\n",
            "\n",
            " 99%|█████████▉| 1293/1300 [07:44<00:02,  2.67it/s]\u001b[A\u001b[A\n",
            "\n",
            "100%|█████████▉| 1294/1300 [07:44<00:02,  2.97it/s]\u001b[A\u001b[A\n",
            "\n",
            "100%|█████████▉| 1295/1300 [07:45<00:01,  2.98it/s]\u001b[A\u001b[A\n",
            "\n",
            "100%|█████████▉| 1296/1300 [07:45<00:01,  3.22it/s]\u001b[A\u001b[A\n",
            "\n",
            "100%|█████████▉| 1297/1300 [07:45<00:00,  3.01it/s]\u001b[A\u001b[A\n",
            "\n",
            "100%|█████████▉| 1298/1300 [07:46<00:00,  3.14it/s]\u001b[A\u001b[A\n",
            "\n",
            "100%|█████████▉| 1299/1300 [07:46<00:00,  2.75it/s]\u001b[A\u001b[A\n",
            "\n",
            "100%|██████████| 1300/1300 [07:46<00:00,  2.78it/s]\n"
          ]
        }
      ],
      "source": [
        "test_images = [load(i) for i in tqdm(df_sub.image)]"
      ]
    },
    {
      "cell_type": "code",
      "execution_count": null,
      "metadata": {
        "id": "ydREFVhXt7Lr"
      },
      "outputs": [],
      "source": [
        "#with open('/content/drive/MyDrive/ASDRP/Experiments/Imbalanced Race for Gender Classification/test_tensors.pickle', 'wb') as handle:\n",
        "#  pickle.dump(test_images, handle)"
      ]
    },
    {
      "cell_type": "code",
      "execution_count": null,
      "metadata": {
        "id": "gPxvzpTTLn3-"
      },
      "outputs": [],
      "source": [
        "test_images = pickle.load(open(\"/content/drive/MyDrive/ASDRP/Experiments/simple-cnn-v3/test_tensors_generated.pickle\", \"rb\"))"
      ]
    },
    {
      "cell_type": "code",
      "execution_count": null,
      "metadata": {
        "colab": {
          "base_uri": "https://localhost:8080/",
          "height": 268
        },
        "id": "naTVlNJ0SocJ",
        "outputId": "0026e3c1-eea2-4d28-f2b2-6aeaa46d1d3a"
      },
      "outputs": [
        {
          "output_type": "display_data",
          "data": {
            "text/plain": [
              "<Figure size 432x288 with 1 Axes>"
            ],
            "image/png": "[encoded data removed]"
          },
          "metadata": {
            "needs_background": "light"
          }
        }
      ],
      "source": [
        "from matplotlib import pyplot as plt\n",
        "\n",
        "plt.imshow(test_images[215], interpolation='nearest')\n",
        "plt.show()"
      ]
    },
    {
      "cell_type": "code",
      "execution_count": null,
      "metadata": {
        "id": "M5ozrWuzRIbe"
      },
      "outputs": [],
      "source": [
        "test_gender = [i for i in df_test.gender]\n",
        "test_race = [i for i in df_test.race]"
      ]
    },
    {
      "cell_type": "code",
      "execution_count": null,
      "metadata": {
        "colab": {
          "base_uri": "https://localhost:8080/"
        },
        "id": "MHCJsKiQROg5",
        "outputId": "ef73afb7-f5d6-41a6-bae4-735e0a051ae8"
      },
      "outputs": [
        {
          "output_type": "execute_result",
          "data": {
            "text/plain": [
              "1000"
            ]
          },
          "metadata": {},
          "execution_count": 61
        }
      ],
      "source": [
        "len(test_gender)"
      ]
    },
    {
      "cell_type": "code",
      "execution_count": null,
      "metadata": {
        "colab": {
          "base_uri": "https://localhost:8080/"
        },
        "id": "-9VTz-WvlcQO",
        "outputId": "b64f70e5-f5e4-455c-825c-743caa79dad0"
      },
      "outputs": [
        {
          "output_type": "stream",
          "name": "stdout",
          "text": [
            "Testing loss (for one batch) at step 0: 0.5670\n",
            "Seen so far: 1 samples\n",
            "Testing loss (for one batch) at step 100: 0.9347\n",
            "Seen so far: 101 samples\n",
            "Testing loss (for one batch) at step 200: 0.9527\n",
            "Seen so far: 201 samples\n",
            "Testing loss (for one batch) at step 300: 0.4762\n",
            "Seen so far: 301 samples\n",
            "Testing loss (for one batch) at step 400: 0.8802\n",
            "Seen so far: 401 samples\n",
            "Testing loss (for one batch) at step 500: 1.2219\n",
            "Seen so far: 501 samples\n",
            "Testing loss (for one batch) at step 600: 0.7148\n",
            "Seen so far: 601 samples\n",
            "Testing loss (for one batch) at step 700: 1.2674\n",
            "Seen so far: 701 samples\n",
            "Testing loss (for one batch) at step 800: 0.5178\n",
            "Seen so far: 801 samples\n",
            "Testing loss (for one batch) at step 900: 1.1806\n",
            "Seen so far: 901 samples\n",
            "Testing acc 0.6490\n"
          ]
        }
      ],
      "source": [
        "from sklearn.metrics import confusion_matrix\n",
        "import keras\n",
        "race_total = {'White':0, 'Black': 0, 'Asian': 0, 'Indian': 0, 'Others': 0, 'White F':0, 'Black F': 0, 'Asian F': 0, 'Indian F': 0, 'Others F': 0}\n",
        "race_correct = {'White':0, 'Black': 0, 'Asian': 0, 'Indian': 0, 'Others': 0, 'White F':0, 'Black F': 0, 'Asian F': 0, 'Indian F': 0, 'Others F': 0}\n",
        "false_positives = {'White':0, 'Black': 0, 'Asian': 0, 'Indian': 0, 'Others': 0}\n",
        "loss_fn = keras.losses.BinaryCrossentropy(from_logits=True)\n",
        "test_acc_metric = keras.metrics.BinaryAccuracy()\n",
        "list2 = []\n",
        "predictions = []\n",
        "\n",
        "test_dataset = tf.data.Dataset.from_tensor_slices((test_images, test_gender))\n",
        "test_dataset = test_dataset.batch(1)\n",
        "for step, (x_batch_test, y_batch_test) in enumerate(test_dataset):\n",
        "  if test_gender[step] == 0:\n",
        "    if test_race[step] == 0:\n",
        "        race_total['White'] += 1\n",
        "    elif test_race[step] == 1:\n",
        "        race_total['Black'] += 1\n",
        "    elif test_race[step] == 2:\n",
        "        race_total['Asian'] += 1\n",
        "    elif test_race[step] == 3:\n",
        "        race_total['Indian'] += 1  \n",
        "    elif test_race[step] == 4:\n",
        "        race_total['Others'] += 1\n",
        "  else:\n",
        "    if test_race[step] == 0:\n",
        "        race_total['White F'] += 1\n",
        "    elif test_race[step] == 1:\n",
        "        race_total['Black F'] += 1\n",
        "    elif test_race[step] == 2:\n",
        "        race_total['Asian F'] += 1\n",
        "    elif test_race[step] == 3:\n",
        "        race_total['Indian F'] += 1  \n",
        "    elif test_race[step] == 4:\n",
        "        race_total['Others F'] += 1\n",
        "  with tf.GradientTape() as tape:\n",
        "    logits = model(x_batch_test, training=False)\n",
        "    if logits >= 0.5:\n",
        "      predictions.append(1)\n",
        "    else:\n",
        "      predictions.append(0)\n",
        "    loss_value = loss_fn(y_batch_test,logits)\n",
        "    test_acc_metric.update_state(y_batch_test, logits)\n",
        "    list2.append(test_acc_metric.result().numpy())\n",
        "\n",
        "  if step >= 1:\n",
        "    if list2[step] >= list2[step-1]:\n",
        "      if test_gender[step] == 0:\n",
        "        if test_race[step] == 0:\n",
        "          race_correct['White'] += 1\n",
        "        elif test_race[step] == 1:\n",
        "          race_correct['Black'] += 1\n",
        "        elif test_race[step] == 2:\n",
        "          race_correct['Asian'] += 1\n",
        "        elif test_race[step] == 3:\n",
        "          race_correct['Indian'] += 1\n",
        "        elif test_race[step] == 4:\n",
        "          race_correct['Others'] += 1\n",
        "      else:\n",
        "        if test_race[step] == 0:\n",
        "          race_correct['White F'] += 1\n",
        "        elif test_race[step] == 1:\n",
        "          race_correct['Black F'] += 1\n",
        "        elif test_race[step] == 2:\n",
        "          race_correct['Asian F'] += 1\n",
        "        elif test_race[step] == 3:\n",
        "          race_correct['Indian F'] += 1\n",
        "        elif test_race[step] == 4:\n",
        "          race_correct['Others F'] += 1\n",
        "    else:\n",
        "      if test_gender[step] == 0 and predictions[step] == 1:\n",
        "        if test_race[step] == 0:\n",
        "          false_positives['White'] += 1\n",
        "        elif test_race[step] == 1:\n",
        "          false_positives['Black'] += 1\n",
        "        elif test_race[step] == 2:\n",
        "          false_positives['Asian'] += 1\n",
        "        elif test_race[step] == 3:\n",
        "          false_positives['Indian'] += 1\n",
        "        elif test_race[step] == 4:\n",
        "          false_positives['Others'] += 1   \n",
        "\n",
        "\n",
        "  if step % 100 == 0:\n",
        "            print(\n",
        "                \"Testing loss (for one batch) at step %d: %.4f\"\n",
        "                % (step, float(loss_value))\n",
        "            )\n",
        "            print(\"Seen so far: %s samples\" % ((step + 1)))\n",
        "\n",
        "test_acc = test_acc_metric.result()\n",
        "print(\"Testing acc %.4f\" % (float(test_acc),))\n"
      ]
    },
    {
      "cell_type": "code",
      "source": [
        "df_test['gender'].value_counts()"
      ],
      "metadata": {
        "colab": {
          "base_uri": "https://localhost:8080/"
        },
        "id": "xLMsa-b4RsvT",
        "outputId": "94407eb2-06a5-44b0-ca4e-5797276e5488"
      },
      "execution_count": null,
      "outputs": [
        {
          "output_type": "execute_result",
          "data": {
            "text/plain": [
              "1    550\n",
              "0    450\n",
              "Name: gender, dtype: int64"
            ]
          },
          "metadata": {},
          "execution_count": 75
        }
      ]
    },
    {
      "cell_type": "code",
      "execution_count": null,
      "metadata": {
        "colab": {
          "base_uri": "https://localhost:8080/"
        },
        "id": "7J-a35ndmMJm",
        "outputId": "636d9d90-8123-4a1a-febf-3eb5c108cb95"
      },
      "outputs": [
        {
          "output_type": "execute_result",
          "data": {
            "text/plain": [
              "{'Asian': 100,\n",
              " 'Asian F': 100,\n",
              " 'Black': 101,\n",
              " 'Black F': 99,\n",
              " 'Indian': 73,\n",
              " 'Indian F': 127,\n",
              " 'Others': 95,\n",
              " 'Others F': 105,\n",
              " 'White': 81,\n",
              " 'White F': 119}"
            ]
          },
          "metadata": {},
          "execution_count": 63
        }
      ],
      "source": [
        "race_total"
      ]
    },
    {
      "cell_type": "code",
      "execution_count": null,
      "metadata": {
        "colab": {
          "base_uri": "https://localhost:8080/"
        },
        "id": "ce3ki_3VmRFQ",
        "outputId": "a40c4871-5d2b-4235-ca1c-3f553cb0786b"
      },
      "outputs": [
        {
          "output_type": "execute_result",
          "data": {
            "text/plain": [
              "{'Asian': 47,\n",
              " 'Asian F': 71,\n",
              " 'Black': 59,\n",
              " 'Black F': 68,\n",
              " 'Indian': 38,\n",
              " 'Indian F': 94,\n",
              " 'Others': 49,\n",
              " 'Others F': 81,\n",
              " 'White': 55,\n",
              " 'White F': 88}"
            ]
          },
          "metadata": {},
          "execution_count": 64
        }
      ],
      "source": [
        "race_correct"
      ]
    },
    {
      "cell_type": "code",
      "execution_count": null,
      "metadata": {
        "colab": {
          "base_uri": "https://localhost:8080/"
        },
        "id": "gR_JNlCumSqm",
        "outputId": "4b1dcbba-ae89-4d66-f9dc-da604a95a9f3"
      },
      "outputs": [
        {
          "output_type": "stream",
          "name": "stdout",
          "text": [
            "Percentage of White class in testing dataset: 8.0 %\n",
            "Testing accuracy of White class: 67.9 %\n",
            "Percentage of Black class in testing dataset: 10.0 %\n",
            "Testing accuracy of Black class: 58.4 %\n",
            "Percentage of Asian class in testing dataset: 10.0 %\n",
            "Testing accuracy of Asian class: 47.0 %\n",
            "Percentage of Indian class in testing dataset: 7.000000000000001 %\n",
            "Testing accuracy of Indian class: 52.1 %\n",
            "Percentage of Others class in testing dataset: 10.0 %\n",
            "Testing accuracy of Others class: 51.6 %\n",
            "Percentage of White F class in testing dataset: 12.0 %\n",
            "Testing accuracy of White F class: 73.9 %\n",
            "Percentage of Black F class in testing dataset: 10.0 %\n",
            "Testing accuracy of Black F class: 68.7 %\n",
            "Percentage of Asian F class in testing dataset: 10.0 %\n",
            "Testing accuracy of Asian F class: 71.0 %\n",
            "Percentage of Indian F class in testing dataset: 13.0 %\n",
            "Testing accuracy of Indian F class: 74.0 %\n",
            "Percentage of Others F class in testing dataset: 10.0 %\n",
            "Testing accuracy of Others F class: 77.10000000000001 %\n"
          ]
        }
      ],
      "source": [
        "for i in race_total:\n",
        "  print(f'Percentage of {i} class in testing dataset: {round(race_total[i]/sum(race_total.values()), 2) * 100} %')\n",
        "  print(f'Testing accuracy of {i} class: {round(float(race_correct[i] / race_total[i]),3) * 100} %')"
      ]
    },
    {
      "cell_type": "code",
      "source": [
        "for i in false_positives:\n",
        "  false_positives[i] = false_positives[i] / race_total[i]"
      ],
      "metadata": {
        "id": "OqXWh0wpC-5v"
      },
      "execution_count": null,
      "outputs": []
    },
    {
      "cell_type": "code",
      "source": [
        "false_positives"
      ],
      "metadata": {
        "colab": {
          "base_uri": "https://localhost:8080/"
        },
        "id": "pcDkFUymDVrN",
        "outputId": "1cf3ea44-0f8d-46dd-8f06-b8030c85c424"
      },
      "execution_count": null,
      "outputs": [
        {
          "output_type": "execute_result",
          "data": {
            "text/plain": [
              "{'Asian': 0.54,\n",
              " 'Black': 0.4752475247524752,\n",
              " 'Indian': 0.5205479452054794,\n",
              " 'Others': 0.5578947368421052,\n",
              " 'White': 0.3950617283950617}"
            ]
          },
          "metadata": {},
          "execution_count": 80
        }
      ]
    },
    {
      "cell_type": "code",
      "source": [
        "names = list(false_positives.keys())\n",
        "values = list(false_positives.values())\n",
        "\n",
        "plt.bar(range(len(false_positives)), values, tick_label=names)\n",
        "\n",
        "plt.ylabel(\"False Positive Rate\")"
      ],
      "metadata": {
        "colab": {
          "base_uri": "https://localhost:8080/",
          "height": 283
        },
        "id": "6i2dG0jMDdpd",
        "outputId": "1dfa634a-a26e-464f-c909-fd2c8ae4b507"
      },
      "execution_count": null,
      "outputs": [
        {
          "output_type": "execute_result",
          "data": {
            "text/plain": [
              "Text(0, 0.5, 'False Positive Rate')"
            ]
          },
          "metadata": {},
          "execution_count": 81
        },
        {
          "output_type": "display_data",
          "data": {
            "text/plain": [
              "<Figure size 432x288 with 1 Axes>"
            ],
            "image/png": "[encoded data removed]"
          },
          "metadata": {
            "needs_background": "light"
          }
        }
      ]
    },
    {
      "cell_type": "code",
      "execution_count": null,
      "metadata": {
        "id": "yU3mkr0my3xJ"
      },
      "outputs": [],
      "source": [
        "new_images = []\n",
        "new_genders = []\n",
        "new_races = []\n"
      ]
    }
  ],
  "metadata": {
    "accelerator": "GPU",
    "colab": {
      "provenance": []
    },
    "gpuClass": "standard",
    "kernelspec": {
      "display_name": "Python 3",
      "name": "python3"
    },
    "language_info": {
      "name": "python"
    }
  },
  "nbformat": 4,
  "nbformat_minor": 0
}