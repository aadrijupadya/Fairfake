{
  "cells": [
    {
      "cell_type": "code",
      "execution_count": null,
      "metadata": {
        "id": "k_rdkfKY6EFS"
      },
      "outputs": [],
      "source": [
        "import pandas as pd\n",
        "import numpy as np\n",
        "import cv2\n",
        "import seaborn as sns\n",
        "import os\n",
        "from PIL import Image, ImageOps\n",
        "from sklearn.model_selection import train_test_split\n",
        "\n",
        "from tqdm import tqdm\n",
        "from keras.models import Sequential, Model\n",
        "from keras.layers import Conv2D, MaxPooling2D, Activation, Dropout, Flatten, Dense, Input\n",
        "from keras import optimizers\n",
        "from keras.preprocessing.image import ImageDataGenerator\n",
        "import tensorflow as tf\n",
        "from tensorflow.keras import layers\n",
        "import matplotlib.pyplot as plt\n",
        "import albumentations as A\n",
        "from tensorflow.keras.applications import EfficientNetB1\n",
        "#from keras.preprocessing.image import load_img\n",
        "from keras.models import load_model"
      ]
    },
    {
      "cell_type": "code",
      "execution_count": null,
      "metadata": {
        "id": "VSBps8PQ6HQL",
        "colab": {
          "base_uri": "https://localhost:8080/"
        },
        "outputId": "f890129f-d251-4aee-cbc8-8e0c172f0ff3"
      },
      "outputs": [
        {
          "output_type": "stream",
          "name": "stdout",
          "text": [
            "Mounted at /content/drive\n"
          ]
        }
      ],
      "source": [
        "from google.colab import drive\n",
        "drive.mount('/content/drive', force_remount=True)"
      ]
    },
    {
      "cell_type": "markdown",
      "source": [
        "# Unzipping Data"
      ],
      "metadata": {
        "id": "GBOKOW_9VIA7"
      }
    },
    {
      "cell_type": "code",
      "source": [
        "import tarfile\n",
        "data_zipped = tarfile.open('drive/My Drive/ASDRP/Data/UTKface_inthewild/part1.tar.gz')"
      ],
      "metadata": {
        "id": "DYa7Y2NaVHuU"
      },
      "execution_count": null,
      "outputs": []
    },
    {
      "cell_type": "code",
      "source": [
        "len(data_zipped.getnames())"
      ],
      "metadata": {
        "colab": {
          "base_uri": "https://localhost:8080/"
        },
        "id": "MgAp8_DiW4LD",
        "outputId": "e9fe2231-9976-4997-fb8d-37ba6926d71f"
      },
      "execution_count": null,
      "outputs": [
        {
          "output_type": "execute_result",
          "data": {
            "text/plain": [
              "10138"
            ]
          },
          "metadata": {},
          "execution_count": 4
        }
      ]
    },
    {
      "cell_type": "code",
      "source": [
        "import random"
      ],
      "metadata": {
        "id": "mv8p8ft1XokB"
      },
      "execution_count": null,
      "outputs": []
    },
    {
      "cell_type": "code",
      "source": [
        "for i in tqdm(random.sample(data_zipped.getnames(), 1)):\n",
        "  if not os.path.isfile('drive/My Drive/ASDRP/Data/utk_cropped/' + i): \n",
        "    data_zipped.extract(i, 'drive/My Drive/ASDRP/Data/utk_cropped')\n",
        "    print(i)"
      ],
      "metadata": {
        "colab": {
          "base_uri": "https://localhost:8080/"
        },
        "id": "x6EmWke0VhpU",
        "outputId": "2c489abf-4117-4e28-dcd8-af74d4c5b75a"
      },
      "execution_count": null,
      "outputs": [
        {
          "output_type": "stream",
          "name": "stderr",
          "text": [
            "100%|██████████| 1/1 [00:02<00:00,  2.29s/it]"
          ]
        },
        {
          "output_type": "stream",
          "name": "stdout",
          "text": [
            "part1/37_0_0_20170109001555863.jpg\n"
          ]
        },
        {
          "output_type": "stream",
          "name": "stderr",
          "text": [
            "\n"
          ]
        }
      ]
    },
    {
      "cell_type": "code",
      "execution_count": null,
      "metadata": {
        "id": "5iPWYbk_qAEM"
      },
      "outputs": [],
      "source": [
        "def get_file_count(file_path):\n",
        "  dir_path = r''+file_path\n",
        "  count = 0\n",
        "  for path in tqdm(os.listdir(dir_path)):\n",
        "      # check if current path is a file\n",
        "      if os.path.isfile(os.path.join(dir_path, path)):\n",
        "          count += 1\n",
        "  return count"
      ]
    },
    {
      "cell_type": "code",
      "execution_count": null,
      "metadata": {
        "colab": {
          "base_uri": "https://localhost:8080/"
        },
        "id": "V4IH6-JdqD8M",
        "outputId": "477b45aa-9395-41e3-fcb4-5488bd009662"
      },
      "outputs": [
        {
          "output_type": "stream",
          "name": "stderr",
          "text": [
            "100%|██████████| 5000/5000 [00:00<00:00, 5676.17it/s]\n"
          ]
        },
        {
          "output_type": "execute_result",
          "data": {
            "text/plain": [
              "5000"
            ]
          },
          "metadata": {},
          "execution_count": 26
        }
      ],
      "source": [
        "get_file_count('drive/My Drive/ASDRP/Data/utk_cropped/part1')"
      ]
    },
    {
      "cell_type": "code",
      "source": [
        "data = 'drive/My Drive/ASDRP/Data/utk_cropped/part1'"
      ],
      "metadata": {
        "id": "hTG7YvPruiw3"
      },
      "execution_count": null,
      "outputs": []
    },
    {
      "cell_type": "code",
      "source": [
        "image_paths = []\n",
        "ages = []\n",
        "genders = []\n",
        "races = []"
      ],
      "metadata": {
        "id": "bzzJ2MVgun17"
      },
      "execution_count": null,
      "outputs": []
    },
    {
      "cell_type": "code",
      "source": [
        "# For loop to create individual lists of attributes\n",
        "count = 0\n",
        "for image in tqdm(os.listdir(data)):\n",
        "    image_path = os.path.join(data, image)\n",
        "    vals = image.split('_')\n",
        "    age = int(vals[0])\n",
        "    gender = int(vals[1])\n",
        "\n",
        "    try:\n",
        "      race = int(vals[2])    \n",
        "    except:\n",
        "      count += 1\n",
        "      continue\n",
        "\n",
        "    image_paths.append(image_path)\n",
        "    ages.append(age)\n",
        "    genders.append(gender)\n",
        "    races.append(race) "
      ],
      "metadata": {
        "colab": {
          "base_uri": "https://localhost:8080/"
        },
        "id": "XzFyxwHYue_c",
        "outputId": "ebe7b9f2-e99a-459a-c8e4-6fd45b419993"
      },
      "execution_count": null,
      "outputs": [
        {
          "output_type": "stream",
          "name": "stderr",
          "text": [
            "100%|██████████| 5000/5000 [00:00<00:00, 345864.93it/s]\n"
          ]
        }
      ]
    },
    {
      "cell_type": "code",
      "source": [
        "# Making dataframe\n",
        "df = pd.DataFrame()\n",
        "df['image'], df['age'], df['gender'], df['race'] = image_paths, ages, genders, races"
      ],
      "metadata": {
        "id": "86ssCZwDu218"
      },
      "execution_count": null,
      "outputs": []
    },
    {
      "cell_type": "code",
      "source": [
        "df['race'].value_counts()"
      ],
      "metadata": {
        "colab": {
          "base_uri": "https://localhost:8080/"
        },
        "id": "J9na1afESmRp",
        "outputId": "cef4324e-0aa8-40f8-cbe3-a7c54d53c5e6"
      },
      "execution_count": null,
      "outputs": [
        {
          "output_type": "execute_result",
          "data": {
            "text/plain": [
              "0    2681\n",
              "2     834\n",
              "3     720\n",
              "4     542\n",
              "1     222\n",
              "Name: race, dtype: int64"
            ]
          },
          "metadata": {},
          "execution_count": 10
        }
      ]
    },
    {
      "cell_type": "code",
      "source": [
        "# dataframe for later reference\n",
        "# Making dataframe\n",
        "# df_ref = pd.DataFrame()\n",
        "# df_ref['image'], df_ref['age'], df_ref['gender'], df_ref['race'] = image_paths, ages, genders, races"
      ],
      "metadata": {
        "id": "Ta4WtONs_2r3"
      },
      "execution_count": null,
      "outputs": []
    },
    {
      "cell_type": "code",
      "source": [
        "df['gender'].value_counts()"
      ],
      "metadata": {
        "colab": {
          "base_uri": "https://localhost:8080/"
        },
        "id": "WSHIXx_BvKXw",
        "outputId": "0d3b0bfe-c199-4825-c8a4-48bba9768d4e"
      },
      "execution_count": null,
      "outputs": [
        {
          "output_type": "execute_result",
          "data": {
            "text/plain": [
              "1    2752\n",
              "0    2247\n",
              "Name: gender, dtype: int64"
            ]
          },
          "metadata": {},
          "execution_count": 11
        }
      ]
    },
    {
      "cell_type": "code",
      "source": [
        "df.to_csv(r'drive/My Drive/ASDRP/Experiments/simple-cnn-v3/df.csv', index = False, header=True)"
      ],
      "metadata": {
        "id": "lYGM1PupwCzr"
      },
      "execution_count": null,
      "outputs": []
    },
    {
      "cell_type": "code",
      "source": [
        "df.head()"
      ],
      "metadata": {
        "colab": {
          "base_uri": "https://localhost:8080/",
          "height": 206
        },
        "id": "IRw23EYHwvuw",
        "outputId": "1c590389-f7db-46ad-a291-0962a2d44be8"
      },
      "execution_count": null,
      "outputs": [
        {
          "output_type": "execute_result",
          "data": {
            "text/plain": [
              "                                               image  age  gender  race\n",
              "0  drive/My Drive/ASDRP/Data/utk_cropped/part1/20...   20       0     0\n",
              "1  drive/My Drive/ASDRP/Data/utk_cropped/part1/21...   21       0     0\n",
              "2  drive/My Drive/ASDRP/Data/utk_cropped/part1/18...   18       0     3\n",
              "3  drive/My Drive/ASDRP/Data/utk_cropped/part1/31...   31       0     3\n",
              "4  drive/My Drive/ASDRP/Data/utk_cropped/part1/12...   12       0     3"
            ],
            "text/html": [
              "\n",
              "  <div id=\"df-e6d63df5-1c69-470b-8f15-cc80f7e6b4bb\">\n",
              "    <div class=\"colab-df-container\">\n",
              "      <div>\n",
              "<style scoped>\n",
              "    .dataframe tbody tr th:only-of-type {\n",
              "        vertical-align: middle;\n",
              "    }\n",
              "\n",
              "    .dataframe tbody tr th {\n",
              "        vertical-align: top;\n",
              "    }\n",
              "\n",
              "    .dataframe thead th {\n",
              "        text-align: right;\n",
              "    }\n",
              "</style>\n",
              "<table border=\"1\" class=\"dataframe\">\n",
              "  <thead>\n",
              "    <tr style=\"text-align: right;\">\n",
              "      <th></th>\n",
              "      <th>image</th>\n",
              "      <th>age</th>\n",
              "      <th>gender</th>\n",
              "      <th>race</th>\n",
              "    </tr>\n",
              "  </thead>\n",
              "  <tbody>\n",
              "    <tr>\n",
              "      <th>0</th>\n",
              "      <td>drive/My Drive/ASDRP/Data/utk_cropped/part1/20...</td>\n",
              "      <td>20</td>\n",
              "      <td>0</td>\n",
              "      <td>0</td>\n",
              "    </tr>\n",
              "    <tr>\n",
              "      <th>1</th>\n",
              "      <td>drive/My Drive/ASDRP/Data/utk_cropped/part1/21...</td>\n",
              "      <td>21</td>\n",
              "      <td>0</td>\n",
              "      <td>0</td>\n",
              "    </tr>\n",
              "    <tr>\n",
              "      <th>2</th>\n",
              "      <td>drive/My Drive/ASDRP/Data/utk_cropped/part1/18...</td>\n",
              "      <td>18</td>\n",
              "      <td>0</td>\n",
              "      <td>3</td>\n",
              "    </tr>\n",
              "    <tr>\n",
              "      <th>3</th>\n",
              "      <td>drive/My Drive/ASDRP/Data/utk_cropped/part1/31...</td>\n",
              "      <td>31</td>\n",
              "      <td>0</td>\n",
              "      <td>3</td>\n",
              "    </tr>\n",
              "    <tr>\n",
              "      <th>4</th>\n",
              "      <td>drive/My Drive/ASDRP/Data/utk_cropped/part1/12...</td>\n",
              "      <td>12</td>\n",
              "      <td>0</td>\n",
              "      <td>3</td>\n",
              "    </tr>\n",
              "  </tbody>\n",
              "</table>\n",
              "</div>\n",
              "      <button class=\"colab-df-convert\" onclick=\"convertToInteractive('df-e6d63df5-1c69-470b-8f15-cc80f7e6b4bb')\"\n",
              "              title=\"Convert this dataframe to an interactive table.\"\n",
              "              style=\"display:none;\">\n",
              "        \n",
              "  <svg xmlns=\"http://www.w3.org/2000/svg\" height=\"24px\"viewBox=\"0 0 24 24\"\n",
              "       width=\"24px\">\n",
              "    <path d=\"M0 0h24v24H0V0z\" fill=\"none\"/>\n",
              "    <path d=\"M18.56 5.44l.94 2.06.94-2.06 2.06-.94-2.06-.94-.94-2.06-.94 2.06-2.06.94zm-11 1L8.5 8.5l.94-2.06 2.06-.94-2.06-.94L8.5 2.5l-.94 2.06-2.06.94zm10 10l.94 2.06.94-2.06 2.06-.94-2.06-.94-.94-2.06-.94 2.06-2.06.94z\"/><path d=\"M17.41 7.96l-1.37-1.37c-.4-.4-.92-.59-1.43-.59-.52 0-1.04.2-1.43.59L10.3 9.45l-7.72 7.72c-.78.78-.78 2.05 0 2.83L4 21.41c.39.39.9.59 1.41.59.51 0 1.02-.2 1.41-.59l7.78-7.78 2.81-2.81c.8-.78.8-2.07 0-2.86zM5.41 20L4 18.59l7.72-7.72 1.47 1.35L5.41 20z\"/>\n",
              "  </svg>\n",
              "      </button>\n",
              "      \n",
              "  <style>\n",
              "    .colab-df-container {\n",
              "      display:flex;\n",
              "      flex-wrap:wrap;\n",
              "      gap: 12px;\n",
              "    }\n",
              "\n",
              "    .colab-df-convert {\n",
              "      background-color: #E8F0FE;\n",
              "      border: none;\n",
              "      border-radius: 50%;\n",
              "      cursor: pointer;\n",
              "      display: none;\n",
              "      fill: #1967D2;\n",
              "      height: 32px;\n",
              "      padding: 0 0 0 0;\n",
              "      width: 32px;\n",
              "    }\n",
              "\n",
              "    .colab-df-convert:hover {\n",
              "      background-color: #E2EBFA;\n",
              "      box-shadow: 0px 1px 2px rgba(60, 64, 67, 0.3), 0px 1px 3px 1px rgba(60, 64, 67, 0.15);\n",
              "      fill: #174EA6;\n",
              "    }\n",
              "\n",
              "    [theme=dark] .colab-df-convert {\n",
              "      background-color: #3B4455;\n",
              "      fill: #D2E3FC;\n",
              "    }\n",
              "\n",
              "    [theme=dark] .colab-df-convert:hover {\n",
              "      background-color: #434B5C;\n",
              "      box-shadow: 0px 1px 3px 1px rgba(0, 0, 0, 0.15);\n",
              "      filter: drop-shadow(0px 1px 2px rgba(0, 0, 0, 0.3));\n",
              "      fill: #FFFFFF;\n",
              "    }\n",
              "  </style>\n",
              "\n",
              "      <script>\n",
              "        const buttonEl =\n",
              "          document.querySelector('#df-e6d63df5-1c69-470b-8f15-cc80f7e6b4bb button.colab-df-convert');\n",
              "        buttonEl.style.display =\n",
              "          google.colab.kernel.accessAllowed ? 'block' : 'none';\n",
              "\n",
              "        async function convertToInteractive(key) {\n",
              "          const element = document.querySelector('#df-e6d63df5-1c69-470b-8f15-cc80f7e6b4bb');\n",
              "          const dataTable =\n",
              "            await google.colab.kernel.invokeFunction('convertToInteractive',\n",
              "                                                     [key], {});\n",
              "          if (!dataTable) return;\n",
              "\n",
              "          const docLinkHtml = 'Like what you see? Visit the ' +\n",
              "            '<a target=\"_blank\" href=https://colab.research.google.com/notebooks/data_table.ipynb>data table notebook</a>'\n",
              "            + ' to learn more about interactive tables.';\n",
              "          element.innerHTML = '';\n",
              "          dataTable['output_type'] = 'display_data';\n",
              "          await google.colab.output.renderOutput(dataTable, element);\n",
              "          const docLink = document.createElement('div');\n",
              "          docLink.innerHTML = docLinkHtml;\n",
              "          element.appendChild(docLink);\n",
              "        }\n",
              "      </script>\n",
              "    </div>\n",
              "  </div>\n",
              "  "
            ]
          },
          "metadata": {},
          "execution_count": 28
        }
      ]
    },
    {
      "cell_type": "markdown",
      "source": [
        "Adding new row to make 5000"
      ],
      "metadata": {
        "id": "uICC9N1lwa6V"
      }
    },
    {
      "cell_type": "code",
      "source": [
        "row = {'image': 'drive/My Drive/ASDRP/Data/utk_cropped/part1/37_0_0_20170109001555863.jpg', 'gender': 0, 'age': 37, 'race': 0}\n",
        "df = df.append(row, ignore_index = True)\n"
      ],
      "metadata": {
        "id": "t-fTPDbnwaw0"
      },
      "execution_count": null,
      "outputs": []
    },
    {
      "cell_type": "code",
      "source": [
        "df.tail()"
      ],
      "metadata": {
        "colab": {
          "base_uri": "https://localhost:8080/",
          "height": 206
        },
        "id": "ja_Azw483JkQ",
        "outputId": "ac54fbc5-12da-4e74-91c6-7e73555aa932"
      },
      "execution_count": null,
      "outputs": [
        {
          "output_type": "execute_result",
          "data": {
            "text/plain": [
              "                                                  image  age  gender  race\n",
              "4995  drive/My Drive/ASDRP/Data/utk_cropped/part1/69...   69       1     0\n",
              "4996  drive/My Drive/ASDRP/Data/utk_cropped/part1/57...   57       1     0\n",
              "4997  drive/My Drive/ASDRP/Data/utk_cropped/part1/53...   53       1     0\n",
              "4998  drive/My Drive/ASDRP/Data/utk_cropped/part1/59...   59       1     0\n",
              "4999  drive/My Drive/ASDRP/Data/utk_cropped/part1/37...   37       0     0"
            ],
            "text/html": [
              "\n",
              "  <div id=\"df-0396aeb5-f1b0-4c6c-82c8-324b2d207c40\">\n",
              "    <div class=\"colab-df-container\">\n",
              "      <div>\n",
              "<style scoped>\n",
              "    .dataframe tbody tr th:only-of-type {\n",
              "        vertical-align: middle;\n",
              "    }\n",
              "\n",
              "    .dataframe tbody tr th {\n",
              "        vertical-align: top;\n",
              "    }\n",
              "\n",
              "    .dataframe thead th {\n",
              "        text-align: right;\n",
              "    }\n",
              "</style>\n",
              "<table border=\"1\" class=\"dataframe\">\n",
              "  <thead>\n",
              "    <tr style=\"text-align: right;\">\n",
              "      <th></th>\n",
              "      <th>image</th>\n",
              "      <th>age</th>\n",
              "      <th>gender</th>\n",
              "      <th>race</th>\n",
              "    </tr>\n",
              "  </thead>\n",
              "  <tbody>\n",
              "    <tr>\n",
              "      <th>4995</th>\n",
              "      <td>drive/My Drive/ASDRP/Data/utk_cropped/part1/69...</td>\n",
              "      <td>69</td>\n",
              "      <td>1</td>\n",
              "      <td>0</td>\n",
              "    </tr>\n",
              "    <tr>\n",
              "      <th>4996</th>\n",
              "      <td>drive/My Drive/ASDRP/Data/utk_cropped/part1/57...</td>\n",
              "      <td>57</td>\n",
              "      <td>1</td>\n",
              "      <td>0</td>\n",
              "    </tr>\n",
              "    <tr>\n",
              "      <th>4997</th>\n",
              "      <td>drive/My Drive/ASDRP/Data/utk_cropped/part1/53...</td>\n",
              "      <td>53</td>\n",
              "      <td>1</td>\n",
              "      <td>0</td>\n",
              "    </tr>\n",
              "    <tr>\n",
              "      <th>4998</th>\n",
              "      <td>drive/My Drive/ASDRP/Data/utk_cropped/part1/59...</td>\n",
              "      <td>59</td>\n",
              "      <td>1</td>\n",
              "      <td>0</td>\n",
              "    </tr>\n",
              "    <tr>\n",
              "      <th>4999</th>\n",
              "      <td>drive/My Drive/ASDRP/Data/utk_cropped/part1/37...</td>\n",
              "      <td>37</td>\n",
              "      <td>0</td>\n",
              "      <td>0</td>\n",
              "    </tr>\n",
              "  </tbody>\n",
              "</table>\n",
              "</div>\n",
              "      <button class=\"colab-df-convert\" onclick=\"convertToInteractive('df-0396aeb5-f1b0-4c6c-82c8-324b2d207c40')\"\n",
              "              title=\"Convert this dataframe to an interactive table.\"\n",
              "              style=\"display:none;\">\n",
              "        \n",
              "  <svg xmlns=\"http://www.w3.org/2000/svg\" height=\"24px\"viewBox=\"0 0 24 24\"\n",
              "       width=\"24px\">\n",
              "    <path d=\"M0 0h24v24H0V0z\" fill=\"none\"/>\n",
              "    <path d=\"M18.56 5.44l.94 2.06.94-2.06 2.06-.94-2.06-.94-.94-2.06-.94 2.06-2.06.94zm-11 1L8.5 8.5l.94-2.06 2.06-.94-2.06-.94L8.5 2.5l-.94 2.06-2.06.94zm10 10l.94 2.06.94-2.06 2.06-.94-2.06-.94-.94-2.06-.94 2.06-2.06.94z\"/><path d=\"M17.41 7.96l-1.37-1.37c-.4-.4-.92-.59-1.43-.59-.52 0-1.04.2-1.43.59L10.3 9.45l-7.72 7.72c-.78.78-.78 2.05 0 2.83L4 21.41c.39.39.9.59 1.41.59.51 0 1.02-.2 1.41-.59l7.78-7.78 2.81-2.81c.8-.78.8-2.07 0-2.86zM5.41 20L4 18.59l7.72-7.72 1.47 1.35L5.41 20z\"/>\n",
              "  </svg>\n",
              "      </button>\n",
              "      \n",
              "  <style>\n",
              "    .colab-df-container {\n",
              "      display:flex;\n",
              "      flex-wrap:wrap;\n",
              "      gap: 12px;\n",
              "    }\n",
              "\n",
              "    .colab-df-convert {\n",
              "      background-color: #E8F0FE;\n",
              "      border: none;\n",
              "      border-radius: 50%;\n",
              "      cursor: pointer;\n",
              "      display: none;\n",
              "      fill: #1967D2;\n",
              "      height: 32px;\n",
              "      padding: 0 0 0 0;\n",
              "      width: 32px;\n",
              "    }\n",
              "\n",
              "    .colab-df-convert:hover {\n",
              "      background-color: #E2EBFA;\n",
              "      box-shadow: 0px 1px 2px rgba(60, 64, 67, 0.3), 0px 1px 3px 1px rgba(60, 64, 67, 0.15);\n",
              "      fill: #174EA6;\n",
              "    }\n",
              "\n",
              "    [theme=dark] .colab-df-convert {\n",
              "      background-color: #3B4455;\n",
              "      fill: #D2E3FC;\n",
              "    }\n",
              "\n",
              "    [theme=dark] .colab-df-convert:hover {\n",
              "      background-color: #434B5C;\n",
              "      box-shadow: 0px 1px 3px 1px rgba(0, 0, 0, 0.15);\n",
              "      filter: drop-shadow(0px 1px 2px rgba(0, 0, 0, 0.3));\n",
              "      fill: #FFFFFF;\n",
              "    }\n",
              "  </style>\n",
              "\n",
              "      <script>\n",
              "        const buttonEl =\n",
              "          document.querySelector('#df-0396aeb5-f1b0-4c6c-82c8-324b2d207c40 button.colab-df-convert');\n",
              "        buttonEl.style.display =\n",
              "          google.colab.kernel.accessAllowed ? 'block' : 'none';\n",
              "\n",
              "        async function convertToInteractive(key) {\n",
              "          const element = document.querySelector('#df-0396aeb5-f1b0-4c6c-82c8-324b2d207c40');\n",
              "          const dataTable =\n",
              "            await google.colab.kernel.invokeFunction('convertToInteractive',\n",
              "                                                     [key], {});\n",
              "          if (!dataTable) return;\n",
              "\n",
              "          const docLinkHtml = 'Like what you see? Visit the ' +\n",
              "            '<a target=\"_blank\" href=https://colab.research.google.com/notebooks/data_table.ipynb>data table notebook</a>'\n",
              "            + ' to learn more about interactive tables.';\n",
              "          element.innerHTML = '';\n",
              "          dataTable['output_type'] = 'display_data';\n",
              "          await google.colab.output.renderOutput(dataTable, element);\n",
              "          const docLink = document.createElement('div');\n",
              "          docLink.innerHTML = docLinkHtml;\n",
              "          element.appendChild(docLink);\n",
              "        }\n",
              "      </script>\n",
              "    </div>\n",
              "  </div>\n",
              "  "
            ]
          },
          "metadata": {},
          "execution_count": 31
        }
      ]
    },
    {
      "cell_type": "code",
      "source": [
        "df.to_csv(r'drive/My Drive/ASDRP/Experiments/simple-cnn-v3/df.csv', index = False, header=True)"
      ],
      "metadata": {
        "id": "Aafd2yoY3Oii"
      },
      "execution_count": null,
      "outputs": []
    },
    {
      "cell_type": "code",
      "source": [
        "df.shape[0]"
      ],
      "metadata": {
        "colab": {
          "base_uri": "https://localhost:8080/"
        },
        "id": "8snJlA5R3vjJ",
        "outputId": "b5b96e7a-b142-4a80-d00e-d741c412a337"
      },
      "execution_count": null,
      "outputs": [
        {
          "output_type": "execute_result",
          "data": {
            "text/plain": [
              "5000"
            ]
          },
          "metadata": {},
          "execution_count": 33
        }
      ]
    },
    {
      "cell_type": "code",
      "source": [
        "df = pd.read_csv('drive/My Drive/ASDRP/Experiments/simple-cnn-v3/df.csv')"
      ],
      "metadata": {
        "id": "2SUZALt5LhAX"
      },
      "execution_count": null,
      "outputs": []
    },
    {
      "cell_type": "markdown",
      "source": [
        "# New way"
      ],
      "metadata": {
        "id": "4UrFfvUUT2sp"
      }
    },
    {
      "cell_type": "code",
      "source": [
        "df = pd.read_csv('drive/My Drive/Fairfake - ASDRP/Experiments/simple-cnn-v3/df.csv')"
      ],
      "metadata": {
        "id": "P7RHHToVw-wW"
      },
      "execution_count": null,
      "outputs": []
    },
    {
      "cell_type": "code",
      "source": [
        "df.shape"
      ],
      "metadata": {
        "colab": {
          "base_uri": "https://localhost:8080/"
        },
        "id": "1ivh6HAv6uGv",
        "outputId": "205748bf-136a-4993-bda9-e66f076a73cc"
      },
      "execution_count": null,
      "outputs": [
        {
          "output_type": "execute_result",
          "data": {
            "text/plain": [
              "(5000, 4)"
            ]
          },
          "metadata": {},
          "execution_count": 4
        }
      ]
    },
    {
      "cell_type": "code",
      "execution_count": null,
      "metadata": {
        "id": "FLdszyTW6VFo"
      },
      "outputs": [],
      "source": [
        "def extract_features(images):\n",
        "    features = []\n",
        "    for image in tqdm(images):\n",
        "        img = Image.open(image)\n",
        "        img = img.resize((128, 128), Image.ANTIALIAS)\n",
        "        img_inp = np.array(img.getdata()).reshape(img.size[0], img.size[1], 3)\n",
        "        features.append(img_inp)\n",
        "        \n",
        "    features = np.array(features)\n",
        "    # ignore this step if using RGB\n",
        "    #features = features.reshape(len(features), 128, 128, 3)\n",
        "    return features\n"
      ]
    },
    {
      "cell_type": "code",
      "source": [
        "#X = extract_features(df['image'])"
      ],
      "metadata": {
        "colab": {
          "base_uri": "https://localhost:8080/"
        },
        "id": "oaPXNAAa09LO",
        "outputId": "72ebae60-cb85-41b8-b463-72100348b8dd"
      },
      "execution_count": null,
      "outputs": [
        {
          "output_type": "stream",
          "name": "stderr",
          "text": [
            "100%|██████████| 5000/5000 [29:50<00:00,  2.79it/s]\n"
          ]
        }
      ]
    },
    {
      "cell_type": "code",
      "execution_count": null,
      "metadata": {
        "colab": {
          "base_uri": "https://localhost:8080/"
        },
        "id": "L9RyZT_nrDmg",
        "outputId": "d7c0a913-e788-426c-b000-229679b9ca6d"
      },
      "outputs": [
        {
          "output_type": "execute_result",
          "data": {
            "text/plain": [
              "(9778, 64, 64, 3)"
            ]
          },
          "metadata": {},
          "execution_count": 23
        }
      ],
      "source": [
        "#X.shape"
      ]
    },
    {
      "cell_type": "code",
      "source": [
        "#np.save('drive/My Drive/ASDRP/Experiments/simple-cnn-v3/features.npy', X)"
      ],
      "metadata": {
        "id": "XVAeaOdq-KyC"
      },
      "execution_count": null,
      "outputs": []
    },
    {
      "cell_type": "code",
      "source": [
        "#X = np.load('drive/My Drive/ASDRP/Experiments/simple-cnn-v3/features.npy')\n",
        "#X = X / 255.0"
      ],
      "metadata": {
        "id": "C5I_BEEUB-2p"
      },
      "execution_count": null,
      "outputs": []
    },
    {
      "cell_type": "code",
      "source": [
        "df['race'].value_counts()"
      ],
      "metadata": {
        "colab": {
          "base_uri": "https://localhost:8080/"
        },
        "id": "8pttcX7GFZZ5",
        "outputId": "629df0e1-643c-466f-de08-c8930f482fef"
      },
      "execution_count": null,
      "outputs": [
        {
          "output_type": "execute_result",
          "data": {
            "text/plain": [
              "0    2682\n",
              "2     834\n",
              "3     720\n",
              "4     542\n",
              "1     222\n",
              "Name: race, dtype: int64"
            ]
          },
          "metadata": {},
          "execution_count": 6
        }
      ]
    },
    {
      "cell_type": "code",
      "source": [
        "df[df['race'] != 0]['gender'].value_counts()"
      ],
      "metadata": {
        "colab": {
          "base_uri": "https://localhost:8080/"
        },
        "id": "4AJbcD_fist2",
        "outputId": "a913449a-69a4-448c-ed1b-cb712803b61a"
      },
      "execution_count": null,
      "outputs": [
        {
          "output_type": "execute_result",
          "data": {
            "text/plain": [
              "1    1313\n",
              "0    1005\n",
              "Name: gender, dtype: int64"
            ]
          },
          "metadata": {},
          "execution_count": 7
        }
      ]
    },
    {
      "cell_type": "code",
      "source": [
        "indices = []\n",
        "#black_total = 222\n",
        "#asian_total = 834\n",
        "#indian_total = 720\n",
        "#others_total = 542\n",
        "female_total = 1313\n",
        "\n",
        "for i in tqdm(range(len(df))):\n",
        "\n",
        "  if df.iloc[i]['gender'] == 1 and df.iloc[i]['race'] != 0 and female_total > 500:\n",
        "    indices.append(i)\n",
        "    female_total -= 1\n",
        "\n"
      ],
      "metadata": {
        "colab": {
          "base_uri": "https://localhost:8080/"
        },
        "id": "cCM2SXDWFfbO",
        "outputId": "b38a60a8-423e-44e7-be49-cc9404cd0170"
      },
      "execution_count": null,
      "outputs": [
        {
          "output_type": "stream",
          "name": "stderr",
          "text": [
            "100%|██████████| 5000/5000 [00:01<00:00, 3534.90it/s]\n"
          ]
        }
      ]
    },
    {
      "cell_type": "code",
      "source": [
        "len(indices)"
      ],
      "metadata": {
        "colab": {
          "base_uri": "https://localhost:8080/"
        },
        "id": "_8ioJRntGSJt",
        "outputId": "2a513b4e-1027-4350-8d84-dba19ef96973"
      },
      "execution_count": null,
      "outputs": [
        {
          "output_type": "execute_result",
          "data": {
            "text/plain": [
              "813"
            ]
          },
          "metadata": {},
          "execution_count": 6
        }
      ]
    },
    {
      "cell_type": "code",
      "source": [
        "df = df.drop(indices)\n",
        "df = df.reset_index()"
      ],
      "metadata": {
        "id": "hunBRjlIGpiJ"
      },
      "execution_count": null,
      "outputs": []
    },
    {
      "cell_type": "code",
      "source": [
        "df['gender'].value_counts()"
      ],
      "metadata": {
        "colab": {
          "base_uri": "https://localhost:8080/"
        },
        "id": "LUAyJ4SJGstg",
        "outputId": "18815001-fc66-4449-bdb5-88bc49e36987"
      },
      "execution_count": null,
      "outputs": [
        {
          "output_type": "execute_result",
          "data": {
            "text/plain": [
              "0    2248\n",
              "1    1939\n",
              "Name: gender, dtype: int64"
            ]
          },
          "metadata": {},
          "execution_count": 8
        }
      ]
    },
    {
      "cell_type": "code",
      "source": [
        "import pickle\n",
        "images = pickle.load(open(\"/content/drive/MyDrive/ASDRP/Experiments/simple-cnn-v3/list_of_tensors_generated.pickle\", \"rb\"))"
      ],
      "metadata": {
        "id": "ieoURV8Z62vH"
      },
      "execution_count": null,
      "outputs": []
    },
    {
      "cell_type": "code",
      "source": [
        "images_reduced = []\n",
        "\n",
        "for i in range(len(images)):\n",
        "  if i not in indices:\n",
        "    images_reduced.append(images[i])"
      ],
      "metadata": {
        "id": "W8nUm0MgGxGY"
      },
      "execution_count": null,
      "outputs": []
    },
    {
      "cell_type": "code",
      "source": [
        "len(images_reduced)"
      ],
      "metadata": {
        "colab": {
          "base_uri": "https://localhost:8080/"
        },
        "id": "cp91hdbCHJGs",
        "outputId": "bc708d14-2f40-4f1c-a1ec-0d562ce4334a"
      },
      "execution_count": null,
      "outputs": [
        {
          "output_type": "execute_result",
          "data": {
            "text/plain": [
              "4187"
            ]
          },
          "metadata": {},
          "execution_count": 15
        }
      ]
    },
    {
      "cell_type": "code",
      "source": [
        "from matplotlib import pyplot as plt\n",
        "\n",
        "plt.imshow(images_reduced[0], interpolation='nearest')\n",
        "plt.show()"
      ],
      "metadata": {
        "colab": {
          "base_uri": "https://localhost:8080/",
          "height": 268
        },
        "id": "X5WXtebw0GwS",
        "outputId": "f5b77a02-d32f-4bf6-a0ef-ee75da72265c"
      },
      "execution_count": null,
      "outputs": [
        {
          "output_type": "display_data",
          "data": {
            "text/plain": [
              "<Figure size 432x288 with 1 Axes>"
            ],
            "image/png": "[encoded data removed]"
          },
          "metadata": {
            "needs_background": "light"
          }
        }
      ]
    },
    {
      "cell_type": "code",
      "source": [
        "race_dict = {'White\\n(M)':0, 'Black\\n(M)': 0, 'Asian\\n(M)': 0, 'Indian\\n(M)': 0, 'Others\\n(M)': 0, 'White\\n(F)':0, 'Black\\n(F)': 0, 'Asian\\n(F)': 0, 'Indian\\n(F)': 0, 'Others\\n(F)': 0}\n",
        "for i in tqdm(range(len(df))):\n",
        "  if df.iloc[i]['gender'] == 0:\n",
        "    if df.iloc[i]['race'] == 0:\n",
        "      race_dict['White\\n(M)'] += 1\n",
        "    if df.iloc[i]['race'] == 1:\n",
        "      race_dict['Black\\n(M)'] += 1\n",
        "    if df.iloc[i]['race'] == 2:\n",
        "      race_dict['Asian\\n(M)'] += 1\n",
        "    if df.iloc[i]['race'] == 3:\n",
        "      race_dict['Indian\\n(M)'] += 1\n",
        "    if df.iloc[i]['race'] == 4:\n",
        "      race_dict['Others\\n(M)'] += 1\n",
        "  else:\n",
        "    if df.iloc[i]['race'] == 0:\n",
        "      race_dict['White\\n(F)'] += 1\n",
        "    if df.iloc[i]['race'] == 1:\n",
        "      race_dict['Black\\n(F)'] += 1\n",
        "    if df.iloc[i]['race'] == 2:\n",
        "      race_dict['Asian\\n(F)'] += 1\n",
        "    if df.iloc[i]['race'] == 3:\n",
        "      race_dict['Indian\\n(F)'] += 1\n",
        "    if df.iloc[i]['race'] == 4:\n",
        "      race_dict['Others\\n(F)'] += 1\n",
        "  \n"
      ],
      "metadata": {
        "colab": {
          "base_uri": "https://localhost:8080/"
        },
        "id": "pK5ROsrb7pnC",
        "outputId": "6fc388bd-b39a-43fc-99f7-3d7a300e79fe"
      },
      "execution_count": null,
      "outputs": [
        {
          "output_type": "stream",
          "name": "stderr",
          "text": [
            "100%|██████████| 4187/4187 [00:07<00:00, 581.93it/s] \n"
          ]
        }
      ]
    },
    {
      "cell_type": "code",
      "source": [
        "names = list(race_dict.keys())\n",
        "values = list(race_dict.values())\n",
        "\n",
        "for i in range(len(values)):\n",
        "  values[i] /= 5000\n",
        "  values[i] *= 100\n",
        "\n",
        "plt.bar(range(len(race_dict)), values, tick_label=names)\n",
        "plt.tick_params(axis='x', which='major', labelsize=6)\n",
        "plt.ylabel(\"Representation - percentage of data\")\n",
        "plt.title(\"Distribution of imbalanced data - 4,187 samples\")\n",
        "plt.savefig('dist.png', dpi=400)\n",
        "plt.show()"
      ],
      "metadata": {
        "colab": {
          "base_uri": "https://localhost:8080/",
          "height": 282
        },
        "id": "3DIT4g4r70h4",
        "outputId": "e29b87ce-ac55-4e96-e42c-c4cef874c87f"
      },
      "execution_count": null,
      "outputs": [
        {
          "output_type": "display_data",
          "data": {
            "text/plain": [
              "<Figure size 432x288 with 1 Axes>"
            ],
            "image/png": "[encoded data removed]"
          },
          "metadata": {
            "needs_background": "light"
          }
        }
      ]
    },
    {
      "cell_type": "code",
      "source": [
        "values"
      ],
      "metadata": {
        "colab": {
          "base_uri": "https://localhost:8080/"
        },
        "id": "7dW-cXVGnr1P",
        "outputId": "0f9a456f-5d39-4fc3-9d51-36f0f66069a0"
      },
      "execution_count": null,
      "outputs": [
        {
          "output_type": "execute_result",
          "data": {
            "text/plain": [
              "[24.86,\n",
              " 2.2399999999999998,\n",
              " 7.9399999999999995,\n",
              " 5.42,\n",
              " 4.5,\n",
              " 28.78,\n",
              " 2.1999999999999997,\n",
              " 8.74,\n",
              " 8.98,\n",
              " 6.34]"
            ]
          },
          "metadata": {},
          "execution_count": 14
        }
      ]
    },
    {
      "cell_type": "code",
      "source": [
        "#images = np.array(images)"
      ],
      "metadata": {
        "id": "KsKHeXAK8E5d"
      },
      "execution_count": null,
      "outputs": []
    },
    {
      "cell_type": "code",
      "source": [
        "input_shape = (64, 64, 3)"
      ],
      "metadata": {
        "id": "JOv2GfZc8JTt"
      },
      "execution_count": null,
      "outputs": []
    },
    {
      "cell_type": "code",
      "execution_count": null,
      "metadata": {
        "id": "uaKoOHBWrLPE"
      },
      "outputs": [],
      "source": [
        "y_gender = np.array(df['gender'])\n",
        "y_race = np.array(df['race'])"
      ]
    },
    {
      "cell_type": "code",
      "source": [
        "y_stack = np.vstack((y_gender,y_race))\n",
        "Y = y_stack[0]"
      ],
      "metadata": {
        "id": "BFEQzOgE8p0F"
      },
      "execution_count": null,
      "outputs": []
    },
    {
      "cell_type": "code",
      "source": [
        "val_images = pickle.load(open(\"/content/drive/MyDrive/ASDRP/Experiments/simple-cnn-v3/test_tensors_generated.pickle\", \"rb\"))"
      ],
      "metadata": {
        "id": "AeiQpLI6VpZu"
      },
      "execution_count": null,
      "outputs": []
    },
    {
      "cell_type": "code",
      "source": [
        "df_val = pd.read_csv('/content/drive/MyDrive/ASDRP/Experiments/df_test.csv')  "
      ],
      "metadata": {
        "id": "CCB7B8HuVuf1"
      },
      "execution_count": null,
      "outputs": []
    },
    {
      "cell_type": "code",
      "source": [
        "Y_val = np.array(df_val['gender'])"
      ],
      "metadata": {
        "id": "p2I5cxJ_V57C"
      },
      "execution_count": null,
      "outputs": []
    },
    {
      "cell_type": "code",
      "source": [
        "len(images_reduced)"
      ],
      "metadata": {
        "colab": {
          "base_uri": "https://localhost:8080/"
        },
        "id": "hI8hm-6SWekJ",
        "outputId": "9afa9fee-0bb3-4ce3-99eb-097c65b6dff4"
      },
      "execution_count": null,
      "outputs": [
        {
          "output_type": "execute_result",
          "data": {
            "text/plain": [
              "4187"
            ]
          },
          "metadata": {},
          "execution_count": 25
        }
      ]
    },
    {
      "cell_type": "code",
      "source": [
        "test_indices = df.sample(n=837, random_state=40).index"
      ],
      "metadata": {
        "id": "zsuZD_0CWSEL"
      },
      "execution_count": null,
      "outputs": []
    },
    {
      "cell_type": "code",
      "source": [
        "test_indices"
      ],
      "metadata": {
        "id": "42tXixMfAFVM",
        "outputId": "591c9edc-f9d3-4bca-ca3f-17a873088629",
        "colab": {
          "base_uri": "https://localhost:8080/"
        }
      },
      "execution_count": null,
      "outputs": [
        {
          "output_type": "execute_result",
          "data": {
            "text/plain": [
              "Int64Index([1074, 1898,  619, 4095, 3357, 3300, 3352, 1226, 2737,  695,\n",
              "            ...\n",
              "             671, 1702, 2907, 1202, 1282, 1107, 2328, 3893, 1895, 1234],\n",
              "           dtype='int64', length=837)"
            ]
          },
          "metadata": {},
          "execution_count": 27
        }
      ]
    },
    {
      "cell_type": "code",
      "source": [
        "test_images = []\n",
        "for i in test_indices.tolist():\n",
        "  test_images.append(images[i])"
      ],
      "metadata": {
        "id": "PrYqkalCXTZ8"
      },
      "execution_count": null,
      "outputs": []
    },
    {
      "cell_type": "code",
      "source": [
        "y_gender_test = np.array(df.iloc[test_indices]['gender'])"
      ],
      "metadata": {
        "id": "0lGSxJNvZT4z"
      },
      "execution_count": null,
      "outputs": []
    },
    {
      "cell_type": "code",
      "source": [
        "len(y_gender_test)"
      ],
      "metadata": {
        "colab": {
          "base_uri": "https://localhost:8080/"
        },
        "id": "6xXSYeSbZeFz",
        "outputId": "6053b8bf-e1f8-427b-a25d-cddf89a37db2"
      },
      "execution_count": null,
      "outputs": [
        {
          "output_type": "execute_result",
          "data": {
            "text/plain": [
              "837"
            ]
          },
          "metadata": {},
          "execution_count": 30
        }
      ]
    },
    {
      "cell_type": "code",
      "source": [
        "len(Y)"
      ],
      "metadata": {
        "colab": {
          "base_uri": "https://localhost:8080/"
        },
        "id": "Awv8DQ4_gTi0",
        "outputId": "5ad5cea1-0bd0-4b03-bc10-f4e2fac02ed3"
      },
      "execution_count": null,
      "outputs": [
        {
          "output_type": "execute_result",
          "data": {
            "text/plain": [
              "4187"
            ]
          },
          "metadata": {},
          "execution_count": 31
        }
      ]
    },
    {
      "cell_type": "code",
      "source": [
        "len(images_reduced)"
      ],
      "metadata": {
        "colab": {
          "base_uri": "https://localhost:8080/"
        },
        "id": "f5O3Ys6DgVry",
        "outputId": "a3734b91-cd7e-4fa5-e8df-f984004799a5"
      },
      "execution_count": null,
      "outputs": [
        {
          "output_type": "execute_result",
          "data": {
            "text/plain": [
              "4187"
            ]
          },
          "metadata": {},
          "execution_count": 32
        }
      ]
    },
    {
      "cell_type": "code",
      "source": [
        "from matplotlib import pyplot as plt\n",
        "\n",
        "plt.imshow(images_5k[2000], interpolation='nearest')\n",
        "plt.show()"
      ],
      "metadata": {
        "id": "ZJUA3nh9gW8R"
      },
      "execution_count": null,
      "outputs": []
    },
    {
      "cell_type": "code",
      "source": [
        "images_reduced = [i for j, i in enumerate(images_reduced) if j not in test_indices.tolist()]"
      ],
      "metadata": {
        "id": "CvIlecsFWwvi"
      },
      "execution_count": null,
      "outputs": []
    },
    {
      "cell_type": "code",
      "source": [
        "Y = np.delete(Y, test_indices)"
      ],
      "metadata": {
        "id": "ExuZfZ5tYICi",
        "colab": {
          "base_uri": "https://localhost:8080/",
          "height": 317
        },
        "outputId": "83b9c54a-2856-4d2e-cbae-044661fe534a"
      },
      "execution_count": null,
      "outputs": [
        {
          "output_type": "error",
          "ename": "IndexError",
          "evalue": "ignored",
          "traceback": [
            "\u001b[0;31m---------------------------------------------------------------------------\u001b[0m",
            "\u001b[0;31mIndexError\u001b[0m                                Traceback (most recent call last)",
            "\u001b[0;32m<ipython-input-34-213bc19ff348>\u001b[0m in \u001b[0;36m<module>\u001b[0;34m()\u001b[0m\n\u001b[0;32m----> 1\u001b[0;31m \u001b[0mY\u001b[0m \u001b[0;34m=\u001b[0m \u001b[0mnp\u001b[0m\u001b[0;34m.\u001b[0m\u001b[0mdelete\u001b[0m\u001b[0;34m(\u001b[0m\u001b[0mY\u001b[0m\u001b[0;34m,\u001b[0m \u001b[0mtest_indices\u001b[0m\u001b[0;34m)\u001b[0m\u001b[0;34m\u001b[0m\u001b[0;34m\u001b[0m\u001b[0m\n\u001b[0m",
            "\u001b[0;32m<__array_function__ internals>\u001b[0m in \u001b[0;36mdelete\u001b[0;34m(*args, **kwargs)\u001b[0m\n",
            "\u001b[0;32m/usr/local/lib/python3.7/dist-packages/numpy/lib/function_base.py\u001b[0m in \u001b[0;36mdelete\u001b[0;34m(arr, obj, axis)\u001b[0m\n\u001b[1;32m   4550\u001b[0m         \u001b[0;32melse\u001b[0m\u001b[0;34m:\u001b[0m\u001b[0;34m\u001b[0m\u001b[0;34m\u001b[0m\u001b[0m\n\u001b[1;32m   4551\u001b[0m             \u001b[0mkeep\u001b[0m \u001b[0;34m=\u001b[0m \u001b[0mones\u001b[0m\u001b[0;34m(\u001b[0m\u001b[0mN\u001b[0m\u001b[0;34m,\u001b[0m \u001b[0mdtype\u001b[0m\u001b[0;34m=\u001b[0m\u001b[0mbool\u001b[0m\u001b[0;34m)\u001b[0m\u001b[0;34m\u001b[0m\u001b[0;34m\u001b[0m\u001b[0m\n\u001b[0;32m-> 4552\u001b[0;31m             \u001b[0mkeep\u001b[0m\u001b[0;34m[\u001b[0m\u001b[0mobj\u001b[0m\u001b[0;34m,\u001b[0m\u001b[0;34m]\u001b[0m \u001b[0;34m=\u001b[0m \u001b[0;32mFalse\u001b[0m\u001b[0;34m\u001b[0m\u001b[0;34m\u001b[0m\u001b[0m\n\u001b[0m\u001b[1;32m   4553\u001b[0m \u001b[0;34m\u001b[0m\u001b[0m\n\u001b[1;32m   4554\u001b[0m         \u001b[0mslobj\u001b[0m\u001b[0;34m[\u001b[0m\u001b[0maxis\u001b[0m\u001b[0;34m]\u001b[0m \u001b[0;34m=\u001b[0m \u001b[0mkeep\u001b[0m\u001b[0;34m\u001b[0m\u001b[0;34m\u001b[0m\u001b[0m\n",
            "\u001b[0;31mIndexError\u001b[0m: index 4183 is out of bounds for axis 0 with size 4163"
          ]
        }
      ]
    },
    {
      "cell_type": "code",
      "source": [
        "images_reduced = np.array(images_reduced)\n",
        "val_images = np.array(val_images)"
      ],
      "metadata": {
        "id": "OEF4hPtqYg_V"
      },
      "execution_count": null,
      "outputs": []
    },
    {
      "cell_type": "code",
      "execution_count": null,
      "metadata": {
        "id": "ybOv16W8sDyA"
      },
      "outputs": [],
      "source": [
        "inputs = Input((input_shape))\n",
        "# convolutional layers\n",
        "conv_1 = Conv2D(32, kernel_size=(3, 3), activation='relu') (inputs)\n",
        "maxp_1 = MaxPooling2D(pool_size=(2, 2)) (conv_1)\n",
        "conv_2 = Conv2D(64, kernel_size=(3, 3), activation='relu') (maxp_1)\n",
        "maxp_2 = MaxPooling2D(pool_size=(2, 2)) (conv_2)\n",
        "conv_3 = Conv2D(128, kernel_size=(3, 3), activation='relu') (maxp_2)\n",
        "maxp_3 = MaxPooling2D(pool_size=(2, 2)) (conv_3)\n",
        "conv_4 = Conv2D(256, kernel_size=(3, 3), activation='relu') (maxp_3)\n",
        "maxp_4 = MaxPooling2D(pool_size=(2, 2)) (conv_4)\n",
        "\n",
        "flatten = Flatten() (maxp_4)\n",
        "\n",
        "# fully connected layers\n",
        "dense_1 = Dense(256, activation='relu') (flatten)\n",
        "#dense_2 = Dense(256, activation='relu') (flatten)\n",
        "#dense_3 = Dense(256, activation='relu') (flatten)\n",
        "\n",
        "dropout_1 = Dropout(0.3) (dense_1)\n",
        "#dropout_2 = Dropout(0.3) (dense_2)\n",
        "#dropout_3 = Dropout(0.3) (dense_3)\n",
        "\n",
        "output_1 = Dense(1, activation='sigmoid', name='gender_out') (dropout_1)\n",
        "#output_2 = Dense(1, activation='softmax', name='race_out') (dropout_2)\n",
        "#output_3 = Dense(1, activation='relu', name='age_out') (dropout_3)\n",
        "\n",
        "model = Model(inputs=[inputs], outputs=[output_1])\n",
        "\n",
        "model.compile(loss=['binary_crossentropy'], optimizer='adam', metrics=['accuracy'])"
      ]
    },
    {
      "cell_type": "code",
      "source": [
        "len(images_reduced)"
      ],
      "metadata": {
        "colab": {
          "base_uri": "https://localhost:8080/"
        },
        "id": "Sl1zbNlKeqrd",
        "outputId": "bc2789c3-7a01-4cf8-86cc-0875c2cf33d7"
      },
      "execution_count": null,
      "outputs": [
        {
          "output_type": "execute_result",
          "data": {
            "text/plain": [
              "3488"
            ]
          },
          "metadata": {},
          "execution_count": 32
        }
      ]
    },
    {
      "cell_type": "code",
      "source": [
        "len(Y)"
      ],
      "metadata": {
        "colab": {
          "base_uri": "https://localhost:8080/"
        },
        "id": "wqN_wdMUer8-",
        "outputId": "d6a0f008-0e7d-43c5-afab-db1c8e1067ec"
      },
      "execution_count": null,
      "outputs": [
        {
          "output_type": "execute_result",
          "data": {
            "text/plain": [
              "4163"
            ]
          },
          "metadata": {},
          "execution_count": 36
        }
      ]
    },
    {
      "cell_type": "code",
      "execution_count": null,
      "metadata": {
        "colab": {
          "base_uri": "https://localhost:8080/"
        },
        "id": "Os9iG-jltSVS",
        "outputId": "80611207-951b-41da-d2a1-80440ff98c40"
      },
      "outputs": [
        {
          "output_type": "stream",
          "name": "stdout",
          "text": [
            "Epoch 1/50\n",
            "131/131 [==============================] - 14s 12ms/step - loss: 0.6921 - accuracy: 0.5297 - val_loss: 0.6985 - val_accuracy: 0.4470\n",
            "Epoch 2/50\n",
            "131/131 [==============================] - 1s 8ms/step - loss: 0.6833 - accuracy: 0.5491 - val_loss: 0.7109 - val_accuracy: 0.5070\n",
            "Epoch 3/50\n",
            "131/131 [==============================] - 1s 8ms/step - loss: 0.6446 - accuracy: 0.6152 - val_loss: 0.6414 - val_accuracy: 0.6290\n",
            "Epoch 4/50\n",
            "131/131 [==============================] - 1s 8ms/step - loss: 0.5960 - accuracy: 0.6582 - val_loss: 0.6797 - val_accuracy: 0.6510\n",
            "Epoch 5/50\n",
            "131/131 [==============================] - 1s 8ms/step - loss: 0.5608 - accuracy: 0.6998 - val_loss: 0.5873 - val_accuracy: 0.7000\n",
            "Epoch 6/50\n",
            "131/131 [==============================] - 1s 8ms/step - loss: 0.5266 - accuracy: 0.7287 - val_loss: 0.5677 - val_accuracy: 0.7040\n",
            "Epoch 7/50\n",
            "131/131 [==============================] - 1s 8ms/step - loss: 0.4927 - accuracy: 0.7514 - val_loss: 0.6146 - val_accuracy: 0.6990\n",
            "Epoch 8/50\n",
            "131/131 [==============================] - 1s 8ms/step - loss: 0.4387 - accuracy: 0.7910 - val_loss: 0.6133 - val_accuracy: 0.6980\n",
            "Epoch 9/50\n",
            "131/131 [==============================] - 1s 8ms/step - loss: 0.3908 - accuracy: 0.8209 - val_loss: 0.6278 - val_accuracy: 0.6780\n",
            "Epoch 10/50\n",
            "131/131 [==============================] - 1s 8ms/step - loss: 0.3469 - accuracy: 0.8419 - val_loss: 0.6886 - val_accuracy: 0.7080\n",
            "Epoch 11/50\n",
            "131/131 [==============================] - 1s 8ms/step - loss: 0.2678 - accuracy: 0.8818 - val_loss: 0.7409 - val_accuracy: 0.7080\n",
            "Epoch 12/50\n",
            "131/131 [==============================] - 1s 8ms/step - loss: 0.2133 - accuracy: 0.9092 - val_loss: 1.0179 - val_accuracy: 0.6990\n",
            "Epoch 13/50\n",
            "131/131 [==============================] - 1s 8ms/step - loss: 0.1458 - accuracy: 0.9455 - val_loss: 1.0069 - val_accuracy: 0.7220\n",
            "Epoch 14/50\n",
            "131/131 [==============================] - 1s 8ms/step - loss: 0.1329 - accuracy: 0.9503 - val_loss: 1.3412 - val_accuracy: 0.6530\n",
            "Epoch 15/50\n",
            "131/131 [==============================] - 1s 8ms/step - loss: 0.0988 - accuracy: 0.9637 - val_loss: 1.2028 - val_accuracy: 0.7170\n",
            "Epoch 16/50\n",
            "131/131 [==============================] - 1s 8ms/step - loss: 0.0607 - accuracy: 0.9778 - val_loss: 1.5424 - val_accuracy: 0.6740\n",
            "Epoch 17/50\n",
            "131/131 [==============================] - 1s 8ms/step - loss: 0.0602 - accuracy: 0.9799 - val_loss: 1.5589 - val_accuracy: 0.7100\n",
            "Epoch 18/50\n",
            "131/131 [==============================] - 1s 8ms/step - loss: 0.0752 - accuracy: 0.9737 - val_loss: 1.3243 - val_accuracy: 0.7060\n",
            "Epoch 19/50\n",
            "131/131 [==============================] - 1s 8ms/step - loss: 0.0431 - accuracy: 0.9864 - val_loss: 1.8748 - val_accuracy: 0.6780\n",
            "Epoch 20/50\n",
            "131/131 [==============================] - 1s 8ms/step - loss: 0.0397 - accuracy: 0.9878 - val_loss: 1.5559 - val_accuracy: 0.7150\n",
            "Epoch 21/50\n",
            "131/131 [==============================] - 1s 8ms/step - loss: 0.0278 - accuracy: 0.9921 - val_loss: 1.8043 - val_accuracy: 0.6580\n",
            "Epoch 22/50\n",
            "131/131 [==============================] - 1s 8ms/step - loss: 0.0447 - accuracy: 0.9869 - val_loss: 1.7669 - val_accuracy: 0.6920\n",
            "Epoch 23/50\n",
            "131/131 [==============================] - 1s 8ms/step - loss: 0.0485 - accuracy: 0.9854 - val_loss: 1.6882 - val_accuracy: 0.6890\n",
            "Epoch 24/50\n",
            "131/131 [==============================] - 1s 8ms/step - loss: 0.0386 - accuracy: 0.9881 - val_loss: 1.7193 - val_accuracy: 0.6820\n",
            "Epoch 25/50\n",
            "131/131 [==============================] - 1s 8ms/step - loss: 0.0470 - accuracy: 0.9850 - val_loss: 1.5069 - val_accuracy: 0.7060\n",
            "Epoch 26/50\n",
            "131/131 [==============================] - 1s 8ms/step - loss: 0.0367 - accuracy: 0.9881 - val_loss: 1.7228 - val_accuracy: 0.7190\n",
            "Epoch 27/50\n",
            "131/131 [==============================] - 1s 8ms/step - loss: 0.0238 - accuracy: 0.9921 - val_loss: 1.6611 - val_accuracy: 0.7100\n",
            "Epoch 28/50\n",
            "131/131 [==============================] - 1s 8ms/step - loss: 0.0226 - accuracy: 0.9938 - val_loss: 1.7964 - val_accuracy: 0.7160\n",
            "Epoch 29/50\n",
            "131/131 [==============================] - 1s 8ms/step - loss: 0.0104 - accuracy: 0.9976 - val_loss: 2.0266 - val_accuracy: 0.7090\n",
            "Epoch 30/50\n",
            "131/131 [==============================] - 1s 8ms/step - loss: 0.0413 - accuracy: 0.9854 - val_loss: 1.5891 - val_accuracy: 0.7140\n",
            "Epoch 31/50\n",
            "131/131 [==============================] - 1s 8ms/step - loss: 0.0365 - accuracy: 0.9888 - val_loss: 1.7857 - val_accuracy: 0.6990\n",
            "Epoch 32/50\n",
            "131/131 [==============================] - 1s 8ms/step - loss: 0.0138 - accuracy: 0.9959 - val_loss: 2.0077 - val_accuracy: 0.6920\n",
            "Epoch 33/50\n",
            "131/131 [==============================] - 1s 8ms/step - loss: 0.0075 - accuracy: 0.9976 - val_loss: 2.2659 - val_accuracy: 0.7160\n",
            "Epoch 34/50\n",
            "131/131 [==============================] - 1s 8ms/step - loss: 0.0064 - accuracy: 0.9974 - val_loss: 2.1047 - val_accuracy: 0.7150\n",
            "Epoch 35/50\n",
            "131/131 [==============================] - 1s 8ms/step - loss: 0.0140 - accuracy: 0.9947 - val_loss: 1.8077 - val_accuracy: 0.7080\n",
            "Epoch 36/50\n",
            "131/131 [==============================] - 1s 8ms/step - loss: 0.0495 - accuracy: 0.9830 - val_loss: 1.9890 - val_accuracy: 0.7110\n",
            "Epoch 37/50\n",
            "131/131 [==============================] - 1s 8ms/step - loss: 0.0592 - accuracy: 0.9795 - val_loss: 2.3454 - val_accuracy: 0.6910\n",
            "Epoch 38/50\n",
            "131/131 [==============================] - 1s 8ms/step - loss: 0.0449 - accuracy: 0.9814 - val_loss: 1.8749 - val_accuracy: 0.7030\n",
            "Epoch 39/50\n",
            "131/131 [==============================] - 1s 8ms/step - loss: 0.0232 - accuracy: 0.9931 - val_loss: 2.3391 - val_accuracy: 0.7010\n",
            "Epoch 40/50\n",
            "131/131 [==============================] - 1s 8ms/step - loss: 0.0369 - accuracy: 0.9885 - val_loss: 2.0690 - val_accuracy: 0.6970\n",
            "Epoch 41/50\n",
            "131/131 [==============================] - 1s 8ms/step - loss: 0.0072 - accuracy: 0.9976 - val_loss: 2.5658 - val_accuracy: 0.7070\n",
            "Epoch 42/50\n",
            "131/131 [==============================] - 1s 8ms/step - loss: 0.0146 - accuracy: 0.9938 - val_loss: 2.2755 - val_accuracy: 0.6990\n",
            "Epoch 43/50\n",
            "131/131 [==============================] - 1s 8ms/step - loss: 0.0373 - accuracy: 0.9864 - val_loss: 2.0335 - val_accuracy: 0.7130\n",
            "Epoch 44/50\n",
            "131/131 [==============================] - 1s 8ms/step - loss: 0.0296 - accuracy: 0.9888 - val_loss: 2.0628 - val_accuracy: 0.7060\n",
            "Epoch 45/50\n",
            "131/131 [==============================] - 1s 8ms/step - loss: 0.0222 - accuracy: 0.9916 - val_loss: 2.3722 - val_accuracy: 0.6900\n",
            "Epoch 46/50\n",
            "131/131 [==============================] - 1s 10ms/step - loss: 0.0140 - accuracy: 0.9947 - val_loss: 2.8797 - val_accuracy: 0.6960\n",
            "Epoch 47/50\n",
            "131/131 [==============================] - 2s 12ms/step - loss: 0.0410 - accuracy: 0.9876 - val_loss: 1.9477 - val_accuracy: 0.6970\n",
            "Epoch 48/50\n",
            "131/131 [==============================] - 1s 11ms/step - loss: 0.0136 - accuracy: 0.9940 - val_loss: 2.3986 - val_accuracy: 0.7050\n",
            "Epoch 49/50\n",
            "131/131 [==============================] - 1s 8ms/step - loss: 0.0159 - accuracy: 0.9938 - val_loss: 2.3946 - val_accuracy: 0.6840\n",
            "Epoch 50/50\n",
            "131/131 [==============================] - 1s 8ms/step - loss: 0.0078 - accuracy: 0.9981 - val_loss: 2.2472 - val_accuracy: 0.7100\n"
          ]
        }
      ],
      "source": [
        "history = model.fit(x=images_reduced, y=Y, batch_size=32, epochs=50, validation_data=(val_images, Y_val))"
      ]
    },
    {
      "cell_type": "code",
      "source": [
        "model.save(\"drive/My Drive/ASDRP/Model Checkpoints/unbalanced_final.h5\")"
      ],
      "metadata": {
        "id": "VipZzq2W9yFE"
      },
      "execution_count": null,
      "outputs": []
    },
    {
      "cell_type": "code",
      "execution_count": null,
      "metadata": {
        "colab": {
          "base_uri": "https://localhost:8080/",
          "height": 545
        },
        "id": "y0KQZVg_wVY6",
        "outputId": "aaf88e8f-97d1-4e12-bdad-82d1ca2ba434"
      },
      "outputs": [
        {
          "output_type": "display_data",
          "data": {
            "text/plain": [
              "<Figure size 432x288 with 1 Axes>"
            ],
            "image/png": "[encoded data removed]"
          },
          "metadata": {
            "needs_background": "light"
          }
        },
        {
          "output_type": "display_data",
          "data": {
            "text/plain": [
              "<Figure size 432x288 with 1 Axes>"
            ],
            "image/png": "[encoded data removed]"
          },
          "metadata": {
            "needs_background": "light"
          }
        }
      ],
      "source": [
        "# plot results for gender\n",
        "acc = history.history['accuracy']\n",
        "val_acc = history.history['val_accuracy']\n",
        "epochs = range(len(acc))\n",
        "\n",
        "plt.plot(epochs, acc, 'b', label='Training Accuracy')\n",
        "plt.plot(epochs, val_acc, 'r', label='Validation Accuracy')\n",
        "plt.title('Accuracy Graph')\n",
        "plt.legend()\n",
        "plt.figure()\n",
        "\n",
        "loss = history.history['loss']\n",
        "val_loss = history.history['val_loss']\n",
        "\n",
        "plt.plot(epochs, loss, 'b', label='Training Loss')\n",
        "plt.plot(epochs, val_loss, 'r', label='Validation Loss')\n",
        "plt.title('Loss Graph')\n",
        "plt.legend()\n",
        "plt.show()"
      ]
    },
    {
      "cell_type": "code",
      "source": [
        "model = load_model('drive/My Drive/ASDRP/Model Checkpoints/unbalanced_reduced.h5')"
      ],
      "metadata": {
        "id": "0xOjdlxPTwEa"
      },
      "execution_count": null,
      "outputs": []
    },
    {
      "cell_type": "code",
      "execution_count": null,
      "metadata": {
        "colab": {
          "base_uri": "https://localhost:8080/",
          "height": 282
        },
        "id": "GrNQ58PXw_IM",
        "outputId": "668698f5-ca74-4b8a-c9ae-3a93c6fd0b01"
      },
      "outputs": [
        {
          "output_type": "stream",
          "name": "stdout",
          "text": [
            "Original Gender: 0\n",
            "Predicted Gender: 0\n"
          ]
        },
        {
          "output_type": "display_data",
          "data": {
            "text/plain": [
              "<Figure size 432x288 with 1 Axes>"
            ],
            "image/png": "[encoded data removed]"
          },
          "metadata": {
            "needs_background": "light"
          }
        }
      ],
      "source": [
        "import random\n",
        "image_index = random.randint(0,2000)\n",
        "print(\"Original Gender:\", Y[image_index])\n",
        "# predict from model\n",
        "pred = model.predict(images_reduced[image_index].reshape(1, 64, 64, 3))\n",
        "pred_gender = round(pred[0][0])\n",
        "#pred_age = round(pred[1][0][0])\n",
        "print(\"Predicted Gender:\", pred_gender)\n",
        "plt.axis('off')\n",
        "plt.imshow(images_reduced[image_index].reshape(64, 64, 3));"
      ]
    },
    {
      "cell_type": "markdown",
      "metadata": {
        "id": "Qp4Z7anMzQTA"
      },
      "source": [
        "TESTING"
      ]
    },
    {
      "cell_type": "code",
      "execution_count": null,
      "metadata": {
        "id": "GBNucGkzy_cZ"
      },
      "outputs": [],
      "source": [
        "test_images = pickle.load(open(\"/content/drive/MyDrive/ASDRP/Experiments/simple-cnn-v3/test_tensors_generated.pickle\", \"rb\"))\n",
        "test_images = np.array(test_images)"
      ]
    },
    {
      "cell_type": "code",
      "source": [
        "from matplotlib import pyplot as plt\n",
        "\n",
        "plt.imshow(test_images[0], interpolation='nearest')\n",
        "plt.show()"
      ],
      "metadata": {
        "colab": {
          "base_uri": "https://localhost:8080/",
          "height": 268
        },
        "id": "nFNguLSFok_W",
        "outputId": "90f86903-3daf-48ed-facf-29aa60427e92"
      },
      "execution_count": null,
      "outputs": [
        {
          "output_type": "display_data",
          "data": {
            "text/plain": [
              "<Figure size 432x288 with 1 Axes>"
            ],
            "image/png": "[encoded data removed]"
          },
          "metadata": {
            "needs_background": "light"
          }
        }
      ]
    },
    {
      "cell_type": "code",
      "source": [
        "df_test = pd.read_csv('/content/drive/MyDrive/ASDRP/Experiments/df_test.csv')  "
      ],
      "metadata": {
        "id": "3uNsWoo-_xyD"
      },
      "execution_count": null,
      "outputs": []
    },
    {
      "cell_type": "code",
      "source": [
        "df_test"
      ],
      "metadata": {
        "colab": {
          "base_uri": "https://localhost:8080/",
          "height": 419
        },
        "id": "cVE2ooU6hb-L",
        "outputId": "32d1cc9e-8fb0-483d-cab0-84fc1e3f2c6b"
      },
      "execution_count": null,
      "outputs": [
        {
          "output_type": "execute_result",
          "data": {
            "text/plain": [
              "                                                 image  age  gender  race\n",
              "0    drive/My Drive/ASDRP/Experiments/test_data_rea...    2       1     2\n",
              "1    drive/My Drive/ASDRP/Experiments/test_data_rea...    1       1     0\n",
              "2    drive/My Drive/ASDRP/Experiments/test_data_rea...   76       1     0\n",
              "3    drive/My Drive/ASDRP/Experiments/test_data_rea...    2       1     2\n",
              "4    drive/My Drive/ASDRP/Experiments/test_data_rea...    5       1     0\n",
              "..                                                 ...  ...     ...   ...\n",
              "995  drive/My Drive/ASDRP/Experiments/test_data_rea...   26       0     1\n",
              "996  drive/My Drive/ASDRP/Experiments/test_data_rea...    9       0     1\n",
              "997  drive/My Drive/ASDRP/Experiments/test_data_rea...   43       0     1\n",
              "998  drive/My Drive/ASDRP/Experiments/test_data_rea...   90       0     1\n",
              "999  drive/My Drive/ASDRP/Experiments/test_data_rea...   76       1     1\n",
              "\n",
              "[1000 rows x 4 columns]"
            ],
            "text/html": [
              "\n",
              "  <div id=\"df-2ed1d553-873a-44db-9e67-6d9db0ee253a\">\n",
              "    <div class=\"colab-df-container\">\n",
              "      <div>\n",
              "<style scoped>\n",
              "    .dataframe tbody tr th:only-of-type {\n",
              "        vertical-align: middle;\n",
              "    }\n",
              "\n",
              "    .dataframe tbody tr th {\n",
              "        vertical-align: top;\n",
              "    }\n",
              "\n",
              "    .dataframe thead th {\n",
              "        text-align: right;\n",
              "    }\n",
              "</style>\n",
              "<table border=\"1\" class=\"dataframe\">\n",
              "  <thead>\n",
              "    <tr style=\"text-align: right;\">\n",
              "      <th></th>\n",
              "      <th>image</th>\n",
              "      <th>age</th>\n",
              "      <th>gender</th>\n",
              "      <th>race</th>\n",
              "    </tr>\n",
              "  </thead>\n",
              "  <tbody>\n",
              "    <tr>\n",
              "      <th>0</th>\n",
              "      <td>drive/My Drive/ASDRP/Experiments/test_data_rea...</td>\n",
              "      <td>2</td>\n",
              "      <td>1</td>\n",
              "      <td>2</td>\n",
              "    </tr>\n",
              "    <tr>\n",
              "      <th>1</th>\n",
              "      <td>drive/My Drive/ASDRP/Experiments/test_data_rea...</td>\n",
              "      <td>1</td>\n",
              "      <td>1</td>\n",
              "      <td>0</td>\n",
              "    </tr>\n",
              "    <tr>\n",
              "      <th>2</th>\n",
              "      <td>drive/My Drive/ASDRP/Experiments/test_data_rea...</td>\n",
              "      <td>76</td>\n",
              "      <td>1</td>\n",
              "      <td>0</td>\n",
              "    </tr>\n",
              "    <tr>\n",
              "      <th>3</th>\n",
              "      <td>drive/My Drive/ASDRP/Experiments/test_data_rea...</td>\n",
              "      <td>2</td>\n",
              "      <td>1</td>\n",
              "      <td>2</td>\n",
              "    </tr>\n",
              "    <tr>\n",
              "      <th>4</th>\n",
              "      <td>drive/My Drive/ASDRP/Experiments/test_data_rea...</td>\n",
              "      <td>5</td>\n",
              "      <td>1</td>\n",
              "      <td>0</td>\n",
              "    </tr>\n",
              "    <tr>\n",
              "      <th>...</th>\n",
              "      <td>...</td>\n",
              "      <td>...</td>\n",
              "      <td>...</td>\n",
              "      <td>...</td>\n",
              "    </tr>\n",
              "    <tr>\n",
              "      <th>995</th>\n",
              "      <td>drive/My Drive/ASDRP/Experiments/test_data_rea...</td>\n",
              "      <td>26</td>\n",
              "      <td>0</td>\n",
              "      <td>1</td>\n",
              "    </tr>\n",
              "    <tr>\n",
              "      <th>996</th>\n",
              "      <td>drive/My Drive/ASDRP/Experiments/test_data_rea...</td>\n",
              "      <td>9</td>\n",
              "      <td>0</td>\n",
              "      <td>1</td>\n",
              "    </tr>\n",
              "    <tr>\n",
              "      <th>997</th>\n",
              "      <td>drive/My Drive/ASDRP/Experiments/test_data_rea...</td>\n",
              "      <td>43</td>\n",
              "      <td>0</td>\n",
              "      <td>1</td>\n",
              "    </tr>\n",
              "    <tr>\n",
              "      <th>998</th>\n",
              "      <td>drive/My Drive/ASDRP/Experiments/test_data_rea...</td>\n",
              "      <td>90</td>\n",
              "      <td>0</td>\n",
              "      <td>1</td>\n",
              "    </tr>\n",
              "    <tr>\n",
              "      <th>999</th>\n",
              "      <td>drive/My Drive/ASDRP/Experiments/test_data_rea...</td>\n",
              "      <td>76</td>\n",
              "      <td>1</td>\n",
              "      <td>1</td>\n",
              "    </tr>\n",
              "  </tbody>\n",
              "</table>\n",
              "<p>1000 rows × 4 columns</p>\n",
              "</div>\n",
              "      <button class=\"colab-df-convert\" onclick=\"convertToInteractive('df-2ed1d553-873a-44db-9e67-6d9db0ee253a')\"\n",
              "              title=\"Convert this dataframe to an interactive table.\"\n",
              "              style=\"display:none;\">\n",
              "        \n",
              "  <svg xmlns=\"http://www.w3.org/2000/svg\" height=\"24px\"viewBox=\"0 0 24 24\"\n",
              "       width=\"24px\">\n",
              "    <path d=\"M0 0h24v24H0V0z\" fill=\"none\"/>\n",
              "    <path d=\"M18.56 5.44l.94 2.06.94-2.06 2.06-.94-2.06-.94-.94-2.06-.94 2.06-2.06.94zm-11 1L8.5 8.5l.94-2.06 2.06-.94-2.06-.94L8.5 2.5l-.94 2.06-2.06.94zm10 10l.94 2.06.94-2.06 2.06-.94-2.06-.94-.94-2.06-.94 2.06-2.06.94z\"/><path d=\"M17.41 7.96l-1.37-1.37c-.4-.4-.92-.59-1.43-.59-.52 0-1.04.2-1.43.59L10.3 9.45l-7.72 7.72c-.78.78-.78 2.05 0 2.83L4 21.41c.39.39.9.59 1.41.59.51 0 1.02-.2 1.41-.59l7.78-7.78 2.81-2.81c.8-.78.8-2.07 0-2.86zM5.41 20L4 18.59l7.72-7.72 1.47 1.35L5.41 20z\"/>\n",
              "  </svg>\n",
              "      </button>\n",
              "      \n",
              "  <style>\n",
              "    .colab-df-container {\n",
              "      display:flex;\n",
              "      flex-wrap:wrap;\n",
              "      gap: 12px;\n",
              "    }\n",
              "\n",
              "    .colab-df-convert {\n",
              "      background-color: #E8F0FE;\n",
              "      border: none;\n",
              "      border-radius: 50%;\n",
              "      cursor: pointer;\n",
              "      display: none;\n",
              "      fill: #1967D2;\n",
              "      height: 32px;\n",
              "      padding: 0 0 0 0;\n",
              "      width: 32px;\n",
              "    }\n",
              "\n",
              "    .colab-df-convert:hover {\n",
              "      background-color: #E2EBFA;\n",
              "      box-shadow: 0px 1px 2px rgba(60, 64, 67, 0.3), 0px 1px 3px 1px rgba(60, 64, 67, 0.15);\n",
              "      fill: #174EA6;\n",
              "    }\n",
              "\n",
              "    [theme=dark] .colab-df-convert {\n",
              "      background-color: #3B4455;\n",
              "      fill: #D2E3FC;\n",
              "    }\n",
              "\n",
              "    [theme=dark] .colab-df-convert:hover {\n",
              "      background-color: #434B5C;\n",
              "      box-shadow: 0px 1px 3px 1px rgba(0, 0, 0, 0.15);\n",
              "      filter: drop-shadow(0px 1px 2px rgba(0, 0, 0, 0.3));\n",
              "      fill: #FFFFFF;\n",
              "    }\n",
              "  </style>\n",
              "\n",
              "      <script>\n",
              "        const buttonEl =\n",
              "          document.querySelector('#df-2ed1d553-873a-44db-9e67-6d9db0ee253a button.colab-df-convert');\n",
              "        buttonEl.style.display =\n",
              "          google.colab.kernel.accessAllowed ? 'block' : 'none';\n",
              "\n",
              "        async function convertToInteractive(key) {\n",
              "          const element = document.querySelector('#df-2ed1d553-873a-44db-9e67-6d9db0ee253a');\n",
              "          const dataTable =\n",
              "            await google.colab.kernel.invokeFunction('convertToInteractive',\n",
              "                                                     [key], {});\n",
              "          if (!dataTable) return;\n",
              "\n",
              "          const docLinkHtml = 'Like what you see? Visit the ' +\n",
              "            '<a target=\"_blank\" href=https://colab.research.google.com/notebooks/data_table.ipynb>data table notebook</a>'\n",
              "            + ' to learn more about interactive tables.';\n",
              "          element.innerHTML = '';\n",
              "          dataTable['output_type'] = 'display_data';\n",
              "          await google.colab.output.renderOutput(dataTable, element);\n",
              "          const docLink = document.createElement('div');\n",
              "          docLink.innerHTML = docLinkHtml;\n",
              "          element.appendChild(docLink);\n",
              "        }\n",
              "      </script>\n",
              "    </div>\n",
              "  </div>\n",
              "  "
            ]
          },
          "metadata": {},
          "execution_count": 97
        }
      ]
    },
    {
      "cell_type": "code",
      "source": [
        "def load(file_path):\n",
        "    img = tf.io.read_file(file_path)\n",
        "    img = tf.image.decode_png(img, channels=3)\n",
        "    img = tf.image.convert_image_dtype(img, tf.float32)\n",
        "    img = tf.image.resize(img, size=(64, 64))\n",
        "    return img\n"
      ],
      "metadata": {
        "id": "jVold-9RkacW"
      },
      "execution_count": null,
      "outputs": []
    },
    {
      "cell_type": "code",
      "source": [
        "final_test_images = [load(i) for i in tqdm(df_test.image)]"
      ],
      "metadata": {
        "colab": {
          "base_uri": "https://localhost:8080/"
        },
        "id": "4Z6199dokQ3V",
        "outputId": "5651c124-a3cc-44b1-e5a2-59f747a5b2d8"
      },
      "execution_count": null,
      "outputs": [
        {
          "output_type": "stream",
          "name": "stderr",
          "text": [
            "\n",
            "  0%|          | 0/837 [00:00<?, ?it/s]\u001b[A\n",
            "  0%|          | 1/837 [00:38<8:57:15, 38.56s/it]\u001b[A\n",
            "  0%|          | 2/837 [00:39<3:48:00, 16.38s/it]\u001b[A\n",
            "  0%|          | 3/837 [00:40<2:08:05,  9.22s/it]\u001b[A\n",
            "  0%|          | 4/837 [00:40<1:21:13,  5.85s/it]\u001b[A\n",
            "  1%|          | 5/837 [00:41<55:55,  4.03s/it]  \u001b[A\n",
            "  1%|          | 6/837 [00:42<39:47,  2.87s/it]\u001b[A\n",
            "  1%|          | 7/837 [00:42<29:46,  2.15s/it]\u001b[A\n",
            "  1%|          | 8/837 [00:43<23:18,  1.69s/it]\u001b[A\n",
            "  1%|          | 9/837 [00:44<18:41,  1.35s/it]\u001b[A\n",
            "  1%|          | 10/837 [00:45<16:22,  1.19s/it]\u001b[A\n",
            "  1%|▏         | 11/837 [00:45<14:04,  1.02s/it]\u001b[A\n",
            "  1%|▏         | 12/837 [00:46<13:08,  1.05it/s]\u001b[A\n",
            "  2%|▏         | 13/837 [00:47<12:41,  1.08it/s]\u001b[A\n",
            "  2%|▏         | 14/837 [00:48<11:39,  1.18it/s]\u001b[A\n",
            "  2%|▏         | 15/837 [00:48<11:34,  1.18it/s]\u001b[A\n",
            "  2%|▏         | 16/837 [00:49<10:44,  1.27it/s]\u001b[A\n",
            "  2%|▏         | 17/837 [00:50<10:11,  1.34it/s]\u001b[A\n",
            "  2%|▏         | 18/837 [00:50<09:53,  1.38it/s]\u001b[A\n",
            "  2%|▏         | 19/837 [00:51<09:42,  1.40it/s]\u001b[A\n",
            "  2%|▏         | 20/837 [00:52<10:03,  1.35it/s]\u001b[A\n",
            "  3%|▎         | 21/837 [00:52<09:50,  1.38it/s]\u001b[A\n",
            "  3%|▎         | 22/837 [00:53<10:11,  1.33it/s]\u001b[A\n",
            "  3%|▎         | 23/837 [00:54<10:28,  1.29it/s]\u001b[A\n",
            "  3%|▎         | 24/837 [00:55<10:01,  1.35it/s]\u001b[A\n",
            "  3%|▎         | 25/837 [00:55<09:52,  1.37it/s]\u001b[A\n",
            "  3%|▎         | 26/837 [00:56<09:34,  1.41it/s]\u001b[A\n",
            "  3%|▎         | 27/837 [00:57<09:22,  1.44it/s]\u001b[A\n",
            "  3%|▎         | 28/837 [00:57<09:15,  1.46it/s]\u001b[A\n",
            "  3%|▎         | 29/837 [00:58<09:08,  1.47it/s]\u001b[A\n",
            "  4%|▎         | 30/837 [00:59<09:06,  1.48it/s]\u001b[A\n",
            "  4%|▎         | 31/837 [01:00<09:37,  1.40it/s]\u001b[A\n",
            "  4%|▍         | 32/837 [01:00<10:01,  1.34it/s]\u001b[A\n",
            "  4%|▍         | 33/837 [01:01<10:15,  1.31it/s]\u001b[A\n",
            "  4%|▍         | 34/837 [01:02<10:24,  1.29it/s]\u001b[A\n",
            "  4%|▍         | 35/837 [01:03<10:32,  1.27it/s]\u001b[A\n",
            "  4%|▍         | 36/837 [01:04<10:36,  1.26it/s]\u001b[A\n",
            "  4%|▍         | 37/837 [01:04<10:11,  1.31it/s]\u001b[A\n",
            "  5%|▍         | 38/837 [01:05<09:35,  1.39it/s]\u001b[A\n",
            "  5%|▍         | 39/837 [01:06<10:01,  1.33it/s]\u001b[A\n",
            "  5%|▍         | 40/837 [01:07<10:25,  1.27it/s]\u001b[A\n",
            "  5%|▍         | 41/837 [01:08<10:44,  1.24it/s]\u001b[A\n",
            "  5%|▌         | 42/837 [01:08<10:51,  1.22it/s]\u001b[A\n",
            "  5%|▌         | 43/837 [01:09<10:12,  1.30it/s]\u001b[A\n",
            "  5%|▌         | 44/837 [01:10<10:29,  1.26it/s]\u001b[A\n",
            "  5%|▌         | 45/837 [01:11<10:04,  1.31it/s]\u001b[A\n",
            "  5%|▌         | 46/837 [01:11<10:13,  1.29it/s]\u001b[A\n",
            "  6%|▌         | 47/837 [01:12<10:18,  1.28it/s]\u001b[A\n",
            "  6%|▌         | 48/837 [01:13<10:10,  1.29it/s]\u001b[A\n",
            "  6%|▌         | 49/837 [01:14<10:14,  1.28it/s]\u001b[A\n",
            "  6%|▌         | 50/837 [01:14<09:34,  1.37it/s]\u001b[A\n",
            "  6%|▌         | 51/837 [01:15<09:15,  1.41it/s]\u001b[A\n",
            "  6%|▌         | 52/837 [01:16<09:40,  1.35it/s]\u001b[A\n",
            "  6%|▋         | 53/837 [01:16<09:04,  1.44it/s]\u001b[A\n",
            "  6%|▋         | 54/837 [01:17<08:52,  1.47it/s]\u001b[A\n",
            "  7%|▋         | 55/837 [01:18<09:23,  1.39it/s]\u001b[A\n",
            "  7%|▋         | 56/837 [01:19<09:06,  1.43it/s]\u001b[A\n",
            "  7%|▋         | 57/837 [01:19<09:27,  1.37it/s]\u001b[A\n",
            "  7%|▋         | 58/837 [01:20<09:44,  1.33it/s]\u001b[A\n",
            "  7%|▋         | 59/837 [01:21<09:31,  1.36it/s]\u001b[A\n",
            "  7%|▋         | 60/837 [01:21<09:18,  1.39it/s]\u001b[A\n",
            "  7%|▋         | 61/837 [01:22<09:37,  1.34it/s]\u001b[A\n",
            "  7%|▋         | 62/837 [01:23<09:44,  1.33it/s]\u001b[A\n",
            "  8%|▊         | 63/837 [01:24<09:50,  1.31it/s]\u001b[A\n",
            "  8%|▊         | 64/837 [01:25<09:55,  1.30it/s]\u001b[A\n",
            "  8%|▊         | 65/837 [01:25<09:17,  1.38it/s]\u001b[A\n",
            "  8%|▊         | 66/837 [01:26<09:34,  1.34it/s]\u001b[A\n",
            "  8%|▊         | 67/837 [01:27<10:00,  1.28it/s]\u001b[A\n",
            "  8%|▊         | 68/837 [01:28<09:34,  1.34it/s]\u001b[A\n",
            "  8%|▊         | 69/837 [01:28<09:54,  1.29it/s]\u001b[A\n",
            "  8%|▊         | 70/837 [01:29<09:25,  1.36it/s]\u001b[A\n",
            "  8%|▊         | 71/837 [01:30<09:13,  1.38it/s]\u001b[A\n",
            "  9%|▊         | 72/837 [01:30<09:05,  1.40it/s]\u001b[A\n",
            "  9%|▊         | 73/837 [01:31<09:01,  1.41it/s]\u001b[A\n",
            "  9%|▉         | 74/837 [01:32<09:23,  1.35it/s]\u001b[A\n",
            "  9%|▉         | 75/837 [01:33<09:32,  1.33it/s]\u001b[A\n",
            "  9%|▉         | 76/837 [01:34<09:48,  1.29it/s]\u001b[A\n",
            "  9%|▉         | 77/837 [01:34<09:22,  1.35it/s]\u001b[A\n",
            "  9%|▉         | 78/837 [01:35<09:12,  1.37it/s]\u001b[A\n",
            "  9%|▉         | 79/837 [01:36<09:29,  1.33it/s]\u001b[A\n",
            " 10%|▉         | 80/837 [01:36<08:53,  1.42it/s]\u001b[A\n",
            " 10%|▉         | 81/837 [01:37<09:18,  1.35it/s]\u001b[A\n",
            " 10%|▉         | 82/837 [01:38<09:35,  1.31it/s]\u001b[A\n",
            " 10%|▉         | 83/837 [01:39<09:50,  1.28it/s]\u001b[A\n",
            " 10%|█         | 84/837 [01:39<09:09,  1.37it/s]\u001b[A\n",
            " 10%|█         | 85/837 [01:40<08:48,  1.42it/s]\u001b[A\n",
            " 10%|█         | 86/837 [01:41<08:42,  1.44it/s]\u001b[A\n",
            " 10%|█         | 87/837 [01:42<09:02,  1.38it/s]\u001b[A\n",
            " 11%|█         | 88/837 [01:42<08:38,  1.44it/s]\u001b[A\n",
            " 11%|█         | 89/837 [01:43<09:03,  1.38it/s]\u001b[A\n",
            " 11%|█         | 90/837 [01:44<09:28,  1.31it/s]\u001b[A\n",
            " 11%|█         | 91/837 [01:44<08:50,  1.41it/s]\u001b[A\n",
            " 11%|█         | 92/837 [01:45<08:48,  1.41it/s]\u001b[A\n",
            " 11%|█         | 93/837 [01:46<08:38,  1.43it/s]\u001b[A\n",
            " 11%|█         | 94/837 [01:46<08:19,  1.49it/s]\u001b[A\n",
            " 11%|█▏        | 95/837 [01:47<08:50,  1.40it/s]\u001b[A\n",
            " 11%|█▏        | 96/837 [01:48<09:08,  1.35it/s]\u001b[A\n",
            " 12%|█▏        | 97/837 [01:49<09:19,  1.32it/s]\u001b[A\n",
            " 12%|█▏        | 98/837 [01:49<08:56,  1.38it/s]\u001b[A\n",
            " 12%|█▏        | 99/837 [01:50<08:40,  1.42it/s]\u001b[A\n",
            " 12%|█▏        | 100/837 [01:51<08:32,  1.44it/s]\u001b[A\n",
            " 12%|█▏        | 101/837 [01:51<08:31,  1.44it/s]\u001b[A\n",
            " 12%|█▏        | 102/837 [01:52<08:06,  1.51it/s]\u001b[A\n",
            " 12%|█▏        | 103/837 [01:53<08:39,  1.41it/s]\u001b[A\n",
            " 12%|█▏        | 104/837 [01:54<08:27,  1.44it/s]\u001b[A\n",
            " 13%|█▎        | 105/837 [01:54<08:55,  1.37it/s]\u001b[A\n",
            " 13%|█▎        | 106/837 [01:55<09:12,  1.32it/s]\u001b[A\n",
            " 13%|█▎        | 107/837 [01:56<09:21,  1.30it/s]\u001b[A\n",
            " 13%|█▎        | 108/837 [01:57<09:28,  1.28it/s]\u001b[A\n",
            " 13%|█▎        | 109/837 [01:58<09:31,  1.27it/s]\u001b[A\n",
            " 13%|█▎        | 110/837 [01:58<09:13,  1.31it/s]\u001b[A\n",
            " 13%|█▎        | 111/837 [01:59<08:38,  1.40it/s]\u001b[A\n",
            " 13%|█▎        | 112/837 [01:59<08:17,  1.46it/s]\u001b[A\n",
            " 14%|█▎        | 113/837 [02:00<08:08,  1.48it/s]\u001b[A\n",
            " 14%|█▎        | 114/837 [02:01<08:40,  1.39it/s]\u001b[A\n",
            " 14%|█▎        | 115/837 [02:02<09:01,  1.33it/s]\u001b[A\n",
            " 14%|█▍        | 116/837 [02:03<09:06,  1.32it/s]\u001b[A\n",
            " 14%|█▍        | 117/837 [02:03<09:15,  1.29it/s]\u001b[A\n",
            " 14%|█▍        | 118/837 [02:04<09:22,  1.28it/s]\u001b[A\n",
            " 14%|█▍        | 119/837 [02:05<09:27,  1.26it/s]\u001b[A\n",
            " 14%|█▍        | 120/837 [02:06<09:28,  1.26it/s]\u001b[A\n",
            " 14%|█▍        | 121/837 [02:07<09:28,  1.26it/s]\u001b[A\n",
            " 15%|█▍        | 122/837 [02:07<09:35,  1.24it/s]\u001b[A\n",
            " 15%|█▍        | 123/837 [02:08<09:30,  1.25it/s]\u001b[A\n",
            " 15%|█▍        | 124/837 [02:09<09:06,  1.30it/s]\u001b[A\n",
            " 15%|█▍        | 125/837 [02:10<09:05,  1.30it/s]\u001b[A\n",
            " 15%|█▌        | 126/837 [02:10<09:14,  1.28it/s]\u001b[A\n",
            " 15%|█▌        | 127/837 [02:11<09:22,  1.26it/s]\u001b[A\n",
            " 15%|█▌        | 128/837 [02:12<08:44,  1.35it/s]\u001b[A\n",
            " 15%|█▌        | 129/837 [02:13<08:59,  1.31it/s]\u001b[A\n",
            " 16%|█▌        | 130/837 [02:13<08:31,  1.38it/s]\u001b[A\n",
            " 16%|█▌        | 131/837 [02:14<08:22,  1.41it/s]\u001b[A\n",
            " 16%|█▌        | 132/837 [02:15<08:39,  1.36it/s]\u001b[A\n",
            " 16%|█▌        | 133/837 [02:16<08:34,  1.37it/s]\u001b[A\n",
            " 16%|█▌        | 134/837 [02:16<08:07,  1.44it/s]\u001b[A\n",
            " 16%|█▌        | 135/837 [02:17<09:29,  1.23it/s]\u001b[A\n",
            " 16%|█▌        | 136/837 [02:18<08:56,  1.31it/s]\u001b[A\n",
            " 16%|█▋        | 137/837 [02:18<08:23,  1.39it/s]\u001b[A\n",
            " 16%|█▋        | 138/837 [02:19<08:13,  1.42it/s]\u001b[A\n",
            " 17%|█▋        | 139/837 [02:20<08:39,  1.34it/s]\u001b[A\n",
            " 17%|█▋        | 140/837 [02:21<08:51,  1.31it/s]\u001b[A\n",
            " 17%|█▋        | 141/837 [02:21<08:31,  1.36it/s]\u001b[A\n",
            " 17%|█▋        | 142/837 [02:22<08:05,  1.43it/s]\u001b[A\n",
            " 17%|█▋        | 143/837 [02:23<07:56,  1.46it/s]\u001b[A\n",
            " 17%|█▋        | 144/837 [02:24<08:19,  1.39it/s]\u001b[A\n",
            " 17%|█▋        | 145/837 [02:24<08:08,  1.42it/s]\u001b[A\n",
            " 17%|█▋        | 146/837 [02:25<08:25,  1.37it/s]\u001b[A\n",
            " 18%|█▊        | 147/837 [02:26<08:17,  1.39it/s]\u001b[A\n",
            " 18%|█▊        | 148/837 [02:26<08:01,  1.43it/s]\u001b[A\n",
            " 18%|█▊        | 149/837 [02:27<08:18,  1.38it/s]\u001b[A\n",
            " 18%|█▊        | 150/837 [02:28<08:43,  1.31it/s]\u001b[A\n",
            " 18%|█▊        | 151/837 [02:29<08:14,  1.39it/s]\u001b[A\n",
            " 18%|█▊        | 152/837 [02:29<08:29,  1.35it/s]\u001b[A\n",
            " 18%|█▊        | 153/837 [02:30<08:14,  1.38it/s]\u001b[A\n",
            " 18%|█▊        | 154/837 [02:31<07:58,  1.43it/s]\u001b[A\n",
            " 19%|█▊        | 155/837 [02:32<08:37,  1.32it/s]\u001b[A\n",
            " 19%|█▊        | 156/837 [02:32<08:53,  1.28it/s]\u001b[A\n",
            " 19%|█▉        | 157/837 [02:34<10:57,  1.03it/s]\u001b[A\n",
            " 19%|█▉        | 158/837 [02:35<10:25,  1.09it/s]\u001b[A\n",
            " 19%|█▉        | 159/837 [02:35<09:22,  1.21it/s]\u001b[A\n",
            " 19%|█▉        | 160/837 [02:36<09:17,  1.21it/s]\u001b[A\n",
            " 19%|█▉        | 161/837 [02:37<08:43,  1.29it/s]\u001b[A\n",
            " 19%|█▉        | 162/837 [02:38<08:47,  1.28it/s]\u001b[A\n",
            " 19%|█▉        | 163/837 [02:38<08:52,  1.27it/s]\u001b[A\n",
            " 20%|█▉        | 164/837 [02:39<08:48,  1.27it/s]\u001b[A\n",
            " 20%|█▉        | 165/837 [02:40<08:43,  1.28it/s]\u001b[A\n",
            " 20%|█▉        | 166/837 [02:41<08:15,  1.35it/s]\u001b[A\n",
            " 20%|█▉        | 167/837 [02:41<07:59,  1.40it/s]\u001b[A\n",
            " 20%|██        | 168/837 [02:42<08:12,  1.36it/s]\u001b[A\n",
            " 20%|██        | 169/837 [02:43<08:26,  1.32it/s]\u001b[A\n",
            " 20%|██        | 170/837 [02:43<08:05,  1.37it/s]\u001b[A\n",
            " 20%|██        | 171/837 [02:44<08:20,  1.33it/s]\u001b[A\n",
            " 21%|██        | 172/837 [02:45<07:56,  1.40it/s]\u001b[A\n",
            " 21%|██        | 173/837 [02:46<08:18,  1.33it/s]\u001b[A\n",
            " 21%|██        | 174/837 [02:47<08:23,  1.32it/s]\u001b[A\n",
            " 21%|██        | 175/837 [02:47<08:30,  1.30it/s]\u001b[A\n",
            " 21%|██        | 176/837 [02:48<08:16,  1.33it/s]\u001b[A\n",
            " 21%|██        | 177/837 [02:49<08:25,  1.31it/s]\u001b[A\n",
            " 21%|██▏       | 178/837 [02:50<08:35,  1.28it/s]\u001b[A\n",
            " 21%|██▏       | 179/837 [02:50<08:16,  1.33it/s]\u001b[A\n",
            " 22%|██▏       | 180/837 [02:51<07:49,  1.40it/s]\u001b[A\n",
            " 22%|██▏       | 181/837 [02:52<07:33,  1.45it/s]\u001b[A\n",
            " 22%|██▏       | 182/837 [02:52<07:57,  1.37it/s]\u001b[A\n",
            " 22%|██▏       | 183/837 [02:53<08:05,  1.35it/s]\u001b[A\n",
            " 22%|██▏       | 184/837 [02:54<08:14,  1.32it/s]\u001b[A\n",
            " 22%|██▏       | 185/837 [02:55<08:25,  1.29it/s]\u001b[A\n",
            " 22%|██▏       | 186/837 [02:55<07:56,  1.37it/s]\u001b[A\n",
            " 22%|██▏       | 187/837 [02:56<08:13,  1.32it/s]\u001b[A\n",
            " 22%|██▏       | 188/837 [02:57<08:39,  1.25it/s]\u001b[A\n",
            " 23%|██▎       | 189/837 [02:58<08:11,  1.32it/s]\u001b[A\n",
            " 23%|██▎       | 190/837 [02:59<07:59,  1.35it/s]\u001b[A\n",
            " 23%|██▎       | 191/837 [02:59<08:11,  1.32it/s]\u001b[A\n",
            " 23%|██▎       | 192/837 [03:00<07:38,  1.41it/s]\u001b[A\n",
            " 23%|██▎       | 193/837 [03:01<07:17,  1.47it/s]\u001b[A\n",
            " 23%|██▎       | 194/837 [03:01<07:23,  1.45it/s]\u001b[A\n",
            " 23%|██▎       | 195/837 [03:02<07:07,  1.50it/s]\u001b[A\n",
            " 23%|██▎       | 196/837 [03:03<07:31,  1.42it/s]\u001b[A\n",
            " 24%|██▎       | 197/837 [03:03<07:25,  1.44it/s]\u001b[A\n",
            " 24%|██▎       | 198/837 [03:04<07:12,  1.48it/s]\u001b[A\n",
            " 24%|██▍       | 199/837 [03:05<07:07,  1.49it/s]\u001b[A\n",
            " 24%|██▍       | 200/837 [03:05<07:28,  1.42it/s]\u001b[A\n",
            " 24%|██▍       | 201/837 [03:06<07:46,  1.36it/s]\u001b[A\n",
            " 24%|██▍       | 202/837 [03:07<08:08,  1.30it/s]\u001b[A\n",
            " 24%|██▍       | 203/837 [03:08<08:07,  1.30it/s]\u001b[A\n",
            " 24%|██▍       | 204/837 [03:09<08:16,  1.27it/s]\u001b[A\n",
            " 24%|██▍       | 205/837 [03:09<08:17,  1.27it/s]\u001b[A\n",
            " 25%|██▍       | 206/837 [03:10<08:18,  1.27it/s]\u001b[A\n",
            " 25%|██▍       | 207/837 [03:11<08:15,  1.27it/s]\u001b[A\n",
            " 25%|██▍       | 208/837 [03:12<07:48,  1.34it/s]\u001b[A\n",
            " 25%|██▍       | 209/837 [03:12<07:54,  1.32it/s]\u001b[A\n",
            " 25%|██▌       | 210/837 [03:13<08:00,  1.30it/s]\u001b[A\n",
            " 25%|██▌       | 211/837 [03:14<08:03,  1.30it/s]\u001b[A\n",
            " 25%|██▌       | 212/837 [03:15<07:31,  1.38it/s]\u001b[A\n",
            " 25%|██▌       | 213/837 [03:15<07:22,  1.41it/s]\u001b[A\n",
            " 26%|██▌       | 214/837 [03:16<07:09,  1.45it/s]\u001b[A\n",
            " 26%|██▌       | 215/837 [03:17<06:49,  1.52it/s]\u001b[A\n",
            " 26%|██▌       | 216/837 [03:17<07:25,  1.39it/s]\u001b[A\n",
            " 26%|██▌       | 217/837 [03:18<07:01,  1.47it/s]\u001b[A\n",
            " 26%|██▌       | 218/837 [03:19<06:54,  1.49it/s]\u001b[A\n",
            " 26%|██▌       | 219/837 [03:19<06:43,  1.53it/s]\u001b[A\n",
            " 26%|██▋       | 220/837 [03:20<06:40,  1.54it/s]\u001b[A\n",
            " 26%|██▋       | 221/837 [03:21<06:46,  1.52it/s]\u001b[A\n",
            " 27%|██▋       | 222/837 [03:21<06:48,  1.50it/s]\u001b[A\n",
            " 27%|██▋       | 223/837 [03:22<06:43,  1.52it/s]\u001b[A\n",
            " 27%|██▋       | 224/837 [03:23<07:10,  1.42it/s]\u001b[A\n",
            " 27%|██▋       | 225/837 [03:24<07:50,  1.30it/s]\u001b[A\n",
            " 27%|██▋       | 226/837 [03:24<07:29,  1.36it/s]\u001b[A\n",
            " 27%|██▋       | 227/837 [03:25<07:39,  1.33it/s]\u001b[A\n",
            " 27%|██▋       | 228/837 [03:26<07:24,  1.37it/s]\u001b[A\n",
            " 27%|██▋       | 229/837 [03:26<07:10,  1.41it/s]\u001b[A\n",
            " 27%|██▋       | 230/837 [03:27<07:30,  1.35it/s]\u001b[A\n",
            " 28%|██▊       | 231/837 [03:28<07:05,  1.42it/s]\u001b[A\n",
            " 28%|██▊       | 232/837 [03:28<07:00,  1.44it/s]\u001b[A\n",
            " 28%|██▊       | 233/837 [03:29<07:05,  1.42it/s]\u001b[A\n",
            " 28%|██▊       | 234/837 [03:30<07:21,  1.37it/s]\u001b[A\n",
            " 28%|██▊       | 235/837 [03:31<07:13,  1.39it/s]\u001b[A\n",
            " 28%|██▊       | 236/837 [03:31<07:08,  1.40it/s]\u001b[A\n",
            " 28%|██▊       | 237/837 [03:32<06:52,  1.46it/s]\u001b[A\n",
            " 28%|██▊       | 238/837 [03:33<07:06,  1.41it/s]\u001b[A\n",
            " 29%|██▊       | 239/837 [03:33<06:49,  1.46it/s]\u001b[A\n",
            " 29%|██▊       | 240/837 [03:34<07:05,  1.40it/s]\u001b[A\n",
            " 29%|██▉       | 241/837 [03:35<07:17,  1.36it/s]\u001b[A\n",
            " 29%|██▉       | 242/837 [03:36<06:52,  1.44it/s]\u001b[A\n",
            " 29%|██▉       | 243/837 [03:36<06:49,  1.45it/s]\u001b[A\n",
            " 29%|██▉       | 244/837 [03:37<07:20,  1.35it/s]\u001b[A\n",
            " 29%|██▉       | 245/837 [03:38<07:04,  1.39it/s]\u001b[A\n",
            " 29%|██▉       | 246/837 [03:39<07:18,  1.35it/s]\u001b[A\n",
            " 30%|██▉       | 247/837 [03:39<07:04,  1.39it/s]\u001b[A\n",
            " 30%|██▉       | 248/837 [03:40<07:22,  1.33it/s]\u001b[A\n",
            " 30%|██▉       | 249/837 [03:41<07:28,  1.31it/s]\u001b[A\n",
            " 30%|██▉       | 250/837 [03:41<06:55,  1.41it/s]\u001b[A\n",
            " 30%|██▉       | 251/837 [03:42<07:28,  1.31it/s]\u001b[A\n",
            " 30%|███       | 252/837 [03:43<07:27,  1.31it/s]\u001b[A\n",
            " 30%|███       | 253/837 [03:44<07:32,  1.29it/s]\u001b[A\n",
            " 30%|███       | 254/837 [03:45<07:30,  1.29it/s]\u001b[A\n",
            " 30%|███       | 255/837 [03:46<07:44,  1.25it/s]\u001b[A\n",
            " 31%|███       | 256/837 [03:46<07:46,  1.24it/s]\u001b[A\n",
            " 31%|███       | 257/837 [03:47<07:48,  1.24it/s]\u001b[A\n",
            " 31%|███       | 258/837 [03:48<07:41,  1.25it/s]\u001b[A\n",
            " 31%|███       | 259/837 [03:49<08:06,  1.19it/s]\u001b[A\n",
            " 31%|███       | 260/837 [03:50<07:31,  1.28it/s]\u001b[A\n",
            " 31%|███       | 261/837 [03:50<07:09,  1.34it/s]\u001b[A\n",
            " 31%|███▏      | 262/837 [03:51<06:49,  1.40it/s]\u001b[A\n",
            " 31%|███▏      | 263/837 [03:51<06:24,  1.49it/s]\u001b[A\n",
            " 32%|███▏      | 264/837 [03:52<07:30,  1.27it/s]\u001b[A\n",
            " 32%|███▏      | 265/837 [03:53<06:57,  1.37it/s]\u001b[A\n",
            " 32%|███▏      | 266/837 [03:54<06:40,  1.43it/s]\u001b[A\n",
            " 32%|███▏      | 267/837 [03:54<06:32,  1.45it/s]\u001b[A\n",
            " 32%|███▏      | 268/837 [03:55<06:22,  1.49it/s]\u001b[A\n",
            " 32%|███▏      | 269/837 [03:56<06:11,  1.53it/s]\u001b[A\n",
            " 32%|███▏      | 270/837 [03:56<06:30,  1.45it/s]\u001b[A\n",
            " 32%|███▏      | 271/837 [03:57<06:43,  1.40it/s]\u001b[A\n",
            " 32%|███▏      | 272/837 [03:58<06:51,  1.37it/s]\u001b[A\n",
            " 33%|███▎      | 273/837 [03:58<06:25,  1.46it/s]\u001b[A\n",
            " 33%|███▎      | 274/837 [03:59<06:25,  1.46it/s]\u001b[A\n",
            " 33%|███▎      | 275/837 [04:00<06:41,  1.40it/s]\u001b[A\n",
            " 33%|███▎      | 276/837 [04:01<06:32,  1.43it/s]\u001b[A\n",
            " 33%|███▎      | 277/837 [04:01<06:19,  1.47it/s]\u001b[A\n",
            " 33%|███▎      | 278/837 [04:02<06:15,  1.49it/s]\u001b[A\n",
            " 33%|███▎      | 279/837 [04:03<06:12,  1.50it/s]\u001b[A\n",
            " 33%|███▎      | 280/837 [04:03<06:13,  1.49it/s]\u001b[A\n",
            " 34%|███▎      | 281/837 [04:04<06:45,  1.37it/s]\u001b[A\n",
            " 34%|███▎      | 282/837 [04:05<06:54,  1.34it/s]\u001b[A\n",
            " 34%|███▍      | 283/837 [04:06<06:35,  1.40it/s]\u001b[A\n",
            " 34%|███▍      | 284/837 [04:06<06:46,  1.36it/s]\u001b[A\n",
            " 34%|███▍      | 285/837 [04:07<06:32,  1.41it/s]\u001b[A\n",
            " 34%|███▍      | 286/837 [04:08<06:48,  1.35it/s]\u001b[A\n",
            " 34%|███▍      | 287/837 [04:08<06:36,  1.39it/s]\u001b[A\n",
            " 34%|███▍      | 288/837 [04:09<06:48,  1.34it/s]\u001b[A\n",
            " 35%|███▍      | 289/837 [04:10<06:33,  1.39it/s]\u001b[A\n",
            " 35%|███▍      | 290/837 [04:11<06:24,  1.42it/s]\u001b[A\n",
            " 35%|███▍      | 291/837 [04:11<06:43,  1.35it/s]\u001b[A\n",
            " 35%|███▍      | 292/837 [04:12<06:52,  1.32it/s]\u001b[A\n",
            " 35%|███▌      | 293/837 [04:13<06:34,  1.38it/s]\u001b[A\n",
            " 35%|███▌      | 294/837 [04:13<06:20,  1.43it/s]\u001b[A\n",
            " 35%|███▌      | 295/837 [04:14<06:50,  1.32it/s]\u001b[A\n",
            " 35%|███▌      | 296/837 [04:15<06:34,  1.37it/s]\u001b[A\n",
            " 35%|███▌      | 297/837 [04:16<06:52,  1.31it/s]\u001b[A\n",
            " 36%|███▌      | 298/837 [04:16<06:24,  1.40it/s]\u001b[A\n",
            " 36%|███▌      | 299/837 [04:17<06:41,  1.34it/s]\u001b[A\n",
            " 36%|███▌      | 300/837 [04:18<06:17,  1.42it/s]\u001b[A\n",
            " 36%|███▌      | 301/837 [04:19<06:33,  1.36it/s]\u001b[A\n",
            " 36%|███▌      | 302/837 [04:19<06:20,  1.40it/s]\u001b[A\n",
            " 36%|███▌      | 303/837 [04:20<06:00,  1.48it/s]\u001b[A\n",
            " 36%|███▋      | 304/837 [04:21<06:17,  1.41it/s]\u001b[A\n",
            " 36%|███▋      | 305/837 [04:21<06:18,  1.40it/s]\u001b[A\n",
            " 37%|███▋      | 306/837 [04:22<06:13,  1.42it/s]\u001b[A\n",
            " 37%|███▋      | 307/837 [04:23<06:24,  1.38it/s]\u001b[A\n",
            " 37%|███▋      | 308/837 [04:24<06:17,  1.40it/s]\u001b[A\n",
            " 37%|███▋      | 309/837 [04:24<06:07,  1.44it/s]\u001b[A\n",
            " 37%|███▋      | 310/837 [04:25<05:54,  1.49it/s]\u001b[A\n",
            " 37%|███▋      | 311/837 [04:26<06:12,  1.41it/s]\u001b[A\n",
            " 37%|███▋      | 312/837 [04:26<06:29,  1.35it/s]\u001b[A\n",
            " 37%|███▋      | 313/837 [04:27<06:37,  1.32it/s]\u001b[A\n",
            " 38%|███▊      | 314/837 [04:28<06:19,  1.38it/s]\u001b[A\n",
            " 38%|███▊      | 315/837 [04:29<06:02,  1.44it/s]\u001b[A\n",
            " 38%|███▊      | 316/837 [04:29<05:56,  1.46it/s]\u001b[A\n",
            " 38%|███▊      | 317/837 [04:30<05:51,  1.48it/s]\u001b[A\n",
            " 38%|███▊      | 318/837 [04:31<05:50,  1.48it/s]\u001b[A\n",
            " 38%|███▊      | 319/837 [04:31<06:12,  1.39it/s]\u001b[A\n",
            " 38%|███▊      | 320/837 [04:32<06:28,  1.33it/s]\u001b[A\n",
            " 38%|███▊      | 321/837 [04:33<06:31,  1.32it/s]\u001b[A\n",
            " 38%|███▊      | 322/837 [04:34<06:33,  1.31it/s]\u001b[A\n",
            " 39%|███▊      | 323/837 [04:35<06:37,  1.29it/s]\u001b[A\n",
            " 39%|███▊      | 324/837 [04:35<06:38,  1.29it/s]\u001b[A\n",
            " 39%|███▉      | 325/837 [04:36<06:40,  1.28it/s]\u001b[A\n",
            " 39%|███▉      | 326/837 [04:37<06:41,  1.27it/s]\u001b[A\n",
            " 39%|███▉      | 327/837 [04:38<06:46,  1.25it/s]\u001b[A\n",
            " 39%|███▉      | 328/837 [04:39<06:46,  1.25it/s]\u001b[A\n",
            " 39%|███▉      | 329/837 [04:39<06:45,  1.25it/s]\u001b[A\n",
            " 39%|███▉      | 330/837 [04:40<06:45,  1.25it/s]\u001b[A\n",
            " 40%|███▉      | 331/837 [04:41<06:24,  1.32it/s]\u001b[A\n",
            " 40%|███▉      | 332/837 [04:41<06:10,  1.36it/s]\u001b[A\n",
            " 40%|███▉      | 333/837 [04:42<05:51,  1.44it/s]\u001b[A\n",
            " 40%|███▉      | 334/837 [04:43<06:07,  1.37it/s]\u001b[A\n",
            " 40%|████      | 335/837 [04:44<06:10,  1.36it/s]\u001b[A\n",
            " 40%|████      | 336/837 [04:44<06:21,  1.31it/s]\u001b[A\n",
            " 40%|████      | 337/837 [04:45<06:21,  1.31it/s]\u001b[A\n",
            " 40%|████      | 338/837 [04:46<06:40,  1.25it/s]\u001b[A\n",
            " 41%|████      | 339/837 [04:47<06:41,  1.24it/s]\u001b[A\n",
            " 41%|████      | 340/837 [04:48<06:20,  1.31it/s]\u001b[A\n",
            " 41%|████      | 341/837 [04:48<06:03,  1.36it/s]\u001b[A\n",
            " 41%|████      | 342/837 [04:49<05:51,  1.41it/s]\u001b[A\n",
            " 41%|████      | 343/837 [04:50<06:06,  1.35it/s]\u001b[A\n",
            " 41%|████      | 344/837 [04:50<05:51,  1.40it/s]\u001b[A\n",
            " 41%|████      | 345/837 [04:51<06:03,  1.35it/s]\u001b[A\n",
            " 41%|████▏     | 346/837 [04:52<05:44,  1.43it/s]\u001b[A\n",
            " 41%|████▏     | 347/837 [04:53<06:00,  1.36it/s]\u001b[A\n",
            " 42%|████▏     | 348/837 [04:53<05:48,  1.40it/s]\u001b[A\n",
            " 42%|████▏     | 349/837 [04:54<05:29,  1.48it/s]\u001b[A\n",
            " 42%|████▏     | 350/837 [04:55<05:41,  1.42it/s]\u001b[A\n",
            " 42%|████▏     | 351/837 [04:55<05:35,  1.45it/s]\u001b[A\n",
            " 42%|████▏     | 352/837 [04:56<05:54,  1.37it/s]\u001b[A\n",
            " 42%|████▏     | 353/837 [04:57<06:03,  1.33it/s]\u001b[A\n",
            " 42%|████▏     | 354/837 [04:58<06:05,  1.32it/s]\u001b[A\n",
            " 42%|████▏     | 355/837 [04:59<06:12,  1.29it/s]\u001b[A\n",
            " 43%|████▎     | 356/837 [04:59<05:56,  1.35it/s]\u001b[A\n",
            " 43%|████▎     | 357/837 [05:00<05:37,  1.42it/s]\u001b[A\n",
            " 43%|████▎     | 358/837 [05:01<05:51,  1.36it/s]\u001b[A\n",
            " 43%|████▎     | 359/837 [05:01<05:32,  1.44it/s]\u001b[A\n",
            " 43%|████▎     | 360/837 [05:02<05:46,  1.37it/s]\u001b[A\n",
            " 43%|████▎     | 361/837 [05:03<05:33,  1.43it/s]\u001b[A\n",
            " 43%|████▎     | 362/837 [05:04<06:51,  1.15it/s]\u001b[A\n",
            " 43%|████▎     | 363/837 [05:05<06:48,  1.16it/s]\u001b[A\n",
            " 43%|████▎     | 364/837 [05:06<06:36,  1.19it/s]\u001b[A\n",
            " 44%|████▎     | 365/837 [05:06<06:13,  1.27it/s]\u001b[A\n",
            " 44%|████▎     | 366/837 [05:07<06:12,  1.26it/s]\u001b[A\n",
            " 44%|████▍     | 367/837 [05:08<06:10,  1.27it/s]\u001b[A\n",
            " 44%|████▍     | 368/837 [05:08<05:49,  1.34it/s]\u001b[A\n",
            " 44%|████▍     | 369/837 [05:09<05:35,  1.39it/s]\u001b[A\n",
            " 44%|████▍     | 370/837 [05:10<05:47,  1.35it/s]\u001b[A\n",
            " 44%|████▍     | 371/837 [05:11<05:54,  1.31it/s]\u001b[A\n",
            " 44%|████▍     | 372/837 [05:11<05:32,  1.40it/s]\u001b[A\n",
            " 45%|████▍     | 373/837 [05:12<05:48,  1.33it/s]\u001b[A\n",
            " 45%|████▍     | 374/837 [05:13<05:31,  1.40it/s]\u001b[A\n",
            " 45%|████▍     | 375/837 [05:13<05:19,  1.44it/s]\u001b[A\n",
            " 45%|████▍     | 376/837 [05:14<05:15,  1.46it/s]\u001b[A\n",
            " 45%|████▌     | 377/837 [05:15<05:29,  1.39it/s]\u001b[A\n",
            " 45%|████▌     | 378/837 [05:15<05:19,  1.44it/s]\u001b[A\n",
            " 45%|████▌     | 379/837 [05:16<05:04,  1.50it/s]\u001b[A\n",
            " 45%|████▌     | 380/837 [05:17<05:24,  1.41it/s]\u001b[A\n",
            " 46%|████▌     | 381/837 [05:18<05:36,  1.36it/s]\u001b[A\n",
            " 46%|████▌     | 382/837 [05:19<05:43,  1.32it/s]\u001b[A\n",
            " 46%|████▌     | 383/837 [05:19<05:28,  1.38it/s]\u001b[A\n",
            " 46%|████▌     | 384/837 [05:20<05:36,  1.35it/s]\u001b[A\n",
            " 46%|████▌     | 385/837 [05:21<05:12,  1.45it/s]\u001b[A\n",
            " 46%|████▌     | 386/837 [05:21<05:30,  1.37it/s]\u001b[A\n",
            " 46%|████▌     | 387/837 [05:22<05:12,  1.44it/s]\u001b[A\n",
            " 46%|████▋     | 388/837 [05:23<05:03,  1.48it/s]\u001b[A\n",
            " 46%|████▋     | 389/837 [05:23<05:13,  1.43it/s]\u001b[A\n",
            " 47%|████▋     | 390/837 [05:24<05:34,  1.34it/s]\u001b[A\n",
            " 47%|████▋     | 391/837 [05:25<05:19,  1.40it/s]\u001b[A\n",
            " 47%|████▋     | 392/837 [05:26<05:25,  1.37it/s]\u001b[A\n",
            " 47%|████▋     | 393/837 [05:26<05:05,  1.45it/s]\u001b[A\n",
            " 47%|████▋     | 394/837 [05:27<05:16,  1.40it/s]\u001b[A\n",
            " 47%|████▋     | 395/837 [05:29<08:59,  1.22s/it]\u001b[A\n",
            " 47%|████▋     | 396/837 [05:30<07:59,  1.09s/it]\u001b[A\n",
            " 47%|████▋     | 397/837 [05:31<07:47,  1.06s/it]\u001b[A\n",
            " 48%|████▊     | 398/837 [05:32<07:12,  1.01it/s]\u001b[A\n",
            " 48%|████▊     | 399/837 [05:33<07:13,  1.01it/s]\u001b[A\n",
            " 48%|████▊     | 400/837 [05:34<06:48,  1.07it/s]\u001b[A\n",
            " 48%|████▊     | 401/837 [05:35<06:30,  1.12it/s]\u001b[A\n",
            " 48%|████▊     | 402/837 [05:36<06:41,  1.08it/s]\u001b[A\n",
            " 48%|████▊     | 403/837 [05:36<06:33,  1.10it/s]\u001b[A\n",
            " 48%|████▊     | 404/837 [05:37<06:17,  1.15it/s]\u001b[A\n",
            " 48%|████▊     | 405/837 [05:38<06:42,  1.07it/s]\u001b[A\n",
            " 49%|████▊     | 406/837 [05:39<06:26,  1.11it/s]\u001b[A\n",
            " 49%|████▊     | 407/837 [05:40<06:19,  1.13it/s]\u001b[A\n",
            " 49%|████▊     | 408/837 [05:41<05:43,  1.25it/s]\u001b[A\n",
            " 49%|████▉     | 409/837 [05:41<05:23,  1.32it/s]\u001b[A\n",
            " 49%|████▉     | 410/837 [05:42<05:07,  1.39it/s]\u001b[A\n",
            " 49%|████▉     | 411/837 [05:43<05:17,  1.34it/s]\u001b[A\n",
            " 49%|████▉     | 412/837 [05:43<05:05,  1.39it/s]\u001b[A\n",
            " 49%|████▉     | 413/837 [05:44<04:56,  1.43it/s]\u001b[A\n",
            " 49%|████▉     | 414/837 [05:45<05:06,  1.38it/s]\u001b[A\n",
            " 50%|████▉     | 415/837 [05:46<05:11,  1.35it/s]\u001b[A\n",
            " 50%|████▉     | 416/837 [05:46<04:59,  1.41it/s]\u001b[A\n",
            " 50%|████▉     | 417/837 [05:47<05:10,  1.35it/s]\u001b[A\n",
            " 50%|████▉     | 418/837 [05:48<05:17,  1.32it/s]\u001b[A\n",
            " 50%|█████     | 419/837 [05:49<05:22,  1.30it/s]\u001b[A\n",
            " 50%|█████     | 420/837 [05:49<05:06,  1.36it/s]\u001b[A\n",
            " 50%|█████     | 421/837 [05:50<04:52,  1.42it/s]\u001b[A\n",
            " 50%|█████     | 422/837 [05:51<05:06,  1.35it/s]\u001b[A\n",
            " 51%|█████     | 423/837 [05:51<04:59,  1.38it/s]\u001b[A\n",
            " 51%|█████     | 424/837 [05:52<05:11,  1.33it/s]\u001b[A\n",
            " 51%|█████     | 425/837 [05:53<05:19,  1.29it/s]\u001b[A\n",
            " 51%|█████     | 426/837 [05:54<05:23,  1.27it/s]\u001b[A\n",
            " 51%|█████     | 427/837 [05:54<05:04,  1.35it/s]\u001b[A\n",
            " 51%|█████     | 428/837 [05:55<04:58,  1.37it/s]\u001b[A\n",
            " 51%|█████▏    | 429/837 [05:56<04:55,  1.38it/s]\u001b[A\n",
            " 51%|█████▏    | 430/837 [05:57<04:45,  1.43it/s]\u001b[A\n",
            " 51%|█████▏    | 431/837 [05:57<04:55,  1.37it/s]\u001b[A\n",
            " 52%|█████▏    | 432/837 [05:58<04:49,  1.40it/s]\u001b[A\n",
            " 52%|█████▏    | 433/837 [05:59<05:03,  1.33it/s]\u001b[A\n",
            " 52%|█████▏    | 434/837 [06:00<05:19,  1.26it/s]\u001b[A\n",
            " 52%|█████▏    | 435/837 [06:00<05:05,  1.32it/s]\u001b[A\n",
            " 52%|█████▏    | 436/837 [06:01<04:51,  1.38it/s]\u001b[A\n",
            " 52%|█████▏    | 437/837 [06:02<05:01,  1.33it/s]\u001b[A\n",
            " 52%|█████▏    | 438/837 [06:03<05:05,  1.31it/s]\u001b[A\n",
            " 52%|█████▏    | 439/837 [06:03<05:10,  1.28it/s]\u001b[A\n",
            " 53%|█████▎    | 440/837 [06:04<05:11,  1.27it/s]\u001b[A\n",
            " 53%|█████▎    | 441/837 [06:05<04:54,  1.34it/s]\u001b[A\n",
            " 53%|█████▎    | 442/837 [06:06<05:02,  1.31it/s]\u001b[A\n",
            " 53%|█████▎    | 443/837 [06:06<04:52,  1.34it/s]\u001b[A\n",
            " 53%|█████▎    | 444/837 [06:07<04:56,  1.33it/s]\u001b[A\n",
            " 53%|█████▎    | 445/837 [06:08<04:38,  1.41it/s]\u001b[A\n",
            " 53%|█████▎    | 446/837 [06:09<04:47,  1.36it/s]\u001b[A\n",
            " 53%|█████▎    | 447/837 [06:09<04:40,  1.39it/s]\u001b[A\n",
            " 54%|█████▎    | 448/837 [06:10<04:31,  1.43it/s]\u001b[A\n",
            " 54%|█████▎    | 449/837 [06:11<04:47,  1.35it/s]\u001b[A\n",
            " 54%|█████▍    | 450/837 [06:11<04:28,  1.44it/s]\u001b[A\n",
            " 54%|█████▍    | 451/837 [06:12<04:38,  1.39it/s]\u001b[A\n",
            " 54%|█████▍    | 452/837 [06:13<04:46,  1.34it/s]\u001b[A\n",
            " 54%|█████▍    | 453/837 [06:14<04:32,  1.41it/s]\u001b[A\n",
            " 54%|█████▍    | 454/837 [06:14<04:39,  1.37it/s]\u001b[A\n",
            " 54%|█████▍    | 455/837 [06:15<04:47,  1.33it/s]\u001b[A\n",
            " 54%|█████▍    | 456/837 [06:16<04:30,  1.41it/s]\u001b[A\n",
            " 55%|█████▍    | 457/837 [06:16<04:22,  1.45it/s]\u001b[A\n",
            " 55%|█████▍    | 458/837 [06:17<04:43,  1.33it/s]\u001b[A\n",
            " 55%|█████▍    | 459/837 [06:18<04:30,  1.40it/s]\u001b[A\n",
            " 55%|█████▍    | 460/837 [06:19<04:37,  1.36it/s]\u001b[A\n",
            " 55%|█████▌    | 461/837 [06:20<04:49,  1.30it/s]\u001b[A\n",
            " 55%|█████▌    | 462/837 [06:20<04:56,  1.27it/s]\u001b[A\n",
            " 55%|█████▌    | 463/837 [06:21<04:38,  1.34it/s]\u001b[A\n",
            " 55%|█████▌    | 464/837 [06:22<04:25,  1.41it/s]\u001b[A\n",
            " 56%|█████▌    | 465/837 [06:22<04:19,  1.43it/s]\u001b[A\n",
            " 56%|█████▌    | 466/837 [06:23<04:16,  1.45it/s]\u001b[A\n",
            " 56%|█████▌    | 467/837 [06:24<04:04,  1.51it/s]\u001b[A\n",
            " 56%|█████▌    | 468/837 [06:24<04:20,  1.42it/s]\u001b[A\n",
            " 56%|█████▌    | 469/837 [06:25<04:16,  1.43it/s]\u001b[A\n",
            " 56%|█████▌    | 470/837 [06:26<04:36,  1.33it/s]\u001b[A\n",
            " 56%|█████▋    | 471/837 [06:27<04:22,  1.39it/s]\u001b[A\n",
            " 56%|█████▋    | 472/837 [06:27<04:31,  1.35it/s]\u001b[A\n",
            " 57%|█████▋    | 473/837 [06:28<04:38,  1.31it/s]\u001b[A\n",
            " 57%|█████▋    | 474/837 [06:29<04:16,  1.41it/s]\u001b[A\n",
            " 57%|█████▋    | 475/837 [06:30<04:25,  1.36it/s]\u001b[A\n",
            " 57%|█████▋    | 476/837 [06:30<04:11,  1.44it/s]\u001b[A\n",
            " 57%|█████▋    | 477/837 [06:31<04:21,  1.37it/s]\u001b[A\n",
            " 57%|█████▋    | 478/837 [06:32<04:35,  1.30it/s]\u001b[A\n",
            " 57%|█████▋    | 479/837 [06:33<04:36,  1.30it/s]\u001b[A\n",
            " 57%|█████▋    | 480/837 [06:33<04:41,  1.27it/s]\u001b[A\n",
            " 57%|█████▋    | 481/837 [06:34<04:39,  1.27it/s]\u001b[A\n",
            " 58%|█████▊    | 482/837 [06:35<04:24,  1.34it/s]\u001b[A\n",
            " 58%|█████▊    | 483/837 [06:36<04:13,  1.40it/s]\u001b[A\n",
            " 58%|█████▊    | 484/837 [06:36<04:19,  1.36it/s]\u001b[A\n",
            " 58%|█████▊    | 485/837 [06:37<04:09,  1.41it/s]\u001b[A\n",
            " 58%|█████▊    | 486/837 [06:38<04:26,  1.32it/s]\u001b[A\n",
            " 58%|█████▊    | 487/837 [06:39<04:12,  1.39it/s]\u001b[A\n",
            " 58%|█████▊    | 488/837 [06:39<03:58,  1.46it/s]\u001b[A\n",
            " 58%|█████▊    | 489/837 [06:40<04:09,  1.40it/s]\u001b[A\n",
            " 59%|█████▊    | 490/837 [06:41<04:01,  1.44it/s]\u001b[A\n",
            " 59%|█████▊    | 491/837 [06:41<04:08,  1.39it/s]\u001b[A\n",
            " 59%|█████▉    | 492/837 [06:42<04:18,  1.33it/s]\u001b[A\n",
            " 59%|█████▉    | 493/837 [06:43<04:09,  1.38it/s]\u001b[A\n",
            " 59%|█████▉    | 494/837 [06:44<04:16,  1.34it/s]\u001b[A\n",
            " 59%|█████▉    | 495/837 [06:44<04:19,  1.32it/s]\u001b[A\n",
            " 59%|█████▉    | 496/837 [06:45<04:23,  1.29it/s]\u001b[A\n",
            " 59%|█████▉    | 497/837 [06:46<04:26,  1.28it/s]\u001b[A\n",
            " 59%|█████▉    | 498/837 [06:47<04:12,  1.35it/s]\u001b[A\n",
            " 60%|█████▉    | 499/837 [06:48<04:31,  1.24it/s]\u001b[A\n",
            " 60%|█████▉    | 500/837 [06:48<04:35,  1.22it/s]\u001b[A\n",
            " 60%|█████▉    | 501/837 [06:49<04:29,  1.25it/s]\u001b[A\n",
            " 60%|█████▉    | 502/837 [06:50<04:27,  1.25it/s]\u001b[A\n",
            " 60%|██████    | 503/837 [06:51<04:23,  1.27it/s]\u001b[A\n",
            " 60%|██████    | 504/837 [06:51<04:13,  1.32it/s]\u001b[A\n",
            " 60%|██████    | 505/837 [06:52<04:04,  1.36it/s]\u001b[A\n",
            " 60%|██████    | 506/837 [06:53<03:56,  1.40it/s]\u001b[A\n",
            " 61%|██████    | 507/837 [06:53<03:50,  1.43it/s]\u001b[A\n",
            " 61%|██████    | 508/837 [06:54<03:58,  1.38it/s]\u001b[A\n",
            " 61%|██████    | 509/837 [06:55<04:02,  1.35it/s]\u001b[A\n",
            " 61%|██████    | 510/837 [06:56<03:52,  1.41it/s]\u001b[A\n",
            " 61%|██████    | 511/837 [06:56<03:40,  1.48it/s]\u001b[A\n",
            " 61%|██████    | 512/837 [06:57<03:55,  1.38it/s]\u001b[A\n",
            " 61%|██████▏   | 513/837 [06:58<03:45,  1.44it/s]\u001b[A\n",
            " 61%|██████▏   | 514/837 [06:58<03:37,  1.49it/s]\u001b[A\n",
            " 62%|██████▏   | 515/837 [06:59<04:04,  1.32it/s]\u001b[A\n",
            " 62%|██████▏   | 516/837 [07:00<04:12,  1.27it/s]\u001b[A\n",
            " 62%|██████▏   | 517/837 [07:01<03:53,  1.37it/s]\u001b[A\n",
            " 62%|██████▏   | 518/837 [07:01<03:43,  1.42it/s]\u001b[A\n",
            " 62%|██████▏   | 519/837 [07:02<03:40,  1.45it/s]\u001b[A\n",
            " 62%|██████▏   | 520/837 [07:03<03:30,  1.51it/s]\u001b[A\n",
            " 62%|██████▏   | 521/837 [07:03<03:42,  1.42it/s]\u001b[A\n",
            " 62%|██████▏   | 522/837 [07:04<03:50,  1.37it/s]\u001b[A\n",
            " 62%|██████▏   | 523/837 [07:05<03:57,  1.32it/s]\u001b[A\n",
            " 63%|██████▎   | 524/837 [07:06<03:50,  1.36it/s]\u001b[A\n",
            " 63%|██████▎   | 525/837 [07:06<03:36,  1.44it/s]\u001b[A\n",
            " 63%|██████▎   | 526/837 [07:07<03:35,  1.44it/s]\u001b[A\n",
            " 63%|██████▎   | 527/837 [07:08<03:44,  1.38it/s]\u001b[A\n",
            " 63%|██████▎   | 528/837 [07:09<03:53,  1.32it/s]\u001b[A\n",
            " 63%|██████▎   | 529/837 [07:09<03:56,  1.30it/s]\u001b[A\n",
            " 63%|██████▎   | 530/837 [07:10<03:39,  1.40it/s]\u001b[A\n",
            " 63%|██████▎   | 531/837 [07:11<03:45,  1.35it/s]\u001b[A\n",
            " 64%|██████▎   | 532/837 [07:11<03:35,  1.41it/s]\u001b[A\n",
            " 64%|██████▎   | 533/837 [07:12<03:40,  1.38it/s]\u001b[A\n",
            " 64%|██████▍   | 534/837 [07:13<03:46,  1.34it/s]\u001b[A\n",
            " 64%|██████▍   | 535/837 [07:14<03:49,  1.32it/s]\u001b[A\n",
            " 64%|██████▍   | 536/837 [07:15<03:46,  1.33it/s]\u001b[A\n",
            " 64%|██████▍   | 537/837 [07:16<04:04,  1.23it/s]\u001b[A\n",
            " 64%|██████▍   | 538/837 [07:16<04:02,  1.23it/s]\u001b[A\n",
            " 64%|██████▍   | 539/837 [07:17<03:45,  1.32it/s]\u001b[A\n",
            " 65%|██████▍   | 540/837 [07:18<03:48,  1.30it/s]\u001b[A\n",
            " 65%|██████▍   | 541/837 [07:19<03:50,  1.28it/s]\u001b[A\n",
            " 65%|██████▍   | 542/837 [07:19<03:32,  1.39it/s]\u001b[A\n",
            " 65%|██████▍   | 543/837 [07:20<03:38,  1.35it/s]\u001b[A\n",
            " 65%|██████▍   | 544/837 [07:21<03:29,  1.40it/s]\u001b[A\n",
            " 65%|██████▌   | 545/837 [07:21<03:34,  1.36it/s]\u001b[A\n",
            " 65%|██████▌   | 546/837 [07:22<03:39,  1.32it/s]\u001b[A\n",
            " 65%|██████▌   | 547/837 [07:23<03:30,  1.38it/s]\u001b[A\n",
            " 65%|██████▌   | 548/837 [07:24<03:32,  1.36it/s]\u001b[A\n",
            " 66%|██████▌   | 549/837 [07:24<03:38,  1.32it/s]\u001b[A\n",
            " 66%|██████▌   | 550/837 [07:25<03:25,  1.40it/s]\u001b[A\n",
            " 66%|██████▌   | 551/837 [07:26<03:37,  1.32it/s]\u001b[A\n",
            " 66%|██████▌   | 552/837 [07:27<03:40,  1.29it/s]\u001b[A\n",
            " 66%|██████▌   | 553/837 [07:27<03:32,  1.33it/s]\u001b[A\n",
            " 66%|██████▌   | 554/837 [07:28<03:21,  1.41it/s]\u001b[A\n",
            " 66%|██████▋   | 555/837 [07:29<03:26,  1.37it/s]\u001b[A\n",
            " 66%|██████▋   | 556/837 [07:29<03:21,  1.39it/s]\u001b[A\n",
            " 67%|██████▋   | 557/837 [07:30<03:25,  1.36it/s]\u001b[A\n",
            " 67%|██████▋   | 558/837 [07:31<03:31,  1.32it/s]\u001b[A\n",
            " 67%|██████▋   | 559/837 [07:32<03:35,  1.29it/s]\u001b[A\n",
            " 67%|██████▋   | 560/837 [07:33<03:36,  1.28it/s]\u001b[A\n",
            " 67%|██████▋   | 561/837 [07:33<03:37,  1.27it/s]\u001b[A\n",
            " 67%|██████▋   | 562/837 [07:34<03:24,  1.35it/s]\u001b[A\n",
            " 67%|██████▋   | 563/837 [07:35<03:10,  1.44it/s]\u001b[A\n",
            " 67%|██████▋   | 564/837 [07:35<03:10,  1.43it/s]\u001b[A\n",
            " 68%|██████▊   | 565/837 [07:36<03:20,  1.36it/s]\u001b[A\n",
            " 68%|██████▊   | 566/837 [07:37<03:17,  1.38it/s]\u001b[A\n",
            " 68%|██████▊   | 567/837 [07:38<03:20,  1.35it/s]\u001b[A\n",
            " 68%|██████▊   | 568/837 [07:38<03:08,  1.43it/s]\u001b[A\n",
            " 68%|██████▊   | 569/837 [07:39<03:15,  1.37it/s]\u001b[A\n",
            " 68%|██████▊   | 570/837 [07:40<03:19,  1.34it/s]\u001b[A\n",
            " 68%|██████▊   | 571/837 [07:41<03:20,  1.33it/s]\u001b[A\n",
            " 68%|██████▊   | 572/837 [07:41<03:24,  1.30it/s]\u001b[A\n",
            " 68%|██████▊   | 573/837 [07:42<03:26,  1.28it/s]\u001b[A\n",
            " 69%|██████▊   | 574/837 [07:43<03:25,  1.28it/s]\u001b[A\n",
            " 69%|██████▊   | 575/837 [07:44<03:27,  1.26it/s]\u001b[A\n",
            " 69%|██████▉   | 576/837 [07:45<03:15,  1.34it/s]\u001b[A\n",
            " 69%|██████▉   | 577/837 [07:45<03:09,  1.37it/s]\u001b[A\n",
            " 69%|██████▉   | 578/837 [07:46<03:20,  1.29it/s]\u001b[A\n",
            " 69%|██████▉   | 579/837 [07:47<03:21,  1.28it/s]\u001b[A\n",
            " 69%|██████▉   | 580/837 [07:48<03:13,  1.33it/s]\u001b[A\n",
            " 69%|██████▉   | 581/837 [07:48<03:06,  1.37it/s]\u001b[A\n",
            " 70%|██████▉   | 582/837 [07:49<02:54,  1.46it/s]\u001b[A\n",
            " 70%|██████▉   | 583/837 [07:50<02:54,  1.45it/s]\u001b[A\n",
            " 70%|██████▉   | 584/837 [07:50<02:50,  1.49it/s]\u001b[A\n",
            " 70%|██████▉   | 585/837 [07:51<03:02,  1.38it/s]\u001b[A\n",
            " 70%|███████   | 586/837 [07:52<02:51,  1.47it/s]\u001b[A\n",
            " 70%|███████   | 587/837 [07:52<03:03,  1.36it/s]\u001b[A\n",
            " 70%|███████   | 588/837 [07:53<02:56,  1.41it/s]\u001b[A\n",
            " 70%|███████   | 589/837 [07:54<02:50,  1.46it/s]\u001b[A\n",
            " 70%|███████   | 590/837 [07:55<03:01,  1.36it/s]\u001b[A\n",
            " 71%|███████   | 591/837 [07:55<03:06,  1.32it/s]\u001b[A\n",
            " 71%|███████   | 592/837 [07:56<03:11,  1.28it/s]\u001b[A\n",
            " 71%|███████   | 593/837 [07:57<02:59,  1.36it/s]\u001b[A\n",
            " 71%|███████   | 594/837 [07:57<02:52,  1.41it/s]\u001b[A\n",
            " 71%|███████   | 595/837 [07:58<02:57,  1.36it/s]\u001b[A\n",
            " 71%|███████   | 596/837 [07:59<02:49,  1.42it/s]\u001b[A\n",
            " 71%|███████▏  | 597/837 [08:00<02:44,  1.46it/s]\u001b[A\n",
            " 71%|███████▏  | 598/837 [08:00<02:55,  1.36it/s]\u001b[A\n",
            " 72%|███████▏  | 599/837 [08:01<02:51,  1.39it/s]\u001b[A\n",
            " 72%|███████▏  | 600/837 [08:02<03:03,  1.29it/s]\u001b[A\n",
            " 72%|███████▏  | 601/837 [08:03<03:03,  1.29it/s]\u001b[A\n",
            " 72%|███████▏  | 602/837 [08:04<03:01,  1.29it/s]\u001b[A\n",
            " 72%|███████▏  | 603/837 [08:04<03:02,  1.28it/s]\u001b[A\n",
            " 72%|███████▏  | 604/837 [08:05<03:02,  1.27it/s]\u001b[A\n",
            " 72%|███████▏  | 605/837 [08:06<03:02,  1.27it/s]\u001b[A\n",
            " 72%|███████▏  | 606/837 [08:07<03:02,  1.26it/s]\u001b[A\n",
            " 73%|███████▎  | 607/837 [08:08<03:04,  1.25it/s]\u001b[A\n",
            " 73%|███████▎  | 608/837 [08:08<02:51,  1.34it/s]\u001b[A\n",
            " 73%|███████▎  | 609/837 [08:09<02:42,  1.40it/s]\u001b[A\n",
            " 73%|███████▎  | 610/837 [08:09<02:38,  1.44it/s]\u001b[A\n",
            " 73%|███████▎  | 611/837 [08:10<02:33,  1.47it/s]\u001b[A\n",
            " 73%|███████▎  | 612/837 [08:11<02:27,  1.52it/s]\u001b[A\n",
            " 73%|███████▎  | 613/837 [08:12<02:37,  1.42it/s]\u001b[A\n",
            " 73%|███████▎  | 614/837 [08:12<02:41,  1.38it/s]\u001b[A\n",
            " 73%|███████▎  | 615/837 [08:13<02:50,  1.30it/s]\u001b[A\n",
            " 74%|███████▎  | 616/837 [08:14<02:43,  1.35it/s]\u001b[A\n",
            " 74%|███████▎  | 617/837 [08:15<02:52,  1.28it/s]\u001b[A\n",
            " 74%|███████▍  | 618/837 [08:16<02:52,  1.27it/s]\u001b[A\n",
            " 74%|███████▍  | 619/837 [08:16<02:51,  1.27it/s]\u001b[A\n",
            " 74%|███████▍  | 620/837 [08:17<02:50,  1.28it/s]\u001b[A\n",
            " 74%|███████▍  | 621/837 [08:18<02:40,  1.35it/s]\u001b[A\n",
            " 74%|███████▍  | 622/837 [08:19<02:41,  1.33it/s]\u001b[A\n",
            " 74%|███████▍  | 623/837 [08:19<02:35,  1.37it/s]\u001b[A\n",
            " 75%|███████▍  | 624/837 [08:20<02:38,  1.34it/s]\u001b[A\n",
            " 75%|███████▍  | 625/837 [08:21<02:35,  1.36it/s]\u001b[A\n",
            " 75%|███████▍  | 626/837 [08:21<02:39,  1.33it/s]\u001b[A\n",
            " 75%|███████▍  | 627/837 [08:22<02:28,  1.41it/s]\u001b[A\n",
            " 75%|███████▌  | 628/837 [08:23<02:35,  1.35it/s]\u001b[A\n",
            " 75%|███████▌  | 629/837 [08:24<02:29,  1.39it/s]\u001b[A\n",
            " 75%|███████▌  | 630/837 [08:24<02:25,  1.42it/s]\u001b[A\n",
            " 75%|███████▌  | 631/837 [08:25<02:19,  1.48it/s]\u001b[A\n",
            " 76%|███████▌  | 632/837 [08:25<02:17,  1.49it/s]\u001b[A\n",
            " 76%|███████▌  | 633/837 [08:26<02:17,  1.48it/s]\u001b[A\n",
            " 76%|███████▌  | 634/837 [08:27<02:24,  1.40it/s]\u001b[A\n",
            " 76%|███████▌  | 635/837 [08:28<02:31,  1.33it/s]\u001b[A\n",
            " 76%|███████▌  | 636/837 [08:29<02:36,  1.28it/s]\u001b[A\n",
            " 76%|███████▌  | 637/837 [08:29<02:37,  1.27it/s]\u001b[A\n",
            " 76%|███████▌  | 638/837 [08:30<02:25,  1.36it/s]\u001b[A\n",
            " 76%|███████▋  | 639/837 [08:31<02:16,  1.45it/s]\u001b[A\n",
            " 76%|███████▋  | 640/837 [08:31<02:14,  1.47it/s]\u001b[A\n",
            " 77%|███████▋  | 641/837 [08:32<02:21,  1.39it/s]\u001b[A\n",
            " 77%|███████▋  | 642/837 [08:33<02:16,  1.43it/s]\u001b[A\n",
            " 77%|███████▋  | 643/837 [08:34<02:20,  1.38it/s]\u001b[A\n",
            " 77%|███████▋  | 644/837 [08:34<02:26,  1.32it/s]\u001b[A\n",
            " 77%|███████▋  | 645/837 [08:35<02:29,  1.28it/s]\u001b[A\n",
            " 77%|███████▋  | 646/837 [08:36<02:28,  1.29it/s]\u001b[A\n",
            " 77%|███████▋  | 647/837 [08:37<02:27,  1.29it/s]\u001b[A\n",
            " 77%|███████▋  | 648/837 [08:38<02:28,  1.28it/s]\u001b[A\n",
            " 78%|███████▊  | 649/837 [08:38<02:28,  1.26it/s]\u001b[A\n",
            " 78%|███████▊  | 650/837 [08:39<02:20,  1.33it/s]\u001b[A\n",
            " 78%|███████▊  | 651/837 [08:40<02:10,  1.43it/s]\u001b[A\n",
            " 78%|███████▊  | 652/837 [08:40<02:14,  1.38it/s]\u001b[A\n",
            " 78%|███████▊  | 653/837 [08:42<02:53,  1.06it/s]\u001b[A\n",
            " 78%|███████▊  | 654/837 [08:43<02:37,  1.16it/s]\u001b[A\n",
            " 78%|███████▊  | 655/837 [08:43<02:23,  1.27it/s]\u001b[A\n",
            " 78%|███████▊  | 656/837 [08:44<02:22,  1.27it/s]\u001b[A\n",
            " 78%|███████▊  | 657/837 [08:45<02:15,  1.33it/s]\u001b[A\n",
            " 79%|███████▊  | 658/837 [08:45<02:16,  1.31it/s]\u001b[A\n",
            " 79%|███████▊  | 659/837 [08:46<02:08,  1.38it/s]\u001b[A\n",
            " 79%|███████▉  | 660/837 [08:47<02:04,  1.42it/s]\u001b[A\n",
            " 79%|███████▉  | 661/837 [08:47<02:07,  1.38it/s]\u001b[A\n",
            " 79%|███████▉  | 662/837 [08:48<02:10,  1.35it/s]\u001b[A\n",
            " 79%|███████▉  | 663/837 [08:49<02:12,  1.32it/s]\u001b[A\n",
            " 79%|███████▉  | 664/837 [08:50<02:05,  1.38it/s]\u001b[A\n",
            " 79%|███████▉  | 665/837 [08:50<02:01,  1.42it/s]\u001b[A\n",
            " 80%|███████▉  | 666/837 [08:51<02:05,  1.36it/s]\u001b[A\n",
            " 80%|███████▉  | 667/837 [08:52<01:59,  1.42it/s]\u001b[A\n",
            " 80%|███████▉  | 668/837 [08:52<01:52,  1.50it/s]\u001b[A\n",
            " 80%|███████▉  | 669/837 [08:53<01:57,  1.43it/s]\u001b[A\n",
            " 80%|████████  | 670/837 [08:54<01:51,  1.50it/s]\u001b[A\n",
            " 80%|████████  | 671/837 [08:54<01:47,  1.54it/s]\u001b[A\n",
            " 80%|████████  | 672/837 [08:55<01:48,  1.53it/s]\u001b[A\n",
            " 80%|████████  | 673/837 [08:56<01:47,  1.53it/s]\u001b[A\n",
            " 81%|████████  | 674/837 [08:56<01:52,  1.45it/s]\u001b[A\n",
            " 81%|████████  | 675/837 [08:57<01:47,  1.51it/s]\u001b[A\n",
            " 81%|████████  | 676/837 [08:58<01:55,  1.40it/s]\u001b[A\n",
            " 81%|████████  | 677/837 [08:58<01:48,  1.48it/s]\u001b[A\n",
            " 81%|████████  | 678/837 [08:59<01:52,  1.41it/s]\u001b[A\n",
            " 81%|████████  | 679/837 [09:00<01:48,  1.45it/s]\u001b[A\n",
            " 81%|████████  | 680/837 [09:01<01:52,  1.40it/s]\u001b[A\n",
            " 81%|████████▏ | 681/837 [09:01<01:46,  1.46it/s]\u001b[A\n",
            " 81%|████████▏ | 682/837 [09:02<01:53,  1.37it/s]\u001b[A\n",
            " 82%|████████▏ | 683/837 [09:03<01:55,  1.33it/s]\u001b[A\n",
            " 82%|████████▏ | 684/837 [09:04<01:49,  1.39it/s]\u001b[A\n",
            " 82%|████████▏ | 685/837 [09:04<01:52,  1.35it/s]\u001b[A\n",
            " 82%|████████▏ | 686/837 [09:05<01:47,  1.40it/s]\u001b[A\n",
            " 82%|████████▏ | 687/837 [09:06<01:51,  1.34it/s]\u001b[A\n",
            " 82%|████████▏ | 688/837 [09:06<01:46,  1.40it/s]\u001b[A\n",
            " 82%|████████▏ | 689/837 [09:07<01:48,  1.37it/s]\u001b[A\n",
            " 82%|████████▏ | 690/837 [09:08<01:50,  1.33it/s]\u001b[A\n",
            " 83%|████████▎ | 691/837 [09:09<01:46,  1.37it/s]\u001b[A\n",
            " 83%|████████▎ | 692/837 [09:10<01:48,  1.33it/s]\u001b[A\n",
            " 83%|████████▎ | 693/837 [09:10<01:48,  1.32it/s]\u001b[A\n",
            " 83%|████████▎ | 694/837 [09:11<01:44,  1.37it/s]\u001b[A\n",
            " 83%|████████▎ | 695/837 [09:12<01:49,  1.30it/s]\u001b[A\n",
            " 83%|████████▎ | 696/837 [09:13<01:50,  1.28it/s]\u001b[A\n",
            " 83%|████████▎ | 697/837 [09:13<01:45,  1.33it/s]\u001b[A\n",
            " 83%|████████▎ | 698/837 [09:14<01:39,  1.40it/s]\u001b[A\n",
            " 84%|████████▎ | 699/837 [09:15<01:33,  1.48it/s]\u001b[A\n",
            " 84%|████████▎ | 700/837 [09:15<01:35,  1.43it/s]\u001b[A\n",
            " 84%|████████▍ | 701/837 [09:16<01:40,  1.35it/s]\u001b[A\n",
            " 84%|████████▍ | 702/837 [09:17<01:42,  1.32it/s]\u001b[A\n",
            " 84%|████████▍ | 703/837 [09:18<01:37,  1.37it/s]\u001b[A\n",
            " 84%|████████▍ | 704/837 [09:18<01:38,  1.35it/s]\u001b[A\n",
            " 84%|████████▍ | 705/837 [09:19<01:38,  1.34it/s]\u001b[A\n",
            " 84%|████████▍ | 706/837 [09:20<01:36,  1.36it/s]\u001b[A\n",
            " 84%|████████▍ | 707/837 [09:21<01:37,  1.33it/s]\u001b[A\n",
            " 85%|████████▍ | 708/837 [09:21<01:40,  1.28it/s]\u001b[A\n",
            " 85%|████████▍ | 709/837 [09:23<02:06,  1.01it/s]\u001b[A\n",
            " 85%|████████▍ | 710/837 [09:24<01:58,  1.07it/s]\u001b[A\n",
            " 85%|████████▍ | 711/837 [09:24<01:47,  1.17it/s]\u001b[A\n",
            " 85%|████████▌ | 712/837 [09:25<01:38,  1.27it/s]\u001b[A\n",
            " 85%|████████▌ | 713/837 [09:26<01:37,  1.28it/s]\u001b[A\n",
            " 85%|████████▌ | 714/837 [09:27<01:35,  1.28it/s]\u001b[A\n",
            " 85%|████████▌ | 715/837 [09:27<01:33,  1.30it/s]\u001b[A\n",
            " 86%|████████▌ | 716/837 [09:28<01:33,  1.30it/s]\u001b[A\n",
            " 86%|████████▌ | 717/837 [09:29<01:28,  1.36it/s]\u001b[A\n",
            " 86%|████████▌ | 718/837 [09:29<01:24,  1.41it/s]\u001b[A\n",
            " 86%|████████▌ | 719/837 [09:30<01:28,  1.34it/s]\u001b[A\n",
            " 86%|████████▌ | 720/837 [09:31<01:23,  1.40it/s]\u001b[A\n",
            " 86%|████████▌ | 721/837 [09:32<01:25,  1.36it/s]\u001b[A\n",
            " 86%|████████▋ | 722/837 [09:32<01:28,  1.30it/s]\u001b[A\n",
            " 86%|████████▋ | 723/837 [09:33<01:28,  1.28it/s]\u001b[A\n",
            " 86%|████████▋ | 724/837 [09:34<01:23,  1.36it/s]\u001b[A\n",
            " 87%|████████▋ | 725/837 [09:35<01:23,  1.34it/s]\u001b[A\n",
            " 87%|████████▋ | 726/837 [09:35<01:19,  1.40it/s]\u001b[A\n",
            " 87%|████████▋ | 727/837 [09:36<01:21,  1.36it/s]\u001b[A\n",
            " 87%|████████▋ | 728/837 [09:37<01:17,  1.41it/s]\u001b[A\n",
            " 87%|████████▋ | 729/837 [09:38<01:22,  1.31it/s]\u001b[A\n",
            " 87%|████████▋ | 730/837 [09:38<01:22,  1.30it/s]\u001b[A\n",
            " 87%|████████▋ | 731/837 [09:39<01:24,  1.26it/s]\u001b[A\n",
            " 87%|████████▋ | 732/837 [09:40<01:19,  1.32it/s]\u001b[A\n",
            " 88%|████████▊ | 733/837 [09:41<01:15,  1.38it/s]\u001b[A\n",
            " 88%|████████▊ | 734/837 [09:41<01:17,  1.34it/s]\u001b[A\n",
            " 88%|████████▊ | 735/837 [09:42<01:17,  1.31it/s]\u001b[A\n",
            " 88%|████████▊ | 736/837 [09:43<01:17,  1.31it/s]\u001b[A\n",
            " 88%|████████▊ | 737/837 [09:44<01:17,  1.29it/s]\u001b[A\n",
            " 88%|████████▊ | 738/837 [09:44<01:13,  1.34it/s]\u001b[A\n",
            " 88%|████████▊ | 739/837 [09:45<01:16,  1.29it/s]\u001b[A\n",
            " 88%|████████▊ | 740/837 [09:46<01:11,  1.36it/s]\u001b[A\n",
            " 89%|████████▊ | 741/837 [09:47<01:12,  1.32it/s]\u001b[A\n",
            " 89%|████████▊ | 742/837 [09:48<01:13,  1.29it/s]\u001b[A\n",
            " 89%|████████▉ | 743/837 [09:48<01:13,  1.29it/s]\u001b[A\n",
            " 89%|████████▉ | 744/837 [09:49<01:13,  1.27it/s]\u001b[A\n",
            " 89%|████████▉ | 745/837 [09:50<01:12,  1.26it/s]\u001b[A\n",
            " 89%|████████▉ | 746/837 [09:51<01:13,  1.23it/s]\u001b[A\n",
            " 89%|████████▉ | 747/837 [09:52<01:09,  1.29it/s]\u001b[A\n",
            " 89%|████████▉ | 748/837 [09:52<01:05,  1.37it/s]\u001b[A\n",
            " 89%|████████▉ | 749/837 [09:53<01:02,  1.42it/s]\u001b[A\n",
            " 90%|████████▉ | 750/837 [09:54<01:03,  1.36it/s]\u001b[A\n",
            " 90%|████████▉ | 751/837 [09:54<01:01,  1.41it/s]\u001b[A\n",
            " 90%|████████▉ | 752/837 [09:55<01:01,  1.37it/s]\u001b[A\n",
            " 90%|████████▉ | 753/837 [09:56<01:02,  1.34it/s]\u001b[A\n",
            " 90%|█████████ | 754/837 [09:57<01:04,  1.30it/s]\u001b[A\n",
            " 90%|█████████ | 755/837 [09:57<01:04,  1.28it/s]\u001b[A\n",
            " 90%|█████████ | 756/837 [09:58<01:03,  1.28it/s]\u001b[A\n",
            " 90%|█████████ | 757/837 [09:59<01:02,  1.29it/s]\u001b[A\n",
            " 91%|█████████ | 758/837 [10:00<01:01,  1.29it/s]\u001b[A\n",
            " 91%|█████████ | 759/837 [10:01<01:01,  1.28it/s]\u001b[A\n",
            " 91%|█████████ | 760/837 [10:01<01:01,  1.25it/s]\u001b[A\n",
            " 91%|█████████ | 761/837 [10:02<00:56,  1.34it/s]\u001b[A\n",
            " 91%|█████████ | 762/837 [10:03<00:52,  1.44it/s]\u001b[A\n",
            " 91%|█████████ | 763/837 [10:03<00:49,  1.51it/s]\u001b[A\n",
            " 91%|█████████▏| 764/837 [10:04<00:47,  1.52it/s]\u001b[A\n",
            " 91%|█████████▏| 765/837 [10:05<00:50,  1.43it/s]\u001b[A\n",
            " 92%|█████████▏| 766/837 [10:05<00:47,  1.49it/s]\u001b[A\n",
            " 92%|█████████▏| 767/837 [10:06<00:46,  1.50it/s]\u001b[A\n",
            " 92%|█████████▏| 768/837 [10:07<00:48,  1.41it/s]\u001b[A\n",
            " 92%|█████████▏| 769/837 [10:08<00:50,  1.34it/s]\u001b[A\n",
            " 92%|█████████▏| 770/837 [10:08<00:50,  1.31it/s]\u001b[A\n",
            " 92%|█████████▏| 771/837 [10:09<00:50,  1.30it/s]\u001b[A\n",
            " 92%|█████████▏| 772/837 [10:10<00:47,  1.36it/s]\u001b[A\n",
            " 92%|█████████▏| 773/837 [10:10<00:46,  1.38it/s]\u001b[A\n",
            " 92%|█████████▏| 774/837 [10:11<00:43,  1.44it/s]\u001b[A\n",
            " 93%|█████████▎| 775/837 [10:12<00:41,  1.50it/s]\u001b[A\n",
            " 93%|█████████▎| 776/837 [10:13<00:44,  1.38it/s]\u001b[A\n",
            " 93%|█████████▎| 777/837 [10:13<00:41,  1.45it/s]\u001b[A\n",
            " 93%|█████████▎| 778/837 [10:14<00:39,  1.51it/s]\u001b[A\n",
            " 93%|█████████▎| 779/837 [10:15<00:40,  1.44it/s]\u001b[A\n",
            " 93%|█████████▎| 780/837 [10:15<00:41,  1.38it/s]\u001b[A\n",
            " 93%|█████████▎| 781/837 [10:16<00:38,  1.45it/s]\u001b[A\n",
            " 93%|█████████▎| 782/837 [10:17<00:39,  1.39it/s]\u001b[A\n",
            " 94%|█████████▎| 783/837 [10:17<00:36,  1.47it/s]\u001b[A\n",
            " 94%|█████████▎| 784/837 [10:18<00:34,  1.53it/s]\u001b[A\n",
            " 94%|█████████▍| 785/837 [10:19<00:34,  1.50it/s]\u001b[A\n",
            " 94%|█████████▍| 786/837 [10:19<00:36,  1.41it/s]\u001b[A\n",
            " 94%|█████████▍| 787/837 [10:20<00:36,  1.35it/s]\u001b[A\n",
            " 94%|█████████▍| 788/837 [10:21<00:36,  1.33it/s]\u001b[A\n",
            " 94%|█████████▍| 789/837 [10:22<00:37,  1.28it/s]\u001b[A\n",
            " 94%|█████████▍| 790/837 [10:23<00:37,  1.25it/s]\u001b[A\n",
            " 95%|█████████▍| 791/837 [10:24<00:37,  1.21it/s]\u001b[A\n",
            " 95%|█████████▍| 792/837 [10:24<00:34,  1.31it/s]\u001b[A\n",
            " 95%|█████████▍| 793/837 [10:25<00:32,  1.37it/s]\u001b[A\n",
            " 95%|█████████▍| 794/837 [10:26<00:31,  1.35it/s]\u001b[A\n",
            " 95%|█████████▍| 795/837 [10:26<00:31,  1.32it/s]\u001b[A\n",
            " 95%|█████████▌| 796/837 [10:27<00:29,  1.37it/s]\u001b[A\n",
            " 95%|█████████▌| 797/837 [10:28<00:30,  1.30it/s]\u001b[A\n",
            " 95%|█████████▌| 798/837 [10:29<00:30,  1.27it/s]\u001b[A\n",
            " 95%|█████████▌| 799/837 [10:30<00:30,  1.26it/s]\u001b[A\n",
            " 96%|█████████▌| 800/837 [10:30<00:30,  1.23it/s]\u001b[A\n",
            " 96%|█████████▌| 801/837 [10:31<00:26,  1.33it/s]\u001b[A\n",
            " 96%|█████████▌| 802/837 [10:32<00:26,  1.31it/s]\u001b[A\n",
            " 96%|█████████▌| 803/837 [10:32<00:24,  1.36it/s]\u001b[A\n",
            " 96%|█████████▌| 804/837 [10:33<00:25,  1.31it/s]\u001b[A\n",
            " 96%|█████████▌| 805/837 [10:34<00:23,  1.37it/s]\u001b[A\n",
            " 96%|█████████▋| 806/837 [10:35<00:21,  1.45it/s]\u001b[A\n",
            " 96%|█████████▋| 807/837 [10:35<00:20,  1.46it/s]\u001b[A\n",
            " 97%|█████████▋| 808/837 [10:36<00:21,  1.38it/s]\u001b[A\n",
            " 97%|█████████▋| 809/837 [10:37<00:20,  1.35it/s]\u001b[A\n",
            " 97%|█████████▋| 810/837 [10:38<00:20,  1.34it/s]\u001b[A\n",
            " 97%|█████████▋| 811/837 [10:38<00:19,  1.32it/s]\u001b[A\n",
            " 97%|█████████▋| 812/837 [10:39<00:19,  1.28it/s]\u001b[A\n",
            " 97%|█████████▋| 813/837 [10:40<00:18,  1.27it/s]\u001b[A\n",
            " 97%|█████████▋| 814/837 [10:41<00:17,  1.33it/s]\u001b[A\n",
            " 97%|█████████▋| 815/837 [10:41<00:15,  1.38it/s]\u001b[A\n",
            " 97%|█████████▋| 816/837 [10:42<00:14,  1.43it/s]\u001b[A\n",
            " 98%|█████████▊| 817/837 [10:43<00:13,  1.46it/s]\u001b[A\n",
            " 98%|█████████▊| 818/837 [10:43<00:12,  1.49it/s]\u001b[A\n",
            " 98%|█████████▊| 819/837 [10:44<00:12,  1.49it/s]\u001b[A\n",
            " 98%|█████████▊| 820/837 [10:45<00:11,  1.50it/s]\u001b[A\n",
            " 98%|█████████▊| 821/837 [10:45<00:10,  1.52it/s]\u001b[A\n",
            " 98%|█████████▊| 822/837 [10:46<00:10,  1.45it/s]\u001b[A\n",
            " 98%|█████████▊| 823/837 [10:47<00:10,  1.38it/s]\u001b[A\n",
            " 98%|█████████▊| 824/837 [10:48<00:09,  1.32it/s]\u001b[A\n",
            " 99%|█████████▊| 825/837 [10:48<00:08,  1.40it/s]\u001b[A\n",
            " 99%|█████████▊| 826/837 [10:49<00:08,  1.36it/s]\u001b[A\n",
            " 99%|█████████▉| 827/837 [10:50<00:06,  1.43it/s]\u001b[A\n",
            " 99%|█████████▉| 828/837 [10:50<00:06,  1.44it/s]\u001b[A\n",
            " 99%|█████████▉| 829/837 [10:51<00:05,  1.39it/s]\u001b[A\n",
            " 99%|█████████▉| 830/837 [10:52<00:04,  1.47it/s]\u001b[A\n",
            " 99%|█████████▉| 831/837 [10:52<00:03,  1.53it/s]\u001b[A\n",
            " 99%|█████████▉| 832/837 [10:53<00:03,  1.56it/s]\u001b[A\n",
            "100%|█████████▉| 833/837 [10:54<00:02,  1.56it/s]\u001b[A\n",
            "100%|█████████▉| 834/837 [10:54<00:02,  1.46it/s]\u001b[A\n",
            "100%|█████████▉| 835/837 [10:55<00:01,  1.39it/s]\u001b[A\n",
            "100%|█████████▉| 836/837 [10:56<00:00,  1.45it/s]\u001b[A\n",
            "100%|██████████| 837/837 [10:56<00:00,  1.27it/s]\n"
          ]
        }
      ]
    },
    {
      "cell_type": "code",
      "source": [
        "y_gender_test = np.array(df_test['gender'])"
      ],
      "metadata": {
        "id": "gqD9-rKD_1Zu"
      },
      "execution_count": null,
      "outputs": []
    },
    {
      "cell_type": "code",
      "source": [
        "df_test['race'].value_counts()"
      ],
      "metadata": {
        "colab": {
          "base_uri": "https://localhost:8080/"
        },
        "id": "AhvvWRERnCUd",
        "outputId": "ac9b2918-aae6-4678-acc0-dc0a4af7ef84"
      },
      "execution_count": null,
      "outputs": [
        {
          "output_type": "execute_result",
          "data": {
            "text/plain": [
              "2    200\n",
              "0    200\n",
              "3    200\n",
              "4    200\n",
              "1    200\n",
              "Name: race, dtype: int64"
            ]
          },
          "metadata": {},
          "execution_count": 101
        }
      ]
    },
    {
      "cell_type": "code",
      "source": [
        "df_test['gender'].value_counts()"
      ],
      "metadata": {
        "colab": {
          "base_uri": "https://localhost:8080/"
        },
        "id": "v0CaBJdPnFtM",
        "outputId": "795d4cf2-52dd-461c-85aa-2c92efae681e"
      },
      "execution_count": null,
      "outputs": [
        {
          "output_type": "execute_result",
          "data": {
            "text/plain": [
              "1    550\n",
              "0    450\n",
              "Name: gender, dtype: int64"
            ]
          },
          "metadata": {},
          "execution_count": 102
        }
      ]
    },
    {
      "cell_type": "code",
      "source": [
        "test_images = np.array(test_images)"
      ],
      "metadata": {
        "id": "coZq83REZ2uN"
      },
      "execution_count": null,
      "outputs": []
    },
    {
      "cell_type": "code",
      "source": [
        "predictions_gender = []\n",
        "for i in tqdm(test_images):\n",
        "  pred = model.predict(i.reshape(1, 64, 64, 3))\n",
        "  pred_gender = round(pred[0][0])\n",
        "\n",
        "  predictions_gender.append(pred_gender)"
      ],
      "metadata": {
        "colab": {
          "base_uri": "https://localhost:8080/"
        },
        "id": "2AJl8zbF_5kf",
        "outputId": "a758816c-2373-4d2a-8d9d-48a265e641b3"
      },
      "execution_count": null,
      "outputs": [
        {
          "output_type": "stream",
          "name": "stderr",
          "text": [
            "\n",
            "  0%|          | 0/1000 [00:00<?, ?it/s]\u001b[A\n",
            "  0%|          | 2/1000 [00:00<01:06, 14.98it/s]\u001b[A\n",
            "  0%|          | 4/1000 [00:00<01:08, 14.54it/s]\u001b[A\n",
            "  1%|          | 6/1000 [00:00<01:10, 14.12it/s]\u001b[A\n",
            "  1%|          | 8/1000 [00:00<01:10, 14.01it/s]\u001b[A\n",
            "  1%|          | 10/1000 [00:00<01:12, 13.65it/s]\u001b[A\n",
            "  1%|          | 12/1000 [00:00<01:15, 13.05it/s]\u001b[A\n",
            "  1%|▏         | 14/1000 [00:01<01:13, 13.40it/s]\u001b[A\n",
            "  2%|▏         | 16/1000 [00:01<01:12, 13.54it/s]\u001b[A\n",
            "  2%|▏         | 18/1000 [00:01<01:11, 13.66it/s]\u001b[A\n",
            "  2%|▏         | 20/1000 [00:01<01:14, 13.17it/s]\u001b[A\n",
            "  2%|▏         | 22/1000 [00:01<01:52,  8.70it/s]\u001b[A\n",
            "  2%|▏         | 24/1000 [00:02<02:12,  7.37it/s]\u001b[A\n",
            "  2%|▎         | 25/1000 [00:02<02:25,  6.71it/s]\u001b[A\n",
            "  3%|▎         | 27/1000 [00:02<02:14,  7.23it/s]\u001b[A\n",
            "  3%|▎         | 28/1000 [00:02<02:14,  7.20it/s]\u001b[A\n",
            "  3%|▎         | 30/1000 [00:03<01:57,  8.25it/s]\u001b[A\n",
            "  3%|▎         | 32/1000 [00:03<01:42,  9.45it/s]\u001b[A\n",
            "  3%|▎         | 34/1000 [00:03<01:33, 10.30it/s]\u001b[A\n",
            "  4%|▎         | 36/1000 [00:03<01:25, 11.24it/s]\u001b[A\n",
            "  4%|▍         | 38/1000 [00:03<01:20, 11.92it/s]\u001b[A\n",
            "  4%|▍         | 40/1000 [00:03<01:18, 12.30it/s]\u001b[A\n",
            "  4%|▍         | 42/1000 [00:03<01:16, 12.47it/s]\u001b[A\n",
            "  4%|▍         | 44/1000 [00:04<01:13, 12.94it/s]\u001b[A\n",
            "  5%|▍         | 46/1000 [00:04<01:12, 13.14it/s]\u001b[A\n",
            "  5%|▍         | 48/1000 [00:04<01:10, 13.46it/s]\u001b[A\n",
            "  5%|▌         | 50/1000 [00:04<01:11, 13.22it/s]\u001b[A\n",
            "  5%|▌         | 52/1000 [00:04<01:15, 12.52it/s]\u001b[A\n",
            "  5%|▌         | 54/1000 [00:04<01:14, 12.74it/s]\u001b[A\n",
            "  6%|▌         | 56/1000 [00:04<01:13, 12.90it/s]\u001b[A\n",
            "  6%|▌         | 58/1000 [00:05<01:17, 12.10it/s]\u001b[A\n",
            "  6%|▌         | 60/1000 [00:05<01:15, 12.38it/s]\u001b[A\n",
            "  6%|▌         | 62/1000 [00:05<01:13, 12.69it/s]\u001b[A\n",
            "  6%|▋         | 64/1000 [00:05<01:12, 12.98it/s]\u001b[A\n",
            "  7%|▋         | 66/1000 [00:05<01:09, 13.38it/s]\u001b[A\n",
            "  7%|▋         | 68/1000 [00:05<01:10, 13.17it/s]\u001b[A\n",
            "  7%|▋         | 70/1000 [00:06<01:13, 12.66it/s]\u001b[A\n",
            "  7%|▋         | 72/1000 [00:06<01:14, 12.42it/s]\u001b[A\n",
            "  7%|▋         | 74/1000 [00:06<01:15, 12.25it/s]\u001b[A\n",
            "  8%|▊         | 76/1000 [00:06<01:13, 12.60it/s]\u001b[A\n",
            "  8%|▊         | 78/1000 [00:06<01:10, 13.09it/s]\u001b[A\n",
            "  8%|▊         | 80/1000 [00:06<01:11, 12.86it/s]\u001b[A\n",
            "  8%|▊         | 82/1000 [00:07<01:11, 12.90it/s]\u001b[A\n",
            "  8%|▊         | 84/1000 [00:07<01:12, 12.56it/s]\u001b[A\n",
            "  9%|▊         | 86/1000 [00:07<01:10, 12.92it/s]\u001b[A\n",
            "  9%|▉         | 88/1000 [00:07<01:09, 13.08it/s]\u001b[A\n",
            "  9%|▉         | 90/1000 [00:07<01:08, 13.21it/s]\u001b[A\n",
            "  9%|▉         | 92/1000 [00:07<01:09, 13.16it/s]\u001b[A\n",
            "  9%|▉         | 94/1000 [00:07<01:08, 13.28it/s]\u001b[A\n",
            " 10%|▉         | 96/1000 [00:08<01:08, 13.19it/s]\u001b[A\n",
            " 10%|▉         | 98/1000 [00:08<01:06, 13.51it/s]\u001b[A\n",
            " 10%|█         | 100/1000 [00:08<01:07, 13.34it/s]\u001b[A\n",
            " 10%|█         | 102/1000 [00:08<01:06, 13.42it/s]\u001b[A\n",
            " 10%|█         | 104/1000 [00:08<01:07, 13.30it/s]\u001b[A\n",
            " 11%|█         | 106/1000 [00:08<01:07, 13.26it/s]\u001b[A\n",
            " 11%|█         | 108/1000 [00:08<01:07, 13.31it/s]\u001b[A\n",
            " 11%|█         | 110/1000 [00:09<01:07, 13.19it/s]\u001b[A\n",
            " 11%|█         | 112/1000 [00:09<01:26, 10.28it/s]\u001b[A\n",
            " 11%|█▏        | 114/1000 [00:09<01:23, 10.55it/s]\u001b[A\n",
            " 12%|█▏        | 116/1000 [00:09<01:18, 11.23it/s]\u001b[A\n",
            " 12%|█▏        | 118/1000 [00:09<01:15, 11.72it/s]\u001b[A\n",
            " 12%|█▏        | 120/1000 [00:10<01:13, 11.92it/s]\u001b[A\n",
            " 12%|█▏        | 122/1000 [00:10<01:11, 12.35it/s]\u001b[A\n",
            " 12%|█▏        | 124/1000 [00:10<01:08, 12.82it/s]\u001b[A\n",
            " 13%|█▎        | 126/1000 [00:10<01:05, 13.41it/s]\u001b[A\n",
            " 13%|█▎        | 128/1000 [00:10<01:02, 13.86it/s]\u001b[A\n",
            " 13%|█▎        | 130/1000 [00:10<01:03, 13.68it/s]\u001b[A\n",
            " 13%|█▎        | 132/1000 [00:10<01:04, 13.41it/s]\u001b[A\n",
            " 13%|█▎        | 134/1000 [00:11<01:04, 13.51it/s]\u001b[A\n",
            " 14%|█▎        | 136/1000 [00:11<01:03, 13.55it/s]\u001b[A\n",
            " 14%|█▍        | 138/1000 [00:11<01:03, 13.67it/s]\u001b[A\n",
            " 14%|█▍        | 140/1000 [00:11<01:04, 13.24it/s]\u001b[A\n",
            " 14%|█▍        | 142/1000 [00:11<01:04, 13.32it/s]\u001b[A\n",
            " 14%|█▍        | 144/1000 [00:11<01:19, 10.75it/s]\u001b[A\n",
            " 15%|█▍        | 146/1000 [00:12<01:50,  7.75it/s]\u001b[A\n",
            " 15%|█▍        | 147/1000 [00:12<01:59,  7.16it/s]\u001b[A\n",
            " 15%|█▍        | 148/1000 [00:12<02:05,  6.78it/s]\u001b[A\n",
            " 15%|█▍        | 149/1000 [00:12<02:07,  6.67it/s]\u001b[A\n",
            " 15%|█▌        | 151/1000 [00:13<01:39,  8.52it/s]\u001b[A\n",
            " 15%|█▌        | 154/1000 [00:13<01:11, 11.83it/s]\u001b[A\n",
            " 16%|█▌        | 157/1000 [00:13<00:57, 14.54it/s]\u001b[A\n",
            " 16%|█▌        | 160/1000 [00:13<00:50, 16.53it/s]\u001b[A\n",
            " 16%|█▋        | 163/1000 [00:13<00:45, 18.59it/s]\u001b[A\n",
            " 17%|█▋        | 166/1000 [00:13<00:41, 20.21it/s]\u001b[A\n",
            " 17%|█▋        | 169/1000 [00:13<00:38, 21.42it/s]\u001b[A\n",
            " 17%|█▋        | 172/1000 [00:13<00:37, 21.81it/s]\u001b[A\n",
            " 18%|█▊        | 175/1000 [00:14<00:37, 22.24it/s]\u001b[A\n",
            " 18%|█▊        | 178/1000 [00:14<00:36, 22.28it/s]\u001b[A\n",
            " 18%|█▊        | 181/1000 [00:14<00:36, 22.58it/s]\u001b[A\n",
            " 18%|█▊        | 184/1000 [00:14<00:35, 23.00it/s]\u001b[A\n",
            " 19%|█▊        | 187/1000 [00:14<00:34, 23.33it/s]\u001b[A\n",
            " 19%|█▉        | 190/1000 [00:14<00:34, 23.24it/s]\u001b[A\n",
            " 19%|█▉        | 193/1000 [00:14<00:34, 23.35it/s]\u001b[A\n",
            " 20%|█▉        | 196/1000 [00:14<00:34, 23.60it/s]\u001b[A\n",
            " 20%|█▉        | 199/1000 [00:15<00:34, 23.48it/s]\u001b[A\n",
            " 20%|██        | 202/1000 [00:15<00:34, 23.12it/s]\u001b[A\n",
            " 20%|██        | 205/1000 [00:15<00:35, 22.54it/s]\u001b[A\n",
            " 21%|██        | 208/1000 [00:15<00:34, 23.06it/s]\u001b[A\n",
            " 21%|██        | 211/1000 [00:15<00:34, 22.93it/s]\u001b[A\n",
            " 21%|██▏       | 214/1000 [00:15<00:33, 23.46it/s]\u001b[A\n",
            " 22%|██▏       | 217/1000 [00:15<00:33, 23.40it/s]\u001b[A\n",
            " 22%|██▏       | 220/1000 [00:16<00:36, 21.36it/s]\u001b[A\n",
            " 22%|██▏       | 223/1000 [00:16<00:35, 21.69it/s]\u001b[A\n",
            " 23%|██▎       | 226/1000 [00:16<00:34, 22.23it/s]\u001b[A\n",
            " 23%|██▎       | 229/1000 [00:16<00:34, 22.43it/s]\u001b[A\n",
            " 23%|██▎       | 232/1000 [00:16<00:33, 22.84it/s]\u001b[A\n",
            " 24%|██▎       | 235/1000 [00:16<00:32, 23.35it/s]\u001b[A\n",
            " 24%|██▍       | 238/1000 [00:16<00:33, 22.95it/s]\u001b[A\n",
            " 24%|██▍       | 241/1000 [00:16<00:33, 22.92it/s]\u001b[A\n",
            " 24%|██▍       | 244/1000 [00:17<00:32, 23.20it/s]\u001b[A\n",
            " 25%|██▍       | 247/1000 [00:17<00:32, 22.90it/s]\u001b[A\n",
            " 25%|██▌       | 250/1000 [00:17<00:33, 22.56it/s]\u001b[A\n",
            " 25%|██▌       | 253/1000 [00:17<00:32, 22.98it/s]\u001b[A\n",
            " 26%|██▌       | 256/1000 [00:17<00:32, 22.57it/s]\u001b[A\n",
            " 26%|██▌       | 259/1000 [00:17<00:32, 22.48it/s]\u001b[A\n",
            " 26%|██▌       | 262/1000 [00:17<00:32, 22.51it/s]\u001b[A\n",
            " 26%|██▋       | 265/1000 [00:18<00:32, 22.79it/s]\u001b[A\n",
            " 27%|██▋       | 268/1000 [00:18<00:32, 22.19it/s]\u001b[A\n",
            " 27%|██▋       | 271/1000 [00:18<00:33, 21.94it/s]\u001b[A\n",
            " 27%|██▋       | 274/1000 [00:18<00:32, 22.46it/s]\u001b[A\n",
            " 28%|██▊       | 277/1000 [00:18<00:31, 22.60it/s]\u001b[A\n",
            " 28%|██▊       | 280/1000 [00:18<00:31, 22.62it/s]\u001b[A\n",
            " 28%|██▊       | 283/1000 [00:18<00:31, 22.87it/s]\u001b[A\n",
            " 29%|██▊       | 286/1000 [00:18<00:31, 22.93it/s]\u001b[A\n",
            " 29%|██▉       | 289/1000 [00:19<00:31, 22.87it/s]\u001b[A\n",
            " 29%|██▉       | 292/1000 [00:19<00:31, 22.61it/s]\u001b[A\n",
            " 30%|██▉       | 295/1000 [00:19<00:30, 22.84it/s]\u001b[A\n",
            " 30%|██▉       | 298/1000 [00:19<00:30, 23.08it/s]\u001b[A\n",
            " 30%|███       | 301/1000 [00:19<00:30, 22.63it/s]\u001b[A\n",
            " 30%|███       | 304/1000 [00:19<00:30, 23.01it/s]\u001b[A\n",
            " 31%|███       | 307/1000 [00:19<00:30, 22.84it/s]\u001b[A\n",
            " 31%|███       | 310/1000 [00:20<00:30, 22.81it/s]\u001b[A\n",
            " 31%|███▏      | 313/1000 [00:20<00:30, 22.79it/s]\u001b[A\n",
            " 32%|███▏      | 316/1000 [00:20<00:30, 22.26it/s]\u001b[A\n",
            " 32%|███▏      | 319/1000 [00:20<00:30, 22.02it/s]\u001b[A\n",
            " 32%|███▏      | 322/1000 [00:20<00:30, 22.28it/s]\u001b[A\n",
            " 32%|███▎      | 325/1000 [00:20<00:30, 21.84it/s]\u001b[A\n",
            " 33%|███▎      | 328/1000 [00:20<00:30, 22.16it/s]\u001b[A\n",
            " 33%|███▎      | 331/1000 [00:20<00:30, 22.12it/s]\u001b[A\n",
            " 33%|███▎      | 334/1000 [00:21<00:30, 21.68it/s]\u001b[A\n",
            " 34%|███▎      | 337/1000 [00:21<00:29, 22.14it/s]\u001b[A\n",
            " 34%|███▍      | 340/1000 [00:21<00:29, 22.15it/s]\u001b[A\n",
            " 34%|███▍      | 343/1000 [00:21<00:28, 22.71it/s]\u001b[A\n",
            " 35%|███▍      | 346/1000 [00:21<00:28, 22.93it/s]\u001b[A\n",
            " 35%|███▍      | 349/1000 [00:21<00:28, 22.87it/s]\u001b[A\n",
            " 35%|███▌      | 352/1000 [00:21<00:28, 22.98it/s]\u001b[A\n",
            " 36%|███▌      | 355/1000 [00:22<00:28, 22.81it/s]\u001b[A\n",
            " 36%|███▌      | 358/1000 [00:22<00:27, 23.15it/s]\u001b[A\n",
            " 36%|███▌      | 361/1000 [00:22<00:28, 22.53it/s]\u001b[A\n",
            " 36%|███▋      | 364/1000 [00:22<00:27, 22.86it/s]\u001b[A\n",
            " 37%|███▋      | 367/1000 [00:22<00:27, 23.12it/s]\u001b[A\n",
            " 37%|███▋      | 370/1000 [00:22<00:27, 23.01it/s]\u001b[A\n",
            " 37%|███▋      | 373/1000 [00:22<00:28, 22.25it/s]\u001b[A\n",
            " 38%|███▊      | 376/1000 [00:22<00:27, 22.29it/s]\u001b[A\n",
            " 38%|███▊      | 379/1000 [00:23<00:27, 22.30it/s]\u001b[A\n",
            " 38%|███▊      | 382/1000 [00:23<00:27, 22.76it/s]\u001b[A\n",
            " 38%|███▊      | 385/1000 [00:23<00:27, 22.56it/s]\u001b[A\n",
            " 39%|███▉      | 388/1000 [00:23<00:26, 23.04it/s]\u001b[A\n",
            " 39%|███▉      | 391/1000 [00:23<00:26, 22.92it/s]\u001b[A\n",
            " 39%|███▉      | 394/1000 [00:23<00:26, 23.21it/s]\u001b[A\n",
            " 40%|███▉      | 397/1000 [00:23<00:25, 23.25it/s]\u001b[A\n",
            " 40%|████      | 400/1000 [00:23<00:25, 23.18it/s]\u001b[A\n",
            " 40%|████      | 403/1000 [00:24<00:25, 23.33it/s]\u001b[A\n",
            " 41%|████      | 406/1000 [00:24<00:25, 23.42it/s]\u001b[A\n",
            " 41%|████      | 409/1000 [00:24<00:25, 22.80it/s]\u001b[A\n",
            " 41%|████      | 412/1000 [00:24<00:25, 22.99it/s]\u001b[A\n",
            " 42%|████▏     | 415/1000 [00:24<00:25, 23.17it/s]\u001b[A\n",
            " 42%|████▏     | 418/1000 [00:24<00:24, 23.44it/s]\u001b[A\n",
            " 42%|████▏     | 421/1000 [00:24<00:25, 22.80it/s]\u001b[A\n",
            " 42%|████▏     | 424/1000 [00:25<00:26, 22.09it/s]\u001b[A\n",
            " 43%|████▎     | 427/1000 [00:25<00:25, 22.53it/s]\u001b[A\n",
            " 43%|████▎     | 430/1000 [00:25<00:25, 22.45it/s]\u001b[A\n",
            " 43%|████▎     | 433/1000 [00:25<00:25, 22.47it/s]\u001b[A\n",
            " 44%|████▎     | 436/1000 [00:25<00:25, 21.99it/s]\u001b[A\n",
            " 44%|████▍     | 439/1000 [00:25<00:25, 22.13it/s]\u001b[A\n",
            " 44%|████▍     | 442/1000 [00:25<00:24, 22.75it/s]\u001b[A\n",
            " 44%|████▍     | 445/1000 [00:25<00:24, 23.05it/s]\u001b[A\n",
            " 45%|████▍     | 448/1000 [00:26<00:23, 23.36it/s]\u001b[A\n",
            " 45%|████▌     | 451/1000 [00:26<00:23, 23.02it/s]\u001b[A\n",
            " 45%|████▌     | 454/1000 [00:26<00:23, 22.93it/s]\u001b[A\n",
            " 46%|████▌     | 457/1000 [00:26<00:23, 23.06it/s]\u001b[A\n",
            " 46%|████▌     | 460/1000 [00:26<00:23, 22.95it/s]\u001b[A\n",
            " 46%|████▋     | 463/1000 [00:26<00:23, 23.27it/s]\u001b[A\n",
            " 47%|████▋     | 466/1000 [00:26<00:22, 23.32it/s]\u001b[A\n",
            " 47%|████▋     | 469/1000 [00:26<00:22, 23.19it/s]\u001b[A\n",
            " 47%|████▋     | 472/1000 [00:27<00:23, 22.44it/s]\u001b[A\n",
            " 48%|████▊     | 475/1000 [00:27<00:22, 22.92it/s]\u001b[A\n",
            " 48%|████▊     | 478/1000 [00:27<00:22, 22.85it/s]\u001b[A\n",
            " 48%|████▊     | 481/1000 [00:27<00:22, 22.61it/s]\u001b[A\n",
            " 48%|████▊     | 484/1000 [00:27<00:23, 22.13it/s]\u001b[A\n",
            " 49%|████▊     | 487/1000 [00:27<00:22, 22.72it/s]\u001b[A\n",
            " 49%|████▉     | 490/1000 [00:27<00:22, 22.63it/s]\u001b[A\n",
            " 49%|████▉     | 493/1000 [00:28<00:22, 22.78it/s]\u001b[A\n",
            " 50%|████▉     | 496/1000 [00:28<00:21, 23.11it/s]\u001b[A\n",
            " 50%|████▉     | 499/1000 [00:28<00:21, 22.96it/s]\u001b[A\n",
            " 50%|█████     | 502/1000 [00:28<00:22, 21.97it/s]\u001b[A\n",
            " 50%|█████     | 505/1000 [00:28<00:22, 22.35it/s]\u001b[A\n",
            " 51%|█████     | 508/1000 [00:28<00:21, 22.83it/s]\u001b[A\n",
            " 51%|█████     | 511/1000 [00:28<00:22, 21.98it/s]\u001b[A\n",
            " 51%|█████▏    | 514/1000 [00:28<00:21, 22.33it/s]\u001b[A\n",
            " 52%|█████▏    | 517/1000 [00:29<00:21, 22.95it/s]\u001b[A\n",
            " 52%|█████▏    | 520/1000 [00:29<00:20, 22.95it/s]\u001b[A\n",
            " 52%|█████▏    | 523/1000 [00:29<00:20, 23.22it/s]\u001b[A\n",
            " 53%|█████▎    | 526/1000 [00:29<00:20, 23.16it/s]\u001b[A\n",
            " 53%|█████▎    | 529/1000 [00:29<00:20, 23.27it/s]\u001b[A\n",
            " 53%|█████▎    | 532/1000 [00:29<00:19, 23.52it/s]\u001b[A\n",
            " 54%|█████▎    | 535/1000 [00:29<00:20, 23.00it/s]\u001b[A\n",
            " 54%|█████▍    | 538/1000 [00:30<00:21, 21.63it/s]\u001b[A\n",
            " 54%|█████▍    | 541/1000 [00:30<00:21, 21.64it/s]\u001b[A\n",
            " 54%|█████▍    | 544/1000 [00:30<00:20, 22.36it/s]\u001b[A\n",
            " 55%|█████▍    | 547/1000 [00:30<00:20, 22.63it/s]\u001b[A\n",
            " 55%|█████▌    | 550/1000 [00:30<00:19, 22.56it/s]\u001b[A\n",
            " 55%|█████▌    | 553/1000 [00:30<00:19, 23.20it/s]\u001b[A\n",
            " 56%|█████▌    | 556/1000 [00:30<00:19, 23.30it/s]\u001b[A\n",
            " 56%|█████▌    | 559/1000 [00:30<00:18, 23.24it/s]\u001b[A\n",
            " 56%|█████▌    | 562/1000 [00:31<00:18, 23.39it/s]\u001b[A\n",
            " 56%|█████▋    | 565/1000 [00:31<00:18, 23.59it/s]\u001b[A\n",
            " 57%|█████▋    | 568/1000 [00:31<00:18, 23.95it/s]\u001b[A\n",
            " 57%|█████▋    | 571/1000 [00:31<00:19, 22.04it/s]\u001b[A\n",
            " 57%|█████▋    | 574/1000 [00:31<00:18, 22.64it/s]\u001b[A\n",
            " 58%|█████▊    | 577/1000 [00:31<00:18, 23.26it/s]\u001b[A\n",
            " 58%|█████▊    | 580/1000 [00:31<00:18, 23.08it/s]\u001b[A\n",
            " 58%|█████▊    | 583/1000 [00:31<00:18, 23.13it/s]\u001b[A\n",
            " 59%|█████▊    | 586/1000 [00:32<00:17, 23.16it/s]\u001b[A\n",
            " 59%|█████▉    | 589/1000 [00:32<00:17, 22.99it/s]\u001b[A\n",
            " 59%|█████▉    | 592/1000 [00:32<00:17, 23.14it/s]\u001b[A\n",
            " 60%|█████▉    | 595/1000 [00:32<00:17, 22.99it/s]\u001b[A\n",
            " 60%|█████▉    | 598/1000 [00:32<00:17, 23.06it/s]\u001b[A\n",
            " 60%|██████    | 601/1000 [00:32<00:17, 23.41it/s]\u001b[A\n",
            " 60%|██████    | 604/1000 [00:32<00:17, 23.17it/s]\u001b[A\n",
            " 61%|██████    | 607/1000 [00:33<00:16, 23.48it/s]\u001b[A\n",
            " 61%|██████    | 610/1000 [00:33<00:16, 23.19it/s]\u001b[A\n",
            " 61%|██████▏   | 613/1000 [00:33<00:16, 23.57it/s]\u001b[A\n",
            " 62%|██████▏   | 616/1000 [00:33<00:16, 23.61it/s]\u001b[A\n",
            " 62%|██████▏   | 619/1000 [00:33<00:17, 21.72it/s]\u001b[A\n",
            " 62%|██████▏   | 622/1000 [00:33<00:16, 22.42it/s]\u001b[A\n",
            " 62%|██████▎   | 625/1000 [00:33<00:16, 22.52it/s]\u001b[A\n",
            " 63%|██████▎   | 628/1000 [00:33<00:17, 21.80it/s]\u001b[A\n",
            " 63%|██████▎   | 631/1000 [00:34<00:16, 22.26it/s]\u001b[A\n",
            " 63%|██████▎   | 634/1000 [00:34<00:16, 22.63it/s]\u001b[A\n",
            " 64%|██████▎   | 637/1000 [00:34<00:15, 23.03it/s]\u001b[A\n",
            " 64%|██████▍   | 640/1000 [00:34<00:15, 22.59it/s]\u001b[A\n",
            " 64%|██████▍   | 643/1000 [00:34<00:16, 22.01it/s]\u001b[A\n",
            " 65%|██████▍   | 646/1000 [00:34<00:15, 22.56it/s]\u001b[A\n",
            " 65%|██████▍   | 649/1000 [00:34<00:15, 22.01it/s]\u001b[A\n",
            " 65%|██████▌   | 652/1000 [00:35<00:15, 22.31it/s]\u001b[A\n",
            " 66%|██████▌   | 655/1000 [00:35<00:15, 22.88it/s]\u001b[A\n",
            " 66%|██████▌   | 658/1000 [00:35<00:15, 22.78it/s]\u001b[A\n",
            " 66%|██████▌   | 661/1000 [00:35<00:14, 23.23it/s]\u001b[A\n",
            " 66%|██████▋   | 664/1000 [00:35<00:14, 23.01it/s]\u001b[A\n",
            " 67%|██████▋   | 667/1000 [00:35<00:14, 23.50it/s]\u001b[A\n",
            " 67%|██████▋   | 670/1000 [00:35<00:14, 23.32it/s]\u001b[A\n",
            " 67%|██████▋   | 673/1000 [00:35<00:13, 23.52it/s]\u001b[A\n",
            " 68%|██████▊   | 676/1000 [00:36<00:13, 23.75it/s]\u001b[A\n",
            " 68%|██████▊   | 679/1000 [00:36<00:13, 23.26it/s]\u001b[A\n",
            " 68%|██████▊   | 682/1000 [00:36<00:13, 22.92it/s]\u001b[A\n",
            " 68%|██████▊   | 685/1000 [00:36<00:13, 23.14it/s]\u001b[A\n",
            " 69%|██████▉   | 688/1000 [00:36<00:13, 22.66it/s]\u001b[A\n",
            " 69%|██████▉   | 691/1000 [00:36<00:13, 22.78it/s]\u001b[A\n",
            " 69%|██████▉   | 694/1000 [00:36<00:13, 22.44it/s]\u001b[A\n",
            " 70%|██████▉   | 697/1000 [00:36<00:13, 22.92it/s]\u001b[A\n",
            " 70%|███████   | 700/1000 [00:37<00:13, 22.81it/s]\u001b[A\n",
            " 70%|███████   | 703/1000 [00:37<00:12, 23.13it/s]\u001b[A\n",
            " 71%|███████   | 706/1000 [00:37<00:12, 23.39it/s]\u001b[A\n",
            " 71%|███████   | 709/1000 [00:37<00:12, 23.36it/s]\u001b[A\n",
            " 71%|███████   | 712/1000 [00:37<00:12, 22.91it/s]\u001b[A\n",
            " 72%|███████▏  | 715/1000 [00:37<00:12, 23.11it/s]\u001b[A\n",
            " 72%|███████▏  | 718/1000 [00:37<00:12, 22.80it/s]\u001b[A\n",
            " 72%|███████▏  | 721/1000 [00:38<00:12, 22.55it/s]\u001b[A\n",
            " 72%|███████▏  | 724/1000 [00:38<00:11, 23.05it/s]\u001b[A\n",
            " 73%|███████▎  | 727/1000 [00:38<00:11, 23.43it/s]\u001b[A\n",
            " 73%|███████▎  | 730/1000 [00:38<00:11, 23.26it/s]\u001b[A\n",
            " 73%|███████▎  | 733/1000 [00:38<00:11, 23.46it/s]\u001b[A\n",
            " 74%|███████▎  | 736/1000 [00:38<00:11, 23.06it/s]\u001b[A\n",
            " 74%|███████▍  | 739/1000 [00:38<00:11, 23.26it/s]\u001b[A\n",
            " 74%|███████▍  | 742/1000 [00:38<00:11, 23.23it/s]\u001b[A\n",
            " 74%|███████▍  | 745/1000 [00:39<00:10, 23.48it/s]\u001b[A\n",
            " 75%|███████▍  | 748/1000 [00:39<00:10, 23.35it/s]\u001b[A\n",
            " 75%|███████▌  | 751/1000 [00:39<00:10, 23.72it/s]\u001b[A\n",
            " 75%|███████▌  | 754/1000 [00:39<00:10, 23.73it/s]\u001b[A\n",
            " 76%|███████▌  | 757/1000 [00:39<00:10, 23.98it/s]\u001b[A\n",
            " 76%|███████▌  | 760/1000 [00:39<00:10, 23.36it/s]\u001b[A\n",
            " 76%|███████▋  | 763/1000 [00:39<00:10, 23.07it/s]\u001b[A\n",
            " 77%|███████▋  | 766/1000 [00:39<00:10, 23.34it/s]\u001b[A\n",
            " 77%|███████▋  | 769/1000 [00:40<00:10, 23.00it/s]\u001b[A\n",
            " 77%|███████▋  | 772/1000 [00:40<00:09, 23.11it/s]\u001b[A\n",
            " 78%|███████▊  | 775/1000 [00:40<00:09, 23.03it/s]\u001b[A\n",
            " 78%|███████▊  | 778/1000 [00:40<00:09, 22.60it/s]\u001b[A\n",
            " 78%|███████▊  | 781/1000 [00:40<00:09, 22.56it/s]\u001b[A\n",
            " 78%|███████▊  | 784/1000 [00:40<00:09, 22.52it/s]\u001b[A\n",
            " 79%|███████▊  | 787/1000 [00:40<00:09, 22.73it/s]\u001b[A\n",
            " 79%|███████▉  | 790/1000 [00:41<00:09, 22.42it/s]\u001b[A\n",
            " 79%|███████▉  | 793/1000 [00:41<00:09, 22.73it/s]\u001b[A\n",
            " 80%|███████▉  | 796/1000 [00:41<00:08, 22.68it/s]\u001b[A\n",
            " 80%|███████▉  | 799/1000 [00:41<00:08, 22.71it/s]\u001b[A\n",
            " 80%|████████  | 802/1000 [00:41<00:08, 22.86it/s]\u001b[A\n",
            " 80%|████████  | 805/1000 [00:41<00:08, 22.05it/s]\u001b[A\n",
            " 81%|████████  | 808/1000 [00:41<00:08, 22.18it/s]\u001b[A\n",
            " 81%|████████  | 811/1000 [00:41<00:08, 21.82it/s]\u001b[A\n",
            " 81%|████████▏ | 814/1000 [00:42<00:08, 21.84it/s]\u001b[A\n",
            " 82%|████████▏ | 817/1000 [00:42<00:08, 22.15it/s]\u001b[A\n",
            " 82%|████████▏ | 820/1000 [00:42<00:08, 22.31it/s]\u001b[A\n",
            " 82%|████████▏ | 823/1000 [00:42<00:08, 21.69it/s]\u001b[A\n",
            " 83%|████████▎ | 826/1000 [00:42<00:08, 21.32it/s]\u001b[A\n",
            " 83%|████████▎ | 829/1000 [00:42<00:07, 21.71it/s]\u001b[A\n",
            " 83%|████████▎ | 832/1000 [00:42<00:07, 21.94it/s]\u001b[A\n",
            " 84%|████████▎ | 835/1000 [00:43<00:07, 22.51it/s]\u001b[A\n",
            " 84%|████████▍ | 838/1000 [00:43<00:07, 22.61it/s]\u001b[A\n",
            " 84%|████████▍ | 841/1000 [00:43<00:06, 22.99it/s]\u001b[A\n",
            " 84%|████████▍ | 844/1000 [00:43<00:06, 22.85it/s]\u001b[A\n",
            " 85%|████████▍ | 847/1000 [00:43<00:06, 23.19it/s]\u001b[A\n",
            " 85%|████████▌ | 850/1000 [00:43<00:06, 22.84it/s]\u001b[A\n",
            " 85%|████████▌ | 853/1000 [00:43<00:06, 22.58it/s]\u001b[A\n",
            " 86%|████████▌ | 856/1000 [00:43<00:06, 22.97it/s]\u001b[A\n",
            " 86%|████████▌ | 859/1000 [00:44<00:06, 22.91it/s]\u001b[A\n",
            " 86%|████████▌ | 862/1000 [00:44<00:05, 23.01it/s]\u001b[A\n",
            " 86%|████████▋ | 865/1000 [00:44<00:05, 23.12it/s]\u001b[A\n",
            " 87%|████████▋ | 868/1000 [00:44<00:05, 23.05it/s]\u001b[A\n",
            " 87%|████████▋ | 871/1000 [00:44<00:08, 14.76it/s]\u001b[A\n",
            " 87%|████████▋ | 873/1000 [00:44<00:08, 15.45it/s]\u001b[A\n",
            " 88%|████████▊ | 876/1000 [00:45<00:07, 17.18it/s]\u001b[A\n",
            " 88%|████████▊ | 879/1000 [00:45<00:06, 18.08it/s]\u001b[A\n",
            " 88%|████████▊ | 882/1000 [00:45<00:06, 19.56it/s]\u001b[A\n",
            " 88%|████████▊ | 885/1000 [00:45<00:05, 20.61it/s]\u001b[A\n",
            " 89%|████████▉ | 888/1000 [00:45<00:05, 21.01it/s]\u001b[A\n",
            " 89%|████████▉ | 891/1000 [00:45<00:05, 21.50it/s]\u001b[A\n",
            " 89%|████████▉ | 894/1000 [00:45<00:04, 22.12it/s]\u001b[A\n",
            " 90%|████████▉ | 897/1000 [00:46<00:04, 22.51it/s]\u001b[A\n",
            " 90%|█████████ | 900/1000 [00:46<00:04, 22.57it/s]\u001b[A\n",
            " 90%|█████████ | 903/1000 [00:46<00:04, 22.67it/s]\u001b[A\n",
            " 91%|█████████ | 906/1000 [00:46<00:04, 22.80it/s]\u001b[A\n",
            " 91%|█████████ | 909/1000 [00:46<00:04, 22.57it/s]\u001b[A\n",
            " 91%|█████████ | 912/1000 [00:46<00:03, 22.78it/s]\u001b[A\n",
            " 92%|█████████▏| 915/1000 [00:46<00:03, 22.58it/s]\u001b[A\n",
            " 92%|█████████▏| 918/1000 [00:46<00:03, 22.62it/s]\u001b[A\n",
            " 92%|█████████▏| 921/1000 [00:47<00:03, 22.85it/s]\u001b[A\n",
            " 92%|█████████▏| 924/1000 [00:47<00:03, 22.95it/s]\u001b[A\n",
            " 93%|█████████▎| 927/1000 [00:47<00:03, 22.36it/s]\u001b[A\n",
            " 93%|█████████▎| 930/1000 [00:47<00:03, 22.16it/s]\u001b[A\n",
            " 93%|█████████▎| 933/1000 [00:47<00:03, 22.20it/s]\u001b[A\n",
            " 94%|█████████▎| 936/1000 [00:47<00:02, 22.38it/s]\u001b[A\n",
            " 94%|█████████▍| 939/1000 [00:47<00:02, 22.43it/s]\u001b[A\n",
            " 94%|█████████▍| 942/1000 [00:48<00:02, 22.81it/s]\u001b[A\n",
            " 94%|█████████▍| 945/1000 [00:48<00:02, 21.95it/s]\u001b[A\n",
            " 95%|█████████▍| 948/1000 [00:48<00:02, 21.98it/s]\u001b[A\n",
            " 95%|█████████▌| 951/1000 [00:48<00:02, 21.81it/s]\u001b[A\n",
            " 95%|█████████▌| 954/1000 [00:48<00:02, 22.16it/s]\u001b[A\n",
            " 96%|█████████▌| 957/1000 [00:48<00:01, 22.58it/s]\u001b[A\n",
            " 96%|█████████▌| 960/1000 [00:48<00:01, 21.90it/s]\u001b[A\n",
            " 96%|█████████▋| 963/1000 [00:48<00:01, 22.04it/s]\u001b[A\n",
            " 97%|█████████▋| 966/1000 [00:49<00:01, 22.29it/s]\u001b[A\n",
            " 97%|█████████▋| 969/1000 [00:49<00:01, 22.31it/s]\u001b[A\n",
            " 97%|█████████▋| 972/1000 [00:49<00:01, 22.82it/s]\u001b[A\n",
            " 98%|█████████▊| 975/1000 [00:49<00:01, 23.11it/s]\u001b[A\n",
            " 98%|█████████▊| 978/1000 [00:49<00:00, 23.06it/s]\u001b[A\n",
            " 98%|█████████▊| 981/1000 [00:49<00:00, 22.96it/s]\u001b[A\n",
            " 98%|█████████▊| 984/1000 [00:49<00:00, 22.49it/s]\u001b[A\n",
            " 99%|█████████▊| 987/1000 [00:50<00:00, 23.01it/s]\u001b[A\n",
            " 99%|█████████▉| 990/1000 [00:50<00:00, 23.04it/s]\u001b[A\n",
            " 99%|█████████▉| 993/1000 [00:50<00:00, 23.35it/s]\u001b[A\n",
            "100%|█████████▉| 996/1000 [00:50<00:00, 23.47it/s]\u001b[A\n",
            "100%|██████████| 1000/1000 [00:50<00:00, 19.78it/s]\n"
          ]
        }
      ]
    },
    {
      "cell_type": "code",
      "source": [
        "df_test = df.iloc[test_indices].reset_index()"
      ],
      "metadata": {
        "id": "SGoxkrQYaeZW"
      },
      "execution_count": null,
      "outputs": []
    },
    {
      "cell_type": "code",
      "source": [
        "df_test"
      ],
      "metadata": {
        "colab": {
          "base_uri": "https://localhost:8080/",
          "height": 419
        },
        "id": "IQVn4oKnh1VV",
        "outputId": "0d4d9d7e-8dec-47cb-fad6-28ae0611000c"
      },
      "execution_count": null,
      "outputs": [
        {
          "output_type": "execute_result",
          "data": {
            "text/plain": [
              "                                                 image  age  gender  race\n",
              "0    drive/My Drive/ASDRP/Experiments/test_data_rea...    2       1     2\n",
              "1    drive/My Drive/ASDRP/Experiments/test_data_rea...    1       1     0\n",
              "2    drive/My Drive/ASDRP/Experiments/test_data_rea...   76       1     0\n",
              "3    drive/My Drive/ASDRP/Experiments/test_data_rea...    2       1     2\n",
              "4    drive/My Drive/ASDRP/Experiments/test_data_rea...    5       1     0\n",
              "..                                                 ...  ...     ...   ...\n",
              "995  drive/My Drive/ASDRP/Experiments/test_data_rea...   26       0     1\n",
              "996  drive/My Drive/ASDRP/Experiments/test_data_rea...    9       0     1\n",
              "997  drive/My Drive/ASDRP/Experiments/test_data_rea...   43       0     1\n",
              "998  drive/My Drive/ASDRP/Experiments/test_data_rea...   90       0     1\n",
              "999  drive/My Drive/ASDRP/Experiments/test_data_rea...   76       1     1\n",
              "\n",
              "[1000 rows x 4 columns]"
            ],
            "text/html": [
              "\n",
              "  <div id=\"df-daea4c05-f424-4546-9693-7ef3e33783d8\">\n",
              "    <div class=\"colab-df-container\">\n",
              "      <div>\n",
              "<style scoped>\n",
              "    .dataframe tbody tr th:only-of-type {\n",
              "        vertical-align: middle;\n",
              "    }\n",
              "\n",
              "    .dataframe tbody tr th {\n",
              "        vertical-align: top;\n",
              "    }\n",
              "\n",
              "    .dataframe thead th {\n",
              "        text-align: right;\n",
              "    }\n",
              "</style>\n",
              "<table border=\"1\" class=\"dataframe\">\n",
              "  <thead>\n",
              "    <tr style=\"text-align: right;\">\n",
              "      <th></th>\n",
              "      <th>image</th>\n",
              "      <th>age</th>\n",
              "      <th>gender</th>\n",
              "      <th>race</th>\n",
              "    </tr>\n",
              "  </thead>\n",
              "  <tbody>\n",
              "    <tr>\n",
              "      <th>0</th>\n",
              "      <td>drive/My Drive/ASDRP/Experiments/test_data_rea...</td>\n",
              "      <td>2</td>\n",
              "      <td>1</td>\n",
              "      <td>2</td>\n",
              "    </tr>\n",
              "    <tr>\n",
              "      <th>1</th>\n",
              "      <td>drive/My Drive/ASDRP/Experiments/test_data_rea...</td>\n",
              "      <td>1</td>\n",
              "      <td>1</td>\n",
              "      <td>0</td>\n",
              "    </tr>\n",
              "    <tr>\n",
              "      <th>2</th>\n",
              "      <td>drive/My Drive/ASDRP/Experiments/test_data_rea...</td>\n",
              "      <td>76</td>\n",
              "      <td>1</td>\n",
              "      <td>0</td>\n",
              "    </tr>\n",
              "    <tr>\n",
              "      <th>3</th>\n",
              "      <td>drive/My Drive/ASDRP/Experiments/test_data_rea...</td>\n",
              "      <td>2</td>\n",
              "      <td>1</td>\n",
              "      <td>2</td>\n",
              "    </tr>\n",
              "    <tr>\n",
              "      <th>4</th>\n",
              "      <td>drive/My Drive/ASDRP/Experiments/test_data_rea...</td>\n",
              "      <td>5</td>\n",
              "      <td>1</td>\n",
              "      <td>0</td>\n",
              "    </tr>\n",
              "    <tr>\n",
              "      <th>...</th>\n",
              "      <td>...</td>\n",
              "      <td>...</td>\n",
              "      <td>...</td>\n",
              "      <td>...</td>\n",
              "    </tr>\n",
              "    <tr>\n",
              "      <th>995</th>\n",
              "      <td>drive/My Drive/ASDRP/Experiments/test_data_rea...</td>\n",
              "      <td>26</td>\n",
              "      <td>0</td>\n",
              "      <td>1</td>\n",
              "    </tr>\n",
              "    <tr>\n",
              "      <th>996</th>\n",
              "      <td>drive/My Drive/ASDRP/Experiments/test_data_rea...</td>\n",
              "      <td>9</td>\n",
              "      <td>0</td>\n",
              "      <td>1</td>\n",
              "    </tr>\n",
              "    <tr>\n",
              "      <th>997</th>\n",
              "      <td>drive/My Drive/ASDRP/Experiments/test_data_rea...</td>\n",
              "      <td>43</td>\n",
              "      <td>0</td>\n",
              "      <td>1</td>\n",
              "    </tr>\n",
              "    <tr>\n",
              "      <th>998</th>\n",
              "      <td>drive/My Drive/ASDRP/Experiments/test_data_rea...</td>\n",
              "      <td>90</td>\n",
              "      <td>0</td>\n",
              "      <td>1</td>\n",
              "    </tr>\n",
              "    <tr>\n",
              "      <th>999</th>\n",
              "      <td>drive/My Drive/ASDRP/Experiments/test_data_rea...</td>\n",
              "      <td>76</td>\n",
              "      <td>1</td>\n",
              "      <td>1</td>\n",
              "    </tr>\n",
              "  </tbody>\n",
              "</table>\n",
              "<p>1000 rows × 4 columns</p>\n",
              "</div>\n",
              "      <button class=\"colab-df-convert\" onclick=\"convertToInteractive('df-daea4c05-f424-4546-9693-7ef3e33783d8')\"\n",
              "              title=\"Convert this dataframe to an interactive table.\"\n",
              "              style=\"display:none;\">\n",
              "        \n",
              "  <svg xmlns=\"http://www.w3.org/2000/svg\" height=\"24px\"viewBox=\"0 0 24 24\"\n",
              "       width=\"24px\">\n",
              "    <path d=\"M0 0h24v24H0V0z\" fill=\"none\"/>\n",
              "    <path d=\"M18.56 5.44l.94 2.06.94-2.06 2.06-.94-2.06-.94-.94-2.06-.94 2.06-2.06.94zm-11 1L8.5 8.5l.94-2.06 2.06-.94-2.06-.94L8.5 2.5l-.94 2.06-2.06.94zm10 10l.94 2.06.94-2.06 2.06-.94-2.06-.94-.94-2.06-.94 2.06-2.06.94z\"/><path d=\"M17.41 7.96l-1.37-1.37c-.4-.4-.92-.59-1.43-.59-.52 0-1.04.2-1.43.59L10.3 9.45l-7.72 7.72c-.78.78-.78 2.05 0 2.83L4 21.41c.39.39.9.59 1.41.59.51 0 1.02-.2 1.41-.59l7.78-7.78 2.81-2.81c.8-.78.8-2.07 0-2.86zM5.41 20L4 18.59l7.72-7.72 1.47 1.35L5.41 20z\"/>\n",
              "  </svg>\n",
              "      </button>\n",
              "      \n",
              "  <style>\n",
              "    .colab-df-container {\n",
              "      display:flex;\n",
              "      flex-wrap:wrap;\n",
              "      gap: 12px;\n",
              "    }\n",
              "\n",
              "    .colab-df-convert {\n",
              "      background-color: #E8F0FE;\n",
              "      border: none;\n",
              "      border-radius: 50%;\n",
              "      cursor: pointer;\n",
              "      display: none;\n",
              "      fill: #1967D2;\n",
              "      height: 32px;\n",
              "      padding: 0 0 0 0;\n",
              "      width: 32px;\n",
              "    }\n",
              "\n",
              "    .colab-df-convert:hover {\n",
              "      background-color: #E2EBFA;\n",
              "      box-shadow: 0px 1px 2px rgba(60, 64, 67, 0.3), 0px 1px 3px 1px rgba(60, 64, 67, 0.15);\n",
              "      fill: #174EA6;\n",
              "    }\n",
              "\n",
              "    [theme=dark] .colab-df-convert {\n",
              "      background-color: #3B4455;\n",
              "      fill: #D2E3FC;\n",
              "    }\n",
              "\n",
              "    [theme=dark] .colab-df-convert:hover {\n",
              "      background-color: #434B5C;\n",
              "      box-shadow: 0px 1px 3px 1px rgba(0, 0, 0, 0.15);\n",
              "      filter: drop-shadow(0px 1px 2px rgba(0, 0, 0, 0.3));\n",
              "      fill: #FFFFFF;\n",
              "    }\n",
              "  </style>\n",
              "\n",
              "      <script>\n",
              "        const buttonEl =\n",
              "          document.querySelector('#df-daea4c05-f424-4546-9693-7ef3e33783d8 button.colab-df-convert');\n",
              "        buttonEl.style.display =\n",
              "          google.colab.kernel.accessAllowed ? 'block' : 'none';\n",
              "\n",
              "        async function convertToInteractive(key) {\n",
              "          const element = document.querySelector('#df-daea4c05-f424-4546-9693-7ef3e33783d8');\n",
              "          const dataTable =\n",
              "            await google.colab.kernel.invokeFunction('convertToInteractive',\n",
              "                                                     [key], {});\n",
              "          if (!dataTable) return;\n",
              "\n",
              "          const docLinkHtml = 'Like what you see? Visit the ' +\n",
              "            '<a target=\"_blank\" href=https://colab.research.google.com/notebooks/data_table.ipynb>data table notebook</a>'\n",
              "            + ' to learn more about interactive tables.';\n",
              "          element.innerHTML = '';\n",
              "          dataTable['output_type'] = 'display_data';\n",
              "          await google.colab.output.renderOutput(dataTable, element);\n",
              "          const docLink = document.createElement('div');\n",
              "          docLink.innerHTML = docLinkHtml;\n",
              "          element.appendChild(docLink);\n",
              "        }\n",
              "      </script>\n",
              "    </div>\n",
              "  </div>\n",
              "  "
            ]
          },
          "metadata": {},
          "execution_count": 105
        }
      ]
    },
    {
      "cell_type": "code",
      "source": [
        "from matplotlib import pyplot as plt\n",
        "\n",
        "plt.imshow(test_images[1], interpolation='nearest')\n",
        "plt.show()"
      ],
      "metadata": {
        "colab": {
          "base_uri": "https://localhost:8080/",
          "height": 268
        },
        "id": "g0oo6Fs2iJBd",
        "outputId": "0cddcd97-b709-45af-bda1-effe80e1b803"
      },
      "execution_count": null,
      "outputs": [
        {
          "output_type": "display_data",
          "data": {
            "text/plain": [
              "<Figure size 432x288 with 1 Axes>"
            ],
            "image/png": "[encoded data removed]"
          },
          "metadata": {
            "needs_background": "light"
          }
        }
      ]
    },
    {
      "cell_type": "code",
      "source": [
        "len(y_gender_test)"
      ],
      "metadata": {
        "colab": {
          "base_uri": "https://localhost:8080/"
        },
        "id": "cS7_a_p4isv5",
        "outputId": "30e9caef-1718-409a-bdfd-f0c8cddb29ac"
      },
      "execution_count": null,
      "outputs": [
        {
          "output_type": "execute_result",
          "data": {
            "text/plain": [
              "1000"
            ]
          },
          "metadata": {},
          "execution_count": 108
        }
      ]
    },
    {
      "cell_type": "code",
      "source": [
        "def get_accuracy_both(race, gender):\n",
        "  correct = 0\n",
        "  total = 0\n",
        "  for i in range(837):\n",
        "    if predictions_gender[i] == y_gender_test[i] and df_test.iloc[i]['race'] == race and df_test.iloc[i]['gender'] == gender: \n",
        "      correct += 1\n",
        "    if df_test.iloc[i]['race'] == race and df_test.iloc[i]['gender'] == gender:\n",
        "      total += 1\n",
        "    #if df_test.iloc[i]['race'] == race and df_test.iloc[i]['gender'] == gender and df_test.iloc[i]['age'] >= age_start and df_test.iloc[i]['age'] <= age_end:\n",
        "    #  total += 1\n",
        "\n",
        "    #  and df_test.iloc[i]['race'] == race and df_test.iloc[i]['gender'] == gender and df_test.iloc[i]['age'] >= age_start and df_test.iloc[i]['age'] <= age_end\n",
        "  \n",
        "  return correct / total\n",
        "\n",
        "def get_accuracy_race(race):\n",
        "  correct = 0\n",
        "  total = 0\n",
        "  for i in range(837):\n",
        "    if predictions_gender[i] == y_gender_test[i] and df_test.iloc[i]['race'] == race: \n",
        "      correct += 1\n",
        "    if df_test.iloc[i]['race'] == race:\n",
        "      total += 1\n",
        "  \n",
        "  return correct / total\n",
        "\n",
        "def get_accuracy_gender(gender):\n",
        "  correct = 0\n",
        "  total = 0\n",
        "  for i in range(837):\n",
        "    if predictions_gender[i] == y_gender_test[i] and df_test.iloc[i]['gender'] == gender: \n",
        "      correct += 1\n",
        "    if df_test.iloc[i]['gender'] == gender:\n",
        "      total += 1\n",
        "  \n",
        "  return correct / total\n",
        "\n",
        "def get_accuracy_overall():\n",
        "  correct = 0\n",
        "  total = 837\n",
        "  for i in range(837):\n",
        "    if predictions_gender[i] == y_gender_test[i]: \n",
        "      correct += 1\n",
        "  \n",
        "  return correct / total\n",
        "\n",
        "def get_false_positive(race):\n",
        "  false_positives = 0\n",
        "  total = 0\n",
        "  for i in range(837):\n",
        "    if predictions_gender[i] == 1 and y_gender_test[i] == 0 and df_test.iloc[i]['race'] == race: \n",
        "      false_positives += 1\n",
        "    if df_test.iloc[i]['race'] == race:\n",
        "      total += 1\n",
        "  \n",
        "  return false_positives / total\n",
        "\n",
        "def get_false_negative(race):\n",
        "  false_negatives = 0\n",
        "  total = 0\n",
        "  for i in range(837):\n",
        "    if predictions_gender[i] == 0 and y_gender_test[i] == 1 and df_test.iloc[i]['race'] == race: \n",
        "      false_negatives += 1\n",
        "    if df_test.iloc[i]['race'] == race:\n",
        "      total += 1\n",
        "  \n",
        "  return false_negatives / total"
      ],
      "metadata": {
        "id": "Hcryj3w-AHg8"
      },
      "execution_count": null,
      "outputs": []
    },
    {
      "cell_type": "code",
      "source": [
        "get_accuracy_overall()"
      ],
      "metadata": {
        "colab": {
          "base_uri": "https://localhost:8080/"
        },
        "id": "jwyw5yjOARu6",
        "outputId": "9e81a022-7399-451d-bcd4-f199609eab99"
      },
      "execution_count": null,
      "outputs": [
        {
          "output_type": "execute_result",
          "data": {
            "text/plain": [
              "0.7192353643966547"
            ]
          },
          "metadata": {},
          "execution_count": 110
        }
      ]
    },
    {
      "cell_type": "code",
      "source": [
        "get_accuracy_both(0, 0)"
      ],
      "metadata": {
        "colab": {
          "base_uri": "https://localhost:8080/"
        },
        "id": "hYooXPN-AfA0",
        "outputId": "4b3cb412-46a5-410a-80aa-2ba20fc23bb7"
      },
      "execution_count": null,
      "outputs": [
        {
          "output_type": "execute_result",
          "data": {
            "text/plain": [
              "0.6419753086419753"
            ]
          },
          "metadata": {},
          "execution_count": 120
        }
      ]
    },
    {
      "cell_type": "code",
      "source": [
        "get_accuracy_gender(0)"
      ],
      "metadata": {
        "colab": {
          "base_uri": "https://localhost:8080/"
        },
        "id": "QAjqpTcKAnUb",
        "outputId": "2f87768f-b539-4e07-f19e-8221fb7c0a78"
      },
      "execution_count": null,
      "outputs": [
        {
          "output_type": "execute_result",
          "data": {
            "text/plain": [
              "0.6937669376693767"
            ]
          },
          "metadata": {},
          "execution_count": 122
        }
      ]
    },
    {
      "cell_type": "code",
      "source": [
        "get_accuracy_race(1)"
      ],
      "metadata": {
        "colab": {
          "base_uri": "https://localhost:8080/"
        },
        "id": "LXpRtsIVAqxk",
        "outputId": "466a6632-1085-47f1-fb52-c76b11a7e72a"
      },
      "execution_count": null,
      "outputs": [
        {
          "output_type": "execute_result",
          "data": {
            "text/plain": [
              "0.7083333333333334"
            ]
          },
          "metadata": {},
          "execution_count": 126
        }
      ]
    },
    {
      "cell_type": "code",
      "source": [
        "get_false_positive(4)"
      ],
      "metadata": {
        "colab": {
          "base_uri": "https://localhost:8080/"
        },
        "id": "aO3NRs7xAwfT",
        "outputId": "feec8322-8d5f-46e2-9e19-84e2cc11f125"
      },
      "execution_count": null,
      "outputs": [
        {
          "output_type": "execute_result",
          "data": {
            "text/plain": [
              "0.08955223880597014"
            ]
          },
          "metadata": {},
          "execution_count": 140
        }
      ]
    },
    {
      "cell_type": "code",
      "source": [
        "get_false_negative(4)"
      ],
      "metadata": {
        "colab": {
          "base_uri": "https://localhost:8080/"
        },
        "id": "rZQCBp0lnT5v",
        "outputId": "34c33216-a400-4ad5-9140-9cf7dba796e5"
      },
      "execution_count": null,
      "outputs": [
        {
          "output_type": "execute_result",
          "data": {
            "text/plain": [
              "0.13432835820895522"
            ]
          },
          "metadata": {},
          "execution_count": 145
        }
      ]
    },
    {
      "cell_type": "code",
      "execution_count": null,
      "metadata": {
        "colab": {
          "base_uri": "https://localhost:8080/"
        },
        "id": "-SNo_2WAzcDk",
        "outputId": "8ac0f11b-c298-4964-e928-3f806f9dd6e9"
      },
      "outputs": [
        {
          "name": "stderr",
          "output_type": "stream",
          "text": [
            "100%|██████████| 1300/1300 [00:00<00:00, 328252.07it/s]\n"
          ]
        }
      ],
      "source": [
        "'''\n",
        "ages = []\n",
        "for image in tqdm(df_test.image):\n",
        "    #image_path = os.path.join(data, image)\n",
        "    vals = image.split('_')[0].split('/')\n",
        "    age = int(vals[5])\n",
        "    #ender = int(vals[1])\n",
        "\n",
        "\n",
        "    ages.append(age)\n",
        "'''"
      ]
    },
    {
      "cell_type": "code",
      "execution_count": null,
      "metadata": {
        "id": "QcRMb_H1znOb"
      },
      "outputs": [],
      "source": [
        "# df_test['age'] = ages"
      ]
    },
    {
      "cell_type": "code",
      "execution_count": null,
      "metadata": {
        "colab": {
          "base_uri": "https://localhost:8080/"
        },
        "id": "H2mZXZgsyMWx",
        "outputId": "98e2e0df-adff-45b4-cfae-e53a0891433e"
      },
      "outputs": [
        {
          "output_type": "stream",
          "name": "stderr",
          "text": [
            "100%|██████████| 1300/1300 [07:35<00:00,  2.85it/s]\n"
          ]
        }
      ],
      "source": [
        "X_test = extract_features(df_test['image'])"
      ]
    },
    {
      "cell_type": "code",
      "execution_count": null,
      "metadata": {
        "id": "GATpj1Zj3AuO"
      },
      "outputs": [],
      "source": [
        "np.save('drive/My Drive/ASDRP/Experiments/simple-cnn-v3/features_test.npy', X_test)"
      ]
    },
    {
      "cell_type": "code",
      "execution_count": null,
      "metadata": {
        "id": "AJZAqpWr2yLy"
      },
      "outputs": [],
      "source": [
        "y_gender_test = np.array(df_test['gender'])\n",
        "y_age_test = np.array(df_test['age'])\n",
        "X_test = X_test / 255.0"
      ]
    },
    {
      "cell_type": "code",
      "execution_count": null,
      "metadata": {
        "colab": {
          "base_uri": "https://localhost:8080/"
        },
        "id": "dX5lunmH3Dab",
        "outputId": "ad02580c-aa79-42fc-c0e0-cd5dbb655274"
      },
      "outputs": [
        {
          "output_type": "stream",
          "name": "stderr",
          "text": [
            "100%|██████████| 1300/1300 [00:57<00:00, 22.61it/s]\n"
          ]
        }
      ],
      "source": [
        "predictions_gender = []\n",
        "predictions_age = []\n",
        "for i in tqdm(df_test.reset_index().index):\n",
        "  pred = model.predict(X_test[i].reshape(1, 128, 128, 3))\n",
        "  pred_gender = round(pred[0][0][0])\n",
        "  pred_age = round(pred[1][0][0])\n",
        "\n",
        "  predictions_gender.append(pred_gender)\n",
        "  predictions_age.append(pred_age)\n"
      ]
    },
    {
      "cell_type": "code",
      "execution_count": null,
      "metadata": {
        "colab": {
          "base_uri": "https://localhost:8080/"
        },
        "id": "nK7iYi4TAvG1",
        "outputId": "dd36d70b-f555-4da8-a00b-63739852d792"
      },
      "outputs": [
        {
          "output_type": "execute_result",
          "data": {
            "text/plain": [
              "[59, 39, 23, 46, 46, 13, 45, 30, 34, 26]"
            ]
          },
          "metadata": {},
          "execution_count": 49
        }
      ],
      "source": [
        "predictions_age[20:30]"
      ]
    },
    {
      "cell_type": "code",
      "execution_count": null,
      "metadata": {
        "colab": {
          "base_uri": "https://localhost:8080/"
        },
        "id": "ATvP5cOKA33f",
        "outputId": "5a9d8da2-f0c3-447e-8a07-1bbf129719b1"
      },
      "outputs": [
        {
          "output_type": "execute_result",
          "data": {
            "text/plain": [
              "array([61, 58, 30, 67, 68,  9, 37, 25, 29, 30])"
            ]
          },
          "metadata": {},
          "execution_count": 50
        }
      ],
      "source": [
        "y_age_test[20:30]"
      ]
    },
    {
      "cell_type": "code",
      "execution_count": null,
      "metadata": {
        "id": "l_ZxwQTCR_5m"
      },
      "outputs": [],
      "source": [
        "df_test = df_test.reset_index()"
      ]
    },
    {
      "cell_type": "code",
      "execution_count": null,
      "metadata": {
        "colab": {
          "base_uri": "https://localhost:8080/"
        },
        "id": "F_tBZ0-STR1h",
        "outputId": "f5e04fff-d858-4052-eead-50cbe5d274ff"
      },
      "outputs": [
        {
          "output_type": "execute_result",
          "data": {
            "text/plain": [
              "0    555\n",
              "1    249\n",
              "3    220\n",
              "2    190\n",
              "4     86\n",
              "Name: race, dtype: int64"
            ]
          },
          "metadata": {},
          "execution_count": 52
        }
      ],
      "source": [
        "df_test['race'].value_counts()"
      ]
    },
    {
      "cell_type": "code",
      "execution_count": null,
      "metadata": {
        "id": "0d4rWQYoBZcM"
      },
      "outputs": [],
      "source": [
        "def mae(y_true, predictions):\n",
        "    predictions = np.array(predictions)\n",
        "    y_true = np.delete(y_true, df_test[(df_test['race'] == 4)].index)\n",
        "    predictions = np.delete(predictions, df_test[(df_test['race'] == 4)].index)\n",
        "    return np.mean(np.abs(y_true - predictions))"
      ]
    },
    {
      "cell_type": "code",
      "execution_count": null,
      "metadata": {
        "colab": {
          "base_uri": "https://localhost:8080/"
        },
        "id": "_NZ3tIQwBhEY",
        "outputId": "3be17506-9106-4ef4-9df7-be83d08a4816"
      },
      "outputs": [
        {
          "output_type": "execute_result",
          "data": {
            "text/plain": [
              "7.956342668863262"
            ]
          },
          "metadata": {},
          "execution_count": 64
        }
      ],
      "source": [
        "mae(y_age_test, predictions_age)"
      ]
    },
    {
      "cell_type": "code",
      "execution_count": null,
      "metadata": {
        "id": "i4yni1ryB65w"
      },
      "outputs": [],
      "source": [
        "def get_accuracy(race, gender, age_start, age_end):\n",
        "  correct = 0\n",
        "  total = 0\n",
        "  for i in range(1300):\n",
        "    if predictions_gender[i] == y_gender_test[i] and df_test.iloc[i]['race'] == race and df_test.iloc[i]['gender'] == gender and df_test.iloc[i]['age'] >= age_start and df_test.iloc[i]['age'] <= age_end: \n",
        "      correct += 1\n",
        "    if df_test.iloc[i]['race'] == race and df_test.iloc[i]['gender'] == gender and df_test.iloc[i]['age'] >= age_start and df_test.iloc[i]['age'] <= age_end:\n",
        "      total += 1\n",
        "  \n",
        "  return correct / total"
      ]
    },
    {
      "cell_type": "code",
      "execution_count": null,
      "metadata": {
        "colab": {
          "base_uri": "https://localhost:8080/"
        },
        "id": "PZKmKm_PCDsG",
        "outputId": "ae728198-4c3e-4007-852a-0ca7651646d2"
      },
      "outputs": [
        {
          "output_type": "execute_result",
          "data": {
            "text/plain": [
              "0.868421052631579"
            ]
          },
          "metadata": {},
          "execution_count": 108
        }
      ],
      "source": [
        "get_accuracy(4, 1, 10, 70)"
      ]
    },
    {
      "cell_type": "markdown",
      "metadata": {
        "id": "NfUiKqjsrJDm"
      },
      "source": [
        "# OLD BELOW"
      ]
    },
    {
      "cell_type": "code",
      "source": [
        "def load(file_path):\n",
        "    img = tf.io.read_file(file_path)\n",
        "    img = tf.io.decode_jpeg(img, channels=3)\n",
        "    img = tf.image.convert_image_dtype(img, tf.float32)\n",
        "    img = tf.image.resize(img, size=(64, 64))\n",
        "    return img"
      ],
      "metadata": {
        "id": "4yRlmyUDT5ug"
      },
      "execution_count": null,
      "outputs": []
    },
    {
      "cell_type": "code",
      "execution_count": null,
      "metadata": {
        "id": "ck-TdijX6fNP",
        "colab": {
          "base_uri": "https://localhost:8080/"
        },
        "outputId": "f9b4e8e7-0f02-4047-f774-27ba45a68d41"
      },
      "outputs": [
        {
          "output_type": "stream",
          "name": "stderr",
          "text": [
            "100%|██████████| 4999/4999 [1:03:36<00:00,  1.31it/s]\n"
          ]
        }
      ],
      "source": [
        "images = [load(i) for i in tqdm(df.image)]"
      ]
    },
    {
      "cell_type": "code",
      "source": [
        "images.append(load(df.iloc[4999]['image']))"
      ],
      "metadata": {
        "id": "QemjfQMl7g2r"
      },
      "execution_count": null,
      "outputs": []
    },
    {
      "cell_type": "code",
      "source": [
        "len(images)"
      ],
      "metadata": {
        "colab": {
          "base_uri": "https://localhost:8080/"
        },
        "id": "8lxvJJmz7vOt",
        "outputId": "a9a9591e-3716-43eb-83fb-1fdf032f6d7d"
      },
      "execution_count": null,
      "outputs": [
        {
          "output_type": "execute_result",
          "data": {
            "text/plain": [
              "5000"
            ]
          },
          "metadata": {},
          "execution_count": 37
        }
      ]
    },
    {
      "cell_type": "code",
      "execution_count": null,
      "metadata": {
        "id": "t238ngo2AUdN"
      },
      "outputs": [],
      "source": [
        "import pickle\n",
        "#with open('/content/drive/MyDrive/ASDRP/Experiments/simple-cnn-v3/list_of_tensors_generated.pickle', 'wb') as handle:\n",
        "#  pickle.dump(images, handle)\n",
        "images = pickle.load(open(\"/content/drive/MyDrive/ASDRP/Experiments/simple-cnn-v3/list_of_tensors_generated.pickle\", \"rb\"))"
      ]
    },
    {
      "cell_type": "code",
      "execution_count": null,
      "metadata": {
        "colab": {
          "base_uri": "https://localhost:8080/"
        },
        "id": "GcNNn66XWvgC",
        "outputId": "cb6b1f03-e78e-4ad1-90e6-fd4078f1a0da"
      },
      "outputs": [
        {
          "output_type": "execute_result",
          "data": {
            "text/plain": [
              "list"
            ]
          },
          "metadata": {},
          "execution_count": 18
        }
      ],
      "source": [
        "type(images)"
      ]
    },
    {
      "cell_type": "code",
      "execution_count": null,
      "metadata": {
        "colab": {
          "base_uri": "https://localhost:8080/",
          "height": 268
        },
        "id": "V3TxIz1fAhS9",
        "outputId": "e0c43d2e-7fbf-4f12-c8b2-b996410e8057"
      },
      "outputs": [
        {
          "output_type": "display_data",
          "data": {
            "text/plain": [
              "<Figure size 432x288 with 1 Axes>"
            ],
            "image/png": "[encoded data removed]"
          },
          "metadata": {
            "needs_background": "light"
          }
        }
      ],
      "source": [
        "from matplotlib import pyplot as plt\n",
        "\n",
        "plt.imshow(images[4999], interpolation='nearest')\n",
        "plt.show()"
      ]
    },
    {
      "cell_type": "code",
      "execution_count": null,
      "metadata": {
        "id": "HUSzaVRbqveu"
      },
      "outputs": [],
      "source": [
        "# indices_remove = df[df['race'] == 1].sample(n=1500, random_state = 42).index"
      ]
    },
    {
      "cell_type": "code",
      "execution_count": null,
      "metadata": {
        "id": "PXdEDLasvP-b"
      },
      "outputs": [],
      "source": [
        "# df = df.drop(indices_remove)"
      ]
    },
    {
      "cell_type": "code",
      "execution_count": null,
      "metadata": {
        "id": "SZ0t0GzCvR56"
      },
      "outputs": [],
      "source": [
        "# images_new = [i for j, i in enumerate(images_5k) if j not in indices_remove]"
      ]
    },
    {
      "cell_type": "code",
      "execution_count": null,
      "metadata": {
        "colab": {
          "base_uri": "https://localhost:8080/"
        },
        "id": "CMdbYLhFpOZs",
        "outputId": "6d28bed0-9e73-4134-daf0-d9ca107b6dd6"
      },
      "outputs": [
        {
          "output_type": "execute_result",
          "data": {
            "text/plain": [
              "0    2682\n",
              "2     834\n",
              "3     720\n",
              "4     542\n",
              "1     222\n",
              "Name: race, dtype: int64"
            ]
          },
          "metadata": {},
          "execution_count": 43
        }
      ],
      "source": [
        "df['race'].value_counts()"
      ]
    },
    {
      "cell_type": "code",
      "execution_count": null,
      "metadata": {
        "id": "yfukDDm9BBle",
        "colab": {
          "base_uri": "https://localhost:8080/"
        },
        "outputId": "ccf670ba-d01e-4c45-95a8-3a32e864e93c"
      },
      "outputs": [
        {
          "output_type": "stream",
          "name": "stderr",
          "text": [
            "100%|██████████| 5000/5000 [00:02<00:00, 1697.12it/s]\n"
          ]
        }
      ],
      "source": [
        "race_dict = {'WM':0, 'BM': 0, 'AM': 0, 'IM': 0, 'OM': 0, 'WF':0, 'BF': 0, 'AF': 0, 'IF': 0, 'OF': 0}\n",
        "for i in tqdm(range(len(df))):\n",
        "  if df.iloc[i]['gender'] == 0:\n",
        "    if df.iloc[i]['race'] == 0:\n",
        "      race_dict['WM'] += 1\n",
        "    if df.iloc[i]['race'] == 1:\n",
        "      race_dict['BM'] += 1\n",
        "    if df.iloc[i]['race'] == 2:\n",
        "      race_dict['AM'] += 1\n",
        "    if df.iloc[i]['race'] == 3:\n",
        "      race_dict['IM'] += 1\n",
        "    if df.iloc[i]['race'] == 4:\n",
        "      race_dict['OM'] += 1\n",
        "  else:\n",
        "    if df.iloc[i]['race'] == 0:\n",
        "      race_dict['WF'] += 1\n",
        "    if df.iloc[i]['race'] == 1:\n",
        "      race_dict['BF'] += 1\n",
        "    if df.iloc[i]['race'] == 2:\n",
        "      race_dict['AF'] += 1\n",
        "    if df.iloc[i]['race'] == 3:\n",
        "      race_dict['IF'] += 1\n",
        "    if df.iloc[i]['race'] == 4:\n",
        "      race_dict['OF'] += 1\n",
        "  \n",
        "\n",
        " "
      ]
    },
    {
      "cell_type": "code",
      "execution_count": null,
      "metadata": {
        "colab": {
          "base_uri": "https://localhost:8080/",
          "height": 286
        },
        "id": "ZCWoztX4BHhe",
        "outputId": "2978dc11-001e-42ce-d66e-2e7f1ee54993"
      },
      "outputs": [
        {
          "output_type": "execute_result",
          "data": {
            "text/plain": [
              "Text(0, 0.5, 'Number of examples in dataset')"
            ]
          },
          "metadata": {},
          "execution_count": 13
        },
        {
          "output_type": "display_data",
          "data": {
            "text/plain": [
              "<Figure size 432x288 with 1 Axes>"
            ],
            "image/png": "[encoded data removed]"
          },
          "metadata": {
            "needs_background": "light"
          }
        }
      ],
      "source": [
        "names = list(race_dict.keys())\n",
        "values = list(race_dict.values())\n",
        "\n",
        "for i in range(len(values)):\n",
        "  values[i] /= 5000\n",
        "  values[i] *= 100\n",
        "\n",
        "plt.bar(range(len(race_dict)), values, tick_label=names)\n",
        "\n",
        "plt.ylabel(\"Number of examples in dataset\")"
      ]
    },
    {
      "cell_type": "code",
      "source": [
        "values"
      ],
      "metadata": {
        "colab": {
          "base_uri": "https://localhost:8080/"
        },
        "id": "my9eoQ_ioxYb",
        "outputId": "21c2418d-003a-4919-a5a0-33d8026083dd"
      },
      "execution_count": null,
      "outputs": [
        {
          "output_type": "execute_result",
          "data": {
            "text/plain": [
              "[24.86,\n",
              " 2.2399999999999998,\n",
              " 7.9399999999999995,\n",
              " 5.42,\n",
              " 4.5,\n",
              " 28.78,\n",
              " 2.1999999999999997,\n",
              " 8.74,\n",
              " 8.98,\n",
              " 6.34]"
            ]
          },
          "metadata": {},
          "execution_count": 14
        }
      ]
    },
    {
      "cell_type": "code",
      "execution_count": null,
      "metadata": {
        "id": "YNj4UbvRu3cz"
      },
      "outputs": [],
      "source": [
        "images = np.array(images)"
      ]
    },
    {
      "cell_type": "code",
      "execution_count": null,
      "metadata": {
        "id": "ZvQHvObiBS9l"
      },
      "outputs": [],
      "source": [
        "y_gender = [i for i in df['gender']]\n",
        "# y_age = [i for i in df['age']]\n",
        "y_race = [i for i in df['race']]"
      ]
    },
    {
      "cell_type": "code",
      "execution_count": null,
      "metadata": {
        "colab": {
          "base_uri": "https://localhost:8080/"
        },
        "id": "Ul5ZJu0UW1v6",
        "outputId": "56fc3b80-ea56-4741-fcf3-cde70afbfd5a"
      },
      "outputs": [
        {
          "output_type": "execute_result",
          "data": {
            "text/plain": [
              "5000"
            ]
          },
          "metadata": {},
          "execution_count": 96
        }
      ],
      "source": [
        "len(y_gender)"
      ]
    },
    {
      "cell_type": "code",
      "execution_count": null,
      "metadata": {
        "id": "852zaZj3BVsl"
      },
      "outputs": [],
      "source": [
        "y_stack = np.vstack((y_gender,y_race))"
      ]
    },
    {
      "cell_type": "code",
      "source": [
        "X = images\n",
        "Y = y_stack[0]"
      ],
      "metadata": {
        "id": "X5BOOAAXbKHo"
      },
      "execution_count": null,
      "outputs": []
    },
    {
      "cell_type": "code",
      "source": [
        "Y_alias = y_stack[1]"
      ],
      "metadata": {
        "id": "eYsd-p10bRLV"
      },
      "execution_count": null,
      "outputs": []
    },
    {
      "cell_type": "code",
      "execution_count": null,
      "metadata": {
        "id": "ryaANqdYBXGo"
      },
      "outputs": [],
      "source": [
        "#from sklearn.model_selection import train_test_split\n",
        "#X, X_test, Y, y_test = train_test_split(images, y_stack[0], test_size=0.2, random_state = 42)\n",
        "#X_alias, X_alias2, Y_alias, y_alias2 = train_test_split(images, y_stack[1], test_size=0.2, random_state = 42)"
      ]
    },
    {
      "cell_type": "code",
      "execution_count": null,
      "metadata": {
        "id": "gSNsoRjeBdc0"
      },
      "outputs": [],
      "source": [
        "def create_new_model():\n",
        "  model = tf.keras.applications.efficientnet.EfficientNetB0(\n",
        "      include_top=True,\n",
        "      weights=None,\n",
        "      input_tensor=None,\n",
        "      input_shape=(64,64,3),\n",
        "      pooling=None,\n",
        "      classes=1,\n",
        "      classifier_activation='sigmoid',\n",
        "  )\n",
        "  #model.add(Flatten())\n",
        "  return model\n",
        "\n",
        "def get_model_name(k):\n",
        "  return 'model_'+str(k)+'.h5'"
      ]
    },
    {
      "cell_type": "code",
      "source": [],
      "metadata": {
        "id": "uPdrhn-Miodv"
      },
      "execution_count": null,
      "outputs": []
    },
    {
      "cell_type": "code",
      "execution_count": null,
      "metadata": {
        "id": "4TVDiAHEBd9W",
        "colab": {
          "base_uri": "https://localhost:8080/",
          "height": 1000
        },
        "outputId": "de9f3d33-c6bf-40e6-865b-50e92577ff62"
      },
      "outputs": [
        {
          "output_type": "stream",
          "name": "stdout",
          "text": [
            "Epoch 1/40\n",
            "125/125 [==============================] - ETA: 0s - loss: 2.5744 - accuracy: 0.5080\n",
            "Epoch 1: val_accuracy improved from -inf to 0.55000, saving model to /content/drive/MyDrive/ASDRP/Experiments/simple-cnn-v3/model_1.h5\n",
            "125/125 [==============================] - 21s 72ms/step - loss: 2.5744 - accuracy: 0.5080 - val_loss: 0.8829 - val_accuracy: 0.5500\n",
            "Epoch 2/40\n",
            "125/125 [==============================] - ETA: 0s - loss: 1.4646 - accuracy: 0.5197\n",
            "Epoch 2: val_accuracy did not improve from 0.55000\n",
            "125/125 [==============================] - 5s 43ms/step - loss: 1.4646 - accuracy: 0.5197 - val_loss: 0.7982 - val_accuracy: 0.4500\n",
            "Epoch 3/40\n",
            "125/125 [==============================] - ETA: 0s - loss: 1.3888 - accuracy: 0.5293\n",
            "Epoch 3: val_accuracy did not improve from 0.55000\n",
            "125/125 [==============================] - 6s 46ms/step - loss: 1.3888 - accuracy: 0.5293 - val_loss: 0.8598 - val_accuracy: 0.5500\n",
            "Epoch 4/40\n",
            "125/125 [==============================] - ETA: 0s - loss: 1.1466 - accuracy: 0.5378\n",
            "Epoch 4: val_accuracy did not improve from 0.55000\n",
            "125/125 [==============================] - 5s 42ms/step - loss: 1.1466 - accuracy: 0.5378 - val_loss: 0.7825 - val_accuracy: 0.5500\n",
            "Epoch 5/40\n",
            "125/125 [==============================] - ETA: 0s - loss: 1.3044 - accuracy: 0.5315\n",
            "Epoch 5: val_accuracy did not improve from 0.55000\n",
            "125/125 [==============================] - 5s 42ms/step - loss: 1.3044 - accuracy: 0.5315 - val_loss: 0.6995 - val_accuracy: 0.4540\n",
            "Epoch 6/40\n",
            "125/125 [==============================] - ETA: 0s - loss: 1.1892 - accuracy: 0.5393\n",
            "Epoch 6: val_accuracy did not improve from 0.55000\n",
            "125/125 [==============================] - 6s 45ms/step - loss: 1.1892 - accuracy: 0.5393 - val_loss: 4.8004 - val_accuracy: 0.4980\n",
            "Epoch 7/40\n",
            "125/125 [==============================] - ETA: 0s - loss: 1.2122 - accuracy: 0.5405\n",
            "Epoch 7: val_accuracy did not improve from 0.55000\n",
            "125/125 [==============================] - 5s 42ms/step - loss: 1.2122 - accuracy: 0.5405 - val_loss: 4.7245 - val_accuracy: 0.4410\n",
            "Epoch 8/40\n",
            "125/125 [==============================] - ETA: 0s - loss: 1.1618 - accuracy: 0.5520\n",
            "Epoch 8: val_accuracy improved from 0.55000 to 0.57100, saving model to /content/drive/MyDrive/ASDRP/Experiments/simple-cnn-v3/model_1.h5\n",
            "125/125 [==============================] - 7s 58ms/step - loss: 1.1618 - accuracy: 0.5520 - val_loss: 0.6785 - val_accuracy: 0.5710\n",
            "Epoch 9/40\n",
            "125/125 [==============================] - ETA: 0s - loss: 1.1674 - accuracy: 0.5650\n",
            "Epoch 9: val_accuracy did not improve from 0.57100\n",
            "125/125 [==============================] - 5s 42ms/step - loss: 1.1674 - accuracy: 0.5650 - val_loss: 1.9542 - val_accuracy: 0.5500\n",
            "Epoch 10/40\n",
            "125/125 [==============================] - ETA: 0s - loss: 1.1393 - accuracy: 0.5660\n",
            "Epoch 10: val_accuracy improved from 0.57100 to 0.58700, saving model to /content/drive/MyDrive/ASDRP/Experiments/simple-cnn-v3/model_1.h5\n",
            "125/125 [==============================] - 6s 51ms/step - loss: 1.1393 - accuracy: 0.5660 - val_loss: 0.7060 - val_accuracy: 0.5870\n",
            "Epoch 11/40\n",
            "124/125 [============================>.] - ETA: 0s - loss: 0.9896 - accuracy: 0.5905\n",
            "Epoch 11: val_accuracy did not improve from 0.58700\n",
            "125/125 [==============================] - 5s 42ms/step - loss: 0.9865 - accuracy: 0.5905 - val_loss: 0.7199 - val_accuracy: 0.5750\n",
            "Epoch 12/40\n",
            "125/125 [==============================] - ETA: 0s - loss: 1.2670 - accuracy: 0.5685\n",
            "Epoch 12: val_accuracy did not improve from 0.58700\n",
            "125/125 [==============================] - 5s 43ms/step - loss: 1.2670 - accuracy: 0.5685 - val_loss: 3.4294 - val_accuracy: 0.5800\n",
            "Epoch 13/40\n",
            "125/125 [==============================] - ETA: 0s - loss: 1.2118 - accuracy: 0.5655\n",
            "Epoch 13: val_accuracy improved from 0.58700 to 0.59500, saving model to /content/drive/MyDrive/ASDRP/Experiments/simple-cnn-v3/model_1.h5\n",
            "125/125 [==============================] - 7s 58ms/step - loss: 1.2118 - accuracy: 0.5655 - val_loss: 1.0738 - val_accuracy: 0.5950\n",
            "Epoch 14/40\n",
            "125/125 [==============================] - ETA: 0s - loss: 1.1169 - accuracy: 0.5893\n",
            "Epoch 14: val_accuracy did not improve from 0.59500\n",
            "125/125 [==============================] - 5s 43ms/step - loss: 1.1169 - accuracy: 0.5893 - val_loss: 0.6986 - val_accuracy: 0.5650\n",
            "Epoch 15/40\n",
            "125/125 [==============================] - ETA: 0s - loss: 1.0911 - accuracy: 0.6060\n",
            "Epoch 15: val_accuracy did not improve from 0.59500\n",
            "125/125 [==============================] - 5s 43ms/step - loss: 1.0911 - accuracy: 0.6060 - val_loss: 0.7371 - val_accuracy: 0.5890\n",
            "Epoch 16/40\n",
            "124/125 [============================>.] - ETA: 0s - loss: 1.0556 - accuracy: 0.5711\n",
            "Epoch 16: val_accuracy did not improve from 0.59500\n",
            "125/125 [==============================] - 5s 42ms/step - loss: 1.0565 - accuracy: 0.5702 - val_loss: 0.7648 - val_accuracy: 0.5770\n",
            "Epoch 17/40\n",
            "124/125 [============================>.] - ETA: 0s - loss: 1.0055 - accuracy: 0.5915\n",
            "Epoch 17: val_accuracy did not improve from 0.59500\n",
            "125/125 [==============================] - 5s 42ms/step - loss: 1.0043 - accuracy: 0.5910 - val_loss: 0.7633 - val_accuracy: 0.5440\n",
            "Epoch 18/40\n",
            "124/125 [============================>.] - ETA: 0s - loss: 1.0754 - accuracy: 0.5819\n",
            "Epoch 18: val_accuracy improved from 0.59500 to 0.62300, saving model to /content/drive/MyDrive/ASDRP/Experiments/simple-cnn-v3/model_1.h5\n",
            "125/125 [==============================] - 7s 59ms/step - loss: 1.0725 - accuracy: 0.5813 - val_loss: 0.6909 - val_accuracy: 0.6230\n",
            "Epoch 19/40\n",
            "125/125 [==============================] - ETA: 0s - loss: 0.9184 - accuracy: 0.6263\n",
            "Epoch 19: val_accuracy improved from 0.62300 to 0.62800, saving model to /content/drive/MyDrive/ASDRP/Experiments/simple-cnn-v3/model_1.h5\n",
            "125/125 [==============================] - 7s 54ms/step - loss: 0.9184 - accuracy: 0.6263 - val_loss: 1.0237 - val_accuracy: 0.6280\n",
            "Epoch 20/40\n",
            "125/125 [==============================] - ETA: 0s - loss: 0.8656 - accuracy: 0.6610\n",
            "Epoch 20: val_accuracy did not improve from 0.62800\n",
            "125/125 [==============================] - 6s 45ms/step - loss: 0.8656 - accuracy: 0.6610 - val_loss: 0.8381 - val_accuracy: 0.6100\n",
            "Epoch 21/40\n",
            "124/125 [============================>.] - ETA: 0s - loss: 0.8281 - accuracy: 0.6865\n",
            "Epoch 21: val_accuracy did not improve from 0.62800\n",
            "125/125 [==============================] - 6s 48ms/step - loss: 0.8283 - accuracy: 0.6855 - val_loss: 0.8924 - val_accuracy: 0.5870\n",
            "Epoch 22/40\n",
            "124/125 [============================>.] - ETA: 0s - loss: 0.8508 - accuracy: 0.6872\n",
            "Epoch 22: val_accuracy did not improve from 0.62800\n",
            "125/125 [==============================] - 5s 42ms/step - loss: 0.8546 - accuracy: 0.6852 - val_loss: 0.6698 - val_accuracy: 0.6110\n",
            "Epoch 23/40\n",
            "125/125 [==============================] - ETA: 0s - loss: 0.8227 - accuracy: 0.6873\n",
            "Epoch 23: val_accuracy did not improve from 0.62800\n",
            "125/125 [==============================] - 5s 42ms/step - loss: 0.8227 - accuracy: 0.6873 - val_loss: 0.6912 - val_accuracy: 0.6200\n",
            "Epoch 24/40\n",
            "125/125 [==============================] - ETA: 0s - loss: 0.8125 - accuracy: 0.7135\n",
            "Epoch 24: val_accuracy did not improve from 0.62800\n",
            "125/125 [==============================] - 6s 45ms/step - loss: 0.8125 - accuracy: 0.7135 - val_loss: 0.6925 - val_accuracy: 0.5850\n",
            "Epoch 25/40\n",
            "125/125 [==============================] - ETA: 0s - loss: 0.8098 - accuracy: 0.7115\n",
            "Epoch 25: val_accuracy improved from 0.62800 to 0.63100, saving model to /content/drive/MyDrive/ASDRP/Experiments/simple-cnn-v3/model_1.h5\n",
            "125/125 [==============================] - 7s 58ms/step - loss: 0.8098 - accuracy: 0.7115 - val_loss: 0.6633 - val_accuracy: 0.6310\n",
            "Epoch 26/40\n",
            "125/125 [==============================] - ETA: 0s - loss: 0.7282 - accuracy: 0.7437\n",
            "Epoch 26: val_accuracy did not improve from 0.63100\n",
            "125/125 [==============================] - 5s 43ms/step - loss: 0.7282 - accuracy: 0.7437 - val_loss: 0.6871 - val_accuracy: 0.6140\n",
            "Epoch 27/40\n",
            "125/125 [==============================] - ETA: 0s - loss: 0.8032 - accuracy: 0.6825\n",
            "Epoch 27: val_accuracy did not improve from 0.63100\n",
            "125/125 [==============================] - 6s 46ms/step - loss: 0.8032 - accuracy: 0.6825 - val_loss: 0.7019 - val_accuracy: 0.6010\n",
            "Epoch 28/40\n",
            "125/125 [==============================] - ETA: 0s - loss: 0.8890 - accuracy: 0.5993\n",
            "Epoch 28: val_accuracy did not improve from 0.63100\n",
            "125/125 [==============================] - 5s 42ms/step - loss: 0.8890 - accuracy: 0.5993 - val_loss: 1.5988 - val_accuracy: 0.5590\n",
            "Epoch 29/40\n",
            "125/125 [==============================] - ETA: 0s - loss: 0.9059 - accuracy: 0.5895\n",
            "Epoch 29: val_accuracy did not improve from 0.63100\n",
            "125/125 [==============================] - 5s 42ms/step - loss: 0.9059 - accuracy: 0.5895 - val_loss: 1.6131 - val_accuracy: 0.5890\n",
            "Epoch 30/40\n",
            "125/125 [==============================] - ETA: 0s - loss: 0.8873 - accuracy: 0.6100\n",
            "Epoch 30: val_accuracy did not improve from 0.63100\n",
            "125/125 [==============================] - 5s 44ms/step - loss: 0.8873 - accuracy: 0.6100 - val_loss: 0.6602 - val_accuracy: 0.6120\n",
            "Epoch 31/40\n",
            "125/125 [==============================] - ETA: 0s - loss: 0.9162 - accuracy: 0.6225\n",
            "Epoch 31: val_accuracy did not improve from 0.63100\n",
            "125/125 [==============================] - 6s 44ms/step - loss: 0.9162 - accuracy: 0.6225 - val_loss: 0.6498 - val_accuracy: 0.6240\n",
            "Epoch 32/40\n",
            "124/125 [============================>.] - ETA: 0s - loss: 0.8946 - accuracy: 0.6436\n",
            "Epoch 32: val_accuracy did not improve from 0.63100\n",
            "125/125 [==============================] - 5s 43ms/step - loss: 0.8932 - accuracy: 0.6440 - val_loss: 0.6448 - val_accuracy: 0.6130\n",
            "Epoch 33/40\n",
            "125/125 [==============================] - ETA: 0s - loss: 0.8813 - accuracy: 0.6425\n",
            "Epoch 33: val_accuracy did not improve from 0.63100\n",
            "125/125 [==============================] - 6s 44ms/step - loss: 0.8813 - accuracy: 0.6425 - val_loss: 0.6378 - val_accuracy: 0.6240\n",
            "Epoch 34/40\n",
            "124/125 [============================>.] - ETA: 0s - loss: 0.9887 - accuracy: 0.6129\n",
            "Epoch 34: val_accuracy did not improve from 0.63100\n",
            "125/125 [==============================] - 5s 42ms/step - loss: 0.9866 - accuracy: 0.6130 - val_loss: 11.2304 - val_accuracy: 0.5480\n",
            "Epoch 35/40\n",
            "125/125 [==============================] - ETA: 0s - loss: 0.9605 - accuracy: 0.5853\n",
            "Epoch 35: val_accuracy did not improve from 0.63100\n",
            "125/125 [==============================] - 5s 42ms/step - loss: 0.9605 - accuracy: 0.5853 - val_loss: 0.7460 - val_accuracy: 0.6060\n",
            "Epoch 36/40\n",
            "125/125 [==============================] - ETA: 0s - loss: 0.9577 - accuracy: 0.6022\n",
            "Epoch 36: val_accuracy did not improve from 0.63100\n",
            "125/125 [==============================] - 5s 42ms/step - loss: 0.9577 - accuracy: 0.6022 - val_loss: 1.2911 - val_accuracy: 0.6060\n",
            "Epoch 37/40\n",
            "125/125 [==============================] - ETA: 0s - loss: 0.7877 - accuracy: 0.6137\n",
            "Epoch 37: val_accuracy did not improve from 0.63100\n",
            "125/125 [==============================] - 6s 44ms/step - loss: 0.7877 - accuracy: 0.6137 - val_loss: 1.8011 - val_accuracy: 0.5970\n",
            "Epoch 38/40\n",
            "124/125 [============================>.] - ETA: 0s - loss: 0.8664 - accuracy: 0.6235\n",
            "Epoch 38: val_accuracy did not improve from 0.63100\n",
            "125/125 [==============================] - 5s 43ms/step - loss: 0.8640 - accuracy: 0.6242 - val_loss: 0.7298 - val_accuracy: 0.6250\n",
            "Epoch 39/40\n",
            "125/125 [==============================] - ETA: 0s - loss: 0.8441 - accuracy: 0.6335\n",
            "Epoch 39: val_accuracy did not improve from 0.63100\n",
            "125/125 [==============================] - 6s 44ms/step - loss: 0.8441 - accuracy: 0.6335 - val_loss: 0.6672 - val_accuracy: 0.5960\n",
            "Epoch 40/40\n",
            "124/125 [============================>.] - ETA: 0s - loss: 0.8578 - accuracy: 0.6424\n",
            "Epoch 40: val_accuracy did not improve from 0.63100\n",
            "125/125 [==============================] - 6s 45ms/step - loss: 0.8560 - accuracy: 0.6425 - val_loss: 0.8424 - val_accuracy: 0.5900\n"
          ]
        },
        {
          "output_type": "display_data",
          "data": {
            "text/plain": [
              "<Figure size 432x288 with 1 Axes>"
            ],
            "image/png": "[encoded data removed]"
          },
          "metadata": {
            "needs_background": "light"
          }
        },
        {
          "output_type": "display_data",
          "data": {
            "text/plain": [
              "<Figure size 432x288 with 1 Axes>"
            ],
            "image/png": "[encoded data removed]"
          },
          "metadata": {
            "needs_background": "light"
          }
        },
        {
          "output_type": "stream",
          "name": "stdout",
          "text": [
            "32/32 [==============================] - 1s 17ms/step - loss: 0.6633 - accuracy: 0.6310\n",
            "Epoch 1/40\n",
            "124/125 [============================>.] - ETA: 0s - loss: 2.9046 - accuracy: 0.5066\n",
            "Epoch 1: val_accuracy improved from -inf to 0.45000, saving model to /content/drive/MyDrive/ASDRP/Experiments/simple-cnn-v3/model_2.h5\n",
            "125/125 [==============================] - 18s 75ms/step - loss: 2.8882 - accuracy: 0.5067 - val_loss: 0.7723 - val_accuracy: 0.4500\n",
            "Epoch 2/40\n",
            "125/125 [==============================] - ETA: 0s - loss: 1.3563 - accuracy: 0.5268\n",
            "Epoch 2: val_accuracy improved from 0.45000 to 0.55000, saving model to /content/drive/MyDrive/ASDRP/Experiments/simple-cnn-v3/model_2.h5\n",
            "125/125 [==============================] - 6s 51ms/step - loss: 1.3563 - accuracy: 0.5268 - val_loss: 0.6930 - val_accuracy: 0.5500\n",
            "Epoch 3/40\n",
            "124/125 [============================>.] - ETA: 0s - loss: 1.3481 - accuracy: 0.5272\n",
            "Epoch 3: val_accuracy did not improve from 0.55000\n",
            "125/125 [==============================] - 5s 43ms/step - loss: 1.3545 - accuracy: 0.5275 - val_loss: 0.9092 - val_accuracy: 0.5500\n",
            "Epoch 4/40\n",
            "125/125 [==============================] - ETA: 0s - loss: 1.2041 - accuracy: 0.5555\n",
            "Epoch 4: val_accuracy did not improve from 0.55000\n",
            "125/125 [==============================] - 6s 44ms/step - loss: 1.2041 - accuracy: 0.5555 - val_loss: 0.6895 - val_accuracy: 0.5500\n",
            "Epoch 5/40\n",
            "125/125 [==============================] - ETA: 0s - loss: 1.2230 - accuracy: 0.5583\n",
            "Epoch 5: val_accuracy did not improve from 0.55000\n",
            "125/125 [==============================] - 5s 42ms/step - loss: 1.2230 - accuracy: 0.5583 - val_loss: 0.7249 - val_accuracy: 0.5500\n",
            "Epoch 6/40\n",
            "124/125 [============================>.] - ETA: 0s - loss: 1.2808 - accuracy: 0.5519\n",
            "Epoch 6: val_accuracy did not improve from 0.55000\n",
            "125/125 [==============================] - 5s 42ms/step - loss: 1.2769 - accuracy: 0.5515 - val_loss: 0.7406 - val_accuracy: 0.5370\n",
            "Epoch 7/40\n",
            "124/125 [============================>.] - ETA: 0s - loss: 1.1964 - accuracy: 0.5431\n",
            "Epoch 7: val_accuracy improved from 0.55000 to 0.55600, saving model to /content/drive/MyDrive/ASDRP/Experiments/simple-cnn-v3/model_2.h5\n",
            "125/125 [==============================] - 7s 60ms/step - loss: 1.1974 - accuracy: 0.5420 - val_loss: 0.7415 - val_accuracy: 0.5560\n",
            "Epoch 8/40\n",
            "125/125 [==============================] - ETA: 0s - loss: 1.2188 - accuracy: 0.5600\n",
            "Epoch 8: val_accuracy did not improve from 0.55600\n",
            "125/125 [==============================] - 6s 45ms/step - loss: 1.2188 - accuracy: 0.5600 - val_loss: 1.0728 - val_accuracy: 0.4840\n",
            "Epoch 9/40\n",
            "124/125 [============================>.] - ETA: 0s - loss: 1.1618 - accuracy: 0.5166\n",
            "Epoch 9: val_accuracy did not improve from 0.55600\n",
            "125/125 [==============================] - 6s 44ms/step - loss: 1.1580 - accuracy: 0.5178 - val_loss: 2.9298 - val_accuracy: 0.5480\n",
            "Epoch 10/40\n",
            "125/125 [==============================] - ETA: 0s - loss: 1.1780 - accuracy: 0.5395\n",
            "Epoch 10: val_accuracy did not improve from 0.55600\n",
            "125/125 [==============================] - 5s 42ms/step - loss: 1.1780 - accuracy: 0.5395 - val_loss: 0.7219 - val_accuracy: 0.5160\n",
            "Epoch 11/40\n",
            "125/125 [==============================] - ETA: 0s - loss: 1.1910 - accuracy: 0.5380\n",
            "Epoch 11: val_accuracy improved from 0.55600 to 0.56800, saving model to /content/drive/MyDrive/ASDRP/Experiments/simple-cnn-v3/model_2.h5\n",
            "125/125 [==============================] - 7s 58ms/step - loss: 1.1910 - accuracy: 0.5380 - val_loss: 1.2185 - val_accuracy: 0.5680\n",
            "Epoch 12/40\n",
            "125/125 [==============================] - ETA: 0s - loss: 1.2881 - accuracy: 0.5537\n",
            "Epoch 12: val_accuracy improved from 0.56800 to 0.57600, saving model to /content/drive/MyDrive/ASDRP/Experiments/simple-cnn-v3/model_2.h5\n",
            "125/125 [==============================] - 7s 58ms/step - loss: 1.2881 - accuracy: 0.5537 - val_loss: 1.6470 - val_accuracy: 0.5760\n",
            "Epoch 13/40\n",
            "124/125 [============================>.] - ETA: 0s - loss: 1.2295 - accuracy: 0.5638\n",
            "Epoch 13: val_accuracy did not improve from 0.57600\n",
            "125/125 [==============================] - 5s 42ms/step - loss: 1.2306 - accuracy: 0.5633 - val_loss: 1.0016 - val_accuracy: 0.5660\n",
            "Epoch 14/40\n",
            "125/125 [==============================] - ETA: 0s - loss: 1.0776 - accuracy: 0.5493\n",
            "Epoch 14: val_accuracy did not improve from 0.57600\n",
            "125/125 [==============================] - 6s 44ms/step - loss: 1.0776 - accuracy: 0.5493 - val_loss: 1.1362 - val_accuracy: 0.5400\n",
            "Epoch 15/40\n",
            "125/125 [==============================] - ETA: 0s - loss: 1.0386 - accuracy: 0.5757\n",
            "Epoch 15: val_accuracy did not improve from 0.57600\n",
            "125/125 [==============================] - 5s 42ms/step - loss: 1.0386 - accuracy: 0.5757 - val_loss: 0.7199 - val_accuracy: 0.5690\n",
            "Epoch 16/40\n",
            "124/125 [============================>.] - ETA: 0s - loss: 1.1342 - accuracy: 0.5804\n",
            "Epoch 16: val_accuracy did not improve from 0.57600\n",
            "125/125 [==============================] - 5s 42ms/step - loss: 1.1416 - accuracy: 0.5803 - val_loss: 0.7683 - val_accuracy: 0.5650\n",
            "Epoch 17/40\n",
            "124/125 [============================>.] - ETA: 0s - loss: 1.0026 - accuracy: 0.6016\n",
            "Epoch 17: val_accuracy did not improve from 0.57600\n",
            "125/125 [==============================] - 5s 43ms/step - loss: 1.0041 - accuracy: 0.6012 - val_loss: 1.4145 - val_accuracy: 0.5550\n",
            "Epoch 18/40\n",
            "124/125 [============================>.] - ETA: 0s - loss: 1.0715 - accuracy: 0.6225\n",
            "Epoch 18: val_accuracy improved from 0.57600 to 0.62400, saving model to /content/drive/MyDrive/ASDRP/Experiments/simple-cnn-v3/model_2.h5\n",
            "125/125 [==============================] - 7s 59ms/step - loss: 1.0724 - accuracy: 0.6223 - val_loss: 0.8094 - val_accuracy: 0.6240\n",
            "Epoch 19/40\n",
            "125/125 [==============================] - ETA: 0s - loss: 1.0126 - accuracy: 0.6472\n",
            "Epoch 19: val_accuracy did not improve from 0.62400\n",
            "125/125 [==============================] - 5s 43ms/step - loss: 1.0126 - accuracy: 0.6472 - val_loss: 0.6630 - val_accuracy: 0.5680\n",
            "Epoch 20/40\n",
            "124/125 [============================>.] - ETA: 0s - loss: 1.0726 - accuracy: 0.6235\n",
            "Epoch 20: val_accuracy did not improve from 0.62400\n",
            "125/125 [==============================] - 5s 44ms/step - loss: 1.0775 - accuracy: 0.6223 - val_loss: 0.7570 - val_accuracy: 0.5850\n",
            "Epoch 21/40\n",
            "124/125 [============================>.] - ETA: 0s - loss: 0.9745 - accuracy: 0.6043\n",
            "Epoch 21: val_accuracy did not improve from 0.62400\n",
            "125/125 [==============================] - 5s 43ms/step - loss: 0.9712 - accuracy: 0.6053 - val_loss: 0.6345 - val_accuracy: 0.6230\n",
            "Epoch 22/40\n",
            "124/125 [============================>.] - ETA: 0s - loss: 0.9135 - accuracy: 0.6467\n",
            "Epoch 22: val_accuracy did not improve from 0.62400\n",
            "125/125 [==============================] - 5s 42ms/step - loss: 0.9165 - accuracy: 0.6475 - val_loss: 0.6604 - val_accuracy: 0.6190\n",
            "Epoch 23/40\n",
            "124/125 [============================>.] - ETA: 0s - loss: 0.9660 - accuracy: 0.6676\n",
            "Epoch 23: val_accuracy did not improve from 0.62400\n",
            "125/125 [==============================] - 6s 45ms/step - loss: 0.9631 - accuracy: 0.6668 - val_loss: 3.4939 - val_accuracy: 0.5110\n",
            "Epoch 24/40\n",
            "124/125 [============================>.] - ETA: 0s - loss: 0.8735 - accuracy: 0.6676\n",
            "Epoch 24: val_accuracy did not improve from 0.62400\n",
            "125/125 [==============================] - 6s 44ms/step - loss: 0.8715 - accuracy: 0.6678 - val_loss: 0.6911 - val_accuracy: 0.6110\n",
            "Epoch 25/40\n",
            "125/125 [==============================] - ETA: 0s - loss: 0.9017 - accuracy: 0.6945\n",
            "Epoch 25: val_accuracy improved from 0.62400 to 0.63400, saving model to /content/drive/MyDrive/ASDRP/Experiments/simple-cnn-v3/model_2.h5\n",
            "125/125 [==============================] - 7s 57ms/step - loss: 0.9017 - accuracy: 0.6945 - val_loss: 0.9002 - val_accuracy: 0.6340\n",
            "Epoch 26/40\n",
            "125/125 [==============================] - ETA: 0s - loss: 0.8332 - accuracy: 0.7285\n",
            "Epoch 26: val_accuracy did not improve from 0.63400\n",
            "125/125 [==============================] - 6s 45ms/step - loss: 0.8332 - accuracy: 0.7285 - val_loss: 0.9727 - val_accuracy: 0.6130\n",
            "Epoch 27/40\n",
            "125/125 [==============================] - ETA: 0s - loss: 0.7889 - accuracy: 0.7477\n",
            "Epoch 27: val_accuracy improved from 0.63400 to 0.63600, saving model to /content/drive/MyDrive/ASDRP/Experiments/simple-cnn-v3/model_2.h5\n",
            "125/125 [==============================] - 7s 54ms/step - loss: 0.7889 - accuracy: 0.7477 - val_loss: 0.9298 - val_accuracy: 0.6360\n",
            "Epoch 28/40\n",
            "125/125 [==============================] - ETA: 0s - loss: 0.7610 - accuracy: 0.7830\n",
            "Epoch 28: val_accuracy did not improve from 0.63600\n",
            "125/125 [==============================] - 5s 42ms/step - loss: 0.7610 - accuracy: 0.7830 - val_loss: 0.7592 - val_accuracy: 0.6250\n",
            "Epoch 29/40\n",
            "124/125 [============================>.] - ETA: 0s - loss: 0.6379 - accuracy: 0.8140\n",
            "Epoch 29: val_accuracy did not improve from 0.63600\n",
            "125/125 [==============================] - 5s 44ms/step - loss: 0.6417 - accuracy: 0.8138 - val_loss: 1.2659 - val_accuracy: 0.6250\n",
            "Epoch 30/40\n",
            "124/125 [============================>.] - ETA: 0s - loss: 0.5996 - accuracy: 0.8347\n",
            "Epoch 30: val_accuracy did not improve from 0.63600\n",
            "125/125 [==============================] - 5s 43ms/step - loss: 0.5981 - accuracy: 0.8342 - val_loss: 1.1523 - val_accuracy: 0.6250\n",
            "Epoch 31/40\n",
            "124/125 [============================>.] - ETA: 0s - loss: 0.7511 - accuracy: 0.7251\n",
            "Epoch 31: val_accuracy did not improve from 0.63600\n",
            "125/125 [==============================] - 6s 45ms/step - loss: 0.7566 - accuracy: 0.7235 - val_loss: 0.6749 - val_accuracy: 0.5810\n",
            "Epoch 32/40\n",
            "124/125 [============================>.] - ETA: 0s - loss: 0.8277 - accuracy: 0.7036\n",
            "Epoch 32: val_accuracy did not improve from 0.63600\n",
            "125/125 [==============================] - 6s 44ms/step - loss: 0.8380 - accuracy: 0.7028 - val_loss: 0.6906 - val_accuracy: 0.6080\n",
            "Epoch 33/40\n",
            "124/125 [============================>.] - ETA: 0s - loss: 0.8749 - accuracy: 0.6948\n",
            "Epoch 33: val_accuracy did not improve from 0.63600\n",
            "125/125 [==============================] - 5s 43ms/step - loss: 0.8726 - accuracy: 0.6950 - val_loss: 2.4711 - val_accuracy: 0.5800\n",
            "Epoch 34/40\n",
            "125/125 [==============================] - ETA: 0s - loss: 0.8517 - accuracy: 0.6862\n",
            "Epoch 34: val_accuracy did not improve from 0.63600\n",
            "125/125 [==============================] - 6s 49ms/step - loss: 0.8517 - accuracy: 0.6862 - val_loss: 1.4585 - val_accuracy: 0.6150\n",
            "Epoch 35/40\n",
            "125/125 [==============================] - ETA: 0s - loss: 0.7271 - accuracy: 0.7475\n",
            "Epoch 35: val_accuracy did not improve from 0.63600\n",
            "125/125 [==============================] - 5s 42ms/step - loss: 0.7271 - accuracy: 0.7475 - val_loss: 0.7044 - val_accuracy: 0.6120\n",
            "Epoch 36/40\n",
            "124/125 [============================>.] - ETA: 0s - loss: 0.6961 - accuracy: 0.7797\n",
            "Epoch 36: val_accuracy did not improve from 0.63600\n",
            "125/125 [==============================] - 6s 45ms/step - loss: 0.6930 - accuracy: 0.7803 - val_loss: 1.1950 - val_accuracy: 0.6250\n",
            "Epoch 37/40\n",
            "124/125 [============================>.] - ETA: 0s - loss: 0.7185 - accuracy: 0.8206\n",
            "Epoch 37: val_accuracy did not improve from 0.63600\n",
            "125/125 [==============================] - 5s 42ms/step - loss: 0.7155 - accuracy: 0.8210 - val_loss: 0.8045 - val_accuracy: 0.6030\n",
            "Epoch 38/40\n",
            "124/125 [============================>.] - ETA: 0s - loss: 0.5912 - accuracy: 0.8392\n",
            "Epoch 38: val_accuracy did not improve from 0.63600\n",
            "125/125 [==============================] - 5s 43ms/step - loss: 0.5942 - accuracy: 0.8388 - val_loss: 1.3733 - val_accuracy: 0.6220\n",
            "Epoch 39/40\n",
            "125/125 [==============================] - ETA: 0s - loss: 0.7467 - accuracy: 0.7728\n",
            "Epoch 39: val_accuracy did not improve from 0.63600\n",
            "125/125 [==============================] - 5s 43ms/step - loss: 0.7467 - accuracy: 0.7728 - val_loss: 1.0430 - val_accuracy: 0.6030\n",
            "Epoch 40/40\n",
            "125/125 [==============================] - ETA: 0s - loss: 0.7274 - accuracy: 0.7780\n",
            "Epoch 40: val_accuracy did not improve from 0.63600\n",
            "125/125 [==============================] - 5s 43ms/step - loss: 0.7274 - accuracy: 0.7780 - val_loss: 0.8852 - val_accuracy: 0.6000\n"
          ]
        },
        {
          "output_type": "display_data",
          "data": {
            "text/plain": [
              "<Figure size 432x288 with 1 Axes>"
            ],
            "image/png": "[encoded data removed]"
          },
          "metadata": {
            "needs_background": "light"
          }
        },
        {
          "output_type": "display_data",
          "data": {
            "text/plain": [
              "<Figure size 432x288 with 1 Axes>"
            ],
            "image/png": "[encoded data removed]"
          },
          "metadata": {
            "needs_background": "light"
          }
        },
        {
          "output_type": "stream",
          "name": "stdout",
          "text": [
            "32/32 [==============================] - 1s 18ms/step - loss: 0.9298 - accuracy: 0.6360\n",
            "Epoch 1/40\n",
            "124/125 [============================>.] - ETA: 0s - loss: 2.8420 - accuracy: 0.5131\n",
            "Epoch 1: val_accuracy improved from -inf to 0.55000, saving model to /content/drive/MyDrive/ASDRP/Experiments/simple-cnn-v3/model_3.h5\n",
            "125/125 [==============================] - 18s 74ms/step - loss: 2.8253 - accuracy: 0.5135 - val_loss: 0.7088 - val_accuracy: 0.5500\n",
            "Epoch 2/40\n",
            "125/125 [==============================] - ETA: 0s - loss: 1.5032 - accuracy: 0.5340\n",
            "Epoch 2: val_accuracy did not improve from 0.55000\n",
            "125/125 [==============================] - 6s 46ms/step - loss: 1.5032 - accuracy: 0.5340 - val_loss: 1.0394 - val_accuracy: 0.5500\n",
            "Epoch 3/40\n",
            "125/125 [==============================] - ETA: 0s - loss: 1.4399 - accuracy: 0.5440\n",
            "Epoch 3: val_accuracy did not improve from 0.55000\n",
            "125/125 [==============================] - 7s 54ms/step - loss: 1.4399 - accuracy: 0.5440 - val_loss: 1.0149 - val_accuracy: 0.5500\n",
            "Epoch 4/40\n",
            "124/125 [============================>.] - ETA: 0s - loss: 1.1611 - accuracy: 0.5403\n",
            "Epoch 4: val_accuracy did not improve from 0.55000\n",
            "125/125 [==============================] - 5s 42ms/step - loss: 1.1578 - accuracy: 0.5408 - val_loss: 0.7658 - val_accuracy: 0.4500\n",
            "Epoch 5/40\n",
            "125/125 [==============================] - ETA: 0s - loss: 1.2084 - accuracy: 0.5465\n",
            "Epoch 5: val_accuracy did not improve from 0.55000\n",
            "125/125 [==============================] - 5s 43ms/step - loss: 1.2084 - accuracy: 0.5465 - val_loss: 0.7466 - val_accuracy: 0.4500\n",
            "Epoch 6/40\n",
            "125/125 [==============================] - ETA: 0s - loss: 1.2660 - accuracy: 0.5602\n",
            "Epoch 6: val_accuracy did not improve from 0.55000\n",
            "125/125 [==============================] - 5s 43ms/step - loss: 1.2660 - accuracy: 0.5602 - val_loss: 0.7839 - val_accuracy: 0.4530\n",
            "Epoch 7/40\n",
            "125/125 [==============================] - ETA: 0s - loss: 1.1270 - accuracy: 0.5692\n",
            "Epoch 7: val_accuracy improved from 0.55000 to 0.59900, saving model to /content/drive/MyDrive/ASDRP/Experiments/simple-cnn-v3/model_3.h5\n",
            "125/125 [==============================] - 7s 59ms/step - loss: 1.1270 - accuracy: 0.5692 - val_loss: 0.9229 - val_accuracy: 0.5990\n",
            "Epoch 8/40\n",
            "124/125 [============================>.] - ETA: 0s - loss: 1.2446 - accuracy: 0.5862\n",
            "Epoch 8: val_accuracy did not improve from 0.59900\n",
            "125/125 [==============================] - 6s 46ms/step - loss: 1.2543 - accuracy: 0.5867 - val_loss: 0.9874 - val_accuracy: 0.5520\n",
            "Epoch 9/40\n",
            "125/125 [==============================] - ETA: 0s - loss: 1.0981 - accuracy: 0.6233\n",
            "Epoch 9: val_accuracy did not improve from 0.59900\n",
            "125/125 [==============================] - 6s 46ms/step - loss: 1.0981 - accuracy: 0.6233 - val_loss: 0.6845 - val_accuracy: 0.5550\n",
            "Epoch 10/40\n",
            "124/125 [============================>.] - ETA: 0s - loss: 0.9457 - accuracy: 0.6419\n",
            "Epoch 10: val_accuracy improved from 0.59900 to 0.62500, saving model to /content/drive/MyDrive/ASDRP/Experiments/simple-cnn-v3/model_3.h5\n",
            "125/125 [==============================] - 7s 60ms/step - loss: 0.9433 - accuracy: 0.6417 - val_loss: 0.6688 - val_accuracy: 0.6250\n",
            "Epoch 11/40\n",
            "125/125 [==============================] - ETA: 0s - loss: 0.9862 - accuracy: 0.6710\n",
            "Epoch 11: val_accuracy did not improve from 0.62500\n",
            "125/125 [==============================] - 5s 43ms/step - loss: 0.9862 - accuracy: 0.6710 - val_loss: 1.9018 - val_accuracy: 0.6240\n",
            "Epoch 12/40\n",
            "125/125 [==============================] - ETA: 0s - loss: 0.9060 - accuracy: 0.7205\n",
            "Epoch 12: val_accuracy did not improve from 0.62500\n",
            "125/125 [==============================] - 6s 44ms/step - loss: 0.9060 - accuracy: 0.7205 - val_loss: 1.0259 - val_accuracy: 0.6050\n",
            "Epoch 13/40\n",
            "125/125 [==============================] - ETA: 0s - loss: 0.9468 - accuracy: 0.7358\n",
            "Epoch 13: val_accuracy did not improve from 0.62500\n",
            "125/125 [==============================] - 6s 45ms/step - loss: 0.9468 - accuracy: 0.7358 - val_loss: 0.7308 - val_accuracy: 0.6100\n",
            "Epoch 14/40\n",
            "124/125 [============================>.] - ETA: 0s - loss: 0.8537 - accuracy: 0.7553\n",
            "Epoch 14: val_accuracy did not improve from 0.62500\n",
            "125/125 [==============================] - 6s 45ms/step - loss: 0.8611 - accuracy: 0.7545 - val_loss: 4.2968 - val_accuracy: 0.5780\n",
            "Epoch 15/40\n",
            "124/125 [============================>.] - ETA: 0s - loss: 0.9830 - accuracy: 0.7258\n",
            "Epoch 15: val_accuracy did not improve from 0.62500\n",
            "125/125 [==============================] - 6s 45ms/step - loss: 0.9790 - accuracy: 0.7260 - val_loss: 1.5106 - val_accuracy: 0.6250\n",
            "Epoch 16/40\n",
            "124/125 [============================>.] - ETA: 0s - loss: 0.8929 - accuracy: 0.7258\n",
            "Epoch 16: val_accuracy did not improve from 0.62500\n",
            "125/125 [==============================] - 5s 43ms/step - loss: 0.8974 - accuracy: 0.7255 - val_loss: 1.0123 - val_accuracy: 0.6150\n",
            "Epoch 17/40\n",
            "124/125 [============================>.] - ETA: 0s - loss: 0.9552 - accuracy: 0.7193\n",
            "Epoch 17: val_accuracy improved from 0.62500 to 0.64000, saving model to /content/drive/MyDrive/ASDRP/Experiments/simple-cnn-v3/model_3.h5\n",
            "125/125 [==============================] - 7s 60ms/step - loss: 0.9521 - accuracy: 0.7195 - val_loss: 0.6745 - val_accuracy: 0.6400\n",
            "Epoch 18/40\n",
            "125/125 [==============================] - ETA: 0s - loss: 0.8449 - accuracy: 0.7595\n",
            "Epoch 18: val_accuracy did not improve from 0.64000\n",
            "125/125 [==============================] - 6s 44ms/step - loss: 0.8449 - accuracy: 0.7595 - val_loss: 1.4772 - val_accuracy: 0.6190\n",
            "Epoch 19/40\n",
            "125/125 [==============================] - ETA: 0s - loss: 0.6937 - accuracy: 0.8035\n",
            "Epoch 19: val_accuracy did not improve from 0.64000\n",
            "125/125 [==============================] - 6s 45ms/step - loss: 0.6937 - accuracy: 0.8035 - val_loss: 1.0161 - val_accuracy: 0.6250\n",
            "Epoch 20/40\n",
            "125/125 [==============================] - ETA: 0s - loss: 0.7221 - accuracy: 0.8280\n",
            "Epoch 20: val_accuracy did not improve from 0.64000\n",
            "125/125 [==============================] - 6s 45ms/step - loss: 0.7221 - accuracy: 0.8280 - val_loss: 0.8664 - val_accuracy: 0.5590\n",
            "Epoch 21/40\n",
            "125/125 [==============================] - ETA: 0s - loss: 0.8514 - accuracy: 0.7147\n",
            "Epoch 21: val_accuracy did not improve from 0.64000\n",
            "125/125 [==============================] - 5s 43ms/step - loss: 0.8514 - accuracy: 0.7147 - val_loss: 1.0723 - val_accuracy: 0.6160\n",
            "Epoch 22/40\n",
            "125/125 [==============================] - ETA: 0s - loss: 0.9238 - accuracy: 0.7212\n",
            "Epoch 22: val_accuracy did not improve from 0.64000\n",
            "125/125 [==============================] - 6s 45ms/step - loss: 0.9238 - accuracy: 0.7212 - val_loss: 0.7051 - val_accuracy: 0.6010\n",
            "Epoch 23/40\n",
            "125/125 [==============================] - ETA: 0s - loss: 1.0446 - accuracy: 0.5867\n",
            "Epoch 23: val_accuracy did not improve from 0.64000\n",
            "125/125 [==============================] - 5s 44ms/step - loss: 1.0446 - accuracy: 0.5867 - val_loss: 0.6821 - val_accuracy: 0.5520\n",
            "Epoch 24/40\n",
            "124/125 [============================>.] - ETA: 0s - loss: 0.9801 - accuracy: 0.5756\n",
            "Epoch 24: val_accuracy did not improve from 0.64000\n",
            "125/125 [==============================] - 6s 45ms/step - loss: 0.9801 - accuracy: 0.5763 - val_loss: 0.8559 - val_accuracy: 0.5630\n",
            "Epoch 25/40\n",
            "125/125 [==============================] - ETA: 0s - loss: 0.9900 - accuracy: 0.6162\n",
            "Epoch 25: val_accuracy did not improve from 0.64000\n",
            "125/125 [==============================] - 6s 50ms/step - loss: 0.9900 - accuracy: 0.6162 - val_loss: 0.8944 - val_accuracy: 0.5620\n",
            "Epoch 26/40\n",
            "124/125 [============================>.] - ETA: 0s - loss: 1.0543 - accuracy: 0.6217\n",
            "Epoch 26: val_accuracy did not improve from 0.64000\n",
            "125/125 [==============================] - 6s 45ms/step - loss: 1.0517 - accuracy: 0.6217 - val_loss: 1.4290 - val_accuracy: 0.5860\n",
            "Epoch 27/40\n",
            "124/125 [============================>.] - ETA: 0s - loss: 0.9804 - accuracy: 0.6411\n",
            "Epoch 27: val_accuracy did not improve from 0.64000\n",
            "125/125 [==============================] - 5s 43ms/step - loss: 0.9768 - accuracy: 0.6417 - val_loss: 0.8850 - val_accuracy: 0.6050\n",
            "Epoch 28/40\n",
            "124/125 [============================>.] - ETA: 0s - loss: 0.9150 - accuracy: 0.6696\n",
            "Epoch 28: val_accuracy did not improve from 0.64000\n",
            "125/125 [==============================] - 6s 46ms/step - loss: 0.9121 - accuracy: 0.6700 - val_loss: 0.7000 - val_accuracy: 0.6390\n",
            "Epoch 29/40\n",
            "124/125 [============================>.] - ETA: 0s - loss: 0.9279 - accuracy: 0.6807\n",
            "Epoch 29: val_accuracy did not improve from 0.64000\n",
            "125/125 [==============================] - 6s 45ms/step - loss: 0.9244 - accuracy: 0.6810 - val_loss: 2.4095 - val_accuracy: 0.6030\n",
            "Epoch 30/40\n",
            "125/125 [==============================] - ETA: 0s - loss: 0.8995 - accuracy: 0.7180\n",
            "Epoch 30: val_accuracy improved from 0.64000 to 0.64800, saving model to /content/drive/MyDrive/ASDRP/Experiments/simple-cnn-v3/model_3.h5\n",
            "125/125 [==============================] - 7s 60ms/step - loss: 0.8995 - accuracy: 0.7180 - val_loss: 0.7381 - val_accuracy: 0.6480\n",
            "Epoch 31/40\n",
            "124/125 [============================>.] - ETA: 0s - loss: 0.8352 - accuracy: 0.6870\n",
            "Epoch 31: val_accuracy did not improve from 0.64800\n",
            "125/125 [==============================] - 5s 44ms/step - loss: 0.8328 - accuracy: 0.6877 - val_loss: 0.7968 - val_accuracy: 0.5990\n",
            "Epoch 32/40\n",
            "125/125 [==============================] - ETA: 0s - loss: 0.8848 - accuracy: 0.6630\n",
            "Epoch 32: val_accuracy did not improve from 0.64800\n",
            "125/125 [==============================] - 6s 44ms/step - loss: 0.8848 - accuracy: 0.6630 - val_loss: 0.7553 - val_accuracy: 0.6140\n",
            "Epoch 33/40\n",
            "124/125 [============================>.] - ETA: 0s - loss: 0.8069 - accuracy: 0.7175\n",
            "Epoch 33: val_accuracy did not improve from 0.64800\n",
            "125/125 [==============================] - 6s 45ms/step - loss: 0.8057 - accuracy: 0.7175 - val_loss: 0.9085 - val_accuracy: 0.6070\n",
            "Epoch 34/40\n",
            "124/125 [============================>.] - ETA: 0s - loss: 0.7696 - accuracy: 0.7306\n",
            "Epoch 34: val_accuracy did not improve from 0.64800\n",
            "125/125 [==============================] - 5s 43ms/step - loss: 0.7695 - accuracy: 0.7303 - val_loss: 0.6662 - val_accuracy: 0.6250\n",
            "Epoch 35/40\n",
            "124/125 [============================>.] - ETA: 0s - loss: 0.7946 - accuracy: 0.7268\n",
            "Epoch 35: val_accuracy did not improve from 0.64800\n",
            "125/125 [==============================] - 6s 45ms/step - loss: 0.7929 - accuracy: 0.7265 - val_loss: 0.7050 - val_accuracy: 0.5900\n",
            "Epoch 36/40\n",
            "124/125 [============================>.] - ETA: 0s - loss: 0.8196 - accuracy: 0.7072\n",
            "Epoch 36: val_accuracy did not improve from 0.64800\n",
            "125/125 [==============================] - 5s 43ms/step - loss: 0.8221 - accuracy: 0.7065 - val_loss: 1.1691 - val_accuracy: 0.5930\n",
            "Epoch 37/40\n",
            "124/125 [============================>.] - ETA: 0s - loss: 0.7980 - accuracy: 0.7303\n",
            "Epoch 37: val_accuracy did not improve from 0.64800\n",
            "125/125 [==============================] - 6s 45ms/step - loss: 0.7990 - accuracy: 0.7303 - val_loss: 0.8401 - val_accuracy: 0.6240\n",
            "Epoch 38/40\n",
            "124/125 [============================>.] - ETA: 0s - loss: 0.7539 - accuracy: 0.7434\n",
            "Epoch 38: val_accuracy did not improve from 0.64800\n",
            "125/125 [==============================] - 5s 43ms/step - loss: 0.7583 - accuracy: 0.7427 - val_loss: 0.7902 - val_accuracy: 0.6270\n",
            "Epoch 39/40\n",
            "125/125 [==============================] - ETA: 0s - loss: 0.6616 - accuracy: 0.7713\n",
            "Epoch 39: val_accuracy did not improve from 0.64800\n",
            "125/125 [==============================] - 5s 44ms/step - loss: 0.6616 - accuracy: 0.7713 - val_loss: 0.7401 - val_accuracy: 0.6110\n",
            "Epoch 40/40\n",
            "124/125 [============================>.] - ETA: 0s - loss: 1.0207 - accuracy: 0.6210\n",
            "Epoch 40: val_accuracy did not improve from 0.64800\n",
            "125/125 [==============================] - 5s 43ms/step - loss: 1.0235 - accuracy: 0.6208 - val_loss: 1.5802 - val_accuracy: 0.5590\n"
          ]
        },
        {
          "output_type": "display_data",
          "data": {
            "text/plain": [
              "<Figure size 432x288 with 1 Axes>"
            ],
            "image/png": "[encoded data removed]"
          },
          "metadata": {
            "needs_background": "light"
          }
        },
        {
          "output_type": "display_data",
          "data": {
            "text/plain": [
              "<Figure size 432x288 with 1 Axes>"
            ],
            "image/png": "[encoded data removed]"
          },
          "metadata": {
            "needs_background": "light"
          }
        },
        {
          "output_type": "stream",
          "name": "stdout",
          "text": [
            "32/32 [==============================] - 1s 18ms/step - loss: 0.7381 - accuracy: 0.6480\n",
            "Epoch 1/40\n",
            "125/125 [==============================] - ETA: 0s - loss: 2.9639 - accuracy: 0.5142\n",
            "Epoch 1: val_accuracy improved from -inf to 0.55100, saving model to /content/drive/MyDrive/ASDRP/Experiments/simple-cnn-v3/model_4.h5\n",
            "125/125 [==============================] - 17s 64ms/step - loss: 2.9639 - accuracy: 0.5142 - val_loss: 0.9509 - val_accuracy: 0.5510\n",
            "Epoch 2/40\n",
            "124/125 [============================>.] - ETA: 0s - loss: 1.4695 - accuracy: 0.5156\n",
            "Epoch 2: val_accuracy did not improve from 0.55100\n",
            "125/125 [==============================] - 5s 43ms/step - loss: 1.4730 - accuracy: 0.5145 - val_loss: 0.8124 - val_accuracy: 0.5510\n",
            "Epoch 3/40\n",
            "124/125 [============================>.] - ETA: 0s - loss: 1.2681 - accuracy: 0.5325\n",
            "Epoch 3: val_accuracy did not improve from 0.55100\n",
            "125/125 [==============================] - 6s 47ms/step - loss: 1.2864 - accuracy: 0.5322 - val_loss: 1.1851 - val_accuracy: 0.4490\n",
            "Epoch 4/40\n",
            "124/125 [============================>.] - ETA: 0s - loss: 1.1439 - accuracy: 0.5441\n",
            "Epoch 4: val_accuracy did not improve from 0.55100\n",
            "125/125 [==============================] - 5s 43ms/step - loss: 1.1406 - accuracy: 0.5443 - val_loss: 0.6901 - val_accuracy: 0.5510\n",
            "Epoch 5/40\n",
            "125/125 [==============================] - ETA: 0s - loss: 1.1262 - accuracy: 0.5585\n",
            "Epoch 5: val_accuracy did not improve from 0.55100\n",
            "125/125 [==============================] - 5s 43ms/step - loss: 1.1262 - accuracy: 0.5585 - val_loss: 0.6852 - val_accuracy: 0.5510\n",
            "Epoch 6/40\n",
            "125/125 [==============================] - ETA: 0s - loss: 1.1637 - accuracy: 0.5527\n",
            "Epoch 6: val_accuracy did not improve from 0.55100\n",
            "125/125 [==============================] - 5s 44ms/step - loss: 1.1637 - accuracy: 0.5527 - val_loss: 5.9388 - val_accuracy: 0.5490\n",
            "Epoch 7/40\n",
            "125/125 [==============================] - ETA: 0s - loss: 1.0679 - accuracy: 0.5360\n",
            "Epoch 7: val_accuracy did not improve from 0.55100\n",
            "125/125 [==============================] - 5s 44ms/step - loss: 1.0679 - accuracy: 0.5360 - val_loss: 3.6630 - val_accuracy: 0.5270\n",
            "Epoch 8/40\n",
            "124/125 [============================>.] - ETA: 0s - loss: 1.0624 - accuracy: 0.5471\n",
            "Epoch 8: val_accuracy improved from 0.55100 to 0.55300, saving model to /content/drive/MyDrive/ASDRP/Experiments/simple-cnn-v3/model_4.h5\n",
            "125/125 [==============================] - 8s 63ms/step - loss: 1.0729 - accuracy: 0.5455 - val_loss: 3.5040 - val_accuracy: 0.5530\n",
            "Epoch 9/40\n",
            "124/125 [============================>.] - ETA: 0s - loss: 1.0506 - accuracy: 0.5748\n",
            "Epoch 9: val_accuracy did not improve from 0.55300\n",
            "125/125 [==============================] - 6s 45ms/step - loss: 1.0510 - accuracy: 0.5745 - val_loss: 1.2130 - val_accuracy: 0.5050\n",
            "Epoch 10/40\n",
            "125/125 [==============================] - ETA: 0s - loss: 1.0195 - accuracy: 0.5660\n",
            "Epoch 10: val_accuracy did not improve from 0.55300\n",
            "125/125 [==============================] - 6s 45ms/step - loss: 1.0195 - accuracy: 0.5660 - val_loss: 1.4370 - val_accuracy: 0.5240\n",
            "Epoch 11/40\n",
            "125/125 [==============================] - ETA: 0s - loss: 1.0616 - accuracy: 0.6112\n",
            "Epoch 11: val_accuracy improved from 0.55300 to 0.58500, saving model to /content/drive/MyDrive/ASDRP/Experiments/simple-cnn-v3/model_4.h5\n",
            "125/125 [==============================] - 8s 62ms/step - loss: 1.0616 - accuracy: 0.6112 - val_loss: 0.9483 - val_accuracy: 0.5850\n",
            "Epoch 12/40\n",
            "124/125 [============================>.] - ETA: 0s - loss: 1.0372 - accuracy: 0.6023\n",
            "Epoch 12: val_accuracy did not improve from 0.58500\n",
            "125/125 [==============================] - 6s 44ms/step - loss: 1.0335 - accuracy: 0.6022 - val_loss: 0.7474 - val_accuracy: 0.5800\n",
            "Epoch 13/40\n",
            "124/125 [============================>.] - ETA: 0s - loss: 1.0782 - accuracy: 0.5633\n",
            "Epoch 13: val_accuracy did not improve from 0.58500\n",
            "125/125 [==============================] - 6s 45ms/step - loss: 1.0837 - accuracy: 0.5633 - val_loss: 21.4672 - val_accuracy: 0.5570\n",
            "Epoch 14/40\n",
            "124/125 [============================>.] - ETA: 0s - loss: 1.1129 - accuracy: 0.5927\n",
            "Epoch 14: val_accuracy did not improve from 0.58500\n",
            "125/125 [==============================] - 5s 43ms/step - loss: 1.1097 - accuracy: 0.5922 - val_loss: 26.0769 - val_accuracy: 0.5850\n",
            "Epoch 15/40\n",
            "125/125 [==============================] - ETA: 0s - loss: 1.0335 - accuracy: 0.6170\n",
            "Epoch 15: val_accuracy did not improve from 0.58500\n",
            "125/125 [==============================] - 6s 45ms/step - loss: 1.0335 - accuracy: 0.6170 - val_loss: 6.2876 - val_accuracy: 0.5730\n",
            "Epoch 16/40\n",
            "125/125 [==============================] - ETA: 0s - loss: 1.0296 - accuracy: 0.6258\n",
            "Epoch 16: val_accuracy improved from 0.58500 to 0.61500, saving model to /content/drive/MyDrive/ASDRP/Experiments/simple-cnn-v3/model_4.h5\n",
            "125/125 [==============================] - 7s 57ms/step - loss: 1.0296 - accuracy: 0.6258 - val_loss: 0.7743 - val_accuracy: 0.6150\n",
            "Epoch 17/40\n",
            "125/125 [==============================] - ETA: 0s - loss: 0.9848 - accuracy: 0.6550\n",
            "Epoch 17: val_accuracy did not improve from 0.61500\n",
            "125/125 [==============================] - 5s 41ms/step - loss: 0.9848 - accuracy: 0.6550 - val_loss: 1.2237 - val_accuracy: 0.5820\n",
            "Epoch 18/40\n",
            "124/125 [============================>.] - ETA: 0s - loss: 0.9531 - accuracy: 0.6885\n",
            "Epoch 18: val_accuracy did not improve from 0.61500\n",
            "125/125 [==============================] - 5s 44ms/step - loss: 0.9564 - accuracy: 0.6890 - val_loss: 0.9829 - val_accuracy: 0.6070\n",
            "Epoch 19/40\n",
            "125/125 [==============================] - ETA: 0s - loss: 0.8425 - accuracy: 0.7185\n",
            "Epoch 19: val_accuracy did not improve from 0.61500\n",
            "125/125 [==============================] - 5s 41ms/step - loss: 0.8425 - accuracy: 0.7185 - val_loss: 0.7020 - val_accuracy: 0.6130\n",
            "Epoch 20/40\n",
            "124/125 [============================>.] - ETA: 0s - loss: 0.9427 - accuracy: 0.7185\n",
            "Epoch 20: val_accuracy improved from 0.61500 to 0.63200, saving model to /content/drive/MyDrive/ASDRP/Experiments/simple-cnn-v3/model_4.h5\n",
            "125/125 [==============================] - 8s 63ms/step - loss: 0.9553 - accuracy: 0.7188 - val_loss: 0.8239 - val_accuracy: 0.6320\n",
            "Epoch 21/40\n",
            "124/125 [============================>.] - ETA: 0s - loss: 0.8594 - accuracy: 0.7704\n",
            "Epoch 21: val_accuracy improved from 0.63200 to 0.65400, saving model to /content/drive/MyDrive/ASDRP/Experiments/simple-cnn-v3/model_4.h5\n",
            "125/125 [==============================] - 7s 58ms/step - loss: 0.8581 - accuracy: 0.7690 - val_loss: 0.8880 - val_accuracy: 0.6540\n",
            "Epoch 22/40\n",
            "125/125 [==============================] - ETA: 0s - loss: 0.8430 - accuracy: 0.7725\n",
            "Epoch 22: val_accuracy did not improve from 0.65400\n",
            "125/125 [==============================] - 6s 44ms/step - loss: 0.8430 - accuracy: 0.7725 - val_loss: 0.7721 - val_accuracy: 0.6240\n",
            "Epoch 23/40\n",
            "124/125 [============================>.] - ETA: 0s - loss: 0.8552 - accuracy: 0.7560\n",
            "Epoch 23: val_accuracy did not improve from 0.65400\n",
            "125/125 [==============================] - 5s 43ms/step - loss: 0.8525 - accuracy: 0.7555 - val_loss: 2.2088 - val_accuracy: 0.6450\n",
            "Epoch 24/40\n",
            "125/125 [==============================] - ETA: 0s - loss: 0.8117 - accuracy: 0.7908\n",
            "Epoch 24: val_accuracy did not improve from 0.65400\n",
            "125/125 [==============================] - 5s 40ms/step - loss: 0.8117 - accuracy: 0.7908 - val_loss: 0.7017 - val_accuracy: 0.6140\n",
            "Epoch 25/40\n",
            "125/125 [==============================] - ETA: 0s - loss: 0.9005 - accuracy: 0.7222\n",
            "Epoch 25: val_accuracy did not improve from 0.65400\n",
            "125/125 [==============================] - 5s 40ms/step - loss: 0.9005 - accuracy: 0.7222 - val_loss: 9.5150 - val_accuracy: 0.5990\n",
            "Epoch 26/40\n",
            "125/125 [==============================] - ETA: 0s - loss: 0.7406 - accuracy: 0.7283\n",
            "Epoch 26: val_accuracy did not improve from 0.65400\n",
            "125/125 [==============================] - 5s 40ms/step - loss: 0.7406 - accuracy: 0.7283 - val_loss: 0.7032 - val_accuracy: 0.5670\n",
            "Epoch 27/40\n",
            "124/125 [============================>.] - ETA: 0s - loss: 0.8838 - accuracy: 0.6855\n",
            "Epoch 27: val_accuracy did not improve from 0.65400\n",
            "125/125 [==============================] - 5s 40ms/step - loss: 0.8809 - accuracy: 0.6860 - val_loss: 0.7038 - val_accuracy: 0.6300\n",
            "Epoch 28/40\n",
            "124/125 [============================>.] - ETA: 0s - loss: 0.9081 - accuracy: 0.7455\n",
            "Epoch 28: val_accuracy improved from 0.65400 to 0.66000, saving model to /content/drive/MyDrive/ASDRP/Experiments/simple-cnn-v3/model_4.h5\n",
            "125/125 [==============================] - 7s 59ms/step - loss: 0.9051 - accuracy: 0.7455 - val_loss: 0.7414 - val_accuracy: 0.6600\n",
            "Epoch 29/40\n",
            "124/125 [============================>.] - ETA: 0s - loss: 0.7883 - accuracy: 0.7860\n",
            "Epoch 29: val_accuracy did not improve from 0.66000\n",
            "125/125 [==============================] - 6s 44ms/step - loss: 0.7878 - accuracy: 0.7853 - val_loss: 0.7849 - val_accuracy: 0.5500\n",
            "Epoch 30/40\n",
            "124/125 [============================>.] - ETA: 0s - loss: 0.7855 - accuracy: 0.7132\n",
            "Epoch 30: val_accuracy did not improve from 0.66000\n",
            "125/125 [==============================] - 6s 45ms/step - loss: 0.7842 - accuracy: 0.7122 - val_loss: 20.5027 - val_accuracy: 0.5430\n",
            "Epoch 31/40\n",
            "125/125 [==============================] - ETA: 0s - loss: 0.9149 - accuracy: 0.6270\n",
            "Epoch 31: val_accuracy did not improve from 0.66000\n",
            "125/125 [==============================] - 5s 41ms/step - loss: 0.9149 - accuracy: 0.6270 - val_loss: 1.1296 - val_accuracy: 0.5660\n",
            "Epoch 32/40\n",
            "125/125 [==============================] - ETA: 0s - loss: 0.8648 - accuracy: 0.6643\n",
            "Epoch 32: val_accuracy did not improve from 0.66000\n",
            "125/125 [==============================] - 5s 43ms/step - loss: 0.8648 - accuracy: 0.6643 - val_loss: 0.6851 - val_accuracy: 0.6210\n",
            "Epoch 33/40\n",
            "124/125 [============================>.] - ETA: 0s - loss: 0.8379 - accuracy: 0.7026\n",
            "Epoch 33: val_accuracy did not improve from 0.66000\n",
            "125/125 [==============================] - 5s 41ms/step - loss: 0.8349 - accuracy: 0.7032 - val_loss: 0.7084 - val_accuracy: 0.6510\n",
            "Epoch 34/40\n",
            "125/125 [==============================] - ETA: 0s - loss: 0.7663 - accuracy: 0.7240\n",
            "Epoch 34: val_accuracy did not improve from 0.66000\n",
            "125/125 [==============================] - 5s 40ms/step - loss: 0.7663 - accuracy: 0.7240 - val_loss: 0.6802 - val_accuracy: 0.6290\n",
            "Epoch 35/40\n",
            "124/125 [============================>.] - ETA: 0s - loss: 0.7133 - accuracy: 0.7235\n",
            "Epoch 35: val_accuracy did not improve from 0.66000\n",
            "125/125 [==============================] - 5s 41ms/step - loss: 0.7139 - accuracy: 0.7222 - val_loss: 0.6719 - val_accuracy: 0.6290\n",
            "Epoch 36/40\n",
            "125/125 [==============================] - ETA: 0s - loss: 0.8166 - accuracy: 0.6920\n",
            "Epoch 36: val_accuracy did not improve from 0.66000\n",
            "125/125 [==============================] - 5s 40ms/step - loss: 0.8166 - accuracy: 0.6920 - val_loss: 2.4202 - val_accuracy: 0.6050\n",
            "Epoch 37/40\n",
            "125/125 [==============================] - ETA: 0s - loss: 0.7569 - accuracy: 0.7065\n",
            "Epoch 37: val_accuracy did not improve from 0.66000\n",
            "125/125 [==============================] - 5s 40ms/step - loss: 0.7569 - accuracy: 0.7065 - val_loss: 1.2529 - val_accuracy: 0.6210\n",
            "Epoch 38/40\n",
            "125/125 [==============================] - ETA: 0s - loss: 0.6915 - accuracy: 0.7480\n",
            "Epoch 38: val_accuracy improved from 0.66000 to 0.66100, saving model to /content/drive/MyDrive/ASDRP/Experiments/simple-cnn-v3/model_4.h5\n",
            "125/125 [==============================] - 7s 55ms/step - loss: 0.6915 - accuracy: 0.7480 - val_loss: 0.7274 - val_accuracy: 0.6610\n",
            "Epoch 39/40\n",
            "124/125 [============================>.] - ETA: 0s - loss: 0.6419 - accuracy: 0.7664\n",
            "Epoch 39: val_accuracy did not improve from 0.66100\n",
            "125/125 [==============================] - 5s 42ms/step - loss: 0.6422 - accuracy: 0.7657 - val_loss: 0.8233 - val_accuracy: 0.6510\n",
            "Epoch 40/40\n",
            "125/125 [==============================] - ETA: 0s - loss: 0.6425 - accuracy: 0.8083\n",
            "Epoch 40: val_accuracy did not improve from 0.66100\n",
            "125/125 [==============================] - 5s 42ms/step - loss: 0.6425 - accuracy: 0.8083 - val_loss: 0.7348 - val_accuracy: 0.6440\n"
          ]
        },
        {
          "output_type": "display_data",
          "data": {
            "text/plain": [
              "<Figure size 432x288 with 1 Axes>"
            ],
            "image/png": "[encoded data removed]"
          },
          "metadata": {
            "needs_background": "light"
          }
        },
        {
          "output_type": "display_data",
          "data": {
            "text/plain": [
              "<Figure size 432x288 with 1 Axes>"
            ],
            "image/png": "[encoded data removed]"
          },
          "metadata": {
            "needs_background": "light"
          }
        },
        {
          "output_type": "stream",
          "name": "stdout",
          "text": [
            "32/32 [==============================] - 0s 13ms/step - loss: 0.7274 - accuracy: 0.6610\n",
            "Epoch 1/40\n",
            "125/125 [==============================] - ETA: 0s - loss: 2.8050 - accuracy: 0.5192\n",
            "Epoch 1: val_accuracy improved from -inf to 0.55100, saving model to /content/drive/MyDrive/ASDRP/Experiments/simple-cnn-v3/model_5.h5\n",
            "125/125 [==============================] - 17s 74ms/step - loss: 2.8050 - accuracy: 0.5192 - val_loss: 0.8032 - val_accuracy: 0.5510\n",
            "Epoch 2/40\n",
            "125/125 [==============================] - ETA: 0s - loss: 1.3840 - accuracy: 0.5140\n",
            "Epoch 2: val_accuracy did not improve from 0.55100\n",
            "125/125 [==============================] - 6s 50ms/step - loss: 1.3840 - accuracy: 0.5140 - val_loss: 0.7363 - val_accuracy: 0.5510\n",
            "Epoch 3/40\n",
            "124/125 [============================>.] - ETA: 0s - loss: 1.3941 - accuracy: 0.5280\n",
            "Epoch 3: val_accuracy did not improve from 0.55100\n",
            "125/125 [==============================] - 5s 42ms/step - loss: 1.3897 - accuracy: 0.5285 - val_loss: 0.6981 - val_accuracy: 0.4490\n",
            "Epoch 4/40\n",
            "124/125 [============================>.] - ETA: 0s - loss: 1.2449 - accuracy: 0.5630\n",
            "Epoch 4: val_accuracy did not improve from 0.55100\n",
            "125/125 [==============================] - 5s 41ms/step - loss: 1.2403 - accuracy: 0.5625 - val_loss: 0.8421 - val_accuracy: 0.4490\n",
            "Epoch 5/40\n",
            "125/125 [==============================] - ETA: 0s - loss: 1.1802 - accuracy: 0.5645\n",
            "Epoch 5: val_accuracy improved from 0.55100 to 0.55700, saving model to /content/drive/MyDrive/ASDRP/Experiments/simple-cnn-v3/model_5.h5\n",
            "125/125 [==============================] - 7s 56ms/step - loss: 1.1802 - accuracy: 0.5645 - val_loss: 0.6801 - val_accuracy: 0.5570\n",
            "Epoch 6/40\n",
            "125/125 [==============================] - ETA: 0s - loss: 1.1656 - accuracy: 0.5778\n",
            "Epoch 6: val_accuracy improved from 0.55700 to 0.56100, saving model to /content/drive/MyDrive/ASDRP/Experiments/simple-cnn-v3/model_5.h5\n",
            "125/125 [==============================] - 6s 49ms/step - loss: 1.1656 - accuracy: 0.5778 - val_loss: 0.6731 - val_accuracy: 0.5610\n",
            "Epoch 7/40\n",
            "125/125 [==============================] - ETA: 0s - loss: 1.3075 - accuracy: 0.5943\n",
            "Epoch 7: val_accuracy improved from 0.56100 to 0.58100, saving model to /content/drive/MyDrive/ASDRP/Experiments/simple-cnn-v3/model_5.h5\n",
            "125/125 [==============================] - 6s 49ms/step - loss: 1.3075 - accuracy: 0.5943 - val_loss: 0.8839 - val_accuracy: 0.5810\n",
            "Epoch 8/40\n",
            "124/125 [============================>.] - ETA: 0s - loss: 1.1272 - accuracy: 0.6144\n",
            "Epoch 8: val_accuracy did not improve from 0.58100\n",
            "125/125 [==============================] - 5s 43ms/step - loss: 1.1234 - accuracy: 0.6145 - val_loss: 1.4804 - val_accuracy: 0.5380\n",
            "Epoch 9/40\n",
            "124/125 [============================>.] - ETA: 0s - loss: 1.1879 - accuracy: 0.6144\n",
            "Epoch 9: val_accuracy did not improve from 0.58100\n",
            "125/125 [==============================] - 6s 45ms/step - loss: 1.1847 - accuracy: 0.6140 - val_loss: 21.0323 - val_accuracy: 0.5150\n",
            "Epoch 10/40\n",
            "125/125 [==============================] - ETA: 0s - loss: 1.2437 - accuracy: 0.5723\n",
            "Epoch 10: val_accuracy did not improve from 0.58100\n",
            "125/125 [==============================] - 5s 41ms/step - loss: 1.2437 - accuracy: 0.5723 - val_loss: 1.7399 - val_accuracy: 0.5560\n",
            "Epoch 11/40\n",
            "125/125 [==============================] - ETA: 0s - loss: 1.1003 - accuracy: 0.5428\n",
            "Epoch 11: val_accuracy did not improve from 0.58100\n",
            "125/125 [==============================] - 5s 41ms/step - loss: 1.1003 - accuracy: 0.5428 - val_loss: 2.0821 - val_accuracy: 0.5510\n",
            "Epoch 12/40\n",
            "125/125 [==============================] - ETA: 0s - loss: 1.2364 - accuracy: 0.5257\n",
            "Epoch 12: val_accuracy did not improve from 0.58100\n",
            "125/125 [==============================] - 5s 43ms/step - loss: 1.2364 - accuracy: 0.5257 - val_loss: 0.7981 - val_accuracy: 0.5630\n",
            "Epoch 13/40\n",
            "125/125 [==============================] - ETA: 0s - loss: 1.1926 - accuracy: 0.5383\n",
            "Epoch 13: val_accuracy did not improve from 0.58100\n",
            "125/125 [==============================] - 5s 41ms/step - loss: 1.1926 - accuracy: 0.5383 - val_loss: 1.1028 - val_accuracy: 0.5510\n",
            "Epoch 14/40\n",
            "125/125 [==============================] - ETA: 0s - loss: 1.1702 - accuracy: 0.5282\n",
            "Epoch 14: val_accuracy did not improve from 0.58100\n",
            "125/125 [==============================] - 5s 40ms/step - loss: 1.1702 - accuracy: 0.5282 - val_loss: 0.7538 - val_accuracy: 0.5520\n",
            "Epoch 15/40\n",
            "125/125 [==============================] - ETA: 0s - loss: 1.1302 - accuracy: 0.5525\n",
            "Epoch 15: val_accuracy did not improve from 0.58100\n",
            "125/125 [==============================] - 5s 40ms/step - loss: 1.1302 - accuracy: 0.5525 - val_loss: 0.8831 - val_accuracy: 0.5660\n",
            "Epoch 16/40\n",
            "125/125 [==============================] - ETA: 0s - loss: 1.0817 - accuracy: 0.5585\n",
            "Epoch 16: val_accuracy did not improve from 0.58100\n",
            "125/125 [==============================] - 5s 42ms/step - loss: 1.0817 - accuracy: 0.5585 - val_loss: 0.7084 - val_accuracy: 0.5690\n",
            "Epoch 17/40\n",
            "125/125 [==============================] - ETA: 0s - loss: 1.1225 - accuracy: 0.5610\n",
            "Epoch 17: val_accuracy did not improve from 0.58100\n",
            "125/125 [==============================] - 5s 40ms/step - loss: 1.1225 - accuracy: 0.5610 - val_loss: 0.7187 - val_accuracy: 0.5570\n",
            "Epoch 18/40\n",
            "125/125 [==============================] - ETA: 0s - loss: 1.1177 - accuracy: 0.5465\n",
            "Epoch 18: val_accuracy did not improve from 0.58100\n",
            "125/125 [==============================] - 5s 40ms/step - loss: 1.1177 - accuracy: 0.5465 - val_loss: 56.1659 - val_accuracy: 0.5530\n",
            "Epoch 19/40\n",
            "125/125 [==============================] - ETA: 0s - loss: 1.0835 - accuracy: 0.6037\n",
            "Epoch 19: val_accuracy improved from 0.58100 to 0.59400, saving model to /content/drive/MyDrive/ASDRP/Experiments/simple-cnn-v3/model_5.h5\n",
            "125/125 [==============================] - 7s 59ms/step - loss: 1.0835 - accuracy: 0.6037 - val_loss: 0.7843 - val_accuracy: 0.5940\n",
            "Epoch 20/40\n",
            "125/125 [==============================] - ETA: 0s - loss: 1.1230 - accuracy: 0.5972\n",
            "Epoch 20: val_accuracy did not improve from 0.59400\n",
            "125/125 [==============================] - 6s 44ms/step - loss: 1.1230 - accuracy: 0.5972 - val_loss: 0.6823 - val_accuracy: 0.5640\n",
            "Epoch 21/40\n",
            "124/125 [============================>.] - ETA: 0s - loss: 1.0331 - accuracy: 0.6205\n",
            "Epoch 21: val_accuracy improved from 0.59400 to 0.62100, saving model to /content/drive/MyDrive/ASDRP/Experiments/simple-cnn-v3/model_5.h5\n",
            "125/125 [==============================] - 7s 58ms/step - loss: 1.0313 - accuracy: 0.6200 - val_loss: 0.7180 - val_accuracy: 0.6210\n",
            "Epoch 22/40\n",
            "124/125 [============================>.] - ETA: 0s - loss: 0.9807 - accuracy: 0.6104\n",
            "Epoch 22: val_accuracy did not improve from 0.62100\n",
            "125/125 [==============================] - 5s 42ms/step - loss: 0.9839 - accuracy: 0.6102 - val_loss: 3.3277 - val_accuracy: 0.5930\n",
            "Epoch 23/40\n",
            "125/125 [==============================] - ETA: 0s - loss: 0.9896 - accuracy: 0.6330\n",
            "Epoch 23: val_accuracy did not improve from 0.62100\n",
            "125/125 [==============================] - 5s 43ms/step - loss: 0.9896 - accuracy: 0.6330 - val_loss: 1.2379 - val_accuracy: 0.6080\n",
            "Epoch 24/40\n",
            "124/125 [============================>.] - ETA: 0s - loss: 0.9432 - accuracy: 0.6487\n",
            "Epoch 24: val_accuracy improved from 0.62100 to 0.63200, saving model to /content/drive/MyDrive/ASDRP/Experiments/simple-cnn-v3/model_5.h5\n",
            "125/125 [==============================] - 8s 63ms/step - loss: 0.9407 - accuracy: 0.6492 - val_loss: 0.6805 - val_accuracy: 0.6320\n",
            "Epoch 25/40\n",
            "125/125 [==============================] - ETA: 0s - loss: 0.9507 - accuracy: 0.6488\n",
            "Epoch 25: val_accuracy did not improve from 0.63200\n",
            "125/125 [==============================] - 6s 45ms/step - loss: 0.9507 - accuracy: 0.6488 - val_loss: 0.8417 - val_accuracy: 0.5390\n",
            "Epoch 26/40\n",
            "125/125 [==============================] - ETA: 0s - loss: 0.9248 - accuracy: 0.6565\n",
            "Epoch 26: val_accuracy did not improve from 0.63200\n",
            "125/125 [==============================] - 5s 42ms/step - loss: 0.9248 - accuracy: 0.6565 - val_loss: 0.6605 - val_accuracy: 0.5900\n",
            "Epoch 27/40\n",
            "125/125 [==============================] - ETA: 0s - loss: 0.9744 - accuracy: 0.6633\n",
            "Epoch 27: val_accuracy did not improve from 0.63200\n",
            "125/125 [==============================] - 5s 40ms/step - loss: 0.9744 - accuracy: 0.6633 - val_loss: 0.6956 - val_accuracy: 0.5490\n",
            "Epoch 28/40\n",
            "125/125 [==============================] - ETA: 0s - loss: 0.9169 - accuracy: 0.6555\n",
            "Epoch 28: val_accuracy did not improve from 0.63200\n",
            "125/125 [==============================] - 5s 40ms/step - loss: 0.9169 - accuracy: 0.6555 - val_loss: 0.8530 - val_accuracy: 0.6240\n",
            "Epoch 29/40\n",
            "125/125 [==============================] - ETA: 0s - loss: 0.8637 - accuracy: 0.6695\n",
            "Epoch 29: val_accuracy improved from 0.63200 to 0.63700, saving model to /content/drive/MyDrive/ASDRP/Experiments/simple-cnn-v3/model_5.h5\n",
            "125/125 [==============================] - 8s 61ms/step - loss: 0.8637 - accuracy: 0.6695 - val_loss: 1.9056 - val_accuracy: 0.6370\n",
            "Epoch 30/40\n",
            "125/125 [==============================] - ETA: 0s - loss: 0.8708 - accuracy: 0.7110\n",
            "Epoch 30: val_accuracy did not improve from 0.63700\n",
            "125/125 [==============================] - 5s 42ms/step - loss: 0.8708 - accuracy: 0.7110 - val_loss: 1.1130 - val_accuracy: 0.6040\n",
            "Epoch 31/40\n",
            "124/125 [============================>.] - ETA: 0s - loss: 0.8750 - accuracy: 0.7114\n",
            "Epoch 31: val_accuracy did not improve from 0.63700\n",
            "125/125 [==============================] - 5s 42ms/step - loss: 0.8744 - accuracy: 0.7113 - val_loss: 1.2852 - val_accuracy: 0.5690\n",
            "Epoch 32/40\n",
            "125/125 [==============================] - ETA: 0s - loss: 0.8145 - accuracy: 0.7475\n",
            "Epoch 32: val_accuracy did not improve from 0.63700\n",
            "125/125 [==============================] - 5s 43ms/step - loss: 0.8145 - accuracy: 0.7475 - val_loss: 0.8889 - val_accuracy: 0.6370\n",
            "Epoch 33/40\n",
            "125/125 [==============================] - ETA: 0s - loss: 0.7140 - accuracy: 0.7947\n",
            "Epoch 33: val_accuracy improved from 0.63700 to 0.64500, saving model to /content/drive/MyDrive/ASDRP/Experiments/simple-cnn-v3/model_5.h5\n",
            "125/125 [==============================] - 7s 56ms/step - loss: 0.7140 - accuracy: 0.7947 - val_loss: 0.9295 - val_accuracy: 0.6450\n",
            "Epoch 34/40\n",
            "125/125 [==============================] - ETA: 0s - loss: 0.7026 - accuracy: 0.8098\n",
            "Epoch 34: val_accuracy did not improve from 0.64500\n",
            "125/125 [==============================] - 5s 41ms/step - loss: 0.7026 - accuracy: 0.8098 - val_loss: 1.0767 - val_accuracy: 0.6420\n",
            "Epoch 35/40\n",
            "124/125 [============================>.] - ETA: 0s - loss: 0.7123 - accuracy: 0.8165\n",
            "Epoch 35: val_accuracy did not improve from 0.64500\n",
            "125/125 [==============================] - 5s 42ms/step - loss: 0.7101 - accuracy: 0.8163 - val_loss: 0.7721 - val_accuracy: 0.6370\n",
            "Epoch 36/40\n",
            "125/125 [==============================] - ETA: 0s - loss: 0.6852 - accuracy: 0.8405\n",
            "Epoch 36: val_accuracy did not improve from 0.64500\n",
            "125/125 [==============================] - 5s 43ms/step - loss: 0.6852 - accuracy: 0.8405 - val_loss: 1.1109 - val_accuracy: 0.6360\n",
            "Epoch 37/40\n",
            "124/125 [============================>.] - ETA: 0s - loss: 0.5863 - accuracy: 0.8634\n",
            "Epoch 37: val_accuracy improved from 0.64500 to 0.66700, saving model to /content/drive/MyDrive/ASDRP/Experiments/simple-cnn-v3/model_5.h5\n",
            "125/125 [==============================] - 7s 57ms/step - loss: 0.5867 - accuracy: 0.8627 - val_loss: 1.4362 - val_accuracy: 0.6670\n",
            "Epoch 38/40\n",
            "125/125 [==============================] - ETA: 0s - loss: 0.5505 - accuracy: 0.8742\n",
            "Epoch 38: val_accuracy did not improve from 0.66700\n",
            "125/125 [==============================] - 5s 41ms/step - loss: 0.5505 - accuracy: 0.8742 - val_loss: 1.4509 - val_accuracy: 0.6430\n",
            "Epoch 39/40\n",
            "125/125 [==============================] - ETA: 0s - loss: 0.4933 - accuracy: 0.8850\n",
            "Epoch 39: val_accuracy did not improve from 0.66700\n",
            "125/125 [==============================] - 5s 42ms/step - loss: 0.4933 - accuracy: 0.8850 - val_loss: 2.2856 - val_accuracy: 0.6400\n",
            "Epoch 40/40\n",
            "125/125 [==============================] - ETA: 0s - loss: 0.6815 - accuracy: 0.8612\n",
            "Epoch 40: val_accuracy did not improve from 0.66700\n",
            "125/125 [==============================] - 5s 40ms/step - loss: 0.6815 - accuracy: 0.8612 - val_loss: 0.9286 - val_accuracy: 0.6580\n"
          ]
        },
        {
          "output_type": "display_data",
          "data": {
            "text/plain": [
              "<Figure size 432x288 with 1 Axes>"
            ],
            "image/png": "[encoded data removed]"
          },
          "metadata": {
            "needs_background": "light"
          }
        },
        {
          "output_type": "display_data",
          "data": {
            "text/plain": [
              "<Figure size 432x288 with 1 Axes>"
            ],
            "image/png": "[encoded data removed]"
          },
          "metadata": {
            "needs_background": "light"
          }
        },
        {
          "output_type": "stream",
          "name": "stdout",
          "text": [
            "32/32 [==============================] - 1s 17ms/step - loss: 1.4362 - accuracy: 0.6670\n"
          ]
        }
      ],
      "source": [
        "VALIDATION_ACCURACY = []\n",
        "VALIDATION_LOSS = []\n",
        "\n",
        "\n",
        "save_dir = '/content/drive/MyDrive/ASDRP/Experiments/simple-cnn-v3/'\n",
        "fold_var = 1\n",
        "\n",
        "from sklearn.model_selection import KFold, StratifiedKFold\n",
        "\n",
        "skf = StratifiedKFold(5, random_state = 7, shuffle = True) \n",
        "\n",
        "for train_index,val_index in skf.split(X,Y):\n",
        "  x_train,x_val= X[train_index],X[val_index]\n",
        "  y_train,y_val=Y[train_index],Y[val_index]\n",
        "\n",
        "  #y_train = np.asarray(y_train).astype('float32').reshape((-1,1))\n",
        "  #y_val = np.asarray(y_val).astype('float32').reshape((-1,1))\n",
        "\n",
        "  model = create_new_model()\n",
        "\n",
        "  model.compile(loss='binary_crossentropy',\n",
        "              optimizer=tf.keras.optimizers.Adam(learning_rate=0.001),\n",
        "              metrics=['accuracy'])\n",
        "\n",
        "  checkpoint = tf.keras.callbacks.ModelCheckpoint(save_dir+get_model_name(fold_var), \n",
        "\t\t\t\t\t\t\tmonitor='val_accuracy', verbose=1, \n",
        "\t\t\t\t\t\t\tsave_best_only=True, mode='max')\n",
        "  \n",
        "  callbacks_list = [checkpoint]\n",
        "  \n",
        "  history = model.fit(x=x_train, y=y_train, batch_size=32, epochs=40, shuffle=True, callbacks=callbacks_list, validation_data = (x_val,y_val))\n",
        "  \n",
        "  plt.plot(history.history['accuracy'])\n",
        "  plt.plot(history.history['val_accuracy'])\n",
        "  plt.title('model accuracy')\n",
        "  plt.ylabel('accuracy')\n",
        "  plt.xlabel('epoch')\n",
        "  plt.legend(['train', 'test'], loc='upper left')\n",
        "  plt.show()\n",
        "  # summarize history for loss\n",
        "  plt.plot(history.history['loss'])\n",
        "  plt.plot(history.history['val_loss'])\n",
        "  plt.title('model loss')\n",
        "  plt.ylabel('loss')\n",
        "  plt.xlabel('epoch')\n",
        "  plt.legend(['train', 'test'], loc='upper left')\n",
        "  plt.show()\n",
        "\n",
        "  model.load_weights(\"/content/drive/MyDrive/ASDRP/Experiments/simple-cnn-v3/model_\"+str(fold_var)+\".h5\")\n",
        "  \n",
        "  results = model.evaluate(x=x_val, y=y_val)\n",
        "  results = dict(zip(model.metrics_names,results))\n",
        "\t\n",
        "  VALIDATION_ACCURACY.append(results['accuracy'])\n",
        "  VALIDATION_LOSS.append(results['loss'])\n",
        "  tf.keras.backend.clear_session()\n",
        "\n",
        "  \n",
        "  fold_var+=1"
      ]
    },
    {
      "cell_type": "code",
      "execution_count": null,
      "metadata": {
        "colab": {
          "base_uri": "https://localhost:8080/"
        },
        "id": "XBjInMGmlrY9",
        "outputId": "352cc2c1-02f6-4db1-92d8-15ab1358eea5"
      },
      "outputs": [
        {
          "output_type": "stream",
          "name": "stdout",
          "text": [
            "[0.6309999823570251, 0.6359999775886536, 0.6480000019073486, 0.6610000133514404, 0.6669999957084656]\n"
          ]
        }
      ],
      "source": [
        "print(VALIDATION_ACCURACY)"
      ]
    },
    {
      "cell_type": "code",
      "execution_count": null,
      "metadata": {
        "id": "Z3PKXEUdlv2H"
      },
      "outputs": [],
      "source": [
        "model = create_new_model()\n",
        "model.load_weights(\"/content/drive/MyDrive/ASDRP/Experiments/simple-cnn-v3/model_5.h5\")\n",
        "model.compile(loss='binary_crossentropy',\n",
        "              optimizer=tf.keras.optimizers.Adam(learning_rate=0.001),\n",
        "              metrics=['accuracy'])\n"
      ]
    },
    {
      "cell_type": "code",
      "source": [
        "all_data = data_zipped.getnames()"
      ],
      "metadata": {
        "id": "X2VGd75YNatC"
      },
      "execution_count": null,
      "outputs": []
    },
    {
      "cell_type": "code",
      "source": [
        "white_total = 0\n",
        "black_total = 0\n",
        "asian_total = 0\n",
        "indian_total = 0\n",
        "others_total = 0\n",
        "files = []\n",
        "for i in tqdm(all_data):\n",
        "  if len(i.split('_')) != 4:\n",
        "    continue\n",
        "\n",
        "  loc = 'drive/My Drive/ASDRP/Data/utk_cropped/' + i\n",
        "  #print(i.split('_')[2] == 0)\n",
        "  #break\n",
        "  if loc not in df['image'].values and int(i.split('_')[2]) == 0 and white_total <= 200:\n",
        "    files.append(i)\n",
        "    white_total += 1\n",
        "  \n",
        "  if loc not in df['image'].values and int(i.split('_')[2]) == 1 and black_total <= 200:\n",
        "    files.append(i)\n",
        "    black_total += 1\n",
        "\n",
        "  if loc not in df['image'].values and int(i.split('_')[2]) == 2 and asian_total <= 200:\n",
        "    files.append(i)\n",
        "    asian_total += 1\n",
        "\n",
        "  if loc not in df['image'].values and int(i.split('_')[2]) == 3 and indian_total <= 200:\n",
        "    files.append(i)\n",
        "    indian_total += 1\n",
        "\n",
        "  if loc not in df['image'].values and int(i.split('_')[2]) == 4 and others_total <= 200:\n",
        "    files.append(i)\n",
        "    others_total += 1"
      ],
      "metadata": {
        "colab": {
          "base_uri": "https://localhost:8080/"
        },
        "id": "FztKZbh-Nf9Z",
        "outputId": "821decfb-a5bb-4be9-cb8d-806d1edced74"
      },
      "execution_count": null,
      "outputs": [
        {
          "output_type": "stream",
          "name": "stderr",
          "text": [
            "100%|██████████| 10138/10138 [00:09<00:00, 1118.21it/s]\n"
          ]
        }
      ]
    },
    {
      "cell_type": "code",
      "source": [
        "data = 'drive/My Drive/ASDRP/Experiments/test_data_real/'\n",
        "image_paths = []\n",
        "ages = []\n",
        "genders = []\n",
        "races = []"
      ],
      "metadata": {
        "id": "6KzWlt69TjK0"
      },
      "execution_count": null,
      "outputs": []
    },
    {
      "cell_type": "code",
      "source": [
        "# For loop to create individual lists of attributes\n",
        "count = 0\n",
        "for image in tqdm(files):\n",
        "    image_path = os.path.join(data, image)\n",
        "    vals = image.split('_')\n",
        "    age = int(vals[0].split('/')[1])\n",
        "    gender = int(vals[1])\n",
        "\n",
        "    try:\n",
        "      race = int(vals[2])    \n",
        "    except:\n",
        "      count += 1\n",
        "      continue\n",
        "\n",
        "    image_paths.append(image_path)\n",
        "    ages.append(age)\n",
        "    genders.append(gender)\n",
        "    races.append(race) "
      ],
      "metadata": {
        "colab": {
          "base_uri": "https://localhost:8080/"
        },
        "id": "4bGattghTXh6",
        "outputId": "011d81d9-4cdd-4a09-99b4-41ab53b4612b"
      },
      "execution_count": null,
      "outputs": [
        {
          "output_type": "stream",
          "name": "stderr",
          "text": [
            "100%|██████████| 1004/1004 [00:00<00:00, 169432.74it/s]\n"
          ]
        }
      ]
    },
    {
      "cell_type": "code",
      "source": [
        "# Making dataframe\n",
        "df_test = pd.DataFrame()\n",
        "df_test['image'], df_test['age'], df_test['gender'], df_test['race'] = image_paths, ages, genders, races"
      ],
      "metadata": {
        "id": "WGlNtgwAUZ6K"
      },
      "execution_count": null,
      "outputs": []
    },
    {
      "cell_type": "code",
      "source": [
        "df_test = df_test.drop(df_test[df_test['race'] == 0].sample(1).index)"
      ],
      "metadata": {
        "id": "NQcSaHL5U98T"
      },
      "execution_count": null,
      "outputs": []
    },
    {
      "cell_type": "code",
      "source": [
        "df_test = df_test.drop(df_test[df_test['race'] == 2].sample(1).index)\n",
        "df_test = df_test.drop(df_test[df_test['race'] == 3].sample(1).index)\n",
        "df_test = df_test.drop(df_test[df_test['race'] == 4].sample(1).index)"
      ],
      "metadata": {
        "id": "mtPB6LLpVTjK"
      },
      "execution_count": null,
      "outputs": []
    },
    {
      "cell_type": "code",
      "source": [
        "df_test['race'].value_counts()"
      ],
      "metadata": {
        "colab": {
          "base_uri": "https://localhost:8080/"
        },
        "id": "Jc-DobPLVZ97",
        "outputId": "cb695d8b-ac6d-4691-87cd-892106f069eb"
      },
      "execution_count": null,
      "outputs": [
        {
          "output_type": "execute_result",
          "data": {
            "text/plain": [
              "2    200\n",
              "0    200\n",
              "3    200\n",
              "4    200\n",
              "1    200\n",
              "Name: race, dtype: int64"
            ]
          },
          "metadata": {},
          "execution_count": 68
        }
      ]
    },
    {
      "cell_type": "code",
      "source": [
        "df_test['image']"
      ],
      "metadata": {
        "colab": {
          "base_uri": "https://localhost:8080/"
        },
        "id": "DJkTashlV3gT",
        "outputId": "2faff41d-d270-4474-9c1c-eb5dc085034e"
      },
      "execution_count": null,
      "outputs": [
        {
          "output_type": "execute_result",
          "data": {
            "text/plain": [
              "0       drive/My Drive/ASDRP/Experiments/test_data_rea...\n",
              "1       drive/My Drive/ASDRP/Experiments/test_data_rea...\n",
              "2       drive/My Drive/ASDRP/Experiments/test_data_rea...\n",
              "3       drive/My Drive/ASDRP/Experiments/test_data_rea...\n",
              "4       drive/My Drive/ASDRP/Experiments/test_data_rea...\n",
              "                              ...                        \n",
              "999     drive/My Drive/ASDRP/Experiments/test_data_rea...\n",
              "1000    drive/My Drive/ASDRP/Experiments/test_data_rea...\n",
              "1001    drive/My Drive/ASDRP/Experiments/test_data_rea...\n",
              "1002    drive/My Drive/ASDRP/Experiments/test_data_rea...\n",
              "1003    drive/My Drive/ASDRP/Experiments/test_data_rea...\n",
              "Name: image, Length: 1000, dtype: object"
            ]
          },
          "metadata": {},
          "execution_count": 69
        }
      ]
    },
    {
      "cell_type": "code",
      "source": [
        "df_test.to_csv(r'drive/My Drive/ASDRP/Experiments/df_test.csv', index = False, header=True)"
      ],
      "metadata": {
        "id": "9ZWeSYoUWsk4"
      },
      "execution_count": null,
      "outputs": []
    },
    {
      "cell_type": "code",
      "source": [
        "for i in tqdm(df_test['image']):\n",
        "  i = i.replace('drive/My Drive/ASDRP/Experiments/test_data_real/', '')\n",
        "  data_zipped.extract(i, 'drive/My Drive/ASDRP/Experiments/test_data_real')"
      ],
      "metadata": {
        "colab": {
          "base_uri": "https://localhost:8080/"
        },
        "id": "FOFP2v4KM03D",
        "outputId": "260cdf17-8316-45b6-c59c-16103c042cba"
      },
      "execution_count": null,
      "outputs": [
        {
          "output_type": "stream",
          "name": "stderr",
          "text": [
            "100%|██████████| 1000/1000 [00:13<00:00, 76.65it/s]\n"
          ]
        }
      ]
    },
    {
      "cell_type": "code",
      "source": [
        "images_test = [load(i) for i in tqdm(df_test.image)]"
      ],
      "metadata": {
        "colab": {
          "base_uri": "https://localhost:8080/"
        },
        "id": "IYn8IgJeXDJz",
        "outputId": "607d93b7-db40-4f0a-997e-0aa42addcf5c"
      },
      "execution_count": null,
      "outputs": [
        {
          "output_type": "stream",
          "name": "stderr",
          "text": [
            "100%|██████████| 1000/1000 [00:09<00:00, 105.27it/s]\n"
          ]
        }
      ]
    },
    {
      "cell_type": "code",
      "source": [
        "with open('/content/drive/MyDrive/ASDRP/Experiments/simple-cnn-v3/test_tensors_generated.pickle', 'wb') as handle:\n",
        "  pickle.dump(images_test, handle)"
      ],
      "metadata": {
        "id": "-8oLlEPnXS5q"
      },
      "execution_count": null,
      "outputs": []
    },
    {
      "cell_type": "code",
      "source": [
        "images_test = pickle.load(open(\"/content/drive/MyDrive/ASDRP/Experiments/simple-cnn-v3/test_tensors_generated.pickle\", \"rb\"))"
      ],
      "metadata": {
        "id": "7SRAucrMhJC7"
      },
      "execution_count": null,
      "outputs": []
    },
    {
      "cell_type": "code",
      "source": [
        "images_test = np.array(images_test)"
      ],
      "metadata": {
        "id": "IbGNyJbzXoJP"
      },
      "execution_count": null,
      "outputs": []
    },
    {
      "cell_type": "code",
      "source": [
        "y_gender_test = [i for i in df_test['gender']]\n",
        "# y_age = [i for i in df['age']]\n",
        "y_race_test = [i for i in df_test['race']]"
      ],
      "metadata": {
        "id": "alvQf795Xq98"
      },
      "execution_count": null,
      "outputs": []
    },
    {
      "cell_type": "code",
      "source": [
        "y_stack_test = np.vstack((y_gender_test,y_race_test))"
      ],
      "metadata": {
        "id": "0F_nSdtYX4W0"
      },
      "execution_count": null,
      "outputs": []
    },
    {
      "cell_type": "code",
      "source": [
        "X_test = images_test\n",
        "y_test = y_stack_test[0]"
      ],
      "metadata": {
        "id": "FcB1iInwYSsT"
      },
      "execution_count": null,
      "outputs": []
    },
    {
      "cell_type": "code",
      "source": [
        "y_alias2 = y_stack_test[1]"
      ],
      "metadata": {
        "id": "7MrJYr_LYoIT"
      },
      "execution_count": null,
      "outputs": []
    },
    {
      "cell_type": "code",
      "execution_count": null,
      "metadata": {
        "colab": {
          "base_uri": "https://localhost:8080/"
        },
        "id": "sLQPPDZAl9Yt",
        "outputId": "25da77ac-07f6-47bb-a635-b88a36090439"
      },
      "outputs": [
        {
          "output_type": "stream",
          "name": "stdout",
          "text": [
            "Testing loss (for one batch) at step 0: 0.5344\n",
            "Seen so far: 1 samples\n",
            "Testing loss (for one batch) at step 100: 0.7365\n",
            "Seen so far: 101 samples\n",
            "Testing loss (for one batch) at step 200: 0.6941\n",
            "Seen so far: 201 samples\n",
            "Testing loss (for one batch) at step 300: 0.4170\n",
            "Seen so far: 301 samples\n",
            "Testing loss (for one batch) at step 400: 0.6971\n",
            "Seen so far: 401 samples\n",
            "Testing loss (for one batch) at step 500: 1.3126\n",
            "Seen so far: 501 samples\n",
            "Testing loss (for one batch) at step 600: 1.2410\n",
            "Seen so far: 601 samples\n",
            "Testing loss (for one batch) at step 700: 1.1911\n",
            "Seen so far: 701 samples\n",
            "Testing loss (for one batch) at step 800: 0.3647\n",
            "Seen so far: 801 samples\n",
            "Testing loss (for one batch) at step 900: 0.9919\n",
            "Seen so far: 901 samples\n",
            "Testing acc 0.6290\n"
          ]
        }
      ],
      "source": [
        "from sklearn.metrics import confusion_matrix\n",
        "import keras\n",
        "X_test = np.array(X_test)\n",
        "y_test = np.array(y_test)\n",
        "race_total = {'White':0, 'Black': 0, 'Asian': 0, 'Indian': 0, 'Others': 0, 'White F':0, 'Black F': 0, 'Asian F': 0, 'Indian F': 0, 'Others F': 0}\n",
        "race_correct = {'White':0, 'Black': 0, 'Asian': 0, 'Indian': 0, 'Others': 0, 'White F':0, 'Black F': 0, 'Asian F': 0, 'Indian F': 0, 'Others F': 0}\n",
        "loss_fn = keras.losses.BinaryCrossentropy(from_logits=True)\n",
        "test_acc_metric = keras.metrics.BinaryAccuracy()\n",
        "list2 = []\n",
        "predictions = []\n",
        "\n",
        "test_dataset = tf.data.Dataset.from_tensor_slices((X_test, y_test))\n",
        "test_dataset = tf.data.Dataset.from_tensor_slices((X_test, y_test))\n",
        "test_dataset = test_dataset.batch(1)\n",
        "for step, (x_batch_test, y_batch_test) in enumerate(test_dataset):\n",
        "  if y_test[step] == 0:\n",
        "    if y_alias2[step] == 0:\n",
        "        race_total['White'] += 1\n",
        "    elif y_alias2[step] == 1:\n",
        "        race_total['Black'] += 1\n",
        "    elif y_alias2[step] == 2:\n",
        "        race_total['Asian'] += 1\n",
        "    elif y_alias2[step] == 3:\n",
        "        race_total['Indian'] += 1  \n",
        "    elif y_alias2[step] == 4:\n",
        "        race_total['Others'] += 1\n",
        "  else:\n",
        "    if y_alias2[step] == 0:\n",
        "        race_total['White F'] += 1\n",
        "    elif y_alias2[step] == 1:\n",
        "        race_total['Black F'] += 1\n",
        "    elif y_alias2[step] == 2:\n",
        "        race_total['Asian F'] += 1\n",
        "    elif y_alias2[step] == 3:\n",
        "        race_total['Indian F'] += 1  \n",
        "    elif y_alias2[step] == 4:\n",
        "        race_total['Others F'] += 1\n",
        "  with tf.GradientTape() as tape:\n",
        "    logits = model(x_batch_test, training=False)\n",
        "    if logits >= 0.5:\n",
        "      predictions.append(1)\n",
        "    else:\n",
        "      predictions.append(0)\n",
        "    loss_value = loss_fn(y_batch_test,logits)\n",
        "    test_acc_metric.update_state(y_batch_test, logits)\n",
        "    list2.append(test_acc_metric.result().numpy())\n",
        "  if step >= 1:\n",
        "    if list2[step] >= list2[step-1]:\n",
        "      if y_test[step] == 0:\n",
        "        if y_alias2[step] == 0:\n",
        "          race_correct['White'] += 1\n",
        "        elif y_alias2[step] == 1:\n",
        "          race_correct['Black'] += 1\n",
        "        elif y_alias2[step] == 2:\n",
        "          race_correct['Asian'] += 1\n",
        "        elif y_alias2[step] == 3:\n",
        "          race_correct['Indian'] += 1\n",
        "        elif y_alias2[step] == 4:\n",
        "          race_correct['Others'] += 1\n",
        "      else:\n",
        "        if y_alias2[step] == 0:\n",
        "          race_correct['White F'] += 1\n",
        "        elif y_alias2[step] == 1:\n",
        "          race_correct['Black F'] += 1\n",
        "        elif y_alias2[step] == 2:\n",
        "          race_correct['Asian F'] += 1\n",
        "        elif y_alias2[step] == 3:\n",
        "          race_correct['Indian F'] += 1\n",
        "        elif y_alias2[step] == 4:\n",
        "          race_correct['Others F'] += 1\n",
        "      \n",
        "\n",
        "  if step % 100 == 0:\n",
        "            print(\n",
        "                \"Testing loss (for one batch) at step %d: %.4f\"\n",
        "                % (step, float(loss_value))\n",
        "            )\n",
        "            print(\"Seen so far: %s samples\" % ((step + 1)))\n",
        "\n",
        "test_acc = test_acc_metric.result()\n",
        "print(\"Testing acc %.4f\" % (float(test_acc),))\n"
      ]
    },
    {
      "cell_type": "code",
      "source": [
        "df_test['gender'].value_counts()"
      ],
      "metadata": {
        "colab": {
          "base_uri": "https://localhost:8080/"
        },
        "id": "ddzstfOzlOwl",
        "outputId": "00786ab4-f8c5-493c-c081-420cb2c7eb27"
      },
      "execution_count": null,
      "outputs": [
        {
          "output_type": "execute_result",
          "data": {
            "text/plain": [
              "1    550\n",
              "0    450\n",
              "Name: gender, dtype: int64"
            ]
          },
          "metadata": {},
          "execution_count": 116
        }
      ]
    },
    {
      "cell_type": "code",
      "execution_count": null,
      "metadata": {
        "colab": {
          "base_uri": "https://localhost:8080/"
        },
        "id": "AJy5igyEmqw3",
        "outputId": "1558ed12-9927-4b68-feb2-c854252f0841"
      },
      "outputs": [
        {
          "output_type": "execute_result",
          "data": {
            "text/plain": [
              "{'Asian': 100,\n",
              " 'Asian F': 100,\n",
              " 'Black': 101,\n",
              " 'Black F': 99,\n",
              " 'Indian': 73,\n",
              " 'Indian F': 127,\n",
              " 'Others': 95,\n",
              " 'Others F': 105,\n",
              " 'White': 81,\n",
              " 'White F': 119}"
            ]
          },
          "metadata": {},
          "execution_count": 113
        }
      ],
      "source": [
        "race_total"
      ]
    },
    {
      "cell_type": "code",
      "execution_count": null,
      "metadata": {
        "colab": {
          "base_uri": "https://localhost:8080/"
        },
        "id": "h0bGIzE8myZI",
        "outputId": "fb810a12-2e8f-47cd-c20a-bb64673b2e35"
      },
      "outputs": [
        {
          "output_type": "execute_result",
          "data": {
            "text/plain": [
              "{'Asian': 54,\n",
              " 'Asian F': 63,\n",
              " 'Black': 66,\n",
              " 'Black F': 62,\n",
              " 'Indian': 41,\n",
              " 'Indian F': 89,\n",
              " 'Others': 56,\n",
              " 'Others F': 71,\n",
              " 'White': 51,\n",
              " 'White F': 78}"
            ]
          },
          "metadata": {},
          "execution_count": 114
        }
      ],
      "source": [
        "race_correct"
      ]
    },
    {
      "cell_type": "code",
      "execution_count": null,
      "metadata": {
        "colab": {
          "base_uri": "https://localhost:8080/"
        },
        "id": "eNrIqxmLmzth",
        "outputId": "bc283615-583a-4ad3-afbb-4adebef9e30a"
      },
      "outputs": [
        {
          "output_type": "stream",
          "name": "stdout",
          "text": [
            "Percentage of White class in testing dataset: 8.0 %\n",
            "Testing accuracy of White class: 63.0 %\n",
            "Percentage of Black class in testing dataset: 10.0 %\n",
            "Testing accuracy of Black class: 65.3 %\n",
            "Percentage of Asian class in testing dataset: 10.0 %\n",
            "Testing accuracy of Asian class: 54.0 %\n",
            "Percentage of Indian class in testing dataset: 7.000000000000001 %\n",
            "Testing accuracy of Indian class: 56.2 %\n",
            "Percentage of Others class in testing dataset: 10.0 %\n",
            "Testing accuracy of Others class: 58.9 %\n",
            "Percentage of White F class in testing dataset: 12.0 %\n",
            "Testing accuracy of White F class: 65.5 %\n",
            "Percentage of Black F class in testing dataset: 10.0 %\n",
            "Testing accuracy of Black F class: 62.6 %\n",
            "Percentage of Asian F class in testing dataset: 10.0 %\n",
            "Testing accuracy of Asian F class: 63.0 %\n",
            "Percentage of Indian F class in testing dataset: 13.0 %\n",
            "Testing accuracy of Indian F class: 70.1 %\n",
            "Percentage of Others F class in testing dataset: 10.0 %\n",
            "Testing accuracy of Others F class: 67.60000000000001 %\n"
          ]
        }
      ],
      "source": [
        "for i in race_total:\n",
        "  print(f'Percentage of {i} class in testing dataset: {round(race_total[i]/sum(race_total.values()), 2) * 100} %')\n",
        "  print(f'Testing accuracy of {i} class: {round(float(race_correct[i] / race_total[i]),3) * 100} %')"
      ]
    }
  ],
  "metadata": {
    "colab": {
      "provenance": []
    },
    "gpuClass": "standard",
    "kernelspec": {
      "display_name": "Python 3",
      "name": "python3"
    },
    "language_info": {
      "name": "python"
    },
    "accelerator": "GPU"
  },
  "nbformat": 4,
  "nbformat_minor": 0
}