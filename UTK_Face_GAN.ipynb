{
  "cells": [
    {
      "cell_type": "code",
      "execution_count": null,
      "metadata": {
        "id": "8xkBM9-iWKTx"
      },
      "outputs": [],
      "source": [
        "from numpy import zeros, ones\n",
        "from numpy.random import randn, randint\n",
        "\n",
        "from tensorflow.keras.optimizers import Adam\n",
        "from tensorflow.keras.models import Sequential\n",
        "from tensorflow.keras.layers import Dense, Reshape, Flatten, Conv2D, Conv2DTranspose, LeakyReLU, Dropout\n",
        "from tensorflow.keras.utils import plot_model\n",
        "\n",
        "from matplotlib import pyplot as plt"
      ]
    },
    {
      "cell_type": "code",
      "execution_count": null,
      "metadata": {
        "id": "cIe9GWsTpNxw",
        "outputId": "b2562a9c-accf-4765-9a4c-6de1942ff574"
      },
      "outputs": [
        {
          "data": {
            "text/plain": [
              "'2.9.1'"
            ]
          },
          "execution_count": 2,
          "metadata": {},
          "output_type": "execute_result"
        }
      ],
      "source": [
        "import tensorflow as tf\n",
        "tf.__version__"
      ]
    },
    {
      "cell_type": "code",
      "execution_count": null,
      "metadata": {
        "id": "bVZcZMyWPh0W"
      },
      "outputs": [],
      "source": [
        "def define_discriminator(in_shape=(128,128,3)):\n",
        "\tmodel = Sequential()\n",
        "\tmodel.add(Conv2D(128, (3,3), padding='same', input_shape=in_shape))\n",
        "\tmodel.add(LeakyReLU(alpha=0.2))\n",
        "\n",
        "\tmodel.add(Conv2D(128, (3,3), strides=(2,2), padding='same'))\n",
        "\tmodel.add(LeakyReLU(alpha=0.2))\n",
        "\n",
        "\tmodel.add(Conv2D(128, (3,3), strides=(2,2), padding='same'))\n",
        "\tmodel.add(LeakyReLU(alpha=0.2))\n",
        "\n",
        "\tmodel.add(Conv2D(128, (3,3), strides=(2,2), padding='same'))\n",
        "\tmodel.add(LeakyReLU(alpha=0.2))\n",
        "\n",
        "\tmodel.add(Conv2D(128, (3,3), strides=(2,2), padding='same'))\n",
        "\tmodel.add(LeakyReLU(alpha=0.2))\n",
        "\n",
        "\tmodel.add(Flatten())\n",
        "\tmodel.add(Dropout(0.4))\n",
        "\tmodel.add(Dense(1, activation='sigmoid'))\n",
        "\n",
        "\topt = Adam(lr=0.0002, beta_1=0.5)\n",
        "\tmodel.compile(loss='binary_crossentropy', optimizer=opt, metrics=['accuracy'])\n",
        "\treturn model"
      ]
    },
    {
      "cell_type": "code",
      "execution_count": null,
      "metadata": {
        "colab": {
          "base_uri": "https://localhost:8080/"
        },
        "id": "2D9a1IF4PoVj",
        "outputId": "05d2d93a-b21f-4fba-974f-aff98da2f359"
      },
      "outputs": [
        {
          "name": "stdout",
          "output_type": "stream",
          "text": [
            "Metal device set to: Apple M1 Pro\n",
            "Model: \"sequential\"\n",
            "_________________________________________________________________\n",
            " Layer (type)                Output Shape              Param #   \n",
            "=================================================================\n",
            " conv2d (Conv2D)             (None, 128, 128, 128)     3584      \n",
            "                                                                 \n",
            " leaky_re_lu (LeakyReLU)     (None, 128, 128, 128)     0         \n",
            "                                                                 \n",
            " conv2d_1 (Conv2D)           (None, 64, 64, 128)       147584    \n",
            "                                                                 \n",
            " leaky_re_lu_1 (LeakyReLU)   (None, 64, 64, 128)       0         \n",
            "                                                                 \n",
            " conv2d_2 (Conv2D)           (None, 32, 32, 128)       147584    \n",
            "                                                                 \n",
            " leaky_re_lu_2 (LeakyReLU)   (None, 32, 32, 128)       0         \n",
            "                                                                 \n",
            " conv2d_3 (Conv2D)           (None, 16, 16, 128)       147584    \n",
            "                                                                 \n",
            " leaky_re_lu_3 (LeakyReLU)   (None, 16, 16, 128)       0         \n",
            "                                                                 \n",
            " conv2d_4 (Conv2D)           (None, 8, 8, 128)         147584    \n",
            "                                                                 \n",
            " leaky_re_lu_4 (LeakyReLU)   (None, 8, 8, 128)         0         \n",
            "                                                                 \n",
            " flatten (Flatten)           (None, 8192)              0         \n",
            "                                                                 \n",
            " dropout (Dropout)           (None, 8192)              0         \n",
            "                                                                 \n",
            " dense (Dense)               (None, 1)                 8193      \n",
            "                                                                 \n",
            "=================================================================\n",
            "Total params: 602,113\n",
            "Trainable params: 602,113\n",
            "Non-trainable params: 0\n",
            "_________________________________________________________________\n",
            "None\n"
          ]
        },
        {
          "name": "stderr",
          "output_type": "stream",
          "text": [
            "2022-08-01 03:49:25.878100: I tensorflow/core/common_runtime/pluggable_device/pluggable_device_factory.cc:305] Could not identify NUMA node of platform GPU ID 0, defaulting to 0. Your kernel may not have been built with NUMA support.\n",
            "2022-08-01 03:49:25.878707: I tensorflow/core/common_runtime/pluggable_device/pluggable_device_factory.cc:271] Created TensorFlow device (/job:localhost/replica:0/task:0/device:GPU:0 with 0 MB memory) -> physical PluggableDevice (device: 0, name: METAL, pci bus id: <undefined>)\n",
            "/Users/shikhargupta/opt/miniconda3/envs/GAN/lib/python3.10/site-packages/keras/optimizers/optimizer_v2/adam.py:110: UserWarning: The `lr` argument is deprecated, use `learning_rate` instead.\n",
            "  super(Adam, self).__init__(name, **kwargs)\n"
          ]
        }
      ],
      "source": [
        "test_discr = define_discriminator()\n",
        "print(test_discr.summary())"
      ]
    },
    {
      "cell_type": "code",
      "execution_count": null,
      "metadata": {
        "id": "AQmZC-_gPw0v"
      },
      "outputs": [],
      "source": [
        "def define_generator(latent_dim):\n",
        "\tmodel = Sequential()\n",
        "\n",
        "\tn_nodes = 128 * 8 * 8 \n",
        "\tmodel.add(Dense(n_nodes, input_dim=latent_dim))\n",
        "\tmodel.add(LeakyReLU(alpha=0.2))\n",
        "\tmodel.add(Reshape((8, 8, 128)))\n",
        "\n",
        "\tmodel.add(Conv2DTranspose(128, (4,4), strides=(2,2), padding='same'))\n",
        "\tmodel.add(LeakyReLU(alpha=0.2))\n",
        "\n",
        "\tmodel.add(Conv2DTranspose(128, (4,4), strides=(2,2), padding='same'))\n",
        "\tmodel.add(LeakyReLU(alpha=0.2))\n",
        "\n",
        "\tmodel.add(Conv2DTranspose(128, (4,4), strides=(2,2), padding='same'))\n",
        "\tmodel.add(LeakyReLU(alpha=0.2))\n",
        "\n",
        "\tmodel.add(Conv2DTranspose(128, (4,4), strides=(2,2), padding='same'))\n",
        "\tmodel.add(LeakyReLU(alpha=0.2))\n",
        "\n",
        "\tmodel.add(Conv2D(3, (8,8), activation='tanh', padding='same')) \n",
        "\treturn model"
      ]
    },
    {
      "cell_type": "code",
      "execution_count": null,
      "metadata": {
        "colab": {
          "base_uri": "https://localhost:8080/"
        },
        "id": "BEA7Y4SvP2Me",
        "outputId": "0fee3811-7c0e-4199-8f23-1ff8397d0b6c"
      },
      "outputs": [
        {
          "name": "stdout",
          "output_type": "stream",
          "text": [
            "Model: \"sequential_1\"\n",
            "_________________________________________________________________\n",
            " Layer (type)                Output Shape              Param #   \n",
            "=================================================================\n",
            " dense_1 (Dense)             (None, 8192)              827392    \n",
            "                                                                 \n",
            " leaky_re_lu_5 (LeakyReLU)   (None, 8192)              0         \n",
            "                                                                 \n",
            " reshape (Reshape)           (None, 8, 8, 128)         0         \n",
            "                                                                 \n",
            " conv2d_transpose (Conv2DTra  (None, 16, 16, 128)      262272    \n",
            " nspose)                                                         \n",
            "                                                                 \n",
            " leaky_re_lu_6 (LeakyReLU)   (None, 16, 16, 128)       0         \n",
            "                                                                 \n",
            " conv2d_transpose_1 (Conv2DT  (None, 32, 32, 128)      262272    \n",
            " ranspose)                                                       \n",
            "                                                                 \n",
            " leaky_re_lu_7 (LeakyReLU)   (None, 32, 32, 128)       0         \n",
            "                                                                 \n",
            " conv2d_transpose_2 (Conv2DT  (None, 64, 64, 128)      262272    \n",
            " ranspose)                                                       \n",
            "                                                                 \n",
            " leaky_re_lu_8 (LeakyReLU)   (None, 64, 64, 128)       0         \n",
            "                                                                 \n",
            " conv2d_transpose_3 (Conv2DT  (None, 128, 128, 128)    262272    \n",
            " ranspose)                                                       \n",
            "                                                                 \n",
            " leaky_re_lu_9 (LeakyReLU)   (None, 128, 128, 128)     0         \n",
            "                                                                 \n",
            " conv2d_5 (Conv2D)           (None, 128, 128, 3)       24579     \n",
            "                                                                 \n",
            "=================================================================\n",
            "Total params: 1,901,059\n",
            "Trainable params: 1,901,059\n",
            "Non-trainable params: 0\n",
            "_________________________________________________________________\n",
            "None\n"
          ]
        }
      ],
      "source": [
        "test_gen = define_generator(100)\n",
        "print(test_gen.summary())"
      ]
    },
    {
      "cell_type": "code",
      "execution_count": null,
      "metadata": {
        "id": "ulTG3scfP5dq"
      },
      "outputs": [],
      "source": [
        "def define_gan(g_model, d_model):\n",
        "\td_model.trainable = False\n",
        "\tmodel = Sequential()\n",
        " \n",
        "\tmodel.add(g_model)\n",
        "\tmodel.add(d_model)\n",
        "\n",
        "\topt = Adam(lr=0.0002, beta_1=0.5)\n",
        "\tmodel.compile(loss='binary_crossentropy', optimizer=opt)\n",
        "\treturn model"
      ]
    },
    {
      "cell_type": "code",
      "execution_count": null,
      "metadata": {
        "colab": {
          "base_uri": "https://localhost:8080/"
        },
        "id": "J66Dl6B2P-iG",
        "outputId": "cd072861-afb8-418c-ba6c-39c3d8c3f5f4"
      },
      "outputs": [
        {
          "name": "stdout",
          "output_type": "stream",
          "text": [
            "Model: \"sequential_2\"\n",
            "_________________________________________________________________\n",
            " Layer (type)                Output Shape              Param #   \n",
            "=================================================================\n",
            " sequential_1 (Sequential)   (None, 128, 128, 3)       1901059   \n",
            "                                                                 \n",
            " sequential (Sequential)     (None, 1)                 602113    \n",
            "                                                                 \n",
            "=================================================================\n",
            "Total params: 2,503,172\n",
            "Trainable params: 1,901,059\n",
            "Non-trainable params: 602,113\n",
            "_________________________________________________________________\n",
            "None\n"
          ]
        }
      ],
      "source": [
        "test_gan = define_gan(test_gen, test_discr)\n",
        "print(test_gan.summary())"
      ]
    },
    {
      "cell_type": "code",
      "execution_count": null,
      "metadata": {
        "id": "8jMxT6Z6QCU2"
      },
      "outputs": [],
      "source": [
        "def generate_real_samples(dataset, n_samples):\n",
        "\tix = randint(0, dataset.shape[0], n_samples)\n",
        "\tX = dataset[ix]\n",
        "\ty = ones((n_samples, 1))\n",
        "\treturn X, y"
      ]
    },
    {
      "cell_type": "code",
      "execution_count": null,
      "metadata": {
        "id": "4AkONU79SIMV"
      },
      "outputs": [],
      "source": [
        "def generate_latent_points(latent_dim, n_samples):\n",
        "\tx_input = randn(latent_dim * n_samples)\n",
        "\tx_input = x_input.reshape(n_samples, latent_dim) \n",
        "\treturn x_input"
      ]
    },
    {
      "cell_type": "code",
      "execution_count": null,
      "metadata": {
        "id": "gcxdapQRSJHU"
      },
      "outputs": [],
      "source": [
        "def generate_fake_samples(g_model, latent_dim, n_samples):\n",
        "\tx_input = generate_latent_points(latent_dim, n_samples) \n",
        "\tX = g_model.predict(x_input)\n",
        "\ty = zeros((n_samples, 1)) \n",
        "\treturn X, y"
      ]
    },
    {
      "cell_type": "code",
      "execution_count": null,
      "metadata": {
        "id": "fJDvTdncSM9J"
      },
      "outputs": [],
      "source": [
        "def save_plot(examples, epoch, n=10):\n",
        "\texamples = (examples + 1) / 2.0\n",
        "\tfor i in range(n * n):\n",
        "\t\tplt.subplot(n, n, 1 + i)\n",
        "\t\tplt.axis('off')\n",
        "\t\tplt.imshow(examples[i])\n",
        "\tfilename = 'saved_data_during_training/images/generated_plot_128x128_e%03d.png' % (epoch+1)\n",
        "\tplt.savefig(filename)\n",
        "\tplt.close()"
      ]
    },
    {
      "cell_type": "code",
      "execution_count": null,
      "metadata": {
        "id": "lKVUna6OSPkp"
      },
      "outputs": [],
      "source": [
        "def summarize_performance(epoch, g_model, d_model, dataset, latent_dim, n_samples=100):\n",
        "\tX_real, y_real = generate_real_samples(dataset, n_samples)\n",
        "\t_, acc_real = d_model.evaluate(X_real, y_real, verbose=0)\n",
        "\tx_fake, y_fake = generate_fake_samples(g_model, latent_dim, n_samples)\n",
        "\t_, acc_fake = d_model.evaluate(x_fake, y_fake, verbose=0)\n",
        "\tprint('>Accuracy real: %.0f%%, fake: %.0f%%' % (acc_real*100, acc_fake*100))\n",
        "\tsave_plot(x_fake, epoch)\n",
        "\tfilename = 'saved_data_during_training/models/generator_model_128x128_%03d.h5' % (epoch+1)\n",
        "\tg_model.save(filename)\n"
      ]
    },
    {
      "cell_type": "code",
      "execution_count": null,
      "metadata": {
        "id": "t5FYO_OjSTXS"
      },
      "outputs": [],
      "source": [
        "def train(g_model, d_model, gan_model, dataset, latent_dim, n_epochs=100, n_batch=128):\n",
        "\tbat_per_epo = int(dataset.shape[0] / n_batch)\n",
        "\thalf_batch = int(n_batch / 2) \n",
        "\tfor i in range(n_epochs):\n",
        "\t\tfor j in range(bat_per_epo):\n",
        "\t\t\tX_real, y_real = generate_real_samples(dataset, half_batch)\n",
        "\t\t\td_loss1, _ = d_model.train_on_batch(X_real, y_real)\n",
        "\t\t\tX_fake, y_fake = generate_fake_samples(g_model, latent_dim, half_batch)\n",
        "\t\t\td_loss2, _ = d_model.train_on_batch(X_fake, y_fake)\n",
        "\t\t\tX_gan = generate_latent_points(latent_dim, n_batch)\n",
        "\t\t\ty_gan = ones((n_batch, 1))\n",
        "\t\t\tg_loss = gan_model.train_on_batch(X_gan, y_gan)\n",
        "\t\t\tprint('Epoch>%d, %d/%d, d1=%.3f, d2=%.3f g=%.3f' %\n",
        "\t\t\t\t(i+1, j+1, bat_per_epo, d_loss1, d_loss2, g_loss))\n",
        "\t\tif (i+1) % 1 == 0:\n",
        "\t\t\tsummarize_performance(i, g_model, d_model, dataset, latent_dim)"
      ]
    },
    {
      "cell_type": "code",
      "execution_count": null,
      "metadata": {
        "id": "HwtVaxs6SYp5"
      },
      "outputs": [],
      "source": [
        "import os\n",
        "import numpy as np\n",
        "import cv2\n",
        "from PIL import Image\n",
        "import random"
      ]
    },
    {
      "cell_type": "code",
      "execution_count": null,
      "metadata": {
        "colab": {
          "base_uri": "https://localhost:8080/"
        },
        "id": "Y58qaq4ySW4Z",
        "outputId": "8501af90-e7bb-4111-cd02-ffa065b01f0e"
      },
      "outputs": [
        {
          "name": "stdout",
          "output_type": "stream",
          "text": [
            "Loaded 2500 images\n",
            "Loaded 5000 images\n",
            "Loaded 7500 images\n",
            "Loaded 10000 images\n",
            "Loaded 12500 images\n",
            "Loaded 15000 images\n",
            "Loaded 17500 images\n",
            "Loaded 20000 images\n",
            "Loaded 22500 images\n"
          ]
        }
      ],
      "source": [
        "n=9780\n",
        "SIZE = 128\n",
        "all_img_list = os.listdir('UTKFace') \n",
        "\n",
        "dataset_list = random.sample(all_img_list, n) \n",
        "\n",
        "dataset = []\n",
        "loaded = 0\n",
        "for img in all_img_list:\n",
        "    try:\n",
        "        temp_img = cv2.imread(\"UTKFace/\" + img)\n",
        "        temp_img = cv2.cvtColor(temp_img, cv2.COLOR_BGR2RGB) \n",
        "        temp_img = Image.fromarray(temp_img)\n",
        "        temp_img = temp_img.resize((SIZE, SIZE)) \n",
        "        dataset.append(np.array(temp_img)) \n",
        "    except: \n",
        "        pass\n",
        "    loaded += 1\n",
        "    if loaded % 2500 == 0:\n",
        "        print('Loaded', loaded, 'images')\n"
      ]
    },
    {
      "cell_type": "code",
      "execution_count": null,
      "metadata": {
        "id": "7CNekWk8as3g",
        "outputId": "04c88213-d29a-41ea-8ea5-5c05286ee225"
      },
      "outputs": [
        {
          "name": "stderr",
          "output_type": "stream",
          "text": [
            "2022-08-01 03:50:00.571076: W tensorflow/core/platform/profile_utils/cpu_utils.cc:128] Failed to get CPU frequency: 0 Hz\n",
            "2022-08-01 03:50:00.571636: I tensorflow/core/grappler/optimizers/custom_graph_optimizer_registry.cc:113] Plugin optimizer for device_type GPU is enabled.\n",
            "2022-08-01 03:50:01.975317: I tensorflow/core/grappler/optimizers/custom_graph_optimizer_registry.cc:113] Plugin optimizer for device_type GPU is enabled.\n"
          ]
        },
        {
          "name": "stdout",
          "output_type": "stream",
          "text": [
            "2/2 [==============================] - 0s 177ms/step\n"
          ]
        },
        {
          "name": "stderr",
          "output_type": "stream",
          "text": [
            "2022-08-01 03:50:03.722574: I tensorflow/core/grappler/optimizers/custom_graph_optimizer_registry.cc:113] Plugin optimizer for device_type GPU is enabled.\n"
          ]
        },
        {
          "name": "stdout",
          "output_type": "stream",
          "text": [
            "Epoch>1, 1/185, d1=0.682, d2=0.696 g=0.692\n",
            "2/2 [==============================] - 0s 287ms/step\n",
            "Epoch>1, 2/185, d1=0.598, d2=0.697 g=0.691\n",
            "2/2 [==============================] - 0s 287ms/step\n",
            "Epoch>1, 3/185, d1=0.479, d2=0.700 g=0.689\n",
            "2/2 [==============================] - 0s 285ms/step\n",
            "Epoch>1, 4/185, d1=0.294, d2=0.710 g=0.684\n",
            "2/2 [==============================] - 0s 289ms/step\n",
            "Epoch>1, 5/185, d1=0.113, d2=0.735 g=0.672\n",
            "2/2 [==============================] - 0s 289ms/step\n",
            "Epoch>1, 6/185, d1=0.033, d2=0.771 g=0.668\n",
            "2/2 [==============================] - 0s 294ms/step\n",
            "Epoch>1, 7/185, d1=0.015, d2=0.775 g=0.687\n",
            "2/2 [==============================] - 0s 287ms/step\n",
            "Epoch>1, 8/185, d1=0.020, d2=0.711 g=0.718\n",
            "2/2 [==============================] - 0s 288ms/step\n",
            "Epoch>1, 9/185, d1=0.025, d2=0.669 g=0.762\n",
            "2/2 [==============================] - 0s 288ms/step\n",
            "Epoch>1, 10/185, d1=0.014, d2=0.641 g=0.814\n",
            "2/2 [==============================] - 0s 291ms/step\n",
            "Epoch>1, 11/185, d1=0.007, d2=0.616 g=0.856\n",
            "2/2 [==============================] - 0s 285ms/step\n",
            "Epoch>1, 12/185, d1=0.007, d2=0.594 g=0.885\n",
            "2/2 [==============================] - 0s 295ms/step\n",
            "Epoch>1, 13/185, d1=0.008, d2=0.573 g=0.916\n",
            "2/2 [==============================] - 0s 285ms/step\n",
            "Epoch>1, 14/185, d1=0.008, d2=0.541 g=0.979\n",
            "2/2 [==============================] - 0s 289ms/step\n",
            "Epoch>1, 15/185, d1=0.013, d2=0.489 g=1.091\n",
            "2/2 [==============================] - 0s 288ms/step\n",
            "Epoch>1, 16/185, d1=0.003, d2=0.405 g=1.329\n",
            "2/2 [==============================] - 0s 297ms/step\n",
            "Epoch>1, 17/185, d1=0.007, d2=0.298 g=1.713\n",
            "2/2 [==============================] - 1s 611ms/step\n",
            "Epoch>1, 18/185, d1=0.001, d2=0.187 g=2.302\n",
            "2/2 [==============================] - 0s 342ms/step\n",
            "Epoch>1, 19/185, d1=0.000, d2=0.103 g=3.024\n",
            "2/2 [==============================] - 0s 300ms/step\n"
          ]
        }
      ],
      "source": [
        "dataset = np.array(dataset) \n",
        "\n",
        "dataset = dataset.astype('float32')\n",
        "dataset = (dataset - 127.5) / 127.5\n",
        "\n",
        "latent_dim = 100\n",
        "d_model = define_discriminator()\n",
        "g_model = define_generator(latent_dim)\n",
        "gan_model = define_gan(g_model, d_model)\n",
        "\n",
        "train(g_model, d_model, gan_model, dataset, latent_dim, n_epochs=250)"
      ]
    },
    {
      "cell_type": "code",
      "execution_count": null,
      "metadata": {
        "id": "WqsAduEYpNxy"
      },
      "outputs": [],
      "source": []
    }
  ],
  "metadata": {
    "colab": {
      "provenance": []
    },
    "kernelspec": {
      "display_name": "Python 3 (ipykernel)",
      "language": "python",
      "name": "python3"
    },
    "language_info": {
      "codemirror_mode": {
        "name": "ipython",
        "version": 3
      },
      "file_extension": ".py",
      "mimetype": "text/x-python",
      "name": "python",
      "nbconvert_exporter": "python",
      "pygments_lexer": "ipython3",
      "version": "3.9.9"
    },
    "vscode": {
      "interpreter": {
        "hash": "d788b38895d26065122e0ac7dc3aac54a2e069fe50d88c4f6961bc777d7c8f84"
      }
    }
  },
  "nbformat": 4,
  "nbformat_minor": 0
}